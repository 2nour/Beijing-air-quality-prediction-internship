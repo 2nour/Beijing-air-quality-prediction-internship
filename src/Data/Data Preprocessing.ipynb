{
 "cells": [
  {
   "cell_type": "markdown",
   "id": "2eeed3df",
   "metadata": {},
   "source": [
    "[![Kaggle](https://kaggle.com/static/images/open-in-kaggle.svg)](https://www.kaggle.com/datasets/medali1992/beijing-air-quality-preprocessed)"
   ]
  },
  {
   "cell_type": "code",
   "execution_count": null,
   "id": "adae05a7",
   "metadata": {},
   "outputs": [],
   "source": [
    "import os\n",
    "import gc\n",
    "\n",
    "import numpy as np\n",
    "import pandas as pd\n",
    "import seaborn as sns\n",
    "\n",
    "from sklearn.impute import KNNImputer\n",
    "from sklearn.preprocessing import LabelEncoder\n",
    "\n",
    "DATA_PATH = '/home/mohamed-ali/Downloads/Beijing air quality/data'\n",
    "OUT_PATH = '/home/mohamed-ali/Downloads/Beijing air quality/data/'"
   ]
  },
  {
   "cell_type": "code",
   "execution_count": null,
   "id": "236674ad",
   "metadata": {},
   "outputs": [],
   "source": [
    "data_list = []\n",
    "\n",
    "for path in os.listdir(DATA_PATH):\n",
    "    data = pd.read_csv(os.path.join(DATA_PATH, path))\n",
    "    data_list.append(data)\n",
    "    \n",
    "data = pd.concat(data_list, axis=0)"
   ]
  },
  {
   "cell_type": "code",
   "execution_count": null,
   "id": "3ab87ee2",
   "metadata": {},
   "outputs": [],
   "source": [
    "pd.__version__"
   ]
  },
  {
   "cell_type": "code",
   "execution_count": null,
   "id": "18a20cd8",
   "metadata": {},
   "outputs": [],
   "source": [
    "import sklearn\n",
    "sklearn.__version__"
   ]
  },
  {
   "cell_type": "code",
   "execution_count": null,
   "id": "cbb7f4cb",
   "metadata": {},
   "outputs": [],
   "source": [
    "data.head()"
   ]
  },
  {
   "cell_type": "code",
   "execution_count": null,
   "id": "cdf3d6b2",
   "metadata": {},
   "outputs": [],
   "source": [
    "data.isna().sum()"
   ]
  },
  {
   "cell_type": "code",
   "execution_count": null,
   "id": "e812dc81",
   "metadata": {},
   "outputs": [],
   "source": [
    "pm2_5 = data['PM2.5']\n",
    "sns.histplot(pm2_5, kde=True)"
   ]
  },
  {
   "cell_type": "code",
   "execution_count": null,
   "id": "ebbef52f",
   "metadata": {},
   "outputs": [],
   "source": [
    "# Remove outliers for the 'LIMT_BAL' variable\n",
    "q1 = data['PM2.5'].quantile(0.25) # First quartile\n",
    "q3 = data['PM2.5'].quantile(0.75) # Third quartile\n",
    "iqr = q3 - q1 # Interquartile range\n",
    "# Filter outlier observation and take their index\n",
    "filtration = (data['PM2.5'] < q1 - 1.5 * iqr) | (data['PM2.5'] > q3 + 1.5 *iqr)\n",
    "df_index1 = list(data.loc[filtration].index)\n",
    "data = data.loc[~filtration]"
   ]
  },
  {
   "cell_type": "code",
   "execution_count": null,
   "id": "d09097b5",
   "metadata": {},
   "outputs": [],
   "source": [
    "data.shape"
   ]
  },
  {
   "cell_type": "code",
   "execution_count": null,
   "id": "52aed76a",
   "metadata": {},
   "outputs": [],
   "source": [
    "CAT_FEATURES = data.select_dtypes(include=['object']).columns.tolist()\n",
    "\n",
    "for cat_col in CAT_FEATURES:\n",
    "    encoder = LabelEncoder()\n",
    "    data[cat_col] = encoder.fit_transform(data[cat_col])\n",
    "\n",
    "data['wd'].fillna(data['wd'].mode(), inplace=True)\n",
    "assert data['wd'].isna().sum() == 0\n",
    "    \n",
    "del encoder, CAT_FEATURES\n",
    "_ = gc.collect()"
   ]
  },
  {
   "cell_type": "code",
   "execution_count": null,
   "id": "cadc753b",
   "metadata": {},
   "outputs": [],
   "source": [
    "%%time\n",
    "knn_imputer = KNNImputer(n_neighbors=5)\n",
    "na_columns = data.loc[:, data.isnull().any()].columns.tolist()\n",
    "num_cols = [col for col in na_columns if col != 'wd']\n",
    "data[num_cols] = knn_imputer.fit_transform(data[na_columns].values)"
   ]
  },
  {
   "cell_type": "code",
   "execution_count": null,
   "id": "9b6b1317",
   "metadata": {},
   "outputs": [],
   "source": [
    "data.isna().sum()"
   ]
  },
  {
   "cell_type": "code",
   "execution_count": null,
   "id": "e85b133f",
   "metadata": {},
   "outputs": [],
   "source": [
    "data.to_csv(f'{OUT_PATH}airquality_data.csv', index=False)"
   ]
  }
 ],
 "metadata": {
  "kernelspec": {
   "display_name": "Python 3.10.7 64-bit (microsoft store)",
   "language": "python",
   "name": "python3"
  },
  "language_info": {
   "codemirror_mode": {
    "name": "ipython",
    "version": 3
   },
   "file_extension": ".py",
   "mimetype": "text/x-python",
   "name": "python",
   "nbconvert_exporter": "python",
   "pygments_lexer": "ipython3",
   "version": "3.10.7"
  },
  "vscode": {
   "interpreter": {
    "hash": "229c10227d5d9f1f351abbd5f6d36e4110f4747e0feb7c9c3e03d499579d8396"
   }
  }
 },
 "nbformat": 4,
 "nbformat_minor": 5
}
