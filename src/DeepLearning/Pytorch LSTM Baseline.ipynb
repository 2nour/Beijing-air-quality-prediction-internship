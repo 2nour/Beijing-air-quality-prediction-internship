{
 "cells": [
  {
   "cell_type": "markdown",
   "id": "10b88582",
   "metadata": {},
   "source": [
    "# About this notebook\n",
    "\n",
    "## Version1\n",
    "- PyTorch lstm starter code\n",
    "- 60 epochs\n",
    "- batch size 32 no accumulation\n",
    "- AdamW optimizer\n",
    "- No weight initialization\n",
    "- No categorical features are used\n",
    "\n",
    "## Version2\n",
    "- PyTorch lstm starter code\n",
    "- 60 epochs\n",
    "- batch size 32 no accumulation\n",
    "- AdamW optimizer\n",
    "- no weight initialization\n",
    "- categorical features are used\n",
    "- Data normalization is used\n",
    "\n",
    "## Version3\n",
    "- PyTorch lstm starter code\n",
    "- 60 epochs\n",
    "- batch size 32 no accumulation\n",
    "- AdamW optimizer\n",
    "- no weight initialization\n",
    "- categorical features are used\n",
    "- No data normalization is used\n"
   ]
  },
  {
   "cell_type": "markdown",
   "id": "eb92b955",
   "metadata": {},
   "source": [
    "# Library"
   ]
  },
  {
   "cell_type": "code",
   "execution_count": 16,
   "id": "8285b617",
   "metadata": {},
   "outputs": [],
   "source": [
    "import os\n",
    "import random\n",
    "from tqdm.auto import tqdm\n",
    "import time\n",
    "import wandb\n",
    "\n",
    "import pandas as pd\n",
    "import numpy as np\n",
    "import matplotlib.pyplot as plt\n",
    "\n",
    "import math\n",
    "\n",
    "from sklearn.model_selection import train_test_split, TimeSeriesSplit\n",
    "from sklearn.preprocessing import MinMaxScaler, StandardScaler\n",
    "\n",
    "from sklearn.metrics import mean_squared_error as mse\n",
    "from sklearn.metrics import mean_squared_log_error as msle\n",
    "from sklearn.metrics import mean_absolute_error as mae\n",
    "from sklearn.metrics import r2_score as r2\n",
    "\n",
    "import torch\n",
    "import torch.nn as nn\n",
    "from torch.optim import Adam, AdamW\n",
    "\n",
    "from torch.optim.lr_scheduler import (CosineAnnealingWarmRestarts, CosineAnnealingLR, ReduceLROnPlateau,\n",
    "OneCycleLR)\n",
    "from torch.utils.data import Dataset, DataLoader\n",
    "import pytorch_lightning as pl\n",
    "\n",
    "DIR = 'model_weights/'\n",
    "if not os.path.exists(DIR):\n",
    "    os.mkdir(DIR)\n",
    "\n",
    "device=(\"cuda\" if torch.cuda.is_available() else \"cpu\")\n",
    "VERSION=3"
   ]
  },
  {
   "cell_type": "markdown",
   "id": "a7c7265e",
   "metadata": {},
   "source": [
    "# Load data"
   ]
  },
  {
   "cell_type": "code",
   "execution_count": 2,
   "id": "f12871ad",
   "metadata": {},
   "outputs": [],
   "source": [
    "data = pd.read_csv('~/Downloads/Beijing air quality/data/airquality_data.csv')\n",
    "FEATURES_COLUMNS = [col for col in data.columns if col not in ['No', 'year', 'month', 'day', 'hour']]"
   ]
  },
  {
   "cell_type": "markdown",
   "id": "537489df",
   "metadata": {},
   "source": [
    "# Configuration"
   ]
  },
  {
   "cell_type": "code",
   "execution_count": 3,
   "id": "9fbca308",
   "metadata": {},
   "outputs": [],
   "source": [
    "class CFG:\n",
    "    apex=False\n",
    "    debug=False\n",
    "    kaggle = False\n",
    "    print_freq=500\n",
    "    num_workers=1\n",
    "    scheduler='CosineAnnealingLR' # ['ReduceLROnPlateau', 'CosineAnnealingLR', 'CosineAnnealingWarmRestarts','OneCycleLR']\n",
    "    epochs=60\n",
    "    # CosineAnnealingLR params\n",
    "    cosanneal_params={\n",
    "        'T_max':6,\n",
    "        'eta_min':1e-5,\n",
    "        'last_epoch':-1\n",
    "    }\n",
    "    #ReduceLROnPlateau params\n",
    "    reduce_params={\n",
    "        'mode':'min',\n",
    "        'factor':0.2,\n",
    "        'patience':4,\n",
    "        'eps':1e-6,\n",
    "        'verbose':True\n",
    "    }\n",
    "    # CosineAnnealingWarmRestarts params\n",
    "    cosanneal_res_params={\n",
    "        'T_0':5,\n",
    "        'eta_min':1e-4,\n",
    "        'T_mult':1,\n",
    "        'last_epoch':-1\n",
    "    }\n",
    "    onecycle_params={\n",
    "        'pct_start':0.1,\n",
    "        'div_factor':1e2,\n",
    "        'max_lr':1e-3\n",
    "    }\n",
    "    batch_size=32 #64\n",
    "    lr=1e-4\n",
    "    weight_decay=1e-2\n",
    "    gradient_accumulation_steps=1\n",
    "    max_grad_norm=1000 # Gradient clipping to prevent exploding / vanishing gradient \n",
    "    target_size=1\n",
    "    num_layers=3\n",
    "    input_size=len(FEATURES_COLUMNS)\n",
    "    hidden_size=100\n",
    "    seq_length=48 # 48h\n",
    "    nfolds=5\n",
    "    trn_folds=[0, 1, 2, 3, 4]\n",
    "    target_col=\"PM2.5\"\n",
    "    model_name=\"lstm_network\"\n",
    "    group = 'lstm'\n",
    "    train=True\n",
    "    seed=42\n",
    "    \n",
    "if CFG.debug:\n",
    "    CFG.epochs=2\n",
    "    data=data.sample(n=10000, random_state=CFG.seed).reset_index(drop=True).fillna(method=\"ffill\")"
   ]
  },
  {
   "cell_type": "markdown",
   "id": "866dc6e0",
   "metadata": {},
   "source": [
    "# Data Preprocessing"
   ]
  },
  {
   "cell_type": "markdown",
   "id": "9452258c",
   "metadata": {},
   "source": [
    "### Train test split"
   ]
  },
  {
   "cell_type": "code",
   "execution_count": 4,
   "id": "d8f3e9c0",
   "metadata": {},
   "outputs": [],
   "source": [
    "train_data, test = train_test_split(data,\n",
    "                               test_size=0.1,\n",
    "                               shuffle=False)"
   ]
  },
  {
   "cell_type": "code",
   "execution_count": 5,
   "id": "d3e6072d",
   "metadata": {},
   "outputs": [],
   "source": [
    "train, valid = train_test_split(train_data,\n",
    "                               test_size=0.1,\n",
    "                               shuffle=False)"
   ]
  },
  {
   "cell_type": "markdown",
   "id": "2325fab1",
   "metadata": {},
   "source": [
    "### Data normalization"
   ]
  },
  {
   "cell_type": "code",
   "execution_count": 6,
   "id": "36042e01",
   "metadata": {},
   "outputs": [],
   "source": [
    "#scaler = MinMaxScaler()\n",
    "#scaler = scaler.fit(train[FEATURES_COLUMNS])"
   ]
  },
  {
   "cell_type": "code",
   "execution_count": 7,
   "id": "2239795d",
   "metadata": {},
   "outputs": [],
   "source": [
    "#train = pd.DataFrame(np.concatenate((scaler.transform(train[FEATURES_COLUMNS]), train['PM2.5'].values.reshape(-1, 1)), axis=1),\n",
    "#                     index=train.index,\n",
    "#                     columns=FEATURES_COLUMNS+['PM2.5'])\n",
    "#train = train.reset_index(drop=True)\n",
    "#\n",
    "#valid = pd.DataFrame(np.concatenate((scaler.transform(valid[FEATURES_COLUMNS]), valid['PM2.5'].values.reshape(-1, 1)), axis=1),\n",
    "#                     index=valid.index,\n",
    "#                     columns=FEATURES_COLUMNS+['PM2.5'])\n",
    "#valid = valid.reset_index(drop=True)\n",
    "#\n",
    "#test = pd.DataFrame(np.concatenate((scaler.transform(test[FEATURES_COLUMNS]), test['PM2.5'].values.reshape(-1, 1)), axis=1),\n",
    "#                     index=test.index,\n",
    "#                     columns=FEATURES_COLUMNS+['PM2.5'])\n",
    "#test = test.reset_index(drop=True)"
   ]
  },
  {
   "cell_type": "markdown",
   "id": "92a366e4",
   "metadata": {},
   "source": [
    "# Utils"
   ]
  },
  {
   "cell_type": "code",
   "execution_count": 8,
   "id": "061f16a0",
   "metadata": {},
   "outputs": [],
   "source": [
    "def get_score(y_true, y_pred):\n",
    "    score = math.sqrt(mse(y_true, y_pred))\n",
    "    return score\n",
    "\n",
    "def init_logger(log_file=DIR+'train.log'):\n",
    "    from logging import getLogger, INFO, FileHandler,  Formatter,  StreamHandler\n",
    "    logger = getLogger(__name__)\n",
    "    logger.setLevel(INFO)\n",
    "    handler1 = StreamHandler()\n",
    "    handler1.setFormatter(Formatter(\"%(message)s\"))\n",
    "    handler2 = FileHandler(filename=log_file)\n",
    "    handler2.setFormatter(Formatter(\"%(message)s\"))\n",
    "    logger.addHandler(handler1)\n",
    "    logger.addHandler(handler2)\n",
    "    return logger\n",
    "\n",
    "LOGGER = init_logger()\n",
    "\n",
    "\n",
    "def seed_torch(seed=42):\n",
    "    random.seed(seed)\n",
    "    os.environ['PYTHONHASHSEED'] = str(seed)\n",
    "    np.random.seed(seed)\n",
    "    torch.manual_seed(seed)\n",
    "    torch.cuda.manual_seed(seed)\n",
    "    torch.backends.cudnn.deterministic = True\n",
    "    \n",
    "seed_torch(seed=45)\n",
    "\n",
    "\n",
    "def create_sequences(input_data: pd.DataFrame, target_column, sequence_length):\n",
    "    \n",
    "    sequences = []\n",
    "    data_size = input_data.shape[0]\n",
    "    for i in tqdm(range(data_size - sequence_length)):\n",
    "        \n",
    "        sequence = input_data[i: i+sequence_length]\n",
    "        label_position = i + sequence_length\n",
    "        label = input_data.iloc[label_position][target_column]\n",
    "        sequences.append((sequence[FEATURES_COLUMNS], label))\n",
    "        \n",
    "    return sequences"
   ]
  },
  {
   "cell_type": "markdown",
   "id": "f304f802",
   "metadata": {},
   "source": [
    "### Create sequences from  data"
   ]
  },
  {
   "cell_type": "code",
   "execution_count": 9,
   "id": "f857632c",
   "metadata": {},
   "outputs": [
    {
     "data": {
      "application/vnd.jupyter.widget-view+json": {
       "model_id": "5d8a7473f17f408cba62b78c54ba6f95",
       "version_major": 2,
       "version_minor": 0
      },
      "text/plain": [
       "  0%|          | 0/325268 [00:00<?, ?it/s]"
      ]
     },
     "metadata": {},
     "output_type": "display_data"
    },
    {
     "data": {
      "application/vnd.jupyter.widget-view+json": {
       "model_id": "148636c346ff47a69829ed4265ece48f",
       "version_major": 2,
       "version_minor": 0
      },
      "text/plain": [
       "  0%|          | 0/36099 [00:00<?, ?it/s]"
      ]
     },
     "metadata": {},
     "output_type": "display_data"
    },
    {
     "data": {
      "application/vnd.jupyter.widget-view+json": {
       "model_id": "23977264741044f98aea35f388a008aa",
       "version_major": 2,
       "version_minor": 0
      },
      "text/plain": [
       "  0%|          | 0/40115 [00:00<?, ?it/s]"
      ]
     },
     "metadata": {},
     "output_type": "display_data"
    },
    {
     "name": "stdout",
     "output_type": "stream",
     "text": [
      "CPU times: user 3min 25s, sys: 5.37 s, total: 3min 31s\n",
      "Wall time: 3min 26s\n"
     ]
    }
   ],
   "source": [
    "%%time\n",
    "train_sequence = create_sequences(train, CFG.target_col, CFG.seq_length)\n",
    "valid_sequence = create_sequences(valid, CFG.target_col, CFG.seq_length)\n",
    "test_sequence = create_sequences(test, CFG.target_col, CFG.seq_length)"
   ]
  },
  {
   "cell_type": "markdown",
   "id": "dab275d9",
   "metadata": {},
   "source": [
    "# Pytorch Dataset"
   ]
  },
  {
   "cell_type": "code",
   "execution_count": 10,
   "id": "56887132",
   "metadata": {},
   "outputs": [],
   "source": [
    "class AirQualityDataset(Dataset):\n",
    "    \n",
    "    def __init__(self, sequences):\n",
    "        \n",
    "        self.sequences = sequences\n",
    "    \n",
    "    def __len__(self):\n",
    "        return len(self.sequences)\n",
    "    \n",
    "    def __getitem__(self, idx):\n",
    "        \n",
    "        sequence, target = self.sequences[idx]\n",
    "        \n",
    "        return torch.tensor(sequence.to_numpy()).float(), torch.tensor(target).float()"
   ]
  },
  {
   "cell_type": "code",
   "execution_count": 11,
   "id": "46b64749",
   "metadata": {},
   "outputs": [
    {
     "name": "stdout",
     "output_type": "stream",
     "text": [
      "sequence shape: torch.Size([48, 13])\n",
      "label shape: torch.Size([])\n"
     ]
    }
   ],
   "source": [
    "train_dataset = AirQualityDataset(train_sequence)\n",
    "sequence, label = train_dataset[0]\n",
    "print(f'sequence shape: {sequence.shape}')\n",
    "print(f'label shape: {label.shape}')"
   ]
  },
  {
   "cell_type": "markdown",
   "id": "30142b6e",
   "metadata": {},
   "source": [
    "# W&B"
   ]
  },
  {
   "cell_type": "code",
   "execution_count": 12,
   "id": "0cd6e356",
   "metadata": {},
   "outputs": [
    {
     "name": "stderr",
     "output_type": "stream",
     "text": [
      "\u001b[34m\u001b[1mwandb\u001b[0m: Currently logged in as: \u001b[33mdjoe\u001b[0m. Use \u001b[1m`wandb login --relogin`\u001b[0m to force relogin\n"
     ]
    },
    {
     "data": {
      "text/html": [
       "wandb version 0.13.2 is available!  To upgrade, please run:\n",
       " $ pip install wandb --upgrade"
      ],
      "text/plain": [
       "<IPython.core.display.HTML object>"
      ]
     },
     "metadata": {},
     "output_type": "display_data"
    },
    {
     "data": {
      "text/html": [
       "Tracking run with wandb version 0.13.1"
      ],
      "text/plain": [
       "<IPython.core.display.HTML object>"
      ]
     },
     "metadata": {},
     "output_type": "display_data"
    },
    {
     "data": {
      "text/html": [
       "Run data is saved locally in <code>/home/mohamed-ali/Downloads/Beijing air quality/wandb/run-20220827_230400-1kw64hbx</code>"
      ],
      "text/plain": [
       "<IPython.core.display.HTML object>"
      ]
     },
     "metadata": {},
     "output_type": "display_data"
    },
    {
     "data": {
      "text/html": [
       "Syncing run <strong><a href=\"https://wandb.ai/djoe/Baijing%20airquality%20prediction/runs/1kw64hbx\" target=\"_blank\">lstm_network</a></strong> to <a href=\"https://wandb.ai/djoe/Baijing%20airquality%20prediction\" target=\"_blank\">Weights & Biases</a> (<a href=\"https://wandb.me/run\" target=\"_blank\">docs</a>)<br/>"
      ],
      "text/plain": [
       "<IPython.core.display.HTML object>"
      ]
     },
     "metadata": {},
     "output_type": "display_data"
    }
   ],
   "source": [
    "if CFG.kaggle:\n",
    "    \n",
    "    from kaggle_secrets import UserSecretsClient\n",
    "    user_secrets = UserSecretsClient()\n",
    "    wandb_api = user_secrets.get_secret(\"wandb_key\")\n",
    "\n",
    "    wandb.login(key=wandb_api)\n",
    "\n",
    "else:\n",
    "    \n",
    "    wandb.login()\n",
    "\n",
    "def class2dict(f):\n",
    "    return dict((name, getattr(f, name)) for name in dir(f) if not name.startswith('__'))\n",
    "\n",
    "run = wandb.init(project=\"Baijing airquality prediction\", \n",
    "                 name=CFG.model_name,\n",
    "                 config=class2dict(CFG),\n",
    "                 group=CFG.group,\n",
    "                 tags=[f'CFG.model_name_version{VERSION}'],\n",
    "                 job_type=\"train\")"
   ]
  },
  {
   "cell_type": "markdown",
   "id": "94823ada",
   "metadata": {},
   "source": [
    "# Model"
   ]
  },
  {
   "cell_type": "code",
   "execution_count": 13,
   "id": "b3d5340c",
   "metadata": {},
   "outputs": [],
   "source": [
    "class LSTM(nn.Module):\n",
    "\n",
    "    def __init__(\n",
    "                 self, \n",
    "                 target_size=CFG.target_size,\n",
    "                 input_size=CFG.input_size, \n",
    "                 hidden_size=CFG.hidden_size,\n",
    "                 num_layers=CFG.num_layers\n",
    "                 ):\n",
    "        \n",
    "        super(LSTM, self).__init__()\n",
    "        \n",
    "        self.target_size = CFG.target_size\n",
    "        self.num_layers = CFG.num_layers\n",
    "        self.input_size = CFG.input_size\n",
    "        self.hidden_size = CFG.hidden_size\n",
    "        self.seq_length = CFG.seq_length\n",
    "        \n",
    "        self.lstm = nn.LSTM(\n",
    "                            input_size=self.input_size, # Features of the sequence\n",
    "                            hidden_size=self.hidden_size, # Hidden units for the lstm\n",
    "                            num_layers=self.num_layers, # Number of layers\n",
    "                            batch_first=True, # (batch, seq, features)\n",
    "                            dropout=0.2,\n",
    "                            bidirectional=True\n",
    "                           )\n",
    "        \n",
    "        self.fc = nn.Linear(self.hidden_size, self.target_size)\n",
    "        \n",
    "        \n",
    "    def forward(self, x):\n",
    "        \n",
    "        # Propagate input through LSTM\n",
    "        ula, (h_out, _) = self.lstm(x)\n",
    "        \n",
    "        h_out = h_out[-1]\n",
    "        \n",
    "        out = self.fc(h_out)\n",
    "        \n",
    "        return out"
   ]
  },
  {
   "cell_type": "markdown",
   "id": "cfddef42",
   "metadata": {},
   "source": [
    "# Helper Functions"
   ]
  },
  {
   "cell_type": "code",
   "execution_count": 14,
   "id": "af3e0c51",
   "metadata": {},
   "outputs": [],
   "source": [
    "# ====================================================\n",
    "# Helper functions\n",
    "# ====================================================\n",
    "class AverageMeter(object):\n",
    "    \"\"\"Computes and stores the average and current value\"\"\"\n",
    "    def __init__(self):\n",
    "        self.reset()\n",
    "\n",
    "    def reset(self):\n",
    "        self.val = 0\n",
    "        self.avg = 0\n",
    "        self.sum = 0\n",
    "        self.count = 0\n",
    "\n",
    "    def update(self, val, n=1):\n",
    "        self.val = val\n",
    "        self.sum += val * n\n",
    "        self.count += n\n",
    "        self.avg = self.sum / self.count\n",
    "\n",
    "\n",
    "def asMinutes(s):\n",
    "    m = math.floor(s / 60)\n",
    "    s -= m * 60\n",
    "    return '%dm %ds' % (m, s)\n",
    "\n",
    "\n",
    "def timeSince(since, percent):\n",
    "    now = time.time()\n",
    "    s = now - since\n",
    "    es = s / (percent)\n",
    "    rs = es - s\n",
    "    return '%s (remain %s)' % (asMinutes(s), asMinutes(rs))\n",
    "\n",
    "\n",
    "def train_fn(fold, train_loader, model, criterion, optimizer, epoch, scheduler, device):\n",
    "    if CFG.apex:\n",
    "        scaler = GradScaler()\n",
    "    batch_time = AverageMeter()\n",
    "    data_time = AverageMeter()\n",
    "    losses = AverageMeter()\n",
    "    scores = AverageMeter()\n",
    "    # switch to train mode\n",
    "    model.train()\n",
    "    start = end = time.time()\n",
    "    global_step = 0\n",
    "    for step, (sequences, targets) in enumerate(train_loader):\n",
    "        # measure data loading time\n",
    "        data_time.update(time.time() - end)\n",
    "        #num = dct['num_data'].to(device)\n",
    "        #cat = dct['cat_data'].to(device)\n",
    "        sequences = sequences.to(device)\n",
    "        targets = targets.to(device)\n",
    "        batch_size = targets.size(0)\n",
    "        if CFG.apex:\n",
    "            with autocast():\n",
    "                y_preds = model(sequences)\n",
    "                loss = criterion(y_preds.squeeze(1), targets)\n",
    "        else:\n",
    "            y_preds = model(sequences)\n",
    "            loss = criterion(y_preds.squeeze(1), targets)\n",
    "        # record loss\n",
    "        losses.update(loss.item(), batch_size)\n",
    "        if CFG.gradient_accumulation_steps > 1:\n",
    "            loss = loss / CFG.gradient_accumulation_steps\n",
    "        if CFG.apex:\n",
    "            scaler.scale(loss).backward()\n",
    "        else:\n",
    "            loss.backward()\n",
    "        grad_norm = torch.nn.utils.clip_grad_norm_(model.parameters(), CFG.max_grad_norm)\n",
    "        if (step + 1) % CFG.gradient_accumulation_steps == 0:\n",
    "            if CFG.apex:\n",
    "                scaler.step(optimizer)\n",
    "                scaler.update()\n",
    "            else:\n",
    "                optimizer.step()\n",
    "            optimizer.zero_grad()\n",
    "            global_step += 1\n",
    "        # measure elapsed time\n",
    "        batch_time.update(time.time() - end)\n",
    "        end = time.time()\n",
    "        if step % CFG.print_freq == 0 or step == (len(train_loader)-1):\n",
    "            print('Epoch: [{0}][{1}/{2}] '\n",
    "                  'Elapsed {remain:s} '\n",
    "                  'Loss: {loss.val:.4f}({loss.avg:.4f}) '\n",
    "                  'Grad: {grad_norm:.4f} '\n",
    "                  'LR: {lr:.6f}  '\n",
    "                  .format(epoch+1, step, len(train_loader), \n",
    "                          remain=timeSince(start, float(step+1)/len(train_loader)),\n",
    "                          loss=losses,\n",
    "                          grad_norm=grad_norm,\n",
    "                          lr=scheduler.get_last_lr()[0]))\n",
    "        if fold:\n",
    "            \n",
    "            wandb.log({f\"[fold{fold}] loss\": losses.val,\n",
    "                       f\"[fold{fold}] lr\": scheduler.get_last_lr()[0]})\n",
    "        else:\n",
    "            \n",
    "            wandb.log({\"loss\": losses.val,\n",
    "                       \"lr\": scheduler.get_last_lr()[0]})\n",
    "            \n",
    "    return losses.avg\n",
    "\n",
    "\n",
    "def valid_fn(valid_loader, model, criterion, device):\n",
    "    batch_time = AverageMeter()\n",
    "    data_time = AverageMeter()\n",
    "    losses = AverageMeter()\n",
    "    scores = AverageMeter()\n",
    "    # switch to evaluation mode\n",
    "    model.eval()\n",
    "    preds = []\n",
    "    targets_list = []\n",
    "    start = end = time.time()\n",
    "    for step, (sequences, targets) in enumerate(valid_loader):\n",
    "        # measure data loading time\n",
    "        data_time.update(time.time() - end)\n",
    "        #num = dct['num_data'].to(device)\n",
    "        #cat = dct['cat_data'].to(device)\n",
    "        sequences = sequences.to(device)\n",
    "        targets = targets.to(device)\n",
    "        batch_size = targets.size(0)\n",
    "        # compute loss\n",
    "        with torch.no_grad():\n",
    "            y_preds = model(sequences)\n",
    "        preds.append(y_preds.detach().to('cpu').numpy())\n",
    "        targets_list.append(targets.detach().to('cpu').numpy())\n",
    "        \n",
    "        loss = criterion(y_preds.squeeze(1), targets)\n",
    "        losses.update(loss.item(), batch_size)\n",
    "        if CFG.gradient_accumulation_steps > 1:\n",
    "            loss = loss / CFG.gradient_accumulation_steps\n",
    "        # measure elapsed time\n",
    "        batch_time.update(time.time() - end)\n",
    "        end = time.time()\n",
    "        if step % CFG.print_freq == 0 or step == (len(valid_loader)-1):\n",
    "            print('EVAL: [{0}/{1}] '\n",
    "                  'Elapsed {remain:s} '\n",
    "                  'Loss: {loss.val:.4f}({loss.avg:.4f}) '\n",
    "                  .format(step, len(valid_loader),\n",
    "                          loss=losses,\n",
    "                          remain=timeSince(start, float(step+1)/len(valid_loader))))\n",
    "    predictions = np.concatenate(preds)\n",
    "    targets = np.concatenate(targets_list)\n",
    "    return losses.avg, predictions, targets\n",
    "\n",
    "# ====================================================\n",
    "# inference\n",
    "# ====================================================\n",
    "def inference(model, states, test_loader, device):\n",
    "    model.to(device)\n",
    "    tk0 = tqdm(test_loader, total=len(test_loader))\n",
    "    forcasts = []\n",
    "    targets_list = []\n",
    "    for i, (sequences, targets) in enumerate(tk0):\n",
    "        sequences = sequences.to(device).float()\n",
    "        targets = targets.to(device).float()\n",
    "        avg_forcasts = []\n",
    "        for state in states:\n",
    "            model.load_state_dict(state['model'])\n",
    "            model.eval()\n",
    "            with torch.no_grad():\n",
    "                y_preds = model(sequences)\n",
    "            avg_forcasts.append(y_preds.detach().to(\"cpu\").numpy())\n",
    "        avg_forcasts = np.mean(avg_forcasts, axis=0)\n",
    "        forcasts.append(avg_forcasts)\n",
    "        targets_list.append(targets.detach().to(\"cpu\").numpy())\n",
    "    forcasts = np.concatenate(forcasts)\n",
    "    targets = np.concatenate(targets_list)\n",
    "    return forcasts, targets"
   ]
  },
  {
   "cell_type": "markdown",
   "id": "da9fdf9e",
   "metadata": {},
   "source": [
    "# Train Loop"
   ]
  },
  {
   "cell_type": "code",
   "execution_count": 17,
   "id": "65276262",
   "metadata": {},
   "outputs": [
    {
     "name": "stdout",
     "output_type": "stream",
     "text": [
      "Epoch: [1][0/10164] Elapsed 0m 0s (remain 13m 46s) Loss: 5666.7520(5666.7520) Grad: 219.9418 LR: 0.000100  \n",
      "Epoch: [1][500/10164] Elapsed 0m 4s (remain 1m 20s) Loss: 1193.7786(8211.6713) Grad: 399.4377 LR: 0.000100  \n",
      "Epoch: [1][1000/10164] Elapsed 0m 8s (remain 1m 16s) Loss: 5650.9541(7159.5001) Grad: 1318.0226 LR: 0.000100  \n",
      "Epoch: [1][1500/10164] Elapsed 0m 12s (remain 1m 11s) Loss: 23197.2754(6981.0903) Grad: 2542.0198 LR: 0.000100  \n",
      "Epoch: [1][2000/10164] Elapsed 0m 16s (remain 1m 7s) Loss: 3091.0840(6417.7409) Grad: 886.7528 LR: 0.000100  \n",
      "Epoch: [1][2500/10164] Elapsed 0m 20s (remain 1m 3s) Loss: 1193.4222(6337.2597) Grad: 523.6336 LR: 0.000100  \n",
      "Epoch: [1][3000/10164] Elapsed 0m 24s (remain 0m 59s) Loss: 868.5580(6035.6824) Grad: 435.6853 LR: 0.000100  \n",
      "Epoch: [1][3500/10164] Elapsed 0m 29s (remain 0m 55s) Loss: 719.7050(5905.2421) Grad: 374.6118 LR: 0.000100  \n",
      "Epoch: [1][4000/10164] Elapsed 0m 33s (remain 0m 51s) Loss: 935.0078(5621.4305) Grad: 388.9656 LR: 0.000100  \n",
      "Epoch: [1][4500/10164] Elapsed 0m 37s (remain 0m 46s) Loss: 481.7059(5526.1637) Grad: 4.4381 LR: 0.000100  \n",
      "Epoch: [1][5000/10164] Elapsed 0m 41s (remain 0m 42s) Loss: 1357.9388(5392.3277) Grad: 478.9960 LR: 0.000100  \n",
      "Epoch: [1][5500/10164] Elapsed 0m 46s (remain 0m 39s) Loss: 458.5253(5331.0168) Grad: 194.1237 LR: 0.000100  \n",
      "Epoch: [1][6000/10164] Elapsed 0m 50s (remain 0m 35s) Loss: 1239.6781(5196.3955) Grad: 673.8184 LR: 0.000100  \n",
      "Epoch: [1][6500/10164] Elapsed 0m 55s (remain 0m 31s) Loss: 3492.4624(5095.8008) Grad: 1016.2698 LR: 0.000100  \n",
      "Epoch: [1][7000/10164] Elapsed 1m 0s (remain 0m 27s) Loss: 1594.0393(5007.3090) Grad: 766.2003 LR: 0.000100  \n",
      "Epoch: [1][7500/10164] Elapsed 1m 4s (remain 0m 23s) Loss: 583.5474(4904.7760) Grad: 0.4839 LR: 0.000100  \n",
      "Epoch: [1][8000/10164] Elapsed 1m 9s (remain 0m 18s) Loss: 598.5902(4803.4471) Grad: 307.6425 LR: 0.000100  \n",
      "Epoch: [1][8500/10164] Elapsed 1m 13s (remain 0m 14s) Loss: 1835.0878(4703.6775) Grad: 845.6030 LR: 0.000100  \n",
      "Epoch: [1][9000/10164] Elapsed 1m 18s (remain 0m 10s) Loss: 232.9504(4618.2776) Grad: 85.3592 LR: 0.000100  \n",
      "Epoch: [1][9500/10164] Elapsed 1m 22s (remain 0m 5s) Loss: 1233.7800(4538.7643) Grad: 506.8406 LR: 0.000100  \n",
      "Epoch: [1][10000/10164] Elapsed 1m 27s (remain 0m 1s) Loss: 524.9119(4512.0288) Grad: 168.9234 LR: 0.000100  \n",
      "Epoch: [1][10163/10164] Elapsed 1m 28s (remain 0m 0s) Loss: 1493.4138(4485.0378) Grad: 577.1117 LR: 0.000100  \n",
      "EVAL: [0/1129] Elapsed 0m 0s (remain 1m 30s) Loss: 16399.6250(16399.6250) \n",
      "EVAL: [500/1129] Elapsed 0m 1s (remain 0m 2s) Loss: 6910.3564(3691.8249) \n",
      "EVAL: [1000/1129] Elapsed 0m 3s (remain 0m 0s) Loss: 748.8528(3555.8516) \n"
     ]
    },
    {
     "name": "stderr",
     "output_type": "stream",
     "text": [
      "Epoch 1 - avg_train_loss: 4485.0378  avg_val_loss: 3610.9378  time: 93s\n",
      "Epoch 1 - Score: 60.0911\n",
      "Validation loss Improved (inf ---> 3610.9378377755443)\n",
      "Epoch 1 - Save Best Loss: 3610.9378 Model\n"
     ]
    },
    {
     "name": "stdout",
     "output_type": "stream",
     "text": [
      "EVAL: [1128/1129] Elapsed 0m 3s (remain 0m 0s) Loss: 5341.6060(3610.9378) \n",
      "Epoch: [2][0/10164] Elapsed 0m 0s (remain 13m 40s) Loss: 1657.4465(1657.4465) Grad: 191.1300 LR: 0.000094  \n",
      "Epoch: [2][500/10164] Elapsed 0m 4s (remain 1m 28s) Loss: 1467.5500(3833.6117) Grad: 522.4725 LR: 0.000094  \n",
      "Epoch: [2][1000/10164] Elapsed 0m 9s (remain 1m 24s) Loss: 1772.4060(3497.9421) Grad: 4021.3381 LR: 0.000094  \n",
      "Epoch: [2][1500/10164] Elapsed 0m 13s (remain 1m 18s) Loss: 14325.2578(3455.7351) Grad: 2560.1924 LR: 0.000094  \n",
      "Epoch: [2][2000/10164] Elapsed 0m 18s (remain 1m 13s) Loss: 825.7393(3179.8549) Grad: 20480.8848 LR: 0.000094  \n",
      "Epoch: [2][2500/10164] Elapsed 0m 22s (remain 1m 9s) Loss: 415.7662(3168.9941) Grad: 11450.5479 LR: 0.000094  \n",
      "Epoch: [2][3000/10164] Elapsed 0m 27s (remain 1m 4s) Loss: 192.5244(3030.8472) Grad: 22123.0996 LR: 0.000094  \n",
      "Epoch: [2][3500/10164] Elapsed 0m 31s (remain 1m 0s) Loss: 274.0841(3000.8883) Grad: 6779.3008 LR: 0.000094  \n",
      "Epoch: [2][4000/10164] Elapsed 0m 36s (remain 0m 55s) Loss: 248.0654(2866.1230) Grad: 8941.7617 LR: 0.000094  \n",
      "Epoch: [2][4500/10164] Elapsed 0m 40s (remain 0m 51s) Loss: 310.7760(2840.0728) Grad: 47097.0781 LR: 0.000094  \n",
      "Epoch: [2][5000/10164] Elapsed 0m 45s (remain 0m 46s) Loss: 698.2577(2781.2266) Grad: 24350.2559 LR: 0.000094  \n",
      "Epoch: [2][5500/10164] Elapsed 0m 49s (remain 0m 41s) Loss: 264.1041(2765.7698) Grad: 21200.3516 LR: 0.000094  \n",
      "Epoch: [2][6000/10164] Elapsed 0m 53s (remain 0m 37s) Loss: 27.7701(2698.3186) Grad: 1240.4540 LR: 0.000094  \n",
      "Epoch: [2][6500/10164] Elapsed 0m 57s (remain 0m 32s) Loss: 1507.6002(2650.9115) Grad: 7437.8589 LR: 0.000094  \n",
      "Epoch: [2][7000/10164] Elapsed 1m 2s (remain 0m 28s) Loss: 29.7232(2607.6996) Grad: 1309.1171 LR: 0.000094  \n",
      "Epoch: [2][7500/10164] Elapsed 1m 6s (remain 0m 23s) Loss: 241.5359(2548.9750) Grad: 22711.4043 LR: 0.000094  \n",
      "Epoch: [2][8000/10164] Elapsed 1m 10s (remain 0m 19s) Loss: 219.6323(2487.7056) Grad: 19948.4941 LR: 0.000094  \n",
      "Epoch: [2][8500/10164] Elapsed 1m 15s (remain 0m 14s) Loss: 134.6056(2424.9990) Grad: 25785.8145 LR: 0.000094  \n",
      "Epoch: [2][9000/10164] Elapsed 1m 20s (remain 0m 10s) Loss: 125.8813(2366.5567) Grad: 41887.0352 LR: 0.000094  \n",
      "Epoch: [2][9500/10164] Elapsed 1m 25s (remain 0m 5s) Loss: 180.4679(2312.8737) Grad: 17740.8242 LR: 0.000094  \n",
      "Epoch: [2][10000/10164] Elapsed 1m 29s (remain 0m 1s) Loss: 229.4220(2291.5679) Grad: 22718.7910 LR: 0.000094  \n",
      "Epoch: [2][10163/10164] Elapsed 1m 31s (remain 0m 0s) Loss: 175.4650(2274.1568) Grad: 105476.2969 LR: 0.000094  \n",
      "EVAL: [0/1129] Elapsed 0m 0s (remain 1m 24s) Loss: 9997.0273(9997.0273) \n",
      "EVAL: [500/1129] Elapsed 0m 1s (remain 0m 2s) Loss: 4178.6470(1714.6086) \n",
      "EVAL: [1000/1129] Elapsed 0m 3s (remain 0m 0s) Loss: 143.6967(1616.1803) \n"
     ]
    },
    {
     "name": "stderr",
     "output_type": "stream",
     "text": [
      "Epoch 2 - avg_train_loss: 2274.1568  avg_val_loss: 1643.0613  time: 95s\n",
      "Epoch 2 - Score: 40.5347\n",
      "Validation loss Improved (3610.9378377755443 ---> 1643.0612886599442)\n",
      "Epoch 2 - Save Best Loss: 1643.0613 Model\n"
     ]
    },
    {
     "name": "stdout",
     "output_type": "stream",
     "text": [
      "EVAL: [1128/1129] Elapsed 0m 3s (remain 0m 0s) Loss: 1970.6289(1643.0613) \n",
      "Epoch: [3][0/10164] Elapsed 0m 0s (remain 13m 57s) Loss: 568.3794(568.3794) Grad: 52764.0547 LR: 0.000078  \n",
      "Epoch: [3][500/10164] Elapsed 0m 4s (remain 1m 29s) Loss: 96.4484(1754.6896) Grad: 17997.2695 LR: 0.000078  \n",
      "Epoch: [3][1000/10164] Elapsed 0m 9s (remain 1m 24s) Loss: 634.4654(1575.6342) Grad: 19145.9062 LR: 0.000078  \n",
      "Epoch: [3][1500/10164] Elapsed 0m 13s (remain 1m 19s) Loss: 8528.5547(1608.2623) Grad: 1438.7677 LR: 0.000078  \n",
      "Epoch: [3][2000/10164] Elapsed 0m 18s (remain 1m 14s) Loss: 84.2853(1499.9901) Grad: 11131.6104 LR: 0.000078  \n",
      "Epoch: [3][2500/10164] Elapsed 0m 22s (remain 1m 9s) Loss: 128.4721(1519.1525) Grad: 51812.9688 LR: 0.000078  \n",
      "Epoch: [3][3000/10164] Elapsed 0m 26s (remain 1m 4s) Loss: 54.4616(1468.6809) Grad: 2395.8464 LR: 0.000078  \n",
      "Epoch: [3][3500/10164] Elapsed 0m 31s (remain 0m 59s) Loss: 142.2810(1477.8016) Grad: 24917.1758 LR: 0.000078  \n",
      "Epoch: [3][4000/10164] Elapsed 0m 35s (remain 0m 54s) Loss: 185.2111(1424.4023) Grad: 11171.9961 LR: 0.000078  \n",
      "Epoch: [3][4500/10164] Elapsed 0m 39s (remain 0m 49s) Loss: 194.8921(1428.0773) Grad: 34927.0938 LR: 0.000078  \n",
      "Epoch: [3][5000/10164] Elapsed 0m 43s (remain 0m 44s) Loss: 531.4102(1412.0026) Grad: 7518.5391 LR: 0.000078  \n",
      "Epoch: [3][5500/10164] Elapsed 0m 47s (remain 0m 40s) Loss: 179.1064(1419.9199) Grad: 48964.8438 LR: 0.000078  \n",
      "Epoch: [3][6000/10164] Elapsed 0m 52s (remain 0m 36s) Loss: 17.7043(1393.9242) Grad: 1686.4301 LR: 0.000078  \n",
      "Epoch: [3][6500/10164] Elapsed 0m 56s (remain 0m 31s) Loss: 828.4772(1381.3048) Grad: 105229.1016 LR: 0.000078  \n",
      "Epoch: [3][7000/10164] Elapsed 1m 0s (remain 0m 27s) Loss: 39.2999(1370.6411) Grad: 8907.5615 LR: 0.000078  \n",
      "Epoch: [3][7500/10164] Elapsed 1m 4s (remain 0m 22s) Loss: 161.8128(1349.3691) Grad: 11857.6328 LR: 0.000078  \n",
      "Epoch: [3][8000/10164] Elapsed 1m 8s (remain 0m 18s) Loss: 180.8687(1324.8249) Grad: 31444.7461 LR: 0.000078  \n",
      "Epoch: [3][8500/10164] Elapsed 1m 12s (remain 0m 14s) Loss: 64.5252(1298.5146) Grad: 5572.6479 LR: 0.000078  \n",
      "Epoch: [3][9000/10164] Elapsed 1m 17s (remain 0m 9s) Loss: 176.1457(1274.2623) Grad: 43027.0234 LR: 0.000078  \n",
      "Epoch: [3][9500/10164] Elapsed 1m 21s (remain 0m 5s) Loss: 127.8696(1252.1119) Grad: 6304.5962 LR: 0.000078  \n",
      "Epoch: [3][10000/10164] Elapsed 1m 25s (remain 0m 1s) Loss: 208.4444(1249.5173) Grad: 24659.6211 LR: 0.000078  \n",
      "Epoch: [3][10163/10164] Elapsed 1m 26s (remain 0m 0s) Loss: 150.0888(1242.4827) Grad: 42695.2227 LR: 0.000078  \n",
      "EVAL: [0/1129] Elapsed 0m 0s (remain 1m 22s) Loss: 7079.1885(7079.1885) \n",
      "EVAL: [500/1129] Elapsed 0m 1s (remain 0m 1s) Loss: 2788.1750(1150.1167) \n",
      "EVAL: [1000/1129] Elapsed 0m 3s (remain 0m 0s) Loss: 119.2209(1077.1146) \n"
     ]
    },
    {
     "name": "stderr",
     "output_type": "stream",
     "text": [
      "Epoch 3 - avg_train_loss: 1242.4827  avg_val_loss: 1095.1682  time: 90s\n",
      "Epoch 3 - Score: 33.0933\n",
      "Validation loss Improved (1643.0612886599442 ---> 1095.1682334971126)\n",
      "Epoch 3 - Save Best Loss: 1095.1682 Model\n"
     ]
    },
    {
     "name": "stdout",
     "output_type": "stream",
     "text": [
      "EVAL: [1128/1129] Elapsed 0m 3s (remain 0m 0s) Loss: 913.8478(1095.1682) \n",
      "Epoch: [4][0/10164] Elapsed 0m 0s (remain 13m 33s) Loss: 696.0013(696.0013) Grad: 101199.8516 LR: 0.000055  \n",
      "Epoch: [4][500/10164] Elapsed 0m 4s (remain 1m 22s) Loss: 167.6545(1134.1553) Grad: 16367.3770 LR: 0.000055  \n",
      "Epoch: [4][1000/10164] Elapsed 0m 8s (remain 1m 17s) Loss: 472.8957(1037.1842) Grad: 31359.4238 LR: 0.000055  \n",
      "Epoch: [4][1500/10164] Elapsed 0m 12s (remain 1m 13s) Loss: 6114.4941(1066.3505) Grad: 1539.0505 LR: 0.000055  \n",
      "Epoch: [4][2000/10164] Elapsed 0m 16s (remain 1m 9s) Loss: 120.5552(1005.5898) Grad: 39509.4570 LR: 0.000055  \n",
      "Epoch: [4][2500/10164] Elapsed 0m 21s (remain 1m 5s) Loss: 97.6196(1021.5151) Grad: 31981.8125 LR: 0.000055  \n",
      "Epoch: [4][3000/10164] Elapsed 0m 25s (remain 1m 1s) Loss: 88.2593(992.3698) Grad: 23314.2070 LR: 0.000055  \n",
      "Epoch: [4][3500/10164] Elapsed 0m 29s (remain 0m 57s) Loss: 106.8725(1006.7904) Grad: 12917.5732 LR: 0.000055  \n",
      "Epoch: [4][4000/10164] Elapsed 0m 34s (remain 0m 52s) Loss: 142.0497(975.9588) Grad: 11073.9336 LR: 0.000055  \n",
      "Epoch: [4][4500/10164] Elapsed 0m 38s (remain 0m 48s) Loss: 98.2589(985.0750) Grad: 17961.0352 LR: 0.000055  \n",
      "Epoch: [4][5000/10164] Elapsed 0m 42s (remain 0m 44s) Loss: 550.0439(978.0214) Grad: 29067.2559 LR: 0.000055  \n",
      "Epoch: [4][5500/10164] Elapsed 0m 46s (remain 0m 39s) Loss: 150.9249(989.4386) Grad: 14713.5049 LR: 0.000055  \n",
      "Epoch: [4][6000/10164] Elapsed 0m 51s (remain 0m 35s) Loss: 18.5451(974.4369) Grad: 3809.7070 LR: 0.000055  \n",
      "Epoch: [4][6500/10164] Elapsed 0m 55s (remain 0m 31s) Loss: 698.2810(970.2110) Grad: 51717.7773 LR: 0.000055  \n",
      "Epoch: [4][7000/10164] Elapsed 0m 59s (remain 0m 26s) Loss: 25.2335(968.1651) Grad: 4611.3628 LR: 0.000055  \n",
      "Epoch: [4][7500/10164] Elapsed 1m 3s (remain 0m 22s) Loss: 233.4565(957.3215) Grad: 15417.0996 LR: 0.000055  \n",
      "Epoch: [4][8000/10164] Elapsed 1m 8s (remain 0m 18s) Loss: 87.0036(943.2815) Grad: 21174.2891 LR: 0.000055  \n",
      "Epoch: [4][8500/10164] Elapsed 1m 12s (remain 0m 14s) Loss: 62.3358(928.3207) Grad: 7746.1411 LR: 0.000055  \n",
      "Epoch: [4][9000/10164] Elapsed 1m 16s (remain 0m 9s) Loss: 88.3391(914.2632) Grad: 30635.4082 LR: 0.000055  \n",
      "Epoch: [4][9500/10164] Elapsed 1m 20s (remain 0m 5s) Loss: 72.6533(901.7087) Grad: 8579.0039 LR: 0.000055  \n",
      "Epoch: [4][10000/10164] Elapsed 1m 24s (remain 0m 1s) Loss: 200.5468(904.1928) Grad: 12407.0381 LR: 0.000055  \n",
      "Epoch: [4][10163/10164] Elapsed 1m 26s (remain 0m 0s) Loss: 85.8491(900.3066) Grad: 18156.7988 LR: 0.000055  \n",
      "EVAL: [0/1129] Elapsed 0m 0s (remain 1m 21s) Loss: 6016.8057(6016.8057) \n",
      "EVAL: [500/1129] Elapsed 0m 1s (remain 0m 2s) Loss: 2405.4707(931.6210) \n",
      "EVAL: [1000/1129] Elapsed 0m 3s (remain 0m 0s) Loss: 113.5041(869.8985) \n"
     ]
    },
    {
     "name": "stderr",
     "output_type": "stream",
     "text": [
      "Epoch 4 - avg_train_loss: 900.3066  avg_val_loss: 885.2622  time: 90s\n",
      "Epoch 4 - Score: 29.7534\n",
      "Validation loss Improved (1095.1682334971126 ---> 885.2622035417093)\n",
      "Epoch 4 - Save Best Loss: 885.2622 Model\n"
     ]
    },
    {
     "name": "stdout",
     "output_type": "stream",
     "text": [
      "EVAL: [1128/1129] Elapsed 0m 3s (remain 0m 0s) Loss: 859.0991(885.2622) \n",
      "Epoch: [5][0/10164] Elapsed 0m 0s (remain 13m 55s) Loss: 574.2542(574.2542) Grad: 143272.2656 LR: 0.000033  \n",
      "Epoch: [5][500/10164] Elapsed 0m 4s (remain 1m 24s) Loss: 108.6759(905.5646) Grad: 20609.8223 LR: 0.000033  \n",
      "Epoch: [5][1000/10164] Elapsed 0m 8s (remain 1m 18s) Loss: 426.5666(836.6117) Grad: 47903.3984 LR: 0.000033  \n",
      "Epoch: [5][1500/10164] Elapsed 0m 12s (remain 1m 13s) Loss: 4872.1626(863.3075) Grad: 34191.6094 LR: 0.000033  \n",
      "Epoch: [5][2000/10164] Elapsed 0m 16s (remain 1m 8s) Loss: 140.3358(818.6615) Grad: 49268.2383 LR: 0.000033  \n",
      "Epoch: [5][2500/10164] Elapsed 0m 21s (remain 1m 4s) Loss: 53.0941(832.6634) Grad: 14453.8506 LR: 0.000033  \n",
      "Epoch: [5][3000/10164] Elapsed 0m 25s (remain 1m 0s) Loss: 88.6014(810.4349) Grad: 27694.0918 LR: 0.000033  \n",
      "Epoch: [5][3500/10164] Elapsed 0m 29s (remain 0m 56s) Loss: 136.1015(825.9011) Grad: 11249.3887 LR: 0.000033  \n",
      "Epoch: [5][4000/10164] Elapsed 0m 33s (remain 0m 51s) Loss: 160.1331(803.9545) Grad: 10734.1074 LR: 0.000033  \n",
      "Epoch: [5][4500/10164] Elapsed 0m 37s (remain 0m 47s) Loss: 77.8870(814.6361) Grad: 28879.8379 LR: 0.000033  \n",
      "Epoch: [5][5000/10164] Elapsed 0m 41s (remain 0m 43s) Loss: 558.2440(810.6015) Grad: 26519.1406 LR: 0.000033  \n",
      "Epoch: [5][5500/10164] Elapsed 0m 46s (remain 0m 39s) Loss: 196.3682(822.6235) Grad: 29579.5137 LR: 0.000033  \n",
      "Epoch: [5][6000/10164] Elapsed 0m 50s (remain 0m 34s) Loss: 25.7399(811.6135) Grad: 13868.5166 LR: 0.000033  \n",
      "Epoch: [5][6500/10164] Elapsed 0m 54s (remain 0m 30s) Loss: 698.2509(810.2458) Grad: 177636.4062 LR: 0.000033  \n",
      "Epoch: [5][7000/10164] Elapsed 0m 58s (remain 0m 26s) Loss: 21.1834(810.9766) Grad: 2980.0791 LR: 0.000033  \n",
      "Epoch: [5][7500/10164] Elapsed 1m 3s (remain 0m 22s) Loss: 238.7008(803.7512) Grad: 9774.0791 LR: 0.000033  \n",
      "Epoch: [5][8000/10164] Elapsed 1m 7s (remain 0m 18s) Loss: 88.1060(793.5570) Grad: 22717.8203 LR: 0.000033  \n",
      "Epoch: [5][8500/10164] Elapsed 1m 11s (remain 0m 14s) Loss: 62.7239(782.6394) Grad: 6356.9897 LR: 0.000033  \n",
      "Epoch: [5][9000/10164] Elapsed 1m 15s (remain 0m 9s) Loss: 94.2568(772.5330) Grad: 20847.3633 LR: 0.000033  \n",
      "Epoch: [5][9500/10164] Elapsed 1m 20s (remain 0m 5s) Loss: 55.2735(763.4849) Grad: 7569.3442 LR: 0.000033  \n",
      "Epoch: [5][10000/10164] Elapsed 1m 24s (remain 0m 1s) Loss: 222.9671(767.5120) Grad: 23242.4766 LR: 0.000033  \n",
      "Epoch: [5][10163/10164] Elapsed 1m 25s (remain 0m 0s) Loss: 94.9399(764.8574) Grad: 20627.7949 LR: 0.000033  \n",
      "EVAL: [0/1129] Elapsed 0m 0s (remain 1m 23s) Loss: 5440.8984(5440.8984) \n",
      "EVAL: [500/1129] Elapsed 0m 1s (remain 0m 2s) Loss: 2183.6716(816.6776) \n",
      "EVAL: [1000/1129] Elapsed 0m 3s (remain 0m 0s) Loss: 100.7506(760.6755) \n"
     ]
    },
    {
     "name": "stderr",
     "output_type": "stream",
     "text": [
      "Epoch 5 - avg_train_loss: 764.8574  avg_val_loss: 776.9082  time: 90s\n",
      "Epoch 5 - Score: 27.8731\n",
      "Validation loss Improved (885.2622035417093 ---> 776.908179184734)\n",
      "Epoch 5 - Save Best Loss: 776.9082 Model\n"
     ]
    },
    {
     "name": "stdout",
     "output_type": "stream",
     "text": [
      "EVAL: [1128/1129] Elapsed 0m 3s (remain 0m 0s) Loss: 1007.8358(776.9082) \n",
      "Epoch: [6][0/10164] Elapsed 0m 0s (remain 13m 21s) Loss: 565.0691(565.0691) Grad: 104461.4141 LR: 0.000016  \n",
      "Epoch: [6][500/10164] Elapsed 0m 4s (remain 1m 21s) Loss: 89.5110(816.9009) Grad: 14370.9717 LR: 0.000016  \n",
      "Epoch: [6][1000/10164] Elapsed 0m 8s (remain 1m 17s) Loss: 470.9335(756.9542) Grad: 52155.8047 LR: 0.000016  \n",
      "Epoch: [6][1500/10164] Elapsed 0m 12s (remain 1m 13s) Loss: 4427.4248(779.9598) Grad: 60748.8164 LR: 0.000016  \n",
      "Epoch: [6][2000/10164] Elapsed 0m 17s (remain 1m 10s) Loss: 81.8037(741.7066) Grad: 37503.7422 LR: 0.000016  \n",
      "Epoch: [6][2500/10164] Elapsed 0m 21s (remain 1m 5s) Loss: 52.0143(753.8183) Grad: 17626.6719 LR: 0.000016  \n",
      "Epoch: [6][3000/10164] Elapsed 0m 25s (remain 1m 1s) Loss: 69.9145(734.4842) Grad: 6610.0703 LR: 0.000016  \n",
      "Epoch: [6][3500/10164] Elapsed 0m 30s (remain 0m 57s) Loss: 111.6334(750.7575) Grad: 11517.6660 LR: 0.000016  \n",
      "Epoch: [6][4000/10164] Elapsed 0m 34s (remain 0m 53s) Loss: 110.6199(732.4708) Grad: 10778.0508 LR: 0.000016  \n",
      "Epoch: [6][4500/10164] Elapsed 0m 38s (remain 0m 48s) Loss: 142.3046(743.2871) Grad: 43554.5078 LR: 0.000016  \n",
      "Epoch: [6][5000/10164] Elapsed 0m 43s (remain 0m 44s) Loss: 561.5946(740.8302) Grad: 30357.8242 LR: 0.000016  \n",
      "Epoch: [6][5500/10164] Elapsed 0m 47s (remain 0m 40s) Loss: 151.6983(753.0782) Grad: 21479.7910 LR: 0.000016  \n",
      "Epoch: [6][6000/10164] Elapsed 0m 51s (remain 0m 35s) Loss: 17.0613(743.8099) Grad: 6757.9243 LR: 0.000016  \n",
      "Epoch: [6][6500/10164] Elapsed 0m 55s (remain 0m 31s) Loss: 677.9143(743.4274) Grad: 123375.6875 LR: 0.000016  \n",
      "Epoch: [6][7000/10164] Elapsed 0m 59s (remain 0m 27s) Loss: 28.0549(745.0255) Grad: 3933.9309 LR: 0.000016  \n",
      "Epoch: [6][7500/10164] Elapsed 1m 4s (remain 0m 22s) Loss: 213.3691(739.3885) Grad: 11685.6201 LR: 0.000016  \n",
      "Epoch: [6][8000/10164] Elapsed 1m 8s (remain 0m 18s) Loss: 62.0346(730.8418) Grad: 17225.1523 LR: 0.000016  \n",
      "Epoch: [6][8500/10164] Elapsed 1m 12s (remain 0m 14s) Loss: 60.5025(721.6738) Grad: 6684.5156 LR: 0.000016  \n",
      "Epoch: [6][9000/10164] Elapsed 1m 16s (remain 0m 9s) Loss: 51.7580(713.1637) Grad: 10505.8047 LR: 0.000016  \n",
      "Epoch: [6][9500/10164] Elapsed 1m 21s (remain 0m 5s) Loss: 65.2121(705.7076) Grad: 11171.5869 LR: 0.000016  \n",
      "Epoch: [6][10000/10164] Elapsed 1m 25s (remain 0m 1s) Loss: 169.9154(710.3680) Grad: 18683.4746 LR: 0.000016  \n",
      "Epoch: [6][10163/10164] Elapsed 1m 26s (remain 0m 0s) Loss: 107.4267(708.1242) Grad: 28408.9277 LR: 0.000016  \n",
      "EVAL: [0/1129] Elapsed 0m 0s (remain 1m 25s) Loss: 5265.4531(5265.4531) \n",
      "EVAL: [500/1129] Elapsed 0m 1s (remain 0m 2s) Loss: 2056.6760(748.5633) \n",
      "EVAL: [1000/1129] Elapsed 0m 3s (remain 0m 0s) Loss: 71.6696(696.4718) \n"
     ]
    },
    {
     "name": "stderr",
     "output_type": "stream",
     "text": [
      "Epoch 6 - avg_train_loss: 708.1242  avg_val_loss: 716.0943  time: 91s\n",
      "Epoch 6 - Score: 26.7599\n",
      "Validation loss Improved (776.908179184734 ---> 716.0943048048615)\n",
      "Epoch 6 - Save Best Loss: 716.0943 Model\n"
     ]
    },
    {
     "name": "stdout",
     "output_type": "stream",
     "text": [
      "EVAL: [1128/1129] Elapsed 0m 3s (remain 0m 0s) Loss: 1486.0311(716.0943) \n",
      "Epoch: [7][0/10164] Elapsed 0m 0s (remain 13m 34s) Loss: 443.0964(443.0964) Grad: 75475.1406 LR: 0.000010  \n",
      "Epoch: [7][500/10164] Elapsed 0m 4s (remain 1m 24s) Loss: 79.2510(774.0999) Grad: 9949.4023 LR: 0.000010  \n",
      "Epoch: [7][1000/10164] Elapsed 0m 8s (remain 1m 18s) Loss: 468.7809(720.6957) Grad: 57285.6250 LR: 0.000010  \n",
      "Epoch: [7][1500/10164] Elapsed 0m 12s (remain 1m 13s) Loss: 4166.2935(743.2137) Grad: 43644.6445 LR: 0.000010  \n",
      "Epoch: [7][2000/10164] Elapsed 0m 16s (remain 1m 9s) Loss: 55.7016(708.4340) Grad: 11819.0811 LR: 0.000010  \n",
      "Epoch: [7][2500/10164] Elapsed 0m 21s (remain 1m 5s) Loss: 69.3881(719.9995) Grad: 28702.2578 LR: 0.000010  \n",
      "Epoch: [7][3000/10164] Elapsed 0m 25s (remain 1m 1s) Loss: 68.4752(701.3971) Grad: 6357.4629 LR: 0.000010  \n",
      "Epoch: [7][3500/10164] Elapsed 0m 29s (remain 0m 56s) Loss: 103.8347(717.1989) Grad: 8219.2471 LR: 0.000010  \n",
      "Epoch: [7][4000/10164] Elapsed 0m 34s (remain 0m 52s) Loss: 127.0686(699.7942) Grad: 11968.7393 LR: 0.000010  \n",
      "Epoch: [7][4500/10164] Elapsed 0m 38s (remain 0m 48s) Loss: 100.4392(710.5446) Grad: 49641.6602 LR: 0.000010  \n",
      "Epoch: [7][5000/10164] Elapsed 0m 42s (remain 0m 44s) Loss: 651.2502(708.2878) Grad: 30359.5195 LR: 0.000010  \n",
      "Epoch: [7][5500/10164] Elapsed 0m 47s (remain 0m 39s) Loss: 152.4820(720.4912) Grad: 18072.6074 LR: 0.000010  \n",
      "Epoch: [7][6000/10164] Elapsed 0m 51s (remain 0m 35s) Loss: 27.3223(711.7276) Grad: 7346.0415 LR: 0.000010  \n",
      "Epoch: [7][6500/10164] Elapsed 0m 55s (remain 0m 31s) Loss: 667.9728(711.6898) Grad: 45136.2383 LR: 0.000010  \n",
      "Epoch: [7][7000/10164] Elapsed 0m 59s (remain 0m 27s) Loss: 29.5522(713.6383) Grad: 5070.9341 LR: 0.000010  \n",
      "Epoch: [7][7500/10164] Elapsed 1m 4s (remain 0m 22s) Loss: 256.5324(708.5796) Grad: 19316.2441 LR: 0.000010  \n",
      "Epoch: [7][8000/10164] Elapsed 1m 8s (remain 0m 18s) Loss: 50.4296(700.7726) Grad: 14179.5488 LR: 0.000010  \n",
      "Epoch: [7][8500/10164] Elapsed 1m 12s (remain 0m 14s) Loss: 62.7917(692.1339) Grad: 5361.9785 LR: 0.000010  \n",
      "Epoch: [7][9000/10164] Elapsed 1m 16s (remain 0m 9s) Loss: 64.8552(684.3349) Grad: 9968.4053 LR: 0.000010  \n",
      "Epoch: [7][9500/10164] Elapsed 1m 20s (remain 0m 5s) Loss: 70.9992(677.3602) Grad: 8145.8076 LR: 0.000010  \n",
      "Epoch: [7][10000/10164] Elapsed 1m 25s (remain 0m 1s) Loss: 207.0242(682.1117) Grad: 19657.0449 LR: 0.000010  \n",
      "Epoch: [7][10163/10164] Elapsed 1m 26s (remain 0m 0s) Loss: 128.7545(680.0437) Grad: 33829.9922 LR: 0.000010  \n",
      "EVAL: [0/1129] Elapsed 0m 0s (remain 1m 20s) Loss: 5106.0854(5106.0854) \n",
      "EVAL: [500/1129] Elapsed 0m 1s (remain 0m 2s) Loss: 2017.0244(721.4587) \n",
      "EVAL: [1000/1129] Elapsed 0m 3s (remain 0m 0s) Loss: 53.0905(671.7411) \n"
     ]
    },
    {
     "name": "stderr",
     "output_type": "stream",
     "text": [
      "Epoch 7 - avg_train_loss: 680.0437  avg_val_loss: 691.3729  time: 90s\n",
      "Epoch 7 - Score: 26.2940\n",
      "Validation loss Improved (716.0943048048615 ---> 691.3728615763894)\n",
      "Epoch 7 - Save Best Loss: 691.3729 Model\n"
     ]
    },
    {
     "name": "stdout",
     "output_type": "stream",
     "text": [
      "EVAL: [1128/1129] Elapsed 0m 3s (remain 0m 0s) Loss: 1541.2295(691.3729) \n",
      "Epoch: [8][0/10164] Elapsed 0m 0s (remain 13m 37s) Loss: 414.6425(414.6425) Grad: 80391.3984 LR: 0.000016  \n",
      "Epoch: [8][500/10164] Elapsed 0m 4s (remain 1m 21s) Loss: 118.3910(749.7746) Grad: 16377.0684 LR: 0.000016  \n",
      "Epoch: [8][1000/10164] Elapsed 0m 8s (remain 1m 17s) Loss: 405.7007(697.1225) Grad: 42357.3242 LR: 0.000016  \n",
      "Epoch: [8][1500/10164] Elapsed 0m 12s (remain 1m 13s) Loss: 4028.6086(718.2662) Grad: 23549.4473 LR: 0.000016  \n",
      "Epoch: [8][2000/10164] Elapsed 0m 16s (remain 1m 9s) Loss: 74.5370(686.5705) Grad: 18577.2520 LR: 0.000016  \n",
      "Epoch: [8][2500/10164] Elapsed 0m 21s (remain 1m 5s) Loss: 68.4357(696.5143) Grad: 43906.2695 LR: 0.000016  \n",
      "Epoch: [8][3000/10164] Elapsed 0m 25s (remain 1m 0s) Loss: 43.2946(678.2794) Grad: 4161.3130 LR: 0.000016  \n",
      "Epoch: [8][3500/10164] Elapsed 0m 29s (remain 0m 56s) Loss: 92.2855(693.2141) Grad: 7117.9443 LR: 0.000016  \n",
      "Epoch: [8][4000/10164] Elapsed 0m 33s (remain 0m 52s) Loss: 129.7090(676.6916) Grad: 14013.0312 LR: 0.000016  \n",
      "Epoch: [8][4500/10164] Elapsed 0m 38s (remain 0m 48s) Loss: 87.3492(687.1524) Grad: 36196.0039 LR: 0.000016  \n",
      "Epoch: [8][5000/10164] Elapsed 0m 42s (remain 0m 43s) Loss: 613.2822(684.6038) Grad: 30233.1621 LR: 0.000016  \n",
      "Epoch: [8][5500/10164] Elapsed 0m 46s (remain 0m 39s) Loss: 149.8581(695.8699) Grad: 7842.6211 LR: 0.000016  \n",
      "Epoch: [8][6000/10164] Elapsed 0m 50s (remain 0m 35s) Loss: 26.2771(686.8064) Grad: 11093.1885 LR: 0.000016  \n",
      "Epoch: [8][6500/10164] Elapsed 0m 55s (remain 0m 30s) Loss: 722.5199(686.4175) Grad: 65426.0430 LR: 0.000016  \n",
      "Epoch: [8][7000/10164] Elapsed 0m 59s (remain 0m 26s) Loss: 20.3788(688.1919) Grad: 2099.7407 LR: 0.000016  \n",
      "Epoch: [8][7500/10164] Elapsed 1m 3s (remain 0m 22s) Loss: 230.7291(683.1572) Grad: 41999.4453 LR: 0.000016  \n",
      "Epoch: [8][8000/10164] Elapsed 1m 7s (remain 0m 18s) Loss: 51.7426(675.4171) Grad: 18325.1035 LR: 0.000016  \n",
      "Epoch: [8][8500/10164] Elapsed 1m 12s (remain 0m 14s) Loss: 64.2501(667.0448) Grad: 5569.1475 LR: 0.000016  \n",
      "Epoch: [8][9000/10164] Elapsed 1m 16s (remain 0m 9s) Loss: 68.8611(659.4135) Grad: 10543.6104 LR: 0.000016  \n",
      "Epoch: [8][9500/10164] Elapsed 1m 20s (remain 0m 5s) Loss: 70.9786(652.5958) Grad: 11698.5254 LR: 0.000016  \n",
      "Epoch: [8][10000/10164] Elapsed 1m 24s (remain 0m 1s) Loss: 153.8477(656.8611) Grad: 13612.8721 LR: 0.000016  \n",
      "Epoch: [8][10163/10164] Elapsed 1m 26s (remain 0m 0s) Loss: 111.4250(654.8920) Grad: 31416.2266 LR: 0.000016  \n",
      "EVAL: [0/1129] Elapsed 0m 0s (remain 1m 20s) Loss: 4830.2979(4830.2979) \n",
      "EVAL: [500/1129] Elapsed 0m 1s (remain 0m 2s) Loss: 1910.5247(690.1852) \n",
      "EVAL: [1000/1129] Elapsed 0m 3s (remain 0m 0s) Loss: 60.2272(642.6638) \n"
     ]
    },
    {
     "name": "stderr",
     "output_type": "stream",
     "text": [
      "Epoch 8 - avg_train_loss: 654.8920  avg_val_loss: 660.9274  time: 90s\n",
      "Epoch 8 - Score: 25.7085\n",
      "Validation loss Improved (691.3728615763894 ---> 660.9274019528606)\n",
      "Epoch 8 - Save Best Loss: 660.9274 Model\n"
     ]
    },
    {
     "name": "stdout",
     "output_type": "stream",
     "text": [
      "EVAL: [1128/1129] Elapsed 0m 3s (remain 0m 0s) Loss: 1511.3228(660.9274) \n",
      "Epoch: [9][0/10164] Elapsed 0m 0s (remain 18m 56s) Loss: 463.8806(463.8806) Grad: 97772.8203 LR: 0.000033  \n",
      "Epoch: [9][500/10164] Elapsed 0m 4s (remain 1m 22s) Loss: 106.3960(717.3681) Grad: 24228.3438 LR: 0.000033  \n",
      "Epoch: [9][1000/10164] Elapsed 0m 8s (remain 1m 17s) Loss: 438.9507(668.3732) Grad: 35056.1562 LR: 0.000033  \n",
      "Epoch: [9][1500/10164] Elapsed 0m 12s (remain 1m 13s) Loss: 3743.6436(687.6674) Grad: 19293.3672 LR: 0.000033  \n",
      "Epoch: [9][2000/10164] Elapsed 0m 16s (remain 1m 8s) Loss: 63.2268(656.7215) Grad: 28026.6973 LR: 0.000033  \n",
      "Epoch: [9][2500/10164] Elapsed 0m 21s (remain 1m 4s) Loss: 30.8912(665.2549) Grad: 17120.6445 LR: 0.000033  \n",
      "Epoch: [9][3000/10164] Elapsed 0m 25s (remain 1m 0s) Loss: 46.2309(647.2113) Grad: 7845.3979 LR: 0.000033  \n",
      "Epoch: [9][3500/10164] Elapsed 0m 29s (remain 0m 56s) Loss: 117.5652(660.7891) Grad: 6104.9390 LR: 0.000033  \n",
      "Epoch: [9][4000/10164] Elapsed 0m 33s (remain 0m 52s) Loss: 124.3108(644.9848) Grad: 12909.1709 LR: 0.000033  \n",
      "Epoch: [9][4500/10164] Elapsed 0m 38s (remain 0m 48s) Loss: 76.0062(653.9791) Grad: 10723.7500 LR: 0.000033  \n",
      "Epoch: [9][5000/10164] Elapsed 0m 42s (remain 0m 43s) Loss: 620.1730(650.7206) Grad: 19741.4902 LR: 0.000033  \n",
      "Epoch: [9][5500/10164] Elapsed 0m 46s (remain 0m 39s) Loss: 149.2056(660.6037) Grad: 11650.1055 LR: 0.000033  \n",
      "Epoch: [9][6000/10164] Elapsed 0m 51s (remain 0m 35s) Loss: 21.3499(651.4923) Grad: 9304.3779 LR: 0.000033  \n",
      "Epoch: [9][6500/10164] Elapsed 0m 55s (remain 0m 31s) Loss: 624.4606(650.2608) Grad: 62864.4961 LR: 0.000033  \n",
      "Epoch: [9][7000/10164] Elapsed 0m 59s (remain 0m 26s) Loss: 21.1093(650.9196) Grad: 4305.0386 LR: 0.000033  \n",
      "Epoch: [9][7500/10164] Elapsed 1m 3s (remain 0m 22s) Loss: 146.8606(645.7435) Grad: 18599.9453 LR: 0.000033  \n",
      "Epoch: [9][8000/10164] Elapsed 1m 7s (remain 0m 18s) Loss: 56.7140(637.9421) Grad: 25093.4570 LR: 0.000033  \n",
      "Epoch: [9][8500/10164] Elapsed 1m 12s (remain 0m 14s) Loss: 62.8872(629.9235) Grad: 7404.6255 LR: 0.000033  \n",
      "Epoch: [9][9000/10164] Elapsed 1m 16s (remain 0m 9s) Loss: 105.6006(622.5517) Grad: 20877.1172 LR: 0.000033  \n",
      "Epoch: [9][9500/10164] Elapsed 1m 20s (remain 0m 5s) Loss: 64.2147(615.8519) Grad: 6398.3730 LR: 0.000033  \n",
      "Epoch: [9][10000/10164] Elapsed 1m 25s (remain 0m 1s) Loss: 198.7517(619.2318) Grad: 37623.0195 LR: 0.000033  \n",
      "Epoch: [9][10163/10164] Elapsed 1m 26s (remain 0m 0s) Loss: 98.3090(617.3401) Grad: 20972.8301 LR: 0.000033  \n",
      "EVAL: [0/1129] Elapsed 0m 0s (remain 1m 22s) Loss: 4475.8374(4475.8374) \n",
      "EVAL: [500/1129] Elapsed 0m 1s (remain 0m 2s) Loss: 1767.1583(654.0951) \n",
      "EVAL: [1000/1129] Elapsed 0m 3s (remain 0m 0s) Loss: 96.6649(608.9745) \n"
     ]
    },
    {
     "name": "stderr",
     "output_type": "stream",
     "text": [
      "Epoch 9 - avg_train_loss: 617.3401  avg_val_loss: 624.1649  time: 90s\n",
      "Epoch 9 - Score: 24.9833\n",
      "Validation loss Improved (660.9274019528606 ---> 624.1648703744502)\n",
      "Epoch 9 - Save Best Loss: 624.1649 Model\n"
     ]
    },
    {
     "name": "stdout",
     "output_type": "stream",
     "text": [
      "EVAL: [1128/1129] Elapsed 0m 3s (remain 0m 0s) Loss: 1232.9540(624.1649) \n",
      "Epoch: [10][0/10164] Elapsed 0m 0s (remain 13m 17s) Loss: 323.6395(323.6395) Grad: 47004.7852 LR: 0.000055  \n",
      "Epoch: [10][500/10164] Elapsed 0m 4s (remain 1m 21s) Loss: 142.4480(658.1404) Grad: 44620.1914 LR: 0.000055  \n",
      "Epoch: [10][1000/10164] Elapsed 0m 8s (remain 1m 17s) Loss: 352.9122(618.0151) Grad: 43643.4609 LR: 0.000055  \n",
      "Epoch: [10][1500/10164] Elapsed 0m 12s (remain 1m 13s) Loss: 3356.6750(633.6616) Grad: 61482.2578 LR: 0.000055  \n",
      "Epoch: [10][2000/10164] Elapsed 0m 16s (remain 1m 9s) Loss: 52.1702(607.0153) Grad: 6167.6528 LR: 0.000055  \n",
      "Epoch: [10][2500/10164] Elapsed 0m 21s (remain 1m 4s) Loss: 72.4094(613.9199) Grad: 20230.0664 LR: 0.000055  \n",
      "Epoch: [10][3000/10164] Elapsed 0m 25s (remain 1m 0s) Loss: 68.0407(596.6910) Grad: 15281.5391 LR: 0.000055  \n",
      "Epoch: [10][3500/10164] Elapsed 0m 29s (remain 0m 56s) Loss: 125.1399(608.3403) Grad: 13800.9463 LR: 0.000055  \n",
      "Epoch: [10][4000/10164] Elapsed 0m 33s (remain 0m 51s) Loss: 120.7453(594.4970) Grad: 9990.0391 LR: 0.000055  \n",
      "Epoch: [10][4500/10164] Elapsed 0m 37s (remain 0m 47s) Loss: 69.8791(602.2505) Grad: 20758.7695 LR: 0.000055  \n",
      "Epoch: [10][5000/10164] Elapsed 0m 42s (remain 0m 43s) Loss: 636.5090(598.6822) Grad: 39349.0039 LR: 0.000055  \n",
      "Epoch: [10][5500/10164] Elapsed 0m 46s (remain 0m 39s) Loss: 150.6848(606.6626) Grad: 14411.5889 LR: 0.000055  \n",
      "Epoch: [10][6000/10164] Elapsed 0m 50s (remain 0m 35s) Loss: 23.0069(598.1073) Grad: 6726.4590 LR: 0.000055  \n",
      "Epoch: [10][6500/10164] Elapsed 0m 54s (remain 0m 30s) Loss: 714.2725(596.3185) Grad: 65438.5430 LR: 0.000055  \n",
      "Epoch: [10][7000/10164] Elapsed 0m 58s (remain 0m 26s) Loss: 24.6786(596.6748) Grad: 4929.2876 LR: 0.000055  \n",
      "Epoch: [10][7500/10164] Elapsed 1m 3s (remain 0m 22s) Loss: 221.2289(591.5468) Grad: 18429.5684 LR: 0.000055  \n",
      "Epoch: [10][8000/10164] Elapsed 1m 7s (remain 0m 18s) Loss: 59.0983(583.8803) Grad: 19516.6250 LR: 0.000055  \n",
      "Epoch: [10][8500/10164] Elapsed 1m 11s (remain 0m 13s) Loss: 63.3800(576.5067) Grad: 8439.6738 LR: 0.000055  \n",
      "Epoch: [10][9000/10164] Elapsed 1m 15s (remain 0m 9s) Loss: 109.9890(569.7467) Grad: 40418.0430 LR: 0.000055  \n",
      "Epoch: [10][9500/10164] Elapsed 1m 19s (remain 0m 5s) Loss: 74.8695(563.5943) Grad: 8015.1543 LR: 0.000055  \n",
      "Epoch: [10][10000/10164] Elapsed 1m 24s (remain 0m 1s) Loss: 161.9451(566.0276) Grad: 13408.4658 LR: 0.000055  \n",
      "Epoch: [10][10163/10164] Elapsed 1m 25s (remain 0m 0s) Loss: 103.9554(564.3039) Grad: 17762.1367 LR: 0.000055  \n",
      "EVAL: [0/1129] Elapsed 0m 0s (remain 1m 20s) Loss: 4057.9539(4057.9539) \n",
      "EVAL: [500/1129] Elapsed 0m 1s (remain 0m 2s) Loss: 1559.6720(635.6685) \n",
      "EVAL: [1000/1129] Elapsed 0m 3s (remain 0m 0s) Loss: 158.7277(592.7313) \n"
     ]
    },
    {
     "name": "stderr",
     "output_type": "stream",
     "text": [
      "Epoch 10 - avg_train_loss: 564.3039  avg_val_loss: 602.2709  time: 90s\n",
      "Epoch 10 - Score: 24.5412\n",
      "Validation loss Improved (624.1648703744502 ---> 602.2709482649977)\n",
      "Epoch 10 - Save Best Loss: 602.2709 Model\n"
     ]
    },
    {
     "name": "stdout",
     "output_type": "stream",
     "text": [
      "EVAL: [1128/1129] Elapsed 0m 3s (remain 0m 0s) Loss: 1012.2070(602.2709) \n",
      "Epoch: [11][0/10164] Elapsed 0m 0s (remain 13m 11s) Loss: 547.5485(547.5485) Grad: 103625.2734 LR: 0.000078  \n",
      "Epoch: [11][500/10164] Elapsed 0m 4s (remain 1m 24s) Loss: 136.5419(595.1458) Grad: 46753.6992 LR: 0.000078  \n",
      "Epoch: [11][1000/10164] Elapsed 0m 8s (remain 1m 19s) Loss: 339.1212(559.6506) Grad: 31603.8945 LR: 0.000078  \n",
      "Epoch: [11][1500/10164] Elapsed 0m 12s (remain 1m 14s) Loss: 2909.2500(573.0610) Grad: 95981.0078 LR: 0.000078  \n",
      "Epoch: [11][2000/10164] Elapsed 0m 17s (remain 1m 10s) Loss: 73.5220(551.5576) Grad: 15364.3857 LR: 0.000078  \n",
      "Epoch: [11][2500/10164] Elapsed 0m 21s (remain 1m 6s) Loss: 43.4473(556.0532) Grad: 22666.1445 LR: 0.000078  \n",
      "Epoch: [11][3000/10164] Elapsed 0m 25s (remain 1m 1s) Loss: 82.9510(540.0862) Grad: 10579.2822 LR: 0.000078  \n",
      "Epoch: [11][3500/10164] Elapsed 0m 30s (remain 0m 57s) Loss: 124.6727(549.7927) Grad: 10196.7139 LR: 0.000078  \n",
      "Epoch: [11][4000/10164] Elapsed 0m 34s (remain 0m 52s) Loss: 132.0708(538.8859) Grad: 12873.4473 LR: 0.000078  \n",
      "Epoch: [11][4500/10164] Elapsed 0m 38s (remain 0m 48s) Loss: 79.2871(548.0281) Grad: 9805.6719 LR: 0.000078  \n",
      "Epoch: [11][5000/10164] Elapsed 0m 42s (remain 0m 44s) Loss: 602.0010(545.8335) Grad: 67692.8672 LR: 0.000078  \n",
      "Epoch: [11][5500/10164] Elapsed 0m 47s (remain 0m 39s) Loss: 138.7971(554.5414) Grad: 20207.1699 LR: 0.000078  \n",
      "Epoch: [11][6000/10164] Elapsed 0m 51s (remain 0m 35s) Loss: 15.1690(547.3916) Grad: 1866.0471 LR: 0.000078  \n",
      "Epoch: [11][6500/10164] Elapsed 0m 55s (remain 0m 31s) Loss: 589.4634(546.2176) Grad: 30019.6152 LR: 0.000078  \n",
      "Epoch: [11][7000/10164] Elapsed 0m 59s (remain 0m 26s) Loss: 25.8049(547.1015) Grad: 8714.7373 LR: 0.000078  \n",
      "Epoch: [11][7500/10164] Elapsed 1m 3s (remain 0m 22s) Loss: 212.8433(542.7160) Grad: 32863.8984 LR: 0.000078  \n",
      "Epoch: [11][8000/10164] Elapsed 1m 7s (remain 0m 18s) Loss: 90.2864(535.9827) Grad: 24970.7773 LR: 0.000078  \n",
      "Epoch: [11][8500/10164] Elapsed 1m 12s (remain 0m 14s) Loss: 62.9810(529.3021) Grad: 7727.7168 LR: 0.000078  \n",
      "Epoch: [11][9000/10164] Elapsed 1m 16s (remain 0m 9s) Loss: 122.6708(523.4975) Grad: 48115.5859 LR: 0.000078  \n",
      "Epoch: [11][9500/10164] Elapsed 1m 20s (remain 0m 5s) Loss: 89.5041(518.1296) Grad: 9886.9473 LR: 0.000078  \n",
      "Epoch: [11][10000/10164] Elapsed 1m 24s (remain 0m 1s) Loss: 209.7354(520.4034) Grad: 31575.8477 LR: 0.000078  \n",
      "Epoch: [11][10163/10164] Elapsed 1m 26s (remain 0m 0s) Loss: 93.2426(518.9661) Grad: 13585.4189 LR: 0.000078  \n",
      "EVAL: [0/1129] Elapsed 0m 0s (remain 1m 22s) Loss: 3664.6523(3664.6523) \n",
      "EVAL: [500/1129] Elapsed 0m 1s (remain 0m 2s) Loss: 1418.7670(674.2486) \n",
      "EVAL: [1000/1129] Elapsed 0m 3s (remain 0m 0s) Loss: 219.0301(633.7132) \n"
     ]
    },
    {
     "name": "stderr",
     "output_type": "stream",
     "text": [
      "Epoch 11 - avg_train_loss: 518.9661  avg_val_loss: 634.3179  time: 90s\n",
      "Epoch 11 - Score: 25.1857\n"
     ]
    },
    {
     "name": "stdout",
     "output_type": "stream",
     "text": [
      "EVAL: [1128/1129] Elapsed 0m 3s (remain 0m 0s) Loss: 888.4169(634.3179) \n",
      "Epoch: [12][0/10164] Elapsed 0m 0s (remain 13m 28s) Loss: 492.3144(492.3144) Grad: 122152.5625 LR: 0.000094  \n",
      "Epoch: [12][500/10164] Elapsed 0m 4s (remain 1m 26s) Loss: 133.0464(547.4528) Grad: 21374.4961 LR: 0.000094  \n",
      "Epoch: [12][1000/10164] Elapsed 0m 8s (remain 1m 20s) Loss: 395.8583(517.1460) Grad: 40454.4375 LR: 0.000094  \n",
      "Epoch: [12][1500/10164] Elapsed 0m 13s (remain 1m 15s) Loss: 2604.4998(527.3530) Grad: 56734.5625 LR: 0.000094  \n",
      "Epoch: [12][2000/10164] Elapsed 0m 17s (remain 1m 10s) Loss: 102.0585(511.0607) Grad: 48569.1758 LR: 0.000094  \n",
      "Epoch: [12][2500/10164] Elapsed 0m 21s (remain 1m 5s) Loss: 48.5753(514.3035) Grad: 61089.0000 LR: 0.000094  \n",
      "Epoch: [12][3000/10164] Elapsed 0m 25s (remain 1m 1s) Loss: 66.1216(499.2648) Grad: 10062.2314 LR: 0.000094  \n",
      "Epoch: [12][3500/10164] Elapsed 0m 29s (remain 0m 56s) Loss: 112.0603(508.8380) Grad: 10243.7119 LR: 0.000094  \n",
      "Epoch: [12][4000/10164] Elapsed 0m 34s (remain 0m 52s) Loss: 118.9211(498.4232) Grad: 7742.7549 LR: 0.000094  \n",
      "Epoch: [12][4500/10164] Elapsed 0m 38s (remain 0m 48s) Loss: 93.2302(504.1727) Grad: 24253.0059 LR: 0.000094  \n",
      "Epoch: [12][5000/10164] Elapsed 0m 42s (remain 0m 44s) Loss: 599.4792(500.0305) Grad: 59237.3750 LR: 0.000094  \n",
      "Epoch: [12][5500/10164] Elapsed 0m 47s (remain 0m 40s) Loss: 131.8471(505.9321) Grad: 6775.0703 LR: 0.000094  \n",
      "Epoch: [12][6000/10164] Elapsed 0m 51s (remain 0m 35s) Loss: 20.2452(498.9018) Grad: 4900.8828 LR: 0.000094  \n",
      "Epoch: [12][6500/10164] Elapsed 0m 55s (remain 0m 31s) Loss: 773.1455(497.4072) Grad: 105678.5703 LR: 0.000094  \n",
      "Epoch: [12][7000/10164] Elapsed 1m 0s (remain 0m 27s) Loss: 24.1375(497.5310) Grad: 4931.0776 LR: 0.000094  \n",
      "Epoch: [12][7500/10164] Elapsed 1m 4s (remain 0m 22s) Loss: 170.6972(493.3369) Grad: 37443.5938 LR: 0.000094  \n",
      "Epoch: [12][8000/10164] Elapsed 1m 8s (remain 0m 18s) Loss: 53.1048(487.0597) Grad: 19143.6504 LR: 0.000094  \n",
      "Epoch: [12][8500/10164] Elapsed 1m 12s (remain 0m 14s) Loss: 56.4320(481.0106) Grad: 5113.5850 LR: 0.000094  \n",
      "Epoch: [12][9000/10164] Elapsed 1m 17s (remain 0m 9s) Loss: 128.7602(475.8563) Grad: 47718.3281 LR: 0.000094  \n",
      "Epoch: [12][9500/10164] Elapsed 1m 21s (remain 0m 5s) Loss: 78.1987(471.3621) Grad: 7402.7349 LR: 0.000094  \n",
      "Epoch: [12][10000/10164] Elapsed 1m 25s (remain 0m 1s) Loss: 208.3784(473.5164) Grad: 20845.4863 LR: 0.000094  \n",
      "Epoch: [12][10163/10164] Elapsed 1m 26s (remain 0m 0s) Loss: 94.8848(472.3589) Grad: 10070.1240 LR: 0.000094  \n",
      "EVAL: [0/1129] Elapsed 0m 0s (remain 1m 23s) Loss: 3251.0664(3251.0664) \n",
      "EVAL: [500/1129] Elapsed 0m 1s (remain 0m 2s) Loss: 1256.8046(581.7254) \n",
      "EVAL: [1000/1129] Elapsed 0m 3s (remain 0m 0s) Loss: 193.9795(544.3137) \n"
     ]
    },
    {
     "name": "stderr",
     "output_type": "stream",
     "text": [
      "Epoch 12 - avg_train_loss: 472.3589  avg_val_loss: 545.3641  time: 91s\n",
      "Epoch 12 - Score: 23.3530\n",
      "Validation loss Improved (602.2709482649977 ---> 545.3640622126534)\n",
      "Epoch 12 - Save Best Loss: 545.3641 Model\n"
     ]
    },
    {
     "name": "stdout",
     "output_type": "stream",
     "text": [
      "EVAL: [1128/1129] Elapsed 0m 3s (remain 0m 0s) Loss: 959.2753(545.3641) \n",
      "Epoch: [13][0/10164] Elapsed 0m 0s (remain 13m 11s) Loss: 436.0977(436.0977) Grad: 89065.0312 LR: 0.000100  \n",
      "Epoch: [13][500/10164] Elapsed 0m 4s (remain 1m 21s) Loss: 86.1112(489.8997) Grad: 11139.7148 LR: 0.000100  \n",
      "Epoch: [13][1000/10164] Elapsed 0m 8s (remain 1m 18s) Loss: 399.7372(463.9858) Grad: 54342.1289 LR: 0.000100  \n",
      "Epoch: [13][1500/10164] Elapsed 0m 12s (remain 1m 14s) Loss: 2136.7170(471.3767) Grad: 31705.8223 LR: 0.000100  \n",
      "Epoch: [13][2000/10164] Elapsed 0m 17s (remain 1m 9s) Loss: 75.0290(458.5846) Grad: 31921.0586 LR: 0.000100  \n",
      "Epoch: [13][2500/10164] Elapsed 0m 21s (remain 1m 5s) Loss: 45.5842(459.2761) Grad: 15659.6787 LR: 0.000100  \n",
      "Epoch: [13][3000/10164] Elapsed 0m 25s (remain 1m 1s) Loss: 59.0033(445.3076) Grad: 7280.1348 LR: 0.000100  \n",
      "Epoch: [13][3500/10164] Elapsed 0m 29s (remain 0m 56s) Loss: 113.7251(455.6932) Grad: 12710.2734 LR: 0.000100  \n",
      "Epoch: [13][4000/10164] Elapsed 0m 34s (remain 0m 52s) Loss: 123.6908(448.0764) Grad: 7187.6440 LR: 0.000100  \n",
      "Epoch: [13][4500/10164] Elapsed 0m 38s (remain 0m 48s) Loss: 91.6081(453.3351) Grad: 22919.5801 LR: 0.000100  \n",
      "Epoch: [13][5000/10164] Elapsed 0m 42s (remain 0m 43s) Loss: 629.4638(449.0271) Grad: 72725.4688 LR: 0.000100  \n",
      "Epoch: [13][5500/10164] Elapsed 0m 46s (remain 0m 39s) Loss: 138.6021(454.6265) Grad: 13495.8105 LR: 0.000100  \n",
      "Epoch: [13][6000/10164] Elapsed 0m 50s (remain 0m 35s) Loss: 22.1517(447.8945) Grad: 4001.4722 LR: 0.000100  \n",
      "Epoch: [13][6500/10164] Elapsed 0m 55s (remain 0m 31s) Loss: 560.3274(446.1540) Grad: 42511.8945 LR: 0.000100  \n",
      "Epoch: [13][7000/10164] Elapsed 0m 59s (remain 0m 26s) Loss: 23.4635(446.1107) Grad: 5059.7583 LR: 0.000100  \n",
      "Epoch: [13][7500/10164] Elapsed 1m 3s (remain 0m 22s) Loss: 185.5732(442.1475) Grad: 22450.4102 LR: 0.000100  \n",
      "Epoch: [13][8000/10164] Elapsed 1m 7s (remain 0m 18s) Loss: 49.7786(436.5077) Grad: 15966.6807 LR: 0.000100  \n",
      "Epoch: [13][8500/10164] Elapsed 1m 12s (remain 0m 14s) Loss: 59.5790(431.2558) Grad: 6115.8442 LR: 0.000100  \n",
      "Epoch: [13][9000/10164] Elapsed 1m 16s (remain 0m 9s) Loss: 90.6159(427.2048) Grad: 17269.3203 LR: 0.000100  \n",
      "Epoch: [13][9500/10164] Elapsed 1m 20s (remain 0m 5s) Loss: 78.2884(423.3707) Grad: 7883.9575 LR: 0.000100  \n",
      "Epoch: [13][10000/10164] Elapsed 1m 25s (remain 0m 1s) Loss: 189.1979(425.4864) Grad: 15002.7490 LR: 0.000100  \n",
      "Epoch: [13][10163/10164] Elapsed 1m 26s (remain 0m 0s) Loss: 102.1069(424.4895) Grad: 11927.0449 LR: 0.000100  \n",
      "EVAL: [0/1129] Elapsed 0m 0s (remain 1m 22s) Loss: 3018.4946(3018.4946) \n",
      "EVAL: [500/1129] Elapsed 0m 1s (remain 0m 2s) Loss: 1087.7410(559.7428) \n",
      "EVAL: [1000/1129] Elapsed 0m 3s (remain 0m 0s) Loss: 218.3221(529.2647) \n"
     ]
    },
    {
     "name": "stderr",
     "output_type": "stream",
     "text": [
      "Epoch 13 - avg_train_loss: 424.4895  avg_val_loss: 526.2889  time: 90s\n",
      "Epoch 13 - Score: 22.9410\n",
      "Validation loss Improved (545.3640622126534 ---> 526.2888786596798)\n",
      "Epoch 13 - Save Best Loss: 526.2889 Model\n"
     ]
    },
    {
     "name": "stdout",
     "output_type": "stream",
     "text": [
      "EVAL: [1128/1129] Elapsed 0m 3s (remain 0m 0s) Loss: 1011.3420(526.2889) \n",
      "Epoch: [14][0/10164] Elapsed 0m 0s (remain 13m 33s) Loss: 530.4269(530.4269) Grad: 161958.4844 LR: 0.000094  \n",
      "Epoch: [14][500/10164] Elapsed 0m 4s (remain 1m 23s) Loss: 91.7901(438.8694) Grad: 8810.3408 LR: 0.000094  \n",
      "Epoch: [14][1000/10164] Elapsed 0m 8s (remain 1m 18s) Loss: 388.8921(417.6057) Grad: 65220.9570 LR: 0.000094  \n",
      "Epoch: [14][1500/10164] Elapsed 0m 12s (remain 1m 14s) Loss: 1717.9104(425.4959) Grad: 33914.4375 LR: 0.000094  \n",
      "Epoch: [14][2000/10164] Elapsed 0m 17s (remain 1m 9s) Loss: 76.6090(418.5075) Grad: 9420.5254 LR: 0.000094  \n",
      "Epoch: [14][2500/10164] Elapsed 0m 21s (remain 1m 5s) Loss: 68.9512(418.7901) Grad: 58030.9648 LR: 0.000094  \n",
      "Epoch: [14][3000/10164] Elapsed 0m 25s (remain 1m 1s) Loss: 62.5862(405.1867) Grad: 7613.2549 LR: 0.000094  \n",
      "Epoch: [14][3500/10164] Elapsed 0m 29s (remain 0m 56s) Loss: 119.3447(414.8596) Grad: 18970.3438 LR: 0.000094  \n",
      "Epoch: [14][4000/10164] Elapsed 0m 34s (remain 0m 52s) Loss: 106.9422(407.8796) Grad: 6337.4683 LR: 0.000094  \n",
      "Epoch: [14][4500/10164] Elapsed 0m 38s (remain 0m 48s) Loss: 113.7449(412.7822) Grad: 33135.9297 LR: 0.000094  \n",
      "Epoch: [14][5000/10164] Elapsed 0m 42s (remain 0m 44s) Loss: 511.9573(408.7612) Grad: 55136.7891 LR: 0.000094  \n",
      "Epoch: [14][5500/10164] Elapsed 0m 47s (remain 0m 39s) Loss: 173.4582(414.2281) Grad: 18206.2129 LR: 0.000094  \n",
      "Epoch: [14][6000/10164] Elapsed 0m 51s (remain 0m 35s) Loss: 17.8760(408.3529) Grad: 3080.9717 LR: 0.000094  \n",
      "Epoch: [14][6500/10164] Elapsed 0m 55s (remain 0m 31s) Loss: 706.0107(407.0024) Grad: 58524.1250 LR: 0.000094  \n",
      "Epoch: [14][7000/10164] Elapsed 0m 59s (remain 0m 27s) Loss: 23.6271(407.3669) Grad: 8436.4570 LR: 0.000094  \n",
      "Epoch: [14][7500/10164] Elapsed 1m 4s (remain 0m 22s) Loss: 143.0153(404.4863) Grad: 24843.2598 LR: 0.000094  \n",
      "Epoch: [14][8000/10164] Elapsed 1m 8s (remain 0m 18s) Loss: 53.8335(399.7463) Grad: 17971.6484 LR: 0.000094  \n",
      "Epoch: [14][8500/10164] Elapsed 1m 12s (remain 0m 14s) Loss: 62.4541(395.4666) Grad: 5750.4448 LR: 0.000094  \n",
      "Epoch: [14][9000/10164] Elapsed 1m 16s (remain 0m 9s) Loss: 74.4026(392.2118) Grad: 14478.5391 LR: 0.000094  \n",
      "Epoch: [14][9500/10164] Elapsed 1m 21s (remain 0m 5s) Loss: 66.6929(389.0744) Grad: 6148.4438 LR: 0.000094  \n",
      "Epoch: [14][10000/10164] Elapsed 1m 25s (remain 0m 1s) Loss: 188.2338(391.3392) Grad: 20025.2559 LR: 0.000094  \n",
      "Epoch: [14][10163/10164] Elapsed 1m 26s (remain 0m 0s) Loss: 103.0880(390.4766) Grad: 14635.1709 LR: 0.000094  \n",
      "EVAL: [0/1129] Elapsed 0m 0s (remain 1m 21s) Loss: 2828.2676(2828.2676) \n",
      "EVAL: [500/1129] Elapsed 0m 1s (remain 0m 2s) Loss: 1039.4355(526.5131) \n",
      "EVAL: [1000/1129] Elapsed 0m 3s (remain 0m 0s) Loss: 167.8727(497.2030) \n"
     ]
    },
    {
     "name": "stderr",
     "output_type": "stream",
     "text": [
      "Epoch 14 - avg_train_loss: 390.4766  avg_val_loss: 493.8622  time: 91s\n",
      "Epoch 14 - Score: 22.2230\n",
      "Validation loss Improved (526.2888786596798 ---> 493.8622454249062)\n",
      "Epoch 14 - Save Best Loss: 493.8622 Model\n"
     ]
    },
    {
     "name": "stdout",
     "output_type": "stream",
     "text": [
      "EVAL: [1128/1129] Elapsed 0m 3s (remain 0m 0s) Loss: 880.6682(493.8622) \n",
      "Epoch: [15][0/10164] Elapsed 0m 0s (remain 13m 20s) Loss: 402.6425(402.6425) Grad: 39619.7891 LR: 0.000078  \n",
      "Epoch: [15][500/10164] Elapsed 0m 4s (remain 1m 28s) Loss: 99.9635(413.7432) Grad: 14955.2295 LR: 0.000078  \n",
      "Epoch: [15][1000/10164] Elapsed 0m 8s (remain 1m 20s) Loss: 381.1761(395.2884) Grad: 73172.4453 LR: 0.000078  \n",
      "Epoch: [15][1500/10164] Elapsed 0m 13s (remain 1m 16s) Loss: 1440.2382(400.9174) Grad: 45351.0898 LR: 0.000078  \n",
      "Epoch: [15][2000/10164] Elapsed 0m 17s (remain 1m 11s) Loss: 58.8074(393.8980) Grad: 6876.0117 LR: 0.000078  \n",
      "Epoch: [15][2500/10164] Elapsed 0m 22s (remain 1m 8s) Loss: 33.1357(392.5138) Grad: 16081.3525 LR: 0.000078  \n",
      "Epoch: [15][3000/10164] Elapsed 0m 26s (remain 1m 4s) Loss: 56.7088(380.2162) Grad: 7353.7310 LR: 0.000078  \n",
      "Epoch: [15][3500/10164] Elapsed 0m 31s (remain 0m 59s) Loss: 126.1424(389.0299) Grad: 8090.6260 LR: 0.000078  \n",
      "Epoch: [15][4000/10164] Elapsed 0m 35s (remain 0m 54s) Loss: 100.2955(383.8682) Grad: 8971.1221 LR: 0.000078  \n",
      "Epoch: [15][4500/10164] Elapsed 0m 39s (remain 0m 50s) Loss: 133.0375(388.5274) Grad: 46565.3945 LR: 0.000078  \n",
      "Epoch: [15][5000/10164] Elapsed 0m 44s (remain 0m 45s) Loss: 531.8211(384.4632) Grad: 73892.7812 LR: 0.000078  \n",
      "Epoch: [15][5500/10164] Elapsed 0m 48s (remain 0m 41s) Loss: 156.4226(389.4248) Grad: 12356.3535 LR: 0.000078  \n",
      "Epoch: [15][6000/10164] Elapsed 0m 52s (remain 0m 36s) Loss: 24.9710(383.8450) Grad: 4976.0010 LR: 0.000078  \n",
      "Epoch: [15][6500/10164] Elapsed 0m 56s (remain 0m 32s) Loss: 651.7706(382.6703) Grad: 28980.2461 LR: 0.000078  \n",
      "Epoch: [15][7000/10164] Elapsed 1m 1s (remain 0m 27s) Loss: 24.0044(382.7164) Grad: 5144.9399 LR: 0.000078  \n",
      "Epoch: [15][7500/10164] Elapsed 1m 5s (remain 0m 23s) Loss: 161.7392(380.1259) Grad: 34527.3828 LR: 0.000078  \n",
      "Epoch: [15][8000/10164] Elapsed 1m 9s (remain 0m 18s) Loss: 48.4146(375.5871) Grad: 17813.5957 LR: 0.000078  \n",
      "Epoch: [15][8500/10164] Elapsed 1m 14s (remain 0m 14s) Loss: 62.1534(371.5865) Grad: 6738.2646 LR: 0.000078  \n",
      "Epoch: [15][9000/10164] Elapsed 1m 18s (remain 0m 10s) Loss: 46.6924(368.7439) Grad: 5428.9736 LR: 0.000078  \n",
      "Epoch: [15][9500/10164] Elapsed 1m 22s (remain 0m 5s) Loss: 73.4143(366.0242) Grad: 5738.9995 LR: 0.000078  \n",
      "Epoch: [15][10000/10164] Elapsed 1m 26s (remain 0m 1s) Loss: 162.5510(368.6719) Grad: 22227.4883 LR: 0.000078  \n",
      "Epoch: [15][10163/10164] Elapsed 1m 28s (remain 0m 0s) Loss: 94.3269(368.0299) Grad: 12753.2432 LR: 0.000078  \n",
      "EVAL: [0/1129] Elapsed 0m 0s (remain 1m 23s) Loss: 2737.5720(2737.5720) \n",
      "EVAL: [500/1129] Elapsed 0m 1s (remain 0m 2s) Loss: 962.1375(501.9675) \n",
      "EVAL: [1000/1129] Elapsed 0m 3s (remain 0m 0s) Loss: 197.3006(475.3960) \n"
     ]
    },
    {
     "name": "stderr",
     "output_type": "stream",
     "text": [
      "Epoch 15 - avg_train_loss: 368.0299  avg_val_loss: 472.4685  time: 92s\n",
      "Epoch 15 - Score: 21.7363\n",
      "Validation loss Improved (493.8622454249062 ---> 472.4684971330925)\n",
      "Epoch 15 - Save Best Loss: 472.4685 Model\n"
     ]
    },
    {
     "name": "stdout",
     "output_type": "stream",
     "text": [
      "EVAL: [1128/1129] Elapsed 0m 3s (remain 0m 0s) Loss: 1008.3973(472.4685) \n",
      "Epoch: [16][0/10164] Elapsed 0m 0s (remain 13m 20s) Loss: 384.5042(384.5042) Grad: 57769.0352 LR: 0.000055  \n",
      "Epoch: [16][500/10164] Elapsed 0m 4s (remain 1m 22s) Loss: 90.4985(393.6697) Grad: 16283.0684 LR: 0.000055  \n",
      "Epoch: [16][1000/10164] Elapsed 0m 8s (remain 1m 20s) Loss: 428.5922(375.6271) Grad: 50694.6172 LR: 0.000055  \n",
      "Epoch: [16][1500/10164] Elapsed 0m 13s (remain 1m 15s) Loss: 1461.9946(382.1181) Grad: 32270.1230 LR: 0.000055  \n",
      "Epoch: [16][2000/10164] Elapsed 0m 17s (remain 1m 10s) Loss: 67.7328(376.8650) Grad: 30237.6641 LR: 0.000055  \n",
      "Epoch: [16][2500/10164] Elapsed 0m 21s (remain 1m 5s) Loss: 46.5136(374.3921) Grad: 37293.9336 LR: 0.000055  \n",
      "Epoch: [16][3000/10164] Elapsed 0m 25s (remain 1m 1s) Loss: 98.4741(362.8023) Grad: 27911.5059 LR: 0.000055  \n",
      "Epoch: [16][3500/10164] Elapsed 0m 29s (remain 0m 56s) Loss: 112.3038(372.0743) Grad: 6128.9893 LR: 0.000055  \n",
      "Epoch: [16][4000/10164] Elapsed 0m 34s (remain 0m 52s) Loss: 101.0215(368.0236) Grad: 7234.9111 LR: 0.000055  \n",
      "Epoch: [16][4500/10164] Elapsed 0m 38s (remain 0m 48s) Loss: 80.7964(372.3059) Grad: 34414.9609 LR: 0.000055  \n",
      "Epoch: [16][5000/10164] Elapsed 0m 42s (remain 0m 44s) Loss: 553.2306(367.9810) Grad: 55949.4531 LR: 0.000055  \n",
      "Epoch: [16][5500/10164] Elapsed 0m 46s (remain 0m 39s) Loss: 161.2962(373.3227) Grad: 24413.1484 LR: 0.000055  \n",
      "Epoch: [16][6000/10164] Elapsed 0m 51s (remain 0m 35s) Loss: 23.3672(367.5794) Grad: 4933.8418 LR: 0.000055  \n",
      "Epoch: [16][6500/10164] Elapsed 0m 55s (remain 0m 31s) Loss: 696.4778(366.3971) Grad: 50854.8203 LR: 0.000055  \n",
      "Epoch: [16][7000/10164] Elapsed 0m 59s (remain 0m 26s) Loss: 17.4325(366.2988) Grad: 3044.9587 LR: 0.000055  \n",
      "Epoch: [16][7500/10164] Elapsed 1m 3s (remain 0m 22s) Loss: 194.1259(363.9123) Grad: 37640.1758 LR: 0.000055  \n",
      "Epoch: [16][8000/10164] Elapsed 1m 8s (remain 0m 18s) Loss: 46.0986(359.4847) Grad: 13681.6035 LR: 0.000055  \n",
      "Epoch: [16][8500/10164] Elapsed 1m 12s (remain 0m 14s) Loss: 63.8181(355.6738) Grad: 5320.5669 LR: 0.000055  \n",
      "Epoch: [16][9000/10164] Elapsed 1m 16s (remain 0m 9s) Loss: 59.2917(353.1920) Grad: 12043.4189 LR: 0.000055  \n",
      "Epoch: [16][9500/10164] Elapsed 1m 20s (remain 0m 5s) Loss: 76.3046(350.7945) Grad: 5730.6689 LR: 0.000055  \n",
      "Epoch: [16][10000/10164] Elapsed 1m 25s (remain 0m 1s) Loss: 191.3168(353.0140) Grad: 20625.3105 LR: 0.000055  \n",
      "Epoch: [16][10163/10164] Elapsed 1m 26s (remain 0m 0s) Loss: 110.3637(352.4172) Grad: 7442.5913 LR: 0.000055  \n",
      "EVAL: [0/1129] Elapsed 0m 0s (remain 1m 21s) Loss: 2869.9680(2869.9680) \n",
      "EVAL: [500/1129] Elapsed 0m 1s (remain 0m 2s) Loss: 937.5702(443.5215) \n",
      "EVAL: [1000/1129] Elapsed 0m 3s (remain 0m 0s) Loss: 121.4433(419.0902) \n"
     ]
    },
    {
     "name": "stderr",
     "output_type": "stream",
     "text": [
      "Epoch 16 - avg_train_loss: 352.4172  avg_val_loss: 419.9780  time: 91s\n",
      "Epoch 16 - Score: 20.4934\n",
      "Validation loss Improved (472.4684971330925 ---> 419.9780480649987)\n",
      "Epoch 16 - Save Best Loss: 419.9780 Model\n"
     ]
    },
    {
     "name": "stdout",
     "output_type": "stream",
     "text": [
      "EVAL: [1128/1129] Elapsed 0m 3s (remain 0m 0s) Loss: 1189.7271(419.9780) \n",
      "Epoch: [17][0/10164] Elapsed 0m 0s (remain 13m 19s) Loss: 392.5846(392.5846) Grad: 53431.6211 LR: 0.000033  \n",
      "Epoch: [17][500/10164] Elapsed 0m 4s (remain 1m 22s) Loss: 93.9907(379.8647) Grad: 10964.6318 LR: 0.000033  \n",
      "Epoch: [17][1000/10164] Elapsed 0m 8s (remain 1m 18s) Loss: 404.6862(363.9316) Grad: 45357.0586 LR: 0.000033  \n",
      "Epoch: [17][1500/10164] Elapsed 0m 12s (remain 1m 13s) Loss: 1293.1738(369.0390) Grad: 113559.4453 LR: 0.000033  \n",
      "Epoch: [17][2000/10164] Elapsed 0m 16s (remain 1m 9s) Loss: 58.0174(364.4544) Grad: 22427.8262 LR: 0.000033  \n",
      "Epoch: [17][2500/10164] Elapsed 0m 21s (remain 1m 4s) Loss: 36.4341(362.4425) Grad: 31346.9824 LR: 0.000033  \n",
      "Epoch: [17][3000/10164] Elapsed 0m 25s (remain 1m 0s) Loss: 78.0143(350.7134) Grad: 23243.5391 LR: 0.000033  \n",
      "Epoch: [17][3500/10164] Elapsed 0m 29s (remain 0m 56s) Loss: 119.0822(360.3535) Grad: 17139.0859 LR: 0.000033  \n",
      "Epoch: [17][4000/10164] Elapsed 0m 34s (remain 0m 52s) Loss: 107.9752(355.3029) Grad: 6306.1904 LR: 0.000033  \n",
      "Epoch: [17][4500/10164] Elapsed 0m 38s (remain 0m 48s) Loss: 124.5926(359.4652) Grad: 45087.8242 LR: 0.000033  \n",
      "Epoch: [17][5000/10164] Elapsed 0m 42s (remain 0m 44s) Loss: 594.5225(355.4988) Grad: 49238.8984 LR: 0.000033  \n",
      "Epoch: [17][5500/10164] Elapsed 0m 47s (remain 0m 39s) Loss: 157.3629(360.4569) Grad: 13170.1230 LR: 0.000033  \n",
      "Epoch: [17][6000/10164] Elapsed 0m 51s (remain 0m 35s) Loss: 22.5069(355.3381) Grad: 5017.5996 LR: 0.000033  \n",
      "Epoch: [17][6500/10164] Elapsed 0m 55s (remain 0m 31s) Loss: 694.7903(354.1890) Grad: 49793.5977 LR: 0.000033  \n",
      "Epoch: [17][7000/10164] Elapsed 1m 0s (remain 0m 27s) Loss: 20.8535(354.1486) Grad: 4720.0415 LR: 0.000033  \n",
      "Epoch: [17][7500/10164] Elapsed 1m 4s (remain 0m 22s) Loss: 167.1094(352.1112) Grad: 38116.2930 LR: 0.000033  \n",
      "Epoch: [17][8000/10164] Elapsed 1m 8s (remain 0m 18s) Loss: 48.3731(348.0019) Grad: 13995.5840 LR: 0.000033  \n",
      "Epoch: [17][8500/10164] Elapsed 1m 12s (remain 0m 14s) Loss: 56.9431(344.4424) Grad: 5506.9170 LR: 0.000033  \n",
      "Epoch: [17][9000/10164] Elapsed 1m 17s (remain 0m 9s) Loss: 40.9073(342.0638) Grad: 5425.8857 LR: 0.000033  \n",
      "Epoch: [17][9500/10164] Elapsed 1m 21s (remain 0m 5s) Loss: 69.7328(339.8401) Grad: 8714.4434 LR: 0.000033  \n",
      "Epoch: [17][10000/10164] Elapsed 1m 26s (remain 0m 1s) Loss: 181.3438(341.9085) Grad: 20865.1777 LR: 0.000033  \n",
      "Epoch: [17][10163/10164] Elapsed 1m 27s (remain 0m 0s) Loss: 99.6074(341.3845) Grad: 10884.2939 LR: 0.000033  \n",
      "EVAL: [0/1129] Elapsed 0m 0s (remain 1m 20s) Loss: 2791.9741(2791.9741) \n",
      "EVAL: [500/1129] Elapsed 0m 1s (remain 0m 2s) Loss: 914.3809(387.0107) \n",
      "EVAL: [1000/1129] Elapsed 0m 3s (remain 0m 0s) Loss: 87.5380(366.8168) \n"
     ]
    },
    {
     "name": "stderr",
     "output_type": "stream",
     "text": [
      "Epoch 17 - avg_train_loss: 341.3845  avg_val_loss: 371.6201  time: 91s\n",
      "Epoch 17 - Score: 19.2775\n",
      "Validation loss Improved (419.9780480649987 ---> 371.62008279044693)\n",
      "Epoch 17 - Save Best Loss: 371.6201 Model\n"
     ]
    },
    {
     "name": "stdout",
     "output_type": "stream",
     "text": [
      "EVAL: [1128/1129] Elapsed 0m 3s (remain 0m 0s) Loss: 1375.8511(371.6201) \n",
      "Epoch: [18][0/10164] Elapsed 0m 0s (remain 13m 59s) Loss: 363.7701(363.7701) Grad: 26408.1523 LR: 0.000016  \n",
      "Epoch: [18][500/10164] Elapsed 0m 4s (remain 1m 22s) Loss: 73.1480(372.0603) Grad: 8377.4551 LR: 0.000016  \n",
      "Epoch: [18][1000/10164] Elapsed 0m 8s (remain 1m 17s) Loss: 449.7027(356.9417) Grad: 45012.7852 LR: 0.000016  \n",
      "Epoch: [18][1500/10164] Elapsed 0m 12s (remain 1m 13s) Loss: 1147.0018(361.2387) Grad: 175569.4219 LR: 0.000016  \n",
      "Epoch: [18][2000/10164] Elapsed 0m 16s (remain 1m 9s) Loss: 56.1767(357.9128) Grad: 17537.9688 LR: 0.000016  \n",
      "Epoch: [18][2500/10164] Elapsed 0m 21s (remain 1m 5s) Loss: 79.4172(354.6075) Grad: 71207.9531 LR: 0.000016  \n",
      "Epoch: [18][3000/10164] Elapsed 0m 25s (remain 1m 0s) Loss: 53.3690(343.3686) Grad: 8769.7275 LR: 0.000016  \n",
      "Epoch: [18][3500/10164] Elapsed 0m 29s (remain 0m 56s) Loss: 123.9542(353.1565) Grad: 16840.6328 LR: 0.000016  \n",
      "Epoch: [18][4000/10164] Elapsed 0m 34s (remain 0m 52s) Loss: 110.2926(348.2105) Grad: 5803.2124 LR: 0.000016  \n",
      "Epoch: [18][4500/10164] Elapsed 0m 38s (remain 0m 48s) Loss: 112.6941(352.5346) Grad: 55114.6719 LR: 0.000016  \n",
      "Epoch: [18][5000/10164] Elapsed 0m 42s (remain 0m 44s) Loss: 509.5229(348.3780) Grad: 54977.3281 LR: 0.000016  \n",
      "Epoch: [18][5500/10164] Elapsed 0m 46s (remain 0m 39s) Loss: 130.4105(353.5531) Grad: 5805.0332 LR: 0.000016  \n",
      "Epoch: [18][6000/10164] Elapsed 0m 51s (remain 0m 35s) Loss: 23.9208(348.3009) Grad: 5429.9561 LR: 0.000016  \n",
      "Epoch: [18][6500/10164] Elapsed 0m 55s (remain 0m 31s) Loss: 719.5423(347.1299) Grad: 51470.2461 LR: 0.000016  \n",
      "Epoch: [18][7000/10164] Elapsed 0m 59s (remain 0m 27s) Loss: 23.0682(347.2650) Grad: 5651.3931 LR: 0.000016  \n",
      "Epoch: [18][7500/10164] Elapsed 1m 4s (remain 0m 22s) Loss: 200.8805(345.3457) Grad: 55316.6797 LR: 0.000016  \n",
      "Epoch: [18][8000/10164] Elapsed 1m 8s (remain 0m 18s) Loss: 36.2016(341.2540) Grad: 12601.6621 LR: 0.000016  \n",
      "Epoch: [18][8500/10164] Elapsed 1m 12s (remain 0m 14s) Loss: 61.0005(337.9686) Grad: 6322.6426 LR: 0.000016  \n",
      "Epoch: [18][9000/10164] Elapsed 1m 17s (remain 0m 9s) Loss: 30.3951(335.7882) Grad: 3026.2434 LR: 0.000016  \n",
      "Epoch: [18][9500/10164] Elapsed 1m 21s (remain 0m 5s) Loss: 74.3196(333.4188) Grad: 8054.1270 LR: 0.000016  \n",
      "Epoch: [18][10000/10164] Elapsed 1m 25s (remain 0m 1s) Loss: 186.1885(335.5118) Grad: 24384.8496 LR: 0.000016  \n",
      "Epoch: [18][10163/10164] Elapsed 1m 26s (remain 0m 0s) Loss: 110.3543(334.9630) Grad: 15598.4463 LR: 0.000016  \n",
      "EVAL: [0/1129] Elapsed 0m 0s (remain 1m 20s) Loss: 3031.3630(3031.3630) \n",
      "EVAL: [500/1129] Elapsed 0m 1s (remain 0m 2s) Loss: 891.3129(350.6677) \n",
      "EVAL: [1000/1129] Elapsed 0m 3s (remain 0m 0s) Loss: 54.0870(331.3965) \n"
     ]
    },
    {
     "name": "stderr",
     "output_type": "stream",
     "text": [
      "Epoch 18 - avg_train_loss: 334.9630  avg_val_loss: 339.5615  time: 91s\n",
      "Epoch 18 - Score: 18.4272\n",
      "Validation loss Improved (371.62008279044693 ---> 339.5615465626029)\n",
      "Epoch 18 - Save Best Loss: 339.5615 Model\n"
     ]
    },
    {
     "name": "stdout",
     "output_type": "stream",
     "text": [
      "EVAL: [1128/1129] Elapsed 0m 3s (remain 0m 0s) Loss: 1608.8259(339.5615) \n",
      "Epoch: [19][0/10164] Elapsed 0m 0s (remain 14m 0s) Loss: 313.4641(313.4641) Grad: 43698.2852 LR: 0.000010  \n",
      "Epoch: [19][500/10164] Elapsed 0m 4s (remain 1m 22s) Loss: 74.8307(368.0368) Grad: 12914.6055 LR: 0.000010  \n",
      "Epoch: [19][1000/10164] Elapsed 0m 8s (remain 1m 18s) Loss: 475.3500(352.1935) Grad: 45233.0742 LR: 0.000010  \n",
      "Epoch: [19][1500/10164] Elapsed 0m 12s (remain 1m 13s) Loss: 1181.9938(356.7262) Grad: 85544.2031 LR: 0.000010  \n",
      "Epoch: [19][2000/10164] Elapsed 0m 16s (remain 1m 9s) Loss: 51.5345(353.2782) Grad: 27911.4785 LR: 0.000010  \n",
      "Epoch: [19][2500/10164] Elapsed 0m 21s (remain 1m 5s) Loss: 72.5409(350.7326) Grad: 77578.1094 LR: 0.000010  \n",
      "Epoch: [19][3000/10164] Elapsed 0m 25s (remain 1m 1s) Loss: 51.7730(339.5029) Grad: 3510.9143 LR: 0.000010  \n",
      "Epoch: [19][3500/10164] Elapsed 0m 29s (remain 0m 56s) Loss: 104.0547(348.5988) Grad: 10540.6025 LR: 0.000010  \n",
      "Epoch: [19][4000/10164] Elapsed 0m 34s (remain 0m 52s) Loss: 107.8663(343.5583) Grad: 5620.3970 LR: 0.000010  \n",
      "Epoch: [19][4500/10164] Elapsed 0m 38s (remain 0m 47s) Loss: 101.7257(347.8920) Grad: 39396.7109 LR: 0.000010  \n",
      "Epoch: [19][5000/10164] Elapsed 0m 42s (remain 0m 43s) Loss: 472.4465(343.9454) Grad: 38861.3945 LR: 0.000010  \n",
      "Epoch: [19][5500/10164] Elapsed 0m 46s (remain 0m 39s) Loss: 135.4428(349.0669) Grad: 7642.1118 LR: 0.000010  \n",
      "Epoch: [19][6000/10164] Elapsed 0m 50s (remain 0m 35s) Loss: 21.1755(343.7873) Grad: 3824.2644 LR: 0.000010  \n",
      "Epoch: [19][6500/10164] Elapsed 0m 55s (remain 0m 31s) Loss: 669.9554(342.7560) Grad: 62362.4375 LR: 0.000010  \n",
      "Epoch: [19][7000/10164] Elapsed 0m 59s (remain 0m 26s) Loss: 19.7669(342.9263) Grad: 3932.2607 LR: 0.000010  \n",
      "Epoch: [19][7500/10164] Elapsed 1m 3s (remain 0m 22s) Loss: 163.9783(340.8579) Grad: 35761.1211 LR: 0.000010  \n",
      "Epoch: [19][8000/10164] Elapsed 1m 8s (remain 0m 18s) Loss: 27.9581(336.9825) Grad: 10629.3105 LR: 0.000010  \n",
      "Epoch: [19][8500/10164] Elapsed 1m 12s (remain 0m 14s) Loss: 60.5230(333.8072) Grad: 6236.0835 LR: 0.000010  \n",
      "Epoch: [19][9000/10164] Elapsed 1m 16s (remain 0m 9s) Loss: 33.8171(331.8781) Grad: 6948.0537 LR: 0.000010  \n",
      "Epoch: [19][9500/10164] Elapsed 1m 20s (remain 0m 5s) Loss: 66.7738(329.6788) Grad: 3839.5811 LR: 0.000010  \n",
      "Epoch: [19][10000/10164] Elapsed 1m 25s (remain 0m 1s) Loss: 181.4689(331.7800) Grad: 15278.6816 LR: 0.000010  \n",
      "Epoch: [19][10163/10164] Elapsed 1m 26s (remain 0m 0s) Loss: 80.6487(331.1715) Grad: 11388.2217 LR: 0.000010  \n",
      "EVAL: [0/1129] Elapsed 0m 0s (remain 1m 24s) Loss: 2889.7930(2889.7930) \n",
      "EVAL: [500/1129] Elapsed 0m 1s (remain 0m 1s) Loss: 865.7135(345.3168) \n",
      "EVAL: [1000/1129] Elapsed 0m 3s (remain 0m 0s) Loss: 51.4061(326.5028) \n"
     ]
    },
    {
     "name": "stderr",
     "output_type": "stream",
     "text": [
      "Epoch 19 - avg_train_loss: 331.1715  avg_val_loss: 334.5272  time: 90s\n",
      "Epoch 19 - Score: 18.2901\n",
      "Validation loss Improved (339.5615465626029 ---> 334.52719352707584)\n",
      "Epoch 19 - Save Best Loss: 334.5272 Model\n"
     ]
    },
    {
     "name": "stdout",
     "output_type": "stream",
     "text": [
      "EVAL: [1128/1129] Elapsed 0m 3s (remain 0m 0s) Loss: 1561.0696(334.5272) \n",
      "Epoch: [20][0/10164] Elapsed 0m 0s (remain 13m 20s) Loss: 331.9686(331.9686) Grad: 34240.0430 LR: 0.000016  \n",
      "Epoch: [20][500/10164] Elapsed 0m 4s (remain 1m 27s) Loss: 78.3014(362.2435) Grad: 18244.1816 LR: 0.000016  \n",
      "Epoch: [20][1000/10164] Elapsed 0m 9s (remain 1m 22s) Loss: 434.9720(347.4210) Grad: 43159.6133 LR: 0.000016  \n",
      "Epoch: [20][1500/10164] Elapsed 0m 13s (remain 1m 17s) Loss: 1146.8474(352.0941) Grad: 82850.5859 LR: 0.000016  \n",
      "Epoch: [20][2000/10164] Elapsed 0m 17s (remain 1m 12s) Loss: 62.1500(348.8458) Grad: 44032.5508 LR: 0.000016  \n",
      "Epoch: [20][2500/10164] Elapsed 0m 22s (remain 1m 7s) Loss: 61.9715(345.7845) Grad: 82248.5859 LR: 0.000016  \n",
      "Epoch: [20][3000/10164] Elapsed 0m 26s (remain 1m 3s) Loss: 53.7663(334.7624) Grad: 10837.5186 LR: 0.000016  \n",
      "Epoch: [20][3500/10164] Elapsed 0m 31s (remain 0m 59s) Loss: 112.4816(344.4927) Grad: 14799.6201 LR: 0.000016  \n",
      "Epoch: [20][4000/10164] Elapsed 0m 35s (remain 0m 54s) Loss: 102.6576(339.5624) Grad: 6652.2178 LR: 0.000016  \n",
      "Epoch: [20][4500/10164] Elapsed 0m 39s (remain 0m 49s) Loss: 69.5633(343.6696) Grad: 27434.0703 LR: 0.000016  \n",
      "Epoch: [20][5000/10164] Elapsed 0m 43s (remain 0m 45s) Loss: 478.6227(339.5564) Grad: 35044.8477 LR: 0.000016  \n",
      "Epoch: [20][5500/10164] Elapsed 0m 48s (remain 0m 41s) Loss: 137.7179(344.7669) Grad: 7318.1689 LR: 0.000016  \n",
      "Epoch: [20][6000/10164] Elapsed 0m 52s (remain 0m 36s) Loss: 18.1892(339.8701) Grad: 4187.3242 LR: 0.000016  \n",
      "Epoch: [20][6500/10164] Elapsed 0m 57s (remain 0m 32s) Loss: 724.0903(338.8983) Grad: 59789.6250 LR: 0.000016  \n",
      "Epoch: [20][7000/10164] Elapsed 1m 1s (remain 0m 27s) Loss: 17.4605(339.1494) Grad: 2621.9436 LR: 0.000016  \n",
      "Epoch: [20][7500/10164] Elapsed 1m 5s (remain 0m 23s) Loss: 176.4672(337.4192) Grad: 41085.2422 LR: 0.000016  \n",
      "Epoch: [20][8000/10164] Elapsed 1m 9s (remain 0m 18s) Loss: 32.1898(333.5569) Grad: 10352.0820 LR: 0.000016  \n",
      "Epoch: [20][8500/10164] Elapsed 1m 14s (remain 0m 14s) Loss: 61.8162(330.4744) Grad: 5768.7168 LR: 0.000016  \n",
      "Epoch: [20][9000/10164] Elapsed 1m 18s (remain 0m 10s) Loss: 32.5271(328.5961) Grad: 6103.2637 LR: 0.000016  \n",
      "Epoch: [20][9500/10164] Elapsed 1m 22s (remain 0m 5s) Loss: 68.7941(326.4489) Grad: 6275.0303 LR: 0.000016  \n",
      "Epoch: [20][10000/10164] Elapsed 1m 26s (remain 0m 1s) Loss: 174.5016(328.5205) Grad: 14272.5840 LR: 0.000016  \n",
      "Epoch: [20][10163/10164] Elapsed 1m 28s (remain 0m 0s) Loss: 98.9026(328.0229) Grad: 10243.1768 LR: 0.000016  \n",
      "EVAL: [0/1129] Elapsed 0m 0s (remain 1m 21s) Loss: 2807.0811(2807.0811) \n",
      "EVAL: [500/1129] Elapsed 0m 1s (remain 0m 2s) Loss: 850.1281(343.4297) \n",
      "EVAL: [1000/1129] Elapsed 0m 3s (remain 0m 0s) Loss: 50.7978(325.7467) \n"
     ]
    },
    {
     "name": "stderr",
     "output_type": "stream",
     "text": [
      "Epoch 20 - avg_train_loss: 328.0229  avg_val_loss: 333.4188  time: 92s\n",
      "Epoch 20 - Score: 18.2598\n",
      "Validation loss Improved (334.52719352707584 ---> 333.41877066426974)\n",
      "Epoch 20 - Save Best Loss: 333.4188 Model\n"
     ]
    },
    {
     "name": "stdout",
     "output_type": "stream",
     "text": [
      "EVAL: [1128/1129] Elapsed 0m 3s (remain 0m 0s) Loss: 1581.6736(333.4188) \n",
      "Epoch: [21][0/10164] Elapsed 0m 0s (remain 13m 35s) Loss: 394.2377(394.2377) Grad: 49608.5508 LR: 0.000033  \n",
      "Epoch: [21][500/10164] Elapsed 0m 4s (remain 1m 27s) Loss: 65.1646(361.1715) Grad: 9576.6934 LR: 0.000033  \n",
      "Epoch: [21][1000/10164] Elapsed 0m 8s (remain 1m 20s) Loss: 383.7725(344.3892) Grad: 36478.5547 LR: 0.000033  \n",
      "Epoch: [21][1500/10164] Elapsed 0m 13s (remain 1m 15s) Loss: 1100.9640(350.2295) Grad: 143991.3750 LR: 0.000033  \n",
      "Epoch: [21][2000/10164] Elapsed 0m 17s (remain 1m 10s) Loss: 77.9070(347.7606) Grad: 47916.0469 LR: 0.000033  \n",
      "Epoch: [21][2500/10164] Elapsed 0m 21s (remain 1m 5s) Loss: 45.6141(345.6835) Grad: 44156.4727 LR: 0.000033  \n",
      "Epoch: [21][3000/10164] Elapsed 0m 25s (remain 1m 1s) Loss: 69.7824(334.4429) Grad: 19779.3633 LR: 0.000033  \n",
      "Epoch: [21][3500/10164] Elapsed 0m 30s (remain 0m 57s) Loss: 117.9736(343.8814) Grad: 6508.8174 LR: 0.000033  \n",
      "Epoch: [21][4000/10164] Elapsed 0m 34s (remain 0m 53s) Loss: 98.0531(339.2768) Grad: 5587.6309 LR: 0.000033  \n",
      "Epoch: [21][4500/10164] Elapsed 0m 38s (remain 0m 48s) Loss: 73.2796(343.1409) Grad: 19879.6562 LR: 0.000033  \n",
      "Epoch: [21][5000/10164] Elapsed 0m 43s (remain 0m 44s) Loss: 473.9357(339.1094) Grad: 55994.1914 LR: 0.000033  \n",
      "Epoch: [21][5500/10164] Elapsed 0m 47s (remain 0m 40s) Loss: 148.3817(344.4673) Grad: 9202.3877 LR: 0.000033  \n",
      "Epoch: [21][6000/10164] Elapsed 0m 51s (remain 0m 35s) Loss: 19.7347(339.3313) Grad: 3565.9929 LR: 0.000033  \n",
      "Epoch: [21][6500/10164] Elapsed 0m 56s (remain 0m 31s) Loss: 723.6669(338.2869) Grad: 58415.9375 LR: 0.000033  \n",
      "Epoch: [21][7000/10164] Elapsed 1m 0s (remain 0m 27s) Loss: 20.8821(338.4125) Grad: 3380.4043 LR: 0.000033  \n",
      "Epoch: [21][7500/10164] Elapsed 1m 4s (remain 0m 22s) Loss: 175.4303(336.6807) Grad: 48078.0820 LR: 0.000033  \n",
      "Epoch: [21][8000/10164] Elapsed 1m 8s (remain 0m 18s) Loss: 38.2130(332.6481) Grad: 14246.8252 LR: 0.000033  \n",
      "Epoch: [21][8500/10164] Elapsed 1m 13s (remain 0m 14s) Loss: 59.8774(329.5622) Grad: 6136.2900 LR: 0.000033  \n",
      "Epoch: [21][9000/10164] Elapsed 1m 17s (remain 0m 9s) Loss: 46.2219(327.4394) Grad: 11448.3467 LR: 0.000033  \n",
      "Epoch: [21][9500/10164] Elapsed 1m 21s (remain 0m 5s) Loss: 57.1604(325.3031) Grad: 4155.9463 LR: 0.000033  \n",
      "Epoch: [21][10000/10164] Elapsed 1m 25s (remain 0m 1s) Loss: 148.7654(327.3972) Grad: 17068.9023 LR: 0.000033  \n",
      "Epoch: [21][10163/10164] Elapsed 1m 27s (remain 0m 0s) Loss: 97.3773(326.8233) Grad: 17420.2891 LR: 0.000033  \n",
      "EVAL: [0/1129] Elapsed 0m 0s (remain 1m 21s) Loss: 2819.4136(2819.4136) \n",
      "EVAL: [500/1129] Elapsed 0m 1s (remain 0m 2s) Loss: 853.9518(347.1394) \n",
      "EVAL: [1000/1129] Elapsed 0m 3s (remain 0m 0s) Loss: 55.8691(329.7075) \n"
     ]
    },
    {
     "name": "stderr",
     "output_type": "stream",
     "text": [
      "Epoch 21 - avg_train_loss: 326.8233  avg_val_loss: 336.7532  time: 91s\n",
      "Epoch 21 - Score: 18.3508\n"
     ]
    },
    {
     "name": "stdout",
     "output_type": "stream",
     "text": [
      "EVAL: [1128/1129] Elapsed 0m 3s (remain 0m 0s) Loss: 1351.1743(336.7532) \n",
      "Epoch: [22][0/10164] Elapsed 0m 0s (remain 13m 33s) Loss: 352.9007(352.9007) Grad: 35136.7734 LR: 0.000055  \n",
      "Epoch: [22][500/10164] Elapsed 0m 4s (remain 1m 24s) Loss: 69.1114(359.6082) Grad: 13410.8779 LR: 0.000055  \n",
      "Epoch: [22][1000/10164] Elapsed 0m 8s (remain 1m 19s) Loss: 406.0479(343.8485) Grad: 35504.5312 LR: 0.000055  \n",
      "Epoch: [22][1500/10164] Elapsed 0m 12s (remain 1m 14s) Loss: 1066.1254(348.1698) Grad: 296928.2500 LR: 0.000055  \n",
      "Epoch: [22][2000/10164] Elapsed 0m 17s (remain 1m 9s) Loss: 59.5860(345.7283) Grad: 18906.2051 LR: 0.000055  \n",
      "Epoch: [22][2500/10164] Elapsed 0m 21s (remain 1m 5s) Loss: 36.6886(343.7061) Grad: 43035.8555 LR: 0.000055  \n",
      "Epoch: [22][3000/10164] Elapsed 0m 25s (remain 1m 0s) Loss: 68.1756(332.2943) Grad: 21776.5488 LR: 0.000055  \n",
      "Epoch: [22][3500/10164] Elapsed 0m 29s (remain 0m 56s) Loss: 111.4087(341.3165) Grad: 11691.2930 LR: 0.000055  \n",
      "Epoch: [22][4000/10164] Elapsed 0m 34s (remain 0m 52s) Loss: 91.0648(336.3708) Grad: 4865.1201 LR: 0.000055  \n",
      "Epoch: [22][4500/10164] Elapsed 0m 38s (remain 0m 48s) Loss: 72.4831(340.4994) Grad: 26045.1758 LR: 0.000055  \n",
      "Epoch: [22][5000/10164] Elapsed 0m 42s (remain 0m 43s) Loss: 531.5524(336.3758) Grad: 43461.6016 LR: 0.000055  \n",
      "Epoch: [22][5500/10164] Elapsed 0m 46s (remain 0m 39s) Loss: 161.5664(341.3702) Grad: 13152.0244 LR: 0.000055  \n",
      "Epoch: [22][6000/10164] Elapsed 0m 50s (remain 0m 35s) Loss: 26.9758(336.1106) Grad: 6757.0015 LR: 0.000055  \n",
      "Epoch: [22][6500/10164] Elapsed 0m 54s (remain 0m 30s) Loss: 710.0633(335.0875) Grad: 61559.3398 LR: 0.000055  \n",
      "Epoch: [22][7000/10164] Elapsed 0m 59s (remain 0m 26s) Loss: 20.5878(334.7330) Grad: 4750.9683 LR: 0.000055  \n",
      "Epoch: [22][7500/10164] Elapsed 1m 3s (remain 0m 22s) Loss: 198.8376(332.9022) Grad: 55015.4219 LR: 0.000055  \n",
      "Epoch: [22][8000/10164] Elapsed 1m 7s (remain 0m 18s) Loss: 44.5818(329.0598) Grad: 14292.0693 LR: 0.000055  \n",
      "Epoch: [22][8500/10164] Elapsed 1m 12s (remain 0m 14s) Loss: 64.0608(325.8856) Grad: 6953.5767 LR: 0.000055  \n",
      "Epoch: [22][9000/10164] Elapsed 1m 16s (remain 0m 9s) Loss: 27.4251(323.8193) Grad: 6468.8730 LR: 0.000055  \n",
      "Epoch: [22][9500/10164] Elapsed 1m 20s (remain 0m 5s) Loss: 60.7145(321.6302) Grad: 5572.6343 LR: 0.000055  \n",
      "Epoch: [22][10000/10164] Elapsed 1m 24s (remain 0m 1s) Loss: 189.1841(323.7999) Grad: 17230.5605 LR: 0.000055  \n",
      "Epoch: [22][10163/10164] Elapsed 1m 26s (remain 0m 0s) Loss: 110.7059(323.2459) Grad: 15335.5947 LR: 0.000055  \n",
      "EVAL: [0/1129] Elapsed 0m 0s (remain 1m 22s) Loss: 2705.9810(2705.9810) \n",
      "EVAL: [500/1129] Elapsed 0m 1s (remain 0m 2s) Loss: 843.4915(362.2968) \n",
      "EVAL: [1000/1129] Elapsed 0m 3s (remain 0m 0s) Loss: 71.9299(344.6639) \n"
     ]
    },
    {
     "name": "stderr",
     "output_type": "stream",
     "text": [
      "Epoch 22 - avg_train_loss: 323.2459  avg_val_loss: 349.9497  time: 90s\n",
      "Epoch 22 - Score: 18.7069\n"
     ]
    },
    {
     "name": "stdout",
     "output_type": "stream",
     "text": [
      "EVAL: [1128/1129] Elapsed 0m 3s (remain 0m 0s) Loss: 1244.4851(349.9497) \n",
      "Epoch: [23][0/10164] Elapsed 0m 0s (remain 13m 29s) Loss: 354.2588(354.2588) Grad: 35265.6914 LR: 0.000078  \n",
      "Epoch: [23][500/10164] Elapsed 0m 4s (remain 1m 24s) Loss: 88.1991(357.7761) Grad: 25589.5020 LR: 0.000078  \n",
      "Epoch: [23][1000/10164] Elapsed 0m 8s (remain 1m 19s) Loss: 403.1099(340.0555) Grad: 44614.5234 LR: 0.000078  \n",
      "Epoch: [23][1500/10164] Elapsed 0m 13s (remain 1m 15s) Loss: 989.4171(344.3041) Grad: 135627.3281 LR: 0.000078  \n",
      "Epoch: [23][2000/10164] Elapsed 0m 17s (remain 1m 11s) Loss: 70.3478(342.1426) Grad: 27233.6953 LR: 0.000078  \n",
      "Epoch: [23][2500/10164] Elapsed 0m 21s (remain 1m 6s) Loss: 63.5916(339.5988) Grad: 76478.7344 LR: 0.000078  \n",
      "Epoch: [23][3000/10164] Elapsed 0m 25s (remain 1m 1s) Loss: 62.9439(328.5080) Grad: 9729.8506 LR: 0.000078  \n",
      "Epoch: [23][3500/10164] Elapsed 0m 30s (remain 0m 57s) Loss: 118.6493(337.4092) Grad: 10645.2383 LR: 0.000078  \n",
      "Epoch: [23][4000/10164] Elapsed 0m 34s (remain 0m 52s) Loss: 99.2440(334.5591) Grad: 6107.2915 LR: 0.000078  \n",
      "Epoch: [23][4500/10164] Elapsed 0m 38s (remain 0m 48s) Loss: 101.1382(338.7937) Grad: 27791.8262 LR: 0.000078  \n",
      "Epoch: [23][5000/10164] Elapsed 0m 42s (remain 0m 44s) Loss: 618.6575(334.6586) Grad: 70044.1797 LR: 0.000078  \n",
      "Epoch: [23][5500/10164] Elapsed 0m 47s (remain 0m 40s) Loss: 136.7162(339.7524) Grad: 9672.3838 LR: 0.000078  \n",
      "Epoch: [23][6000/10164] Elapsed 0m 51s (remain 0m 35s) Loss: 23.7725(334.8935) Grad: 4404.6753 LR: 0.000078  \n",
      "Epoch: [23][6500/10164] Elapsed 0m 56s (remain 0m 31s) Loss: 760.7764(334.1615) Grad: 72149.0078 LR: 0.000078  \n",
      "Epoch: [23][7000/10164] Elapsed 1m 0s (remain 0m 27s) Loss: 27.6613(333.5848) Grad: 6691.4141 LR: 0.000078  \n",
      "Epoch: [23][7500/10164] Elapsed 1m 4s (remain 0m 22s) Loss: 209.7603(331.6085) Grad: 93146.5078 LR: 0.000078  \n",
      "Epoch: [23][8000/10164] Elapsed 1m 9s (remain 0m 18s) Loss: 43.4710(327.8545) Grad: 16349.7441 LR: 0.000078  \n",
      "Epoch: [23][8500/10164] Elapsed 1m 13s (remain 0m 14s) Loss: 60.5161(324.6753) Grad: 5463.6079 LR: 0.000078  \n",
      "Epoch: [23][9000/10164] Elapsed 1m 17s (remain 0m 10s) Loss: 48.3430(322.7005) Grad: 13466.7500 LR: 0.000078  \n",
      "Epoch: [23][9500/10164] Elapsed 1m 21s (remain 0m 5s) Loss: 82.3400(320.7046) Grad: 6400.1846 LR: 0.000078  \n",
      "Epoch: [23][10000/10164] Elapsed 1m 26s (remain 0m 1s) Loss: 199.0976(322.8462) Grad: 19673.9570 LR: 0.000078  \n",
      "Epoch: [23][10163/10164] Elapsed 1m 27s (remain 0m 0s) Loss: 102.6897(322.3056) Grad: 13566.6953 LR: 0.000078  \n",
      "EVAL: [0/1129] Elapsed 0m 0s (remain 1m 21s) Loss: 2618.6628(2618.6628) \n",
      "EVAL: [500/1129] Elapsed 0m 1s (remain 0m 2s) Loss: 774.3489(397.7237) \n",
      "EVAL: [1000/1129] Elapsed 0m 3s (remain 0m 0s) Loss: 96.7973(381.6506) \n"
     ]
    },
    {
     "name": "stderr",
     "output_type": "stream",
     "text": [
      "Epoch 23 - avg_train_loss: 322.3056  avg_val_loss: 381.1362  time: 92s\n",
      "Epoch 23 - Score: 19.5227\n"
     ]
    },
    {
     "name": "stdout",
     "output_type": "stream",
     "text": [
      "EVAL: [1128/1129] Elapsed 0m 3s (remain 0m 0s) Loss: 1052.7294(381.1362) \n",
      "Epoch: [24][0/10164] Elapsed 0m 0s (remain 13m 25s) Loss: 382.5036(382.5036) Grad: 59546.9766 LR: 0.000094  \n",
      "Epoch: [24][500/10164] Elapsed 0m 4s (remain 1m 25s) Loss: 119.1895(349.8408) Grad: 37004.7305 LR: 0.000094  \n",
      "Epoch: [24][1000/10164] Elapsed 0m 8s (remain 1m 18s) Loss: 367.7458(333.8439) Grad: 42551.2539 LR: 0.000094  \n",
      "Epoch: [24][1500/10164] Elapsed 0m 12s (remain 1m 14s) Loss: 932.5940(341.2938) Grad: 58925.1250 LR: 0.000094  \n",
      "Epoch: [24][2000/10164] Elapsed 0m 17s (remain 1m 9s) Loss: 67.5748(338.9858) Grad: 17859.0078 LR: 0.000094  \n",
      "Epoch: [24][2500/10164] Elapsed 0m 21s (remain 1m 5s) Loss: 31.7431(336.3647) Grad: 13936.0703 LR: 0.000094  \n",
      "Epoch: [24][3000/10164] Elapsed 0m 25s (remain 1m 0s) Loss: 62.8910(324.9619) Grad: 17058.8867 LR: 0.000094  \n",
      "Epoch: [24][3500/10164] Elapsed 0m 29s (remain 0m 56s) Loss: 124.5515(334.0301) Grad: 15689.9609 LR: 0.000094  \n",
      "Epoch: [24][4000/10164] Elapsed 0m 34s (remain 0m 52s) Loss: 108.6248(330.5606) Grad: 7934.2290 LR: 0.000094  \n",
      "Epoch: [24][4500/10164] Elapsed 0m 38s (remain 0m 48s) Loss: 99.0468(334.7303) Grad: 31570.6113 LR: 0.000094  \n",
      "Epoch: [24][5000/10164] Elapsed 0m 42s (remain 0m 43s) Loss: 520.8432(330.7159) Grad: 54704.9727 LR: 0.000094  \n",
      "Epoch: [24][5500/10164] Elapsed 0m 46s (remain 0m 39s) Loss: 142.8116(335.4019) Grad: 7442.2393 LR: 0.000094  \n",
      "Epoch: [24][6000/10164] Elapsed 0m 51s (remain 0m 35s) Loss: 21.0898(330.5334) Grad: 5077.8418 LR: 0.000094  \n",
      "Epoch: [24][6500/10164] Elapsed 0m 55s (remain 0m 31s) Loss: 709.8430(329.4036) Grad: 74117.5547 LR: 0.000094  \n",
      "Epoch: [24][7000/10164] Elapsed 0m 59s (remain 0m 26s) Loss: 22.9854(328.9677) Grad: 7508.4019 LR: 0.000094  \n",
      "Epoch: [24][7500/10164] Elapsed 1m 3s (remain 0m 22s) Loss: 198.1781(327.1430) Grad: 53066.2148 LR: 0.000094  \n",
      "Epoch: [24][8000/10164] Elapsed 1m 7s (remain 0m 18s) Loss: 44.9759(323.1000) Grad: 11541.4795 LR: 0.000094  \n",
      "Epoch: [24][8500/10164] Elapsed 1m 11s (remain 0m 14s) Loss: 60.1534(320.0692) Grad: 4501.5410 LR: 0.000094  \n",
      "Epoch: [24][9000/10164] Elapsed 1m 16s (remain 0m 9s) Loss: 32.1407(318.2087) Grad: 12959.5498 LR: 0.000094  \n",
      "Epoch: [24][9500/10164] Elapsed 1m 20s (remain 0m 5s) Loss: 58.9312(316.4347) Grad: 3520.2290 LR: 0.000094  \n",
      "Epoch: [24][10000/10164] Elapsed 1m 24s (remain 0m 1s) Loss: 203.8303(318.8431) Grad: 25736.6582 LR: 0.000094  \n",
      "Epoch: [24][10163/10164] Elapsed 1m 26s (remain 0m 0s) Loss: 118.1503(318.3962) Grad: 17057.1191 LR: 0.000094  \n",
      "EVAL: [0/1129] Elapsed 0m 0s (remain 1m 24s) Loss: 2699.4526(2699.4526) \n",
      "EVAL: [500/1129] Elapsed 0m 1s (remain 0m 2s) Loss: 748.3873(382.8919) \n",
      "EVAL: [1000/1129] Elapsed 0m 3s (remain 0m 0s) Loss: 98.2139(364.6241) \n"
     ]
    },
    {
     "name": "stderr",
     "output_type": "stream",
     "text": [
      "Epoch 24 - avg_train_loss: 318.3962  avg_val_loss: 364.8735  time: 90s\n",
      "Epoch 24 - Score: 19.1017\n"
     ]
    },
    {
     "name": "stdout",
     "output_type": "stream",
     "text": [
      "EVAL: [1128/1129] Elapsed 0m 3s (remain 0m 0s) Loss: 1218.6670(364.8735) \n",
      "Epoch: [25][0/10164] Elapsed 0m 0s (remain 13m 22s) Loss: 304.1188(304.1188) Grad: 33300.4531 LR: 0.000100  \n",
      "Epoch: [25][500/10164] Elapsed 0m 4s (remain 1m 23s) Loss: 110.8010(348.4423) Grad: 32807.7930 LR: 0.000100  \n",
      "Epoch: [25][1000/10164] Elapsed 0m 8s (remain 1m 19s) Loss: 393.5262(331.5744) Grad: 50143.8750 LR: 0.000100  \n",
      "Epoch: [25][1500/10164] Elapsed 0m 12s (remain 1m 14s) Loss: 847.6089(336.1037) Grad: 55192.8984 LR: 0.000100  \n",
      "Epoch: [25][2000/10164] Elapsed 0m 17s (remain 1m 9s) Loss: 80.3736(335.2597) Grad: 27029.2598 LR: 0.000100  \n",
      "Epoch: [25][2500/10164] Elapsed 0m 21s (remain 1m 5s) Loss: 52.4718(332.9814) Grad: 39110.8359 LR: 0.000100  \n",
      "Epoch: [25][3000/10164] Elapsed 0m 25s (remain 1m 1s) Loss: 72.7426(321.3801) Grad: 18105.7324 LR: 0.000100  \n",
      "Epoch: [25][3500/10164] Elapsed 0m 30s (remain 0m 57s) Loss: 133.6149(329.7147) Grad: 28454.4023 LR: 0.000100  \n",
      "Epoch: [25][4000/10164] Elapsed 0m 34s (remain 0m 53s) Loss: 121.9436(327.0300) Grad: 9748.2500 LR: 0.000100  \n",
      "Epoch: [25][4500/10164] Elapsed 0m 38s (remain 0m 48s) Loss: 114.9284(331.2504) Grad: 38062.8438 LR: 0.000100  \n",
      "Epoch: [25][5000/10164] Elapsed 0m 43s (remain 0m 44s) Loss: 504.9784(327.2941) Grad: 36664.3984 LR: 0.000100  \n",
      "Epoch: [25][5500/10164] Elapsed 0m 47s (remain 0m 40s) Loss: 152.7720(332.3396) Grad: 18729.3164 LR: 0.000100  \n",
      "Epoch: [25][6000/10164] Elapsed 0m 51s (remain 0m 35s) Loss: 24.0216(327.1304) Grad: 4723.2383 LR: 0.000100  \n",
      "Epoch: [25][6500/10164] Elapsed 0m 55s (remain 0m 31s) Loss: 738.1463(326.6399) Grad: 65546.4062 LR: 0.000100  \n",
      "Epoch: [25][7000/10164] Elapsed 1m 0s (remain 0m 27s) Loss: 26.3125(326.1421) Grad: 6934.1470 LR: 0.000100  \n",
      "Epoch: [25][7500/10164] Elapsed 1m 4s (remain 0m 22s) Loss: 204.7100(324.5010) Grad: 43080.7852 LR: 0.000100  \n",
      "Epoch: [25][8000/10164] Elapsed 1m 8s (remain 0m 18s) Loss: 34.2852(320.9935) Grad: 6058.9961 LR: 0.000100  \n",
      "Epoch: [25][8500/10164] Elapsed 1m 12s (remain 0m 14s) Loss: 62.9963(318.0558) Grad: 3861.6804 LR: 0.000100  \n",
      "Epoch: [25][9000/10164] Elapsed 1m 17s (remain 0m 9s) Loss: 79.2271(316.2492) Grad: 24393.2695 LR: 0.000100  \n",
      "Epoch: [25][9500/10164] Elapsed 1m 21s (remain 0m 5s) Loss: 79.9152(314.4110) Grad: 7320.5098 LR: 0.000100  \n",
      "Epoch: [25][10000/10164] Elapsed 1m 25s (remain 0m 1s) Loss: 223.2576(316.6403) Grad: 24956.0977 LR: 0.000100  \n",
      "Epoch: [25][10163/10164] Elapsed 1m 27s (remain 0m 0s) Loss: 94.4859(316.0499) Grad: 10956.8359 LR: 0.000100  \n",
      "EVAL: [0/1129] Elapsed 0m 0s (remain 1m 21s) Loss: 2536.4204(2536.4204) \n",
      "EVAL: [500/1129] Elapsed 0m 1s (remain 0m 2s) Loss: 795.4895(449.0436) \n",
      "EVAL: [1000/1129] Elapsed 0m 3s (remain 0m 0s) Loss: 171.6415(432.1902) \n"
     ]
    },
    {
     "name": "stderr",
     "output_type": "stream",
     "text": [
      "Epoch 25 - avg_train_loss: 316.0499  avg_val_loss: 426.3058  time: 91s\n",
      "Epoch 25 - Score: 20.6472\n"
     ]
    },
    {
     "name": "stdout",
     "output_type": "stream",
     "text": [
      "EVAL: [1128/1129] Elapsed 0m 3s (remain 0m 0s) Loss: 953.3405(426.3058) \n",
      "Epoch: [26][0/10164] Elapsed 0m 0s (remain 13m 25s) Loss: 337.1851(337.1851) Grad: 44940.5898 LR: 0.000094  \n",
      "Epoch: [26][500/10164] Elapsed 0m 4s (remain 1m 23s) Loss: 83.5504(342.3945) Grad: 16798.4688 LR: 0.000094  \n",
      "Epoch: [26][1000/10164] Elapsed 0m 8s (remain 1m 18s) Loss: 389.3309(325.2402) Grad: 33745.9062 LR: 0.000094  \n",
      "Epoch: [26][1500/10164] Elapsed 0m 12s (remain 1m 14s) Loss: 739.8752(330.0375) Grad: 68119.2031 LR: 0.000094  \n",
      "Epoch: [26][2000/10164] Elapsed 0m 17s (remain 1m 10s) Loss: 52.6994(328.6996) Grad: 17433.1855 LR: 0.000094  \n",
      "Epoch: [26][2500/10164] Elapsed 0m 21s (remain 1m 5s) Loss: 55.7199(326.9336) Grad: 44797.5430 LR: 0.000094  \n",
      "Epoch: [26][3000/10164] Elapsed 0m 25s (remain 1m 1s) Loss: 54.4446(315.2220) Grad: 8369.3330 LR: 0.000094  \n",
      "Epoch: [26][3500/10164] Elapsed 0m 29s (remain 0m 56s) Loss: 122.8825(323.2898) Grad: 8883.6367 LR: 0.000094  \n",
      "Epoch: [26][4000/10164] Elapsed 0m 34s (remain 0m 52s) Loss: 87.2160(319.9978) Grad: 5011.9746 LR: 0.000094  \n",
      "Epoch: [26][4500/10164] Elapsed 0m 38s (remain 0m 48s) Loss: 83.9705(323.3030) Grad: 21511.8281 LR: 0.000094  \n",
      "Epoch: [26][5000/10164] Elapsed 0m 42s (remain 0m 43s) Loss: 498.4590(318.9294) Grad: 50494.2344 LR: 0.000094  \n",
      "Epoch: [26][5500/10164] Elapsed 0m 46s (remain 0m 39s) Loss: 150.0260(323.4087) Grad: 9309.3223 LR: 0.000094  \n",
      "Epoch: [26][6000/10164] Elapsed 0m 50s (remain 0m 35s) Loss: 23.1931(318.5789) Grad: 4212.0293 LR: 0.000094  \n",
      "Epoch: [26][6500/10164] Elapsed 0m 55s (remain 0m 31s) Loss: 813.3144(317.4331) Grad: 53389.2031 LR: 0.000094  \n",
      "Epoch: [26][7000/10164] Elapsed 0m 59s (remain 0m 26s) Loss: 23.6531(317.0322) Grad: 5988.7686 LR: 0.000094  \n",
      "Epoch: [26][7500/10164] Elapsed 1m 3s (remain 0m 22s) Loss: 186.2165(315.5858) Grad: 41950.4609 LR: 0.000094  \n",
      "Epoch: [26][8000/10164] Elapsed 1m 8s (remain 0m 18s) Loss: 34.5860(311.7786) Grad: 12359.3369 LR: 0.000094  \n",
      "Epoch: [26][8500/10164] Elapsed 1m 12s (remain 0m 14s) Loss: 60.6092(308.8173) Grad: 4122.2070 LR: 0.000094  \n",
      "Epoch: [26][9000/10164] Elapsed 1m 16s (remain 0m 9s) Loss: 53.9798(306.9563) Grad: 16465.8281 LR: 0.000094  \n",
      "Epoch: [26][9500/10164] Elapsed 1m 20s (remain 0m 5s) Loss: 66.8418(305.3130) Grad: 4450.4946 LR: 0.000094  \n",
      "Epoch: [26][10000/10164] Elapsed 1m 24s (remain 0m 1s) Loss: 194.1178(307.5255) Grad: 20275.8223 LR: 0.000094  \n",
      "Epoch: [26][10163/10164] Elapsed 1m 26s (remain 0m 0s) Loss: 105.9376(307.1334) Grad: 9945.5527 LR: 0.000094  \n",
      "EVAL: [0/1129] Elapsed 0m 0s (remain 1m 21s) Loss: 2573.9570(2573.9570) \n",
      "EVAL: [500/1129] Elapsed 0m 1s (remain 0m 2s) Loss: 767.0193(370.2362) \n",
      "EVAL: [1000/1129] Elapsed 0m 3s (remain 0m 0s) Loss: 80.9578(356.6371) \n"
     ]
    },
    {
     "name": "stderr",
     "output_type": "stream",
     "text": [
      "Epoch 26 - avg_train_loss: 307.1334  avg_val_loss: 356.4617  time: 90s\n",
      "Epoch 26 - Score: 18.8802\n"
     ]
    },
    {
     "name": "stdout",
     "output_type": "stream",
     "text": [
      "EVAL: [1128/1129] Elapsed 0m 3s (remain 0m 0s) Loss: 1227.2107(356.4617) \n",
      "Epoch: [27][0/10164] Elapsed 0m 0s (remain 13m 34s) Loss: 282.1935(282.1935) Grad: 71580.9609 LR: 0.000078  \n",
      "Epoch: [27][500/10164] Elapsed 0m 4s (remain 1m 23s) Loss: 70.9299(327.6966) Grad: 10878.6357 LR: 0.000078  \n",
      "Epoch: [27][1000/10164] Elapsed 0m 8s (remain 1m 18s) Loss: 457.7928(314.5432) Grad: 39318.2383 LR: 0.000078  \n",
      "Epoch: [27][1500/10164] Elapsed 0m 12s (remain 1m 13s) Loss: 694.1139(319.7974) Grad: 123484.3750 LR: 0.000078  \n",
      "Epoch: [27][2000/10164] Elapsed 0m 16s (remain 1m 8s) Loss: 45.6951(319.4085) Grad: 13162.3115 LR: 0.000078  \n",
      "Epoch: [27][2500/10164] Elapsed 0m 21s (remain 1m 4s) Loss: 31.8791(316.1992) Grad: 17689.4824 LR: 0.000078  \n",
      "Epoch: [27][3000/10164] Elapsed 0m 25s (remain 1m 0s) Loss: 72.4863(305.1169) Grad: 18017.3105 LR: 0.000078  \n",
      "Epoch: [27][3500/10164] Elapsed 0m 29s (remain 0m 56s) Loss: 120.5952(313.4344) Grad: 9920.9463 LR: 0.000078  \n",
      "Epoch: [27][4000/10164] Elapsed 0m 33s (remain 0m 52s) Loss: 101.6423(311.8379) Grad: 4497.3828 LR: 0.000078  \n",
      "Epoch: [27][4500/10164] Elapsed 0m 38s (remain 0m 48s) Loss: 111.1738(314.8496) Grad: 39207.0000 LR: 0.000078  \n",
      "Epoch: [27][5000/10164] Elapsed 0m 42s (remain 0m 44s) Loss: 488.1438(310.3137) Grad: 44951.1211 LR: 0.000078  \n",
      "Epoch: [27][5500/10164] Elapsed 0m 47s (remain 0m 39s) Loss: 152.6779(314.7706) Grad: 14954.4551 LR: 0.000078  \n",
      "Epoch: [27][6000/10164] Elapsed 0m 51s (remain 0m 35s) Loss: 22.1283(310.4305) Grad: 4652.5229 LR: 0.000078  \n",
      "Epoch: [27][6500/10164] Elapsed 0m 55s (remain 0m 31s) Loss: 772.8081(309.3262) Grad: 49212.6484 LR: 0.000078  \n",
      "Epoch: [27][7000/10164] Elapsed 0m 59s (remain 0m 27s) Loss: 19.2066(308.7257) Grad: 2728.6350 LR: 0.000078  \n",
      "Epoch: [27][7500/10164] Elapsed 1m 4s (remain 0m 22s) Loss: 161.3321(307.2023) Grad: 29578.0176 LR: 0.000078  \n",
      "Epoch: [27][8000/10164] Elapsed 1m 8s (remain 0m 18s) Loss: 39.9279(303.5552) Grad: 15931.3291 LR: 0.000078  \n",
      "Epoch: [27][8500/10164] Elapsed 1m 12s (remain 0m 14s) Loss: 60.8801(300.6701) Grad: 4516.3975 LR: 0.000078  \n",
      "Epoch: [27][9000/10164] Elapsed 1m 17s (remain 0m 9s) Loss: 46.3832(299.1124) Grad: 13514.4678 LR: 0.000078  \n",
      "Epoch: [27][9500/10164] Elapsed 1m 21s (remain 0m 5s) Loss: 67.4787(297.8273) Grad: 5758.7900 LR: 0.000078  \n",
      "Epoch: [27][10000/10164] Elapsed 1m 25s (remain 0m 1s) Loss: 191.2469(300.0878) Grad: 16022.6807 LR: 0.000078  \n",
      "Epoch: [27][10163/10164] Elapsed 1m 27s (remain 0m 0s) Loss: 104.4505(299.5539) Grad: 13317.2930 LR: 0.000078  \n",
      "EVAL: [0/1129] Elapsed 0m 0s (remain 1m 21s) Loss: 2515.9558(2515.9558) \n",
      "EVAL: [500/1129] Elapsed 0m 1s (remain 0m 2s) Loss: 743.3869(362.2416) \n",
      "EVAL: [1000/1129] Elapsed 0m 3s (remain 0m 0s) Loss: 125.7216(348.8081) \n"
     ]
    },
    {
     "name": "stderr",
     "output_type": "stream",
     "text": [
      "Epoch 27 - avg_train_loss: 299.5539  avg_val_loss: 348.3657  time: 91s\n",
      "Epoch 27 - Score: 18.6646\n"
     ]
    },
    {
     "name": "stdout",
     "output_type": "stream",
     "text": [
      "EVAL: [1128/1129] Elapsed 0m 3s (remain 0m 0s) Loss: 1075.9211(348.3657) \n",
      "Epoch: [28][0/10164] Elapsed 0m 0s (remain 13m 19s) Loss: 365.7419(365.7419) Grad: 30308.9434 LR: 0.000055  \n",
      "Epoch: [28][500/10164] Elapsed 0m 4s (remain 1m 21s) Loss: 73.9472(318.4319) Grad: 14980.1807 LR: 0.000055  \n",
      "Epoch: [28][1000/10164] Elapsed 0m 8s (remain 1m 16s) Loss: 403.5992(304.8235) Grad: 28784.1699 LR: 0.000055  \n",
      "Epoch: [28][1500/10164] Elapsed 0m 12s (remain 1m 13s) Loss: 721.9973(311.2711) Grad: 173791.5781 LR: 0.000055  \n",
      "Epoch: [28][2000/10164] Elapsed 0m 16s (remain 1m 9s) Loss: 94.9521(312.3738) Grad: 48770.8516 LR: 0.000055  \n",
      "Epoch: [28][2500/10164] Elapsed 0m 21s (remain 1m 5s) Loss: 57.0306(308.7961) Grad: 50247.0352 LR: 0.000055  \n",
      "Epoch: [28][3000/10164] Elapsed 0m 25s (remain 1m 1s) Loss: 73.1949(297.2545) Grad: 16996.2246 LR: 0.000055  \n",
      "Epoch: [28][3500/10164] Elapsed 0m 29s (remain 0m 57s) Loss: 102.9919(306.0834) Grad: 7598.0156 LR: 0.000055  \n",
      "Epoch: [28][4000/10164] Elapsed 0m 34s (remain 0m 52s) Loss: 92.4460(302.6571) Grad: 4892.1855 LR: 0.000055  \n",
      "Epoch: [28][4500/10164] Elapsed 0m 38s (remain 0m 48s) Loss: 106.1944(305.9658) Grad: 45371.4805 LR: 0.000055  \n",
      "Epoch: [28][5000/10164] Elapsed 0m 42s (remain 0m 44s) Loss: 557.4321(301.8130) Grad: 47022.1875 LR: 0.000055  \n",
      "Epoch: [28][5500/10164] Elapsed 0m 47s (remain 0m 40s) Loss: 140.0247(306.7532) Grad: 9169.6797 LR: 0.000055  \n",
      "Epoch: [28][6000/10164] Elapsed 0m 51s (remain 0m 35s) Loss: 20.8562(302.0339) Grad: 3972.1609 LR: 0.000055  \n",
      "Epoch: [28][6500/10164] Elapsed 0m 55s (remain 0m 31s) Loss: 779.0679(301.3622) Grad: 49329.3789 LR: 0.000055  \n",
      "Epoch: [28][7000/10164] Elapsed 1m 0s (remain 0m 27s) Loss: 20.5007(301.0474) Grad: 4458.8994 LR: 0.000055  \n",
      "Epoch: [28][7500/10164] Elapsed 1m 4s (remain 0m 22s) Loss: 164.9881(299.6041) Grad: 33536.7773 LR: 0.000055  \n",
      "Epoch: [28][8000/10164] Elapsed 1m 8s (remain 0m 18s) Loss: 50.4800(296.0527) Grad: 14085.7197 LR: 0.000055  \n",
      "Epoch: [28][8500/10164] Elapsed 1m 13s (remain 0m 14s) Loss: 56.9819(293.3837) Grad: 3747.9250 LR: 0.000055  \n",
      "Epoch: [28][9000/10164] Elapsed 1m 17s (remain 0m 9s) Loss: 47.6834(291.8880) Grad: 15517.2695 LR: 0.000055  \n",
      "Epoch: [28][9500/10164] Elapsed 1m 21s (remain 0m 5s) Loss: 65.6973(290.6048) Grad: 4920.5435 LR: 0.000055  \n",
      "Epoch: [28][10000/10164] Elapsed 1m 25s (remain 0m 1s) Loss: 175.6334(292.6868) Grad: 17274.8242 LR: 0.000055  \n",
      "Epoch: [28][10163/10164] Elapsed 1m 27s (remain 0m 0s) Loss: 104.9627(292.2831) Grad: 9433.6924 LR: 0.000055  \n",
      "EVAL: [0/1129] Elapsed 0m 0s (remain 1m 22s) Loss: 2479.9902(2479.9902) \n",
      "EVAL: [500/1129] Elapsed 0m 1s (remain 0m 2s) Loss: 747.7634(336.2430) \n",
      "EVAL: [1000/1129] Elapsed 0m 3s (remain 0m 0s) Loss: 86.3805(324.6283) \n"
     ]
    },
    {
     "name": "stderr",
     "output_type": "stream",
     "text": [
      "Epoch 28 - avg_train_loss: 292.2831  avg_val_loss: 327.0314  time: 91s\n",
      "Epoch 28 - Score: 18.0840\n",
      "Validation loss Improved (333.41877066426974 ---> 327.03141298296447)\n",
      "Epoch 28 - Save Best Loss: 327.0314 Model\n"
     ]
    },
    {
     "name": "stdout",
     "output_type": "stream",
     "text": [
      "EVAL: [1128/1129] Elapsed 0m 3s (remain 0m 0s) Loss: 1303.2998(327.0314) \n",
      "Epoch: [29][0/10164] Elapsed 0m 0s (remain 13m 11s) Loss: 377.6109(377.6109) Grad: 46946.9453 LR: 0.000033  \n",
      "Epoch: [29][500/10164] Elapsed 0m 4s (remain 1m 28s) Loss: 89.6018(311.8146) Grad: 14602.7207 LR: 0.000033  \n",
      "Epoch: [29][1000/10164] Elapsed 0m 9s (remain 1m 24s) Loss: 403.9143(299.2091) Grad: 35042.2734 LR: 0.000033  \n",
      "Epoch: [29][1500/10164] Elapsed 0m 13s (remain 1m 18s) Loss: 691.3546(304.4785) Grad: 163322.7812 LR: 0.000033  \n",
      "Epoch: [29][2000/10164] Elapsed 0m 18s (remain 1m 14s) Loss: 71.1453(305.8142) Grad: 38917.3359 LR: 0.000033  \n",
      "Epoch: [29][2500/10164] Elapsed 0m 22s (remain 1m 8s) Loss: 64.0707(301.9835) Grad: 47972.9062 LR: 0.000033  \n",
      "Epoch: [29][3000/10164] Elapsed 0m 26s (remain 1m 3s) Loss: 55.3609(291.1936) Grad: 12823.7354 LR: 0.000033  \n",
      "Epoch: [29][3500/10164] Elapsed 0m 30s (remain 0m 58s) Loss: 107.4668(299.6980) Grad: 8777.1162 LR: 0.000033  \n",
      "Epoch: [29][4000/10164] Elapsed 0m 35s (remain 0m 53s) Loss: 87.0073(296.4422) Grad: 4314.3247 LR: 0.000033  \n",
      "Epoch: [29][4500/10164] Elapsed 0m 39s (remain 0m 49s) Loss: 100.7072(299.2434) Grad: 42628.7031 LR: 0.000033  \n",
      "Epoch: [29][5000/10164] Elapsed 0m 43s (remain 0m 44s) Loss: 559.0049(294.9593) Grad: 63807.0352 LR: 0.000033  \n",
      "Epoch: [29][5500/10164] Elapsed 0m 47s (remain 0m 40s) Loss: 119.1159(299.4696) Grad: 5729.8091 LR: 0.000033  \n",
      "Epoch: [29][6000/10164] Elapsed 0m 52s (remain 0m 36s) Loss: 15.0411(295.0251) Grad: 3396.0410 LR: 0.000033  \n",
      "Epoch: [29][6500/10164] Elapsed 0m 56s (remain 0m 31s) Loss: 741.4680(294.2435) Grad: 48110.2148 LR: 0.000033  \n",
      "Epoch: [29][7000/10164] Elapsed 1m 0s (remain 0m 27s) Loss: 12.1976(293.8803) Grad: 1444.6796 LR: 0.000033  \n",
      "Epoch: [29][7500/10164] Elapsed 1m 5s (remain 0m 23s) Loss: 154.6394(292.3826) Grad: 30714.5879 LR: 0.000033  \n",
      "Epoch: [29][8000/10164] Elapsed 1m 9s (remain 0m 18s) Loss: 27.2872(288.9391) Grad: 11083.3936 LR: 0.000033  \n",
      "Epoch: [29][8500/10164] Elapsed 1m 13s (remain 0m 14s) Loss: 58.1400(286.3789) Grad: 3343.8850 LR: 0.000033  \n",
      "Epoch: [29][9000/10164] Elapsed 1m 17s (remain 0m 10s) Loss: 41.1986(285.1405) Grad: 14925.4814 LR: 0.000033  \n",
      "Epoch: [29][9500/10164] Elapsed 1m 21s (remain 0m 5s) Loss: 72.7587(283.7644) Grad: 4475.5566 LR: 0.000033  \n",
      "Epoch: [29][10000/10164] Elapsed 1m 26s (remain 0m 1s) Loss: 187.9388(285.6999) Grad: 17336.6289 LR: 0.000033  \n",
      "Epoch: [29][10163/10164] Elapsed 1m 27s (remain 0m 0s) Loss: 87.4266(285.2203) Grad: 9072.3135 LR: 0.000033  \n",
      "EVAL: [0/1129] Elapsed 0m 0s (remain 1m 24s) Loss: 2581.7021(2581.7021) \n",
      "EVAL: [500/1129] Elapsed 0m 1s (remain 0m 2s) Loss: 724.1206(296.5432) \n",
      "EVAL: [1000/1129] Elapsed 0m 3s (remain 0m 0s) Loss: 56.4600(284.6590) \n"
     ]
    },
    {
     "name": "stderr",
     "output_type": "stream",
     "text": [
      "Epoch 29 - avg_train_loss: 285.2203  avg_val_loss: 289.8510  time: 91s\n",
      "Epoch 29 - Score: 17.0250\n",
      "Validation loss Improved (327.03141298296447 ---> 289.85096470664195)\n",
      "Epoch 29 - Save Best Loss: 289.8510 Model\n"
     ]
    },
    {
     "name": "stdout",
     "output_type": "stream",
     "text": [
      "EVAL: [1128/1129] Elapsed 0m 3s (remain 0m 0s) Loss: 1187.0984(289.8510) \n",
      "Epoch: [30][0/10164] Elapsed 0m 0s (remain 13m 43s) Loss: 336.2629(336.2629) Grad: 53486.0703 LR: 0.000016  \n",
      "Epoch: [30][500/10164] Elapsed 0m 4s (remain 1m 23s) Loss: 93.1277(306.6380) Grad: 26921.5508 LR: 0.000016  \n",
      "Epoch: [30][1000/10164] Elapsed 0m 8s (remain 1m 19s) Loss: 397.1156(292.6489) Grad: 34865.6484 LR: 0.000016  \n",
      "Epoch: [30][1500/10164] Elapsed 0m 12s (remain 1m 14s) Loss: 701.7936(299.2108) Grad: 202766.5625 LR: 0.000016  \n",
      "Epoch: [30][2000/10164] Elapsed 0m 17s (remain 1m 10s) Loss: 57.0795(301.4497) Grad: 22800.9785 LR: 0.000016  \n",
      "Epoch: [30][2500/10164] Elapsed 0m 21s (remain 1m 6s) Loss: 44.7011(297.7245) Grad: 30347.7383 LR: 0.000016  \n",
      "Epoch: [30][3000/10164] Elapsed 0m 25s (remain 1m 1s) Loss: 55.9752(287.1990) Grad: 5974.8369 LR: 0.000016  \n",
      "Epoch: [30][3500/10164] Elapsed 0m 30s (remain 0m 57s) Loss: 97.0001(295.3235) Grad: 7358.5791 LR: 0.000016  \n",
      "Epoch: [30][4000/10164] Elapsed 0m 34s (remain 0m 52s) Loss: 88.9238(291.8892) Grad: 4775.2886 LR: 0.000016  \n",
      "Epoch: [30][4500/10164] Elapsed 0m 38s (remain 0m 48s) Loss: 69.7946(294.8586) Grad: 27017.1367 LR: 0.000016  \n",
      "Epoch: [30][5000/10164] Elapsed 0m 42s (remain 0m 44s) Loss: 473.9823(290.8024) Grad: 35566.8359 LR: 0.000016  \n",
      "Epoch: [30][5500/10164] Elapsed 0m 47s (remain 0m 39s) Loss: 124.4161(295.3316) Grad: 7111.5547 LR: 0.000016  \n",
      "Epoch: [30][6000/10164] Elapsed 0m 51s (remain 0m 35s) Loss: 16.7419(290.6280) Grad: 3647.7927 LR: 0.000016  \n",
      "Epoch: [30][6500/10164] Elapsed 0m 55s (remain 0m 31s) Loss: 750.8751(289.6782) Grad: 39063.2617 LR: 0.000016  \n",
      "Epoch: [30][7000/10164] Elapsed 0m 59s (remain 0m 27s) Loss: 19.0388(289.3463) Grad: 4606.2314 LR: 0.000016  \n",
      "Epoch: [30][7500/10164] Elapsed 1m 4s (remain 0m 22s) Loss: 158.4545(288.1653) Grad: 40359.9414 LR: 0.000016  \n",
      "Epoch: [30][8000/10164] Elapsed 1m 8s (remain 0m 18s) Loss: 27.3518(284.8073) Grad: 7122.5898 LR: 0.000016  \n",
      "Epoch: [30][8500/10164] Elapsed 1m 12s (remain 0m 14s) Loss: 61.1031(282.2773) Grad: 4265.7314 LR: 0.000016  \n",
      "Epoch: [30][9000/10164] Elapsed 1m 16s (remain 0m 9s) Loss: 43.9119(281.1368) Grad: 17131.2598 LR: 0.000016  \n",
      "Epoch: [30][9500/10164] Elapsed 1m 21s (remain 0m 5s) Loss: 78.4724(279.7358) Grad: 6673.1855 LR: 0.000016  \n",
      "Epoch: [30][10000/10164] Elapsed 1m 25s (remain 0m 1s) Loss: 185.0657(281.6189) Grad: 11760.9199 LR: 0.000016  \n",
      "Epoch: [30][10163/10164] Elapsed 1m 26s (remain 0m 0s) Loss: 85.1611(281.1116) Grad: 10968.0674 LR: 0.000016  \n",
      "EVAL: [0/1129] Elapsed 0m 0s (remain 1m 21s) Loss: 2706.8862(2706.8862) \n",
      "EVAL: [500/1129] Elapsed 0m 1s (remain 0m 2s) Loss: 714.0173(290.0535) \n",
      "EVAL: [1000/1129] Elapsed 0m 3s (remain 0m 0s) Loss: 48.2588(277.7180) \n"
     ]
    },
    {
     "name": "stderr",
     "output_type": "stream",
     "text": [
      "Epoch 30 - avg_train_loss: 281.1116  avg_val_loss: 283.4773  time: 91s\n",
      "Epoch 30 - Score: 16.8368\n",
      "Validation loss Improved (289.85096470664195 ---> 283.4772581099777)\n",
      "Epoch 30 - Save Best Loss: 283.4773 Model\n"
     ]
    },
    {
     "name": "stdout",
     "output_type": "stream",
     "text": [
      "EVAL: [1128/1129] Elapsed 0m 3s (remain 0m 0s) Loss: 1272.5731(283.4773) \n",
      "Epoch: [31][0/10164] Elapsed 0m 0s (remain 13m 50s) Loss: 316.4612(316.4612) Grad: 89737.7266 LR: 0.000010  \n",
      "Epoch: [31][500/10164] Elapsed 0m 4s (remain 1m 23s) Loss: 68.8281(302.1496) Grad: 13312.5264 LR: 0.000010  \n",
      "Epoch: [31][1000/10164] Elapsed 0m 8s (remain 1m 18s) Loss: 454.7115(288.9820) Grad: 35930.0898 LR: 0.000010  \n",
      "Epoch: [31][1500/10164] Elapsed 0m 12s (remain 1m 13s) Loss: 603.5153(295.4844) Grad: 144822.0000 LR: 0.000010  \n",
      "Epoch: [31][2000/10164] Elapsed 0m 16s (remain 1m 9s) Loss: 56.7683(297.8176) Grad: 27181.3223 LR: 0.000010  \n",
      "Epoch: [31][2500/10164] Elapsed 0m 21s (remain 1m 5s) Loss: 35.6964(294.5394) Grad: 21128.2285 LR: 0.000010  \n",
      "Epoch: [31][3000/10164] Elapsed 0m 25s (remain 1m 0s) Loss: 55.7602(283.9119) Grad: 9333.8203 LR: 0.000010  \n",
      "Epoch: [31][3500/10164] Elapsed 0m 29s (remain 0m 56s) Loss: 90.6932(291.9165) Grad: 7312.3379 LR: 0.000010  \n",
      "Epoch: [31][4000/10164] Elapsed 0m 34s (remain 0m 52s) Loss: 103.6035(288.6739) Grad: 6378.8154 LR: 0.000010  \n",
      "Epoch: [31][4500/10164] Elapsed 0m 38s (remain 0m 48s) Loss: 66.8198(291.3874) Grad: 26133.6426 LR: 0.000010  \n",
      "Epoch: [31][5000/10164] Elapsed 0m 42s (remain 0m 43s) Loss: 445.2656(287.1815) Grad: 36760.1289 LR: 0.000010  \n",
      "Epoch: [31][5500/10164] Elapsed 0m 46s (remain 0m 39s) Loss: 121.0061(291.9741) Grad: 3668.0859 LR: 0.000010  \n",
      "Epoch: [31][6000/10164] Elapsed 0m 50s (remain 0m 35s) Loss: 16.6368(287.5661) Grad: 2927.2227 LR: 0.000010  \n",
      "Epoch: [31][6500/10164] Elapsed 0m 55s (remain 0m 31s) Loss: 716.1555(286.6232) Grad: 56391.0586 LR: 0.000010  \n",
      "Epoch: [31][7000/10164] Elapsed 0m 59s (remain 0m 26s) Loss: 18.7342(286.2780) Grad: 4116.9849 LR: 0.000010  \n",
      "Epoch: [31][7500/10164] Elapsed 1m 3s (remain 0m 22s) Loss: 190.6934(285.1331) Grad: 44674.7344 LR: 0.000010  \n",
      "Epoch: [31][8000/10164] Elapsed 1m 7s (remain 0m 18s) Loss: 27.2313(281.9329) Grad: 3714.0303 LR: 0.000010  \n",
      "Epoch: [31][8500/10164] Elapsed 1m 12s (remain 0m 14s) Loss: 55.6544(279.5384) Grad: 3099.9436 LR: 0.000010  \n",
      "Epoch: [31][9000/10164] Elapsed 1m 16s (remain 0m 9s) Loss: 50.6198(278.4545) Grad: 24464.4316 LR: 0.000010  \n",
      "Epoch: [31][9500/10164] Elapsed 1m 20s (remain 0m 5s) Loss: 72.5601(277.0430) Grad: 6354.5493 LR: 0.000010  \n",
      "Epoch: [31][10000/10164] Elapsed 1m 24s (remain 0m 1s) Loss: 180.6249(278.9661) Grad: 13860.6602 LR: 0.000010  \n",
      "Epoch: [31][10163/10164] Elapsed 1m 26s (remain 0m 0s) Loss: 100.3814(278.4957) Grad: 14349.1748 LR: 0.000010  \n",
      "EVAL: [0/1129] Elapsed 0m 0s (remain 1m 22s) Loss: 2686.1545(2686.1545) \n",
      "EVAL: [500/1129] Elapsed 0m 1s (remain 0m 2s) Loss: 739.1254(288.8172) \n",
      "EVAL: [1000/1129] Elapsed 0m 3s (remain 0m 0s) Loss: 47.7597(276.8326) \n"
     ]
    },
    {
     "name": "stderr",
     "output_type": "stream",
     "text": [
      "Epoch 31 - avg_train_loss: 278.4957  avg_val_loss: 282.5833  time: 90s\n",
      "Epoch 31 - Score: 16.8102\n",
      "Validation loss Improved (283.4772581099777 ---> 282.5832978163556)\n",
      "Epoch 31 - Save Best Loss: 282.5833 Model\n"
     ]
    },
    {
     "name": "stdout",
     "output_type": "stream",
     "text": [
      "EVAL: [1128/1129] Elapsed 0m 3s (remain 0m 0s) Loss: 1270.6899(282.5833) \n",
      "Epoch: [32][0/10164] Elapsed 0m 0s (remain 14m 27s) Loss: 325.8589(325.8589) Grad: 60981.6250 LR: 0.000016  \n",
      "Epoch: [32][500/10164] Elapsed 0m 4s (remain 1m 23s) Loss: 76.8104(303.4108) Grad: 14932.3398 LR: 0.000016  \n",
      "Epoch: [32][1000/10164] Elapsed 0m 8s (remain 1m 19s) Loss: 480.5909(290.1686) Grad: 39458.0273 LR: 0.000016  \n",
      "Epoch: [32][1500/10164] Elapsed 0m 12s (remain 1m 14s) Loss: 677.5670(295.8747) Grad: 141503.6562 LR: 0.000016  \n",
      "Epoch: [32][2000/10164] Elapsed 0m 17s (remain 1m 10s) Loss: 55.6085(297.9010) Grad: 27583.3047 LR: 0.000016  \n",
      "Epoch: [32][2500/10164] Elapsed 0m 21s (remain 1m 6s) Loss: 48.8145(294.3944) Grad: 35317.2461 LR: 0.000016  \n",
      "Epoch: [32][3000/10164] Elapsed 0m 25s (remain 1m 1s) Loss: 41.0933(283.6769) Grad: 3894.8025 LR: 0.000016  \n",
      "Epoch: [32][3500/10164] Elapsed 0m 30s (remain 0m 57s) Loss: 103.9998(291.5543) Grad: 10342.8604 LR: 0.000016  \n",
      "Epoch: [32][4000/10164] Elapsed 0m 34s (remain 0m 53s) Loss: 101.4129(288.2480) Grad: 5655.2617 LR: 0.000016  \n",
      "Epoch: [32][4500/10164] Elapsed 0m 39s (remain 0m 49s) Loss: 76.2280(291.1267) Grad: 37460.0039 LR: 0.000016  \n",
      "Epoch: [32][5000/10164] Elapsed 0m 43s (remain 0m 44s) Loss: 473.1687(286.9813) Grad: 31929.0352 LR: 0.000016  \n",
      "Epoch: [32][5500/10164] Elapsed 0m 47s (remain 0m 40s) Loss: 130.3210(291.5714) Grad: 4782.2476 LR: 0.000016  \n",
      "Epoch: [32][6000/10164] Elapsed 0m 51s (remain 0m 36s) Loss: 15.5324(287.1318) Grad: 3738.9065 LR: 0.000016  \n",
      "Epoch: [32][6500/10164] Elapsed 0m 56s (remain 0m 31s) Loss: 693.3026(286.2308) Grad: 54326.2812 LR: 0.000016  \n",
      "Epoch: [32][7000/10164] Elapsed 1m 0s (remain 0m 27s) Loss: 17.9009(285.8475) Grad: 2963.0603 LR: 0.000016  \n",
      "Epoch: [32][7500/10164] Elapsed 1m 4s (remain 0m 22s) Loss: 176.2276(284.6665) Grad: 44307.2617 LR: 0.000016  \n",
      "Epoch: [32][8000/10164] Elapsed 1m 8s (remain 0m 18s) Loss: 29.9829(281.5985) Grad: 9783.0381 LR: 0.000016  \n",
      "Epoch: [32][8500/10164] Elapsed 1m 13s (remain 0m 14s) Loss: 58.0031(279.2090) Grad: 4059.7417 LR: 0.000016  \n",
      "Epoch: [32][9000/10164] Elapsed 1m 17s (remain 0m 9s) Loss: 49.2579(278.3065) Grad: 21616.8945 LR: 0.000016  \n",
      "Epoch: [32][9500/10164] Elapsed 1m 21s (remain 0m 5s) Loss: 72.4323(276.9083) Grad: 5069.1538 LR: 0.000016  \n",
      "Epoch: [32][10000/10164] Elapsed 1m 25s (remain 0m 1s) Loss: 172.2072(278.8120) Grad: 11449.0400 LR: 0.000016  \n",
      "Epoch: [32][10163/10164] Elapsed 1m 27s (remain 0m 0s) Loss: 106.6652(278.3219) Grad: 14204.6211 LR: 0.000016  \n",
      "EVAL: [0/1129] Elapsed 0m 0s (remain 1m 20s) Loss: 2714.9526(2714.9526) \n",
      "EVAL: [500/1129] Elapsed 0m 1s (remain 0m 2s) Loss: 723.5325(289.2813) \n",
      "EVAL: [1000/1129] Elapsed 0m 3s (remain 0m 0s) Loss: 49.1518(277.7751) \n"
     ]
    },
    {
     "name": "stderr",
     "output_type": "stream",
     "text": [
      "Epoch 32 - avg_train_loss: 278.3219  avg_val_loss: 283.5683  time: 91s\n",
      "Epoch 32 - Score: 16.8395\n"
     ]
    },
    {
     "name": "stdout",
     "output_type": "stream",
     "text": [
      "EVAL: [1128/1129] Elapsed 0m 3s (remain 0m 0s) Loss: 1195.8340(283.5683) \n",
      "Epoch: [33][0/10164] Elapsed 0m 0s (remain 13m 41s) Loss: 291.2698(291.2698) Grad: 43771.3125 LR: 0.000033  \n",
      "Epoch: [33][500/10164] Elapsed 0m 4s (remain 1m 24s) Loss: 69.2278(303.9019) Grad: 17267.2676 LR: 0.000033  \n",
      "Epoch: [33][1000/10164] Elapsed 0m 8s (remain 1m 18s) Loss: 451.2603(289.9471) Grad: 33043.8516 LR: 0.000033  \n",
      "Epoch: [33][1500/10164] Elapsed 0m 12s (remain 1m 14s) Loss: 659.8035(296.5528) Grad: 209878.4375 LR: 0.000033  \n",
      "Epoch: [33][2000/10164] Elapsed 0m 17s (remain 1m 9s) Loss: 68.5798(298.8424) Grad: 35087.3594 LR: 0.000033  \n",
      "Epoch: [33][2500/10164] Elapsed 0m 21s (remain 1m 5s) Loss: 46.0837(295.5382) Grad: 31956.1465 LR: 0.000033  \n",
      "Epoch: [33][3000/10164] Elapsed 0m 25s (remain 1m 1s) Loss: 53.0600(284.8495) Grad: 13431.4033 LR: 0.000033  \n",
      "Epoch: [33][3500/10164] Elapsed 0m 29s (remain 0m 56s) Loss: 106.1872(292.7998) Grad: 7037.2441 LR: 0.000033  \n",
      "Epoch: [33][4000/10164] Elapsed 0m 34s (remain 0m 52s) Loss: 82.5494(289.4825) Grad: 4171.5537 LR: 0.000033  \n",
      "Epoch: [33][4500/10164] Elapsed 0m 38s (remain 0m 48s) Loss: 72.0766(292.6377) Grad: 35001.6680 LR: 0.000033  \n",
      "Epoch: [33][5000/10164] Elapsed 0m 42s (remain 0m 44s) Loss: 476.1247(288.6423) Grad: 44494.2070 LR: 0.000033  \n",
      "Epoch: [33][5500/10164] Elapsed 0m 46s (remain 0m 39s) Loss: 121.5582(293.2469) Grad: 5321.4214 LR: 0.000033  \n",
      "Epoch: [33][6000/10164] Elapsed 0m 51s (remain 0m 35s) Loss: 17.2110(288.7306) Grad: 4654.7749 LR: 0.000033  \n",
      "Epoch: [33][6500/10164] Elapsed 0m 55s (remain 0m 31s) Loss: 704.2427(287.8734) Grad: 52700.9336 LR: 0.000033  \n",
      "Epoch: [33][7000/10164] Elapsed 0m 59s (remain 0m 26s) Loss: 14.3568(287.5596) Grad: 2411.3257 LR: 0.000033  \n",
      "Epoch: [33][7500/10164] Elapsed 1m 3s (remain 0m 22s) Loss: 156.0443(286.3006) Grad: 42900.4609 LR: 0.000033  \n",
      "Epoch: [33][8000/10164] Elapsed 1m 7s (remain 0m 18s) Loss: 28.6588(282.9193) Grad: 10273.8369 LR: 0.000033  \n",
      "Epoch: [33][8500/10164] Elapsed 1m 11s (remain 0m 14s) Loss: 61.0621(280.5132) Grad: 3527.6948 LR: 0.000033  \n",
      "Epoch: [33][9000/10164] Elapsed 1m 15s (remain 0m 9s) Loss: 40.8576(279.3970) Grad: 17256.3516 LR: 0.000033  \n",
      "Epoch: [33][9500/10164] Elapsed 1m 20s (remain 0m 5s) Loss: 81.2946(278.1512) Grad: 6214.8843 LR: 0.000033  \n",
      "Epoch: [33][10000/10164] Elapsed 1m 24s (remain 0m 1s) Loss: 175.4381(280.2009) Grad: 12572.7666 LR: 0.000033  \n",
      "Epoch: [33][10163/10164] Elapsed 1m 26s (remain 0m 0s) Loss: 93.6469(279.7517) Grad: 11809.1670 LR: 0.000033  \n",
      "EVAL: [0/1129] Elapsed 0m 0s (remain 1m 23s) Loss: 2698.2625(2698.2625) \n",
      "EVAL: [500/1129] Elapsed 0m 1s (remain 0m 2s) Loss: 689.4898(288.4342) \n",
      "EVAL: [1000/1129] Elapsed 0m 3s (remain 0m 0s) Loss: 56.0688(278.0551) \n"
     ]
    },
    {
     "name": "stderr",
     "output_type": "stream",
     "text": [
      "Epoch 33 - avg_train_loss: 279.7517  avg_val_loss: 283.5970  time: 90s\n",
      "Epoch 33 - Score: 16.8403\n"
     ]
    },
    {
     "name": "stdout",
     "output_type": "stream",
     "text": [
      "EVAL: [1128/1129] Elapsed 0m 3s (remain 0m 0s) Loss: 1114.6899(283.5970) \n",
      "Epoch: [34][0/10164] Elapsed 0m 0s (remain 13m 12s) Loss: 274.1102(274.1102) Grad: 32413.3008 LR: 0.000055  \n",
      "Epoch: [34][500/10164] Elapsed 0m 4s (remain 1m 23s) Loss: 77.3080(306.7006) Grad: 17934.3887 LR: 0.000055  \n",
      "Epoch: [34][1000/10164] Elapsed 0m 8s (remain 1m 19s) Loss: 436.7049(293.2146) Grad: 34444.2305 LR: 0.000055  \n",
      "Epoch: [34][1500/10164] Elapsed 0m 12s (remain 1m 14s) Loss: 641.5835(298.9545) Grad: 166493.9688 LR: 0.000055  \n",
      "Epoch: [34][2000/10164] Elapsed 0m 17s (remain 1m 9s) Loss: 79.9538(300.6565) Grad: 38319.5898 LR: 0.000055  \n",
      "Epoch: [34][2500/10164] Elapsed 0m 21s (remain 1m 5s) Loss: 35.7721(297.6325) Grad: 26361.3418 LR: 0.000055  \n",
      "Epoch: [34][3000/10164] Elapsed 0m 25s (remain 1m 1s) Loss: 73.0427(286.4627) Grad: 19409.6914 LR: 0.000055  \n",
      "Epoch: [34][3500/10164] Elapsed 0m 29s (remain 0m 56s) Loss: 99.2926(295.3382) Grad: 6286.4775 LR: 0.000055  \n",
      "Epoch: [34][4000/10164] Elapsed 0m 34s (remain 0m 52s) Loss: 88.0278(292.4098) Grad: 3942.1467 LR: 0.000055  \n",
      "Epoch: [34][4500/10164] Elapsed 0m 38s (remain 0m 48s) Loss: 78.5883(295.4166) Grad: 25880.8926 LR: 0.000055  \n",
      "Epoch: [34][5000/10164] Elapsed 0m 43s (remain 0m 44s) Loss: 499.9121(291.3390) Grad: 48024.8125 LR: 0.000055  \n",
      "Epoch: [34][5500/10164] Elapsed 0m 47s (remain 0m 40s) Loss: 153.0453(295.7162) Grad: 8596.4473 LR: 0.000055  \n",
      "Epoch: [34][6000/10164] Elapsed 0m 51s (remain 0m 35s) Loss: 21.4724(291.1089) Grad: 4323.9595 LR: 0.000055  \n",
      "Epoch: [34][6500/10164] Elapsed 0m 55s (remain 0m 31s) Loss: 706.5597(290.2999) Grad: 49475.8633 LR: 0.000055  \n",
      "Epoch: [34][7000/10164] Elapsed 1m 0s (remain 0m 27s) Loss: 18.3296(289.8316) Grad: 3557.4819 LR: 0.000055  \n",
      "Epoch: [34][7500/10164] Elapsed 1m 4s (remain 0m 22s) Loss: 162.9167(288.6288) Grad: 27866.4043 LR: 0.000055  \n",
      "Epoch: [34][8000/10164] Elapsed 1m 9s (remain 0m 18s) Loss: 26.1966(285.3810) Grad: 9762.4404 LR: 0.000055  \n",
      "Epoch: [34][8500/10164] Elapsed 1m 13s (remain 0m 14s) Loss: 63.2953(282.8082) Grad: 4445.7925 LR: 0.000055  \n",
      "Epoch: [34][9000/10164] Elapsed 1m 17s (remain 0m 10s) Loss: 51.3957(281.6212) Grad: 22645.8438 LR: 0.000055  \n",
      "Epoch: [34][9500/10164] Elapsed 1m 21s (remain 0m 5s) Loss: 75.8693(280.5471) Grad: 7632.5439 LR: 0.000055  \n",
      "Epoch: [34][10000/10164] Elapsed 1m 26s (remain 0m 1s) Loss: 184.7345(282.6701) Grad: 15946.9404 LR: 0.000055  \n",
      "Epoch: [34][10163/10164] Elapsed 1m 27s (remain 0m 0s) Loss: 117.3063(282.2001) Grad: 15589.7344 LR: 0.000055  \n",
      "EVAL: [0/1129] Elapsed 0m 0s (remain 1m 22s) Loss: 2656.5654(2656.5654) \n",
      "EVAL: [500/1129] Elapsed 0m 1s (remain 0m 2s) Loss: 722.9258(304.6453) \n",
      "EVAL: [1000/1129] Elapsed 0m 3s (remain 0m 0s) Loss: 73.7319(292.7463) \n"
     ]
    },
    {
     "name": "stderr",
     "output_type": "stream",
     "text": [
      "Epoch 34 - avg_train_loss: 282.2001  avg_val_loss: 297.1855  time: 91s\n",
      "Epoch 34 - Score: 17.2391\n"
     ]
    },
    {
     "name": "stdout",
     "output_type": "stream",
     "text": [
      "EVAL: [1128/1129] Elapsed 0m 3s (remain 0m 0s) Loss: 1215.0801(297.1855) \n",
      "Epoch: [35][0/10164] Elapsed 0m 0s (remain 13m 25s) Loss: 296.2244(296.2244) Grad: 32916.5312 LR: 0.000078  \n",
      "Epoch: [35][500/10164] Elapsed 0m 4s (remain 1m 23s) Loss: 83.4533(309.9681) Grad: 20887.4258 LR: 0.000078  \n",
      "Epoch: [35][1000/10164] Elapsed 0m 8s (remain 1m 20s) Loss: 411.6197(296.7812) Grad: 33806.3477 LR: 0.000078  \n",
      "Epoch: [35][1500/10164] Elapsed 0m 12s (remain 1m 14s) Loss: 578.6471(303.2323) Grad: 104980.6406 LR: 0.000078  \n",
      "Epoch: [35][2000/10164] Elapsed 0m 17s (remain 1m 9s) Loss: 65.4970(304.6477) Grad: 28438.1543 LR: 0.000078  \n",
      "Epoch: [35][2500/10164] Elapsed 0m 21s (remain 1m 6s) Loss: 59.9089(301.5354) Grad: 34635.9570 LR: 0.000078  \n",
      "Epoch: [35][3000/10164] Elapsed 0m 26s (remain 1m 2s) Loss: 52.1145(290.2075) Grad: 9143.9375 LR: 0.000078  \n",
      "Epoch: [35][3500/10164] Elapsed 0m 30s (remain 0m 57s) Loss: 105.3209(298.6023) Grad: 7340.5142 LR: 0.000078  \n",
      "Epoch: [35][4000/10164] Elapsed 0m 34s (remain 0m 53s) Loss: 77.6998(295.8454) Grad: 4037.8713 LR: 0.000078  \n",
      "Epoch: [35][4500/10164] Elapsed 0m 38s (remain 0m 48s) Loss: 107.7679(299.2612) Grad: 49324.9688 LR: 0.000078  \n",
      "Epoch: [35][5000/10164] Elapsed 0m 43s (remain 0m 44s) Loss: 488.6205(295.2459) Grad: 40504.4180 LR: 0.000078  \n",
      "Epoch: [35][5500/10164] Elapsed 0m 47s (remain 0m 40s) Loss: 157.2634(299.3402) Grad: 6725.1772 LR: 0.000078  \n",
      "Epoch: [35][6000/10164] Elapsed 0m 51s (remain 0m 35s) Loss: 12.3189(294.6131) Grad: 3229.8406 LR: 0.000078  \n",
      "Epoch: [35][6500/10164] Elapsed 0m 56s (remain 0m 31s) Loss: 717.4081(293.8946) Grad: 59617.6992 LR: 0.000078  \n",
      "Epoch: [35][7000/10164] Elapsed 1m 0s (remain 0m 27s) Loss: 21.1393(293.2692) Grad: 4760.4624 LR: 0.000078  \n",
      "Epoch: [35][7500/10164] Elapsed 1m 4s (remain 0m 22s) Loss: 198.6525(292.3655) Grad: 40474.2852 LR: 0.000078  \n",
      "Epoch: [35][8000/10164] Elapsed 1m 8s (remain 0m 18s) Loss: 39.3887(289.2422) Grad: 15145.0762 LR: 0.000078  \n",
      "Epoch: [35][8500/10164] Elapsed 1m 13s (remain 0m 14s) Loss: 60.5515(286.7758) Grad: 3988.5283 LR: 0.000078  \n",
      "Epoch: [35][9000/10164] Elapsed 1m 17s (remain 0m 10s) Loss: 57.7811(285.6596) Grad: 20784.9414 LR: 0.000078  \n",
      "Epoch: [35][9500/10164] Elapsed 1m 21s (remain 0m 5s) Loss: 76.9098(284.3385) Grad: 4773.9141 LR: 0.000078  \n",
      "Epoch: [35][10000/10164] Elapsed 1m 26s (remain 0m 1s) Loss: 165.9089(286.3012) Grad: 17046.8223 LR: 0.000078  \n",
      "Epoch: [35][10163/10164] Elapsed 1m 27s (remain 0m 0s) Loss: 99.4979(285.8818) Grad: 10566.3115 LR: 0.000078  \n",
      "EVAL: [0/1129] Elapsed 0m 0s (remain 1m 21s) Loss: 2573.1841(2573.1841) \n",
      "EVAL: [500/1129] Elapsed 0m 1s (remain 0m 2s) Loss: 703.1679(329.0603) \n",
      "EVAL: [1000/1129] Elapsed 0m 3s (remain 0m 0s) Loss: 78.8078(319.2834) \n"
     ]
    },
    {
     "name": "stderr",
     "output_type": "stream",
     "text": [
      "Epoch 35 - avg_train_loss: 285.8818  avg_val_loss: 321.2300  time: 92s\n",
      "Epoch 35 - Score: 17.9229\n"
     ]
    },
    {
     "name": "stdout",
     "output_type": "stream",
     "text": [
      "EVAL: [1128/1129] Elapsed 0m 3s (remain 0m 0s) Loss: 1040.0142(321.2300) \n",
      "Epoch: [36][0/10164] Elapsed 0m 0s (remain 13m 24s) Loss: 303.7300(303.7300) Grad: 37891.1250 LR: 0.000094  \n",
      "Epoch: [36][500/10164] Elapsed 0m 4s (remain 1m 22s) Loss: 85.6754(309.1174) Grad: 20841.3770 LR: 0.000094  \n",
      "Epoch: [36][1000/10164] Elapsed 0m 8s (remain 1m 18s) Loss: 353.7581(297.6646) Grad: 37889.1875 LR: 0.000094  \n",
      "Epoch: [36][1500/10164] Elapsed 0m 12s (remain 1m 13s) Loss: 579.6976(303.6760) Grad: 102372.1797 LR: 0.000094  \n",
      "Epoch: [36][2000/10164] Elapsed 0m 17s (remain 1m 9s) Loss: 68.6118(305.5332) Grad: 20387.8301 LR: 0.000094  \n",
      "Epoch: [36][2500/10164] Elapsed 0m 21s (remain 1m 4s) Loss: 58.9208(304.3173) Grad: 48559.7422 LR: 0.000094  \n",
      "Epoch: [36][3000/10164] Elapsed 0m 25s (remain 1m 0s) Loss: 54.2246(293.1748) Grad: 8900.1299 LR: 0.000094  \n",
      "Epoch: [36][3500/10164] Elapsed 0m 29s (remain 0m 56s) Loss: 114.8906(301.4071) Grad: 11976.9717 LR: 0.000094  \n",
      "Epoch: [36][4000/10164] Elapsed 0m 33s (remain 0m 51s) Loss: 85.6994(298.8988) Grad: 5522.6519 LR: 0.000094  \n",
      "Epoch: [36][4500/10164] Elapsed 0m 37s (remain 0m 47s) Loss: 75.4664(302.1345) Grad: 23309.8496 LR: 0.000094  \n",
      "Epoch: [36][5000/10164] Elapsed 0m 41s (remain 0m 43s) Loss: 463.9505(297.7444) Grad: 55867.8594 LR: 0.000094  \n",
      "Epoch: [36][5500/10164] Elapsed 0m 46s (remain 0m 39s) Loss: 155.2262(302.3243) Grad: 11496.4062 LR: 0.000094  \n",
      "Epoch: [36][6000/10164] Elapsed 0m 50s (remain 0m 34s) Loss: 15.9644(297.6323) Grad: 3799.2656 LR: 0.000094  \n",
      "Epoch: [36][6500/10164] Elapsed 0m 54s (remain 0m 30s) Loss: 731.9518(296.9464) Grad: 71961.0625 LR: 0.000094  \n",
      "Epoch: [36][7000/10164] Elapsed 0m 58s (remain 0m 26s) Loss: 25.6416(296.2715) Grad: 5614.2915 LR: 0.000094  \n",
      "Epoch: [36][7500/10164] Elapsed 1m 2s (remain 0m 22s) Loss: 181.1238(295.0246) Grad: 35007.0547 LR: 0.000094  \n",
      "Epoch: [36][8000/10164] Elapsed 1m 7s (remain 0m 18s) Loss: 32.4263(291.5599) Grad: 12894.6436 LR: 0.000094  \n",
      "Epoch: [36][8500/10164] Elapsed 1m 11s (remain 0m 14s) Loss: 63.5806(289.0508) Grad: 4468.0703 LR: 0.000094  \n",
      "Epoch: [36][9000/10164] Elapsed 1m 16s (remain 0m 9s) Loss: 41.7730(287.8168) Grad: 13743.6035 LR: 0.000094  \n",
      "Epoch: [36][9500/10164] Elapsed 1m 20s (remain 0m 5s) Loss: 56.2237(286.5957) Grad: 4218.5229 LR: 0.000094  \n",
      "Epoch: [36][10000/10164] Elapsed 1m 24s (remain 0m 1s) Loss: 177.1852(288.9382) Grad: 17315.2930 LR: 0.000094  \n",
      "Epoch: [36][10163/10164] Elapsed 1m 26s (remain 0m 0s) Loss: 100.5349(288.4884) Grad: 10266.9082 LR: 0.000094  \n",
      "EVAL: [0/1129] Elapsed 0m 0s (remain 1m 21s) Loss: 2761.8589(2761.8589) \n",
      "EVAL: [500/1129] Elapsed 0m 1s (remain 0m 2s) Loss: 703.8361(334.1101) \n",
      "EVAL: [1000/1129] Elapsed 0m 3s (remain 0m 0s) Loss: 93.0058(323.9146) \n"
     ]
    },
    {
     "name": "stderr",
     "output_type": "stream",
     "text": [
      "Epoch 36 - avg_train_loss: 288.4884  avg_val_loss: 325.1170  time: 90s\n",
      "Epoch 36 - Score: 18.0310\n"
     ]
    },
    {
     "name": "stdout",
     "output_type": "stream",
     "text": [
      "EVAL: [1128/1129] Elapsed 0m 3s (remain 0m 0s) Loss: 1024.7402(325.1170) \n",
      "Epoch: [37][0/10164] Elapsed 0m 0s (remain 13m 15s) Loss: 361.4167(361.4167) Grad: 33799.4688 LR: 0.000100  \n",
      "Epoch: [37][500/10164] Elapsed 0m 4s (remain 1m 22s) Loss: 91.4264(307.8631) Grad: 22168.5586 LR: 0.000100  \n",
      "Epoch: [37][1000/10164] Elapsed 0m 8s (remain 1m 18s) Loss: 390.9524(296.4633) Grad: 32513.7539 LR: 0.000100  \n",
      "Epoch: [37][1500/10164] Elapsed 0m 12s (remain 1m 13s) Loss: 675.5565(304.0712) Grad: 184205.3125 LR: 0.000100  \n",
      "Epoch: [37][2000/10164] Elapsed 0m 16s (remain 1m 9s) Loss: 60.9433(305.4457) Grad: 13049.9990 LR: 0.000100  \n",
      "Epoch: [37][2500/10164] Elapsed 0m 21s (remain 1m 4s) Loss: 34.3677(303.0165) Grad: 20910.5371 LR: 0.000100  \n",
      "Epoch: [37][3000/10164] Elapsed 0m 25s (remain 1m 0s) Loss: 64.2989(292.1558) Grad: 12737.5654 LR: 0.000100  \n",
      "Epoch: [37][3500/10164] Elapsed 0m 29s (remain 0m 56s) Loss: 121.2799(301.1408) Grad: 12664.3711 LR: 0.000100  \n",
      "Epoch: [37][4000/10164] Elapsed 0m 34s (remain 0m 52s) Loss: 84.8610(298.9317) Grad: 4943.1553 LR: 0.000100  \n",
      "Epoch: [37][4500/10164] Elapsed 0m 38s (remain 0m 48s) Loss: 72.2851(302.1824) Grad: 24972.0723 LR: 0.000100  \n",
      "Epoch: [37][5000/10164] Elapsed 0m 43s (remain 0m 44s) Loss: 431.9666(297.4469) Grad: 33149.5117 LR: 0.000100  \n",
      "Epoch: [37][5500/10164] Elapsed 0m 47s (remain 0m 40s) Loss: 150.4496(301.9371) Grad: 13794.8506 LR: 0.000100  \n",
      "Epoch: [37][6000/10164] Elapsed 0m 51s (remain 0m 35s) Loss: 17.5775(297.3433) Grad: 4071.8772 LR: 0.000100  \n",
      "Epoch: [37][6500/10164] Elapsed 0m 55s (remain 0m 31s) Loss: 667.8536(296.2988) Grad: 39698.8555 LR: 0.000100  \n",
      "Epoch: [37][7000/10164] Elapsed 1m 0s (remain 0m 27s) Loss: 18.3676(295.5455) Grad: 2517.8071 LR: 0.000100  \n",
      "Epoch: [37][7500/10164] Elapsed 1m 4s (remain 0m 22s) Loss: 185.1959(294.6165) Grad: 32813.9648 LR: 0.000100  \n",
      "Epoch: [37][8000/10164] Elapsed 1m 8s (remain 0m 18s) Loss: 36.2368(291.3227) Grad: 9558.7217 LR: 0.000100  \n",
      "Epoch: [37][8500/10164] Elapsed 1m 12s (remain 0m 14s) Loss: 63.3730(288.7139) Grad: 4251.4712 LR: 0.000100  \n",
      "Epoch: [37][9000/10164] Elapsed 1m 17s (remain 0m 9s) Loss: 49.2931(287.2954) Grad: 13109.1611 LR: 0.000100  \n",
      "Epoch: [37][9500/10164] Elapsed 1m 21s (remain 0m 5s) Loss: 81.5254(286.0788) Grad: 5702.5762 LR: 0.000100  \n",
      "Epoch: [37][10000/10164] Elapsed 1m 25s (remain 0m 1s) Loss: 188.1751(288.3916) Grad: 11588.3682 LR: 0.000100  \n",
      "Epoch: [37][10163/10164] Elapsed 1m 26s (remain 0m 0s) Loss: 99.1327(287.9844) Grad: 15095.4443 LR: 0.000100  \n",
      "EVAL: [0/1129] Elapsed 0m 0s (remain 1m 23s) Loss: 2616.0732(2616.0732) \n",
      "EVAL: [500/1129] Elapsed 0m 1s (remain 0m 2s) Loss: 715.3790(317.4634) \n",
      "EVAL: [1000/1129] Elapsed 0m 3s (remain 0m 0s) Loss: 70.8781(303.5372) \n"
     ]
    },
    {
     "name": "stderr",
     "output_type": "stream",
     "text": [
      "Epoch 37 - avg_train_loss: 287.9844  avg_val_loss: 306.7821  time: 91s\n",
      "Epoch 37 - Score: 17.5152\n"
     ]
    },
    {
     "name": "stdout",
     "output_type": "stream",
     "text": [
      "EVAL: [1128/1129] Elapsed 0m 3s (remain 0m 0s) Loss: 1124.4897(306.7821) \n",
      "Epoch: [38][0/10164] Elapsed 0m 0s (remain 13m 36s) Loss: 316.8409(316.8409) Grad: 56514.5625 LR: 0.000094  \n",
      "Epoch: [38][500/10164] Elapsed 0m 4s (remain 1m 23s) Loss: 83.6880(309.9171) Grad: 14258.3848 LR: 0.000094  \n",
      "Epoch: [38][1000/10164] Elapsed 0m 8s (remain 1m 18s) Loss: 417.6514(295.1932) Grad: 46188.3672 LR: 0.000094  \n",
      "Epoch: [38][1500/10164] Elapsed 0m 12s (remain 1m 14s) Loss: 516.7692(301.2492) Grad: 80213.9453 LR: 0.000094  \n",
      "Epoch: [38][2000/10164] Elapsed 0m 17s (remain 1m 9s) Loss: 52.2593(303.3017) Grad: 10506.2891 LR: 0.000094  \n",
      "Epoch: [38][2500/10164] Elapsed 0m 21s (remain 1m 5s) Loss: 44.4910(301.2134) Grad: 29048.2109 LR: 0.000094  \n",
      "Epoch: [38][3000/10164] Elapsed 0m 25s (remain 1m 1s) Loss: 53.0815(289.8885) Grad: 6506.1274 LR: 0.000094  \n",
      "Epoch: [38][3500/10164] Elapsed 0m 29s (remain 0m 56s) Loss: 114.7151(298.0979) Grad: 14490.1885 LR: 0.000094  \n",
      "Epoch: [38][4000/10164] Elapsed 0m 34s (remain 0m 52s) Loss: 77.2969(296.0123) Grad: 5983.5024 LR: 0.000094  \n",
      "Epoch: [38][4500/10164] Elapsed 0m 38s (remain 0m 48s) Loss: 84.3977(298.9627) Grad: 24838.4844 LR: 0.000094  \n",
      "Epoch: [38][5000/10164] Elapsed 0m 42s (remain 0m 43s) Loss: 427.8970(294.1943) Grad: 44574.8516 LR: 0.000094  \n",
      "Epoch: [38][5500/10164] Elapsed 0m 46s (remain 0m 39s) Loss: 140.8910(298.7984) Grad: 13592.3350 LR: 0.000094  \n",
      "Epoch: [38][6000/10164] Elapsed 0m 51s (remain 0m 35s) Loss: 19.1395(294.0285) Grad: 2480.1384 LR: 0.000094  \n",
      "Epoch: [38][6500/10164] Elapsed 0m 55s (remain 0m 31s) Loss: 626.4019(293.1278) Grad: 40923.7344 LR: 0.000094  \n",
      "Epoch: [38][7000/10164] Elapsed 0m 59s (remain 0m 26s) Loss: 22.3103(292.6986) Grad: 3715.7151 LR: 0.000094  \n",
      "Epoch: [38][7500/10164] Elapsed 1m 3s (remain 0m 22s) Loss: 168.0426(291.5405) Grad: 24570.4570 LR: 0.000094  \n",
      "Epoch: [38][8000/10164] Elapsed 1m 8s (remain 0m 18s) Loss: 27.7682(288.3021) Grad: 8736.0752 LR: 0.000094  \n",
      "Epoch: [38][8500/10164] Elapsed 1m 12s (remain 0m 14s) Loss: 58.5018(285.7994) Grad: 3928.7046 LR: 0.000094  \n",
      "Epoch: [38][9000/10164] Elapsed 1m 17s (remain 0m 9s) Loss: 51.8781(284.7000) Grad: 15631.9961 LR: 0.000094  \n",
      "Epoch: [38][9500/10164] Elapsed 1m 21s (remain 0m 5s) Loss: 81.3488(283.4027) Grad: 6296.8726 LR: 0.000094  \n",
      "Epoch: [38][10000/10164] Elapsed 1m 25s (remain 0m 1s) Loss: 209.1884(285.4745) Grad: 16919.7695 LR: 0.000094  \n",
      "Epoch: [38][10163/10164] Elapsed 1m 27s (remain 0m 0s) Loss: 97.5901(285.0365) Grad: 13085.6289 LR: 0.000094  \n",
      "EVAL: [0/1129] Elapsed 0m 0s (remain 1m 21s) Loss: 2646.4302(2646.4302) \n",
      "EVAL: [500/1129] Elapsed 0m 1s (remain 0m 2s) Loss: 671.5114(322.0667) \n",
      "EVAL: [1000/1129] Elapsed 0m 3s (remain 0m 0s) Loss: 92.8802(308.5297) \n"
     ]
    },
    {
     "name": "stderr",
     "output_type": "stream",
     "text": [
      "Epoch 38 - avg_train_loss: 285.0365  avg_val_loss: 311.0711  time: 91s\n",
      "Epoch 38 - Score: 17.6372\n"
     ]
    },
    {
     "name": "stdout",
     "output_type": "stream",
     "text": [
      "EVAL: [1128/1129] Elapsed 0m 3s (remain 0m 0s) Loss: 938.3455(311.0711) \n",
      "Epoch: [39][0/10164] Elapsed 0m 0s (remain 13m 32s) Loss: 336.1118(336.1118) Grad: 35073.5547 LR: 0.000078  \n",
      "Epoch: [39][500/10164] Elapsed 0m 4s (remain 1m 25s) Loss: 74.7922(302.9618) Grad: 15168.0742 LR: 0.000078  \n",
      "Epoch: [39][1000/10164] Elapsed 0m 8s (remain 1m 18s) Loss: 389.7615(290.4769) Grad: 31962.1992 LR: 0.000078  \n",
      "Epoch: [39][1500/10164] Elapsed 0m 12s (remain 1m 13s) Loss: 518.1506(296.3153) Grad: 108668.7188 LR: 0.000078  \n",
      "Epoch: [39][2000/10164] Elapsed 0m 16s (remain 1m 9s) Loss: 59.2534(298.7196) Grad: 22691.1523 LR: 0.000078  \n",
      "Epoch: [39][2500/10164] Elapsed 0m 21s (remain 1m 5s) Loss: 50.5730(295.6564) Grad: 28376.9062 LR: 0.000078  \n",
      "Epoch: [39][3000/10164] Elapsed 0m 25s (remain 1m 0s) Loss: 46.8618(284.8373) Grad: 12432.8779 LR: 0.000078  \n",
      "Epoch: [39][3500/10164] Elapsed 0m 29s (remain 0m 56s) Loss: 98.7651(292.3796) Grad: 10196.9238 LR: 0.000078  \n",
      "Epoch: [39][4000/10164] Elapsed 0m 33s (remain 0m 51s) Loss: 81.3443(289.8788) Grad: 6493.8188 LR: 0.000078  \n",
      "Epoch: [39][4500/10164] Elapsed 0m 37s (remain 0m 47s) Loss: 87.6880(292.7718) Grad: 28822.0957 LR: 0.000078  \n",
      "Epoch: [39][5000/10164] Elapsed 0m 42s (remain 0m 43s) Loss: 391.8822(288.5285) Grad: 38580.6953 LR: 0.000078  \n",
      "Epoch: [39][5500/10164] Elapsed 0m 46s (remain 0m 39s) Loss: 135.7251(293.0073) Grad: 11102.9375 LR: 0.000078  \n",
      "Epoch: [39][6000/10164] Elapsed 0m 50s (remain 0m 35s) Loss: 16.7521(288.5132) Grad: 2842.7761 LR: 0.000078  \n",
      "Epoch: [39][6500/10164] Elapsed 0m 54s (remain 0m 30s) Loss: 683.4094(287.8000) Grad: 36406.0859 LR: 0.000078  \n",
      "Epoch: [39][7000/10164] Elapsed 0m 59s (remain 0m 26s) Loss: 20.4201(287.0873) Grad: 2949.7419 LR: 0.000078  \n",
      "Epoch: [39][7500/10164] Elapsed 1m 3s (remain 0m 22s) Loss: 147.6646(285.9401) Grad: 22977.0293 LR: 0.000078  \n",
      "Epoch: [39][8000/10164] Elapsed 1m 7s (remain 0m 18s) Loss: 36.8272(282.6068) Grad: 12843.0088 LR: 0.000078  \n",
      "Epoch: [39][8500/10164] Elapsed 1m 12s (remain 0m 14s) Loss: 63.9622(280.0727) Grad: 3581.7139 LR: 0.000078  \n",
      "Epoch: [39][9000/10164] Elapsed 1m 16s (remain 0m 9s) Loss: 39.1742(278.9010) Grad: 12292.9375 LR: 0.000078  \n",
      "Epoch: [39][9500/10164] Elapsed 1m 21s (remain 0m 5s) Loss: 74.6659(277.9613) Grad: 8125.1265 LR: 0.000078  \n",
      "Epoch: [39][10000/10164] Elapsed 1m 25s (remain 0m 1s) Loss: 201.6091(280.0983) Grad: 17254.6152 LR: 0.000078  \n",
      "Epoch: [39][10163/10164] Elapsed 1m 26s (remain 0m 0s) Loss: 73.6377(279.6872) Grad: 6537.7500 LR: 0.000078  \n",
      "EVAL: [0/1129] Elapsed 0m 0s (remain 1m 20s) Loss: 2579.7754(2579.7754) \n",
      "EVAL: [500/1129] Elapsed 0m 1s (remain 0m 2s) Loss: 691.5471(321.4094) \n",
      "EVAL: [1000/1129] Elapsed 0m 3s (remain 0m 0s) Loss: 84.4731(310.2549) \n"
     ]
    },
    {
     "name": "stderr",
     "output_type": "stream",
     "text": [
      "Epoch 39 - avg_train_loss: 279.6872  avg_val_loss: 312.4953  time: 91s\n",
      "Epoch 39 - Score: 17.6775\n"
     ]
    },
    {
     "name": "stdout",
     "output_type": "stream",
     "text": [
      "EVAL: [1128/1129] Elapsed 0m 3s (remain 0m 0s) Loss: 990.8973(312.4953) \n",
      "Epoch: [40][0/10164] Elapsed 0m 0s (remain 13m 39s) Loss: 290.0750(290.0750) Grad: 35070.5781 LR: 0.000055  \n",
      "Epoch: [40][500/10164] Elapsed 0m 4s (remain 1m 23s) Loss: 64.0647(295.9734) Grad: 14285.8740 LR: 0.000055  \n",
      "Epoch: [40][1000/10164] Elapsed 0m 8s (remain 1m 19s) Loss: 376.7760(286.2837) Grad: 34837.0664 LR: 0.000055  \n",
      "Epoch: [40][1500/10164] Elapsed 0m 12s (remain 1m 14s) Loss: 541.0410(291.9479) Grad: 141696.2031 LR: 0.000055  \n",
      "Epoch: [40][2000/10164] Elapsed 0m 17s (remain 1m 10s) Loss: 75.3391(293.7964) Grad: 25735.3008 LR: 0.000055  \n",
      "Epoch: [40][2500/10164] Elapsed 0m 21s (remain 1m 5s) Loss: 46.2241(291.1592) Grad: 27863.9414 LR: 0.000055  \n",
      "Epoch: [40][3000/10164] Elapsed 0m 25s (remain 1m 1s) Loss: 72.4392(279.9333) Grad: 21174.4668 LR: 0.000055  \n",
      "Epoch: [40][3500/10164] Elapsed 0m 29s (remain 0m 57s) Loss: 99.2122(288.0652) Grad: 9077.7861 LR: 0.000055  \n",
      "Epoch: [40][4000/10164] Elapsed 0m 34s (remain 0m 52s) Loss: 70.8104(284.8742) Grad: 4379.1343 LR: 0.000055  \n",
      "Epoch: [40][4500/10164] Elapsed 0m 38s (remain 0m 48s) Loss: 92.6678(287.4035) Grad: 32350.6289 LR: 0.000055  \n",
      "Epoch: [40][5000/10164] Elapsed 0m 42s (remain 0m 44s) Loss: 488.5947(283.4333) Grad: 37691.9805 LR: 0.000055  \n",
      "Epoch: [40][5500/10164] Elapsed 0m 46s (remain 0m 39s) Loss: 137.6431(287.9632) Grad: 14433.9707 LR: 0.000055  \n",
      "Epoch: [40][6000/10164] Elapsed 0m 51s (remain 0m 35s) Loss: 20.6631(283.4646) Grad: 3598.1836 LR: 0.000055  \n",
      "Epoch: [40][6500/10164] Elapsed 0m 55s (remain 0m 31s) Loss: 768.1577(282.4448) Grad: 45620.9492 LR: 0.000055  \n",
      "Epoch: [40][7000/10164] Elapsed 0m 59s (remain 0m 27s) Loss: 18.5981(281.7979) Grad: 2972.5554 LR: 0.000055  \n",
      "Epoch: [40][7500/10164] Elapsed 1m 4s (remain 0m 22s) Loss: 168.8562(280.6925) Grad: 32223.5254 LR: 0.000055  \n",
      "Epoch: [40][8000/10164] Elapsed 1m 8s (remain 0m 18s) Loss: 35.2698(277.2212) Grad: 10919.5293 LR: 0.000055  \n",
      "Epoch: [40][8500/10164] Elapsed 1m 12s (remain 0m 14s) Loss: 61.1396(274.8194) Grad: 3184.9211 LR: 0.000055  \n",
      "Epoch: [40][9000/10164] Elapsed 1m 17s (remain 0m 9s) Loss: 46.4580(273.7801) Grad: 16291.3291 LR: 0.000055  \n",
      "Epoch: [40][9500/10164] Elapsed 1m 21s (remain 0m 5s) Loss: 89.4875(272.5337) Grad: 7955.6797 LR: 0.000055  \n",
      "Epoch: [40][10000/10164] Elapsed 1m 25s (remain 0m 1s) Loss: 203.5711(274.4809) Grad: 17872.0859 LR: 0.000055  \n",
      "Epoch: [40][10163/10164] Elapsed 1m 26s (remain 0m 0s) Loss: 89.6528(274.0890) Grad: 10538.3857 LR: 0.000055  \n",
      "EVAL: [0/1129] Elapsed 0m 0s (remain 1m 21s) Loss: 2546.0396(2546.0396) \n",
      "EVAL: [500/1129] Elapsed 0m 1s (remain 0m 2s) Loss: 562.2462(284.8032) \n",
      "EVAL: [1000/1129] Elapsed 0m 3s (remain 0m 0s) Loss: 59.1193(274.7217) \n"
     ]
    },
    {
     "name": "stderr",
     "output_type": "stream",
     "text": [
      "Epoch 40 - avg_train_loss: 274.0890  avg_val_loss: 279.3668  time: 91s\n",
      "Epoch 40 - Score: 16.7143\n",
      "Validation loss Improved (282.5832978163556 ---> 279.36682287711955)\n",
      "Epoch 40 - Save Best Loss: 279.3668 Model\n"
     ]
    },
    {
     "name": "stdout",
     "output_type": "stream",
     "text": [
      "EVAL: [1128/1129] Elapsed 0m 3s (remain 0m 0s) Loss: 1132.3726(279.3668) \n",
      "Epoch: [41][0/10164] Elapsed 0m 0s (remain 14m 59s) Loss: 283.1609(283.1609) Grad: 33045.5117 LR: 0.000033  \n",
      "Epoch: [41][500/10164] Elapsed 0m 4s (remain 1m 24s) Loss: 59.4012(287.2468) Grad: 12063.3975 LR: 0.000033  \n",
      "Epoch: [41][1000/10164] Elapsed 0m 8s (remain 1m 18s) Loss: 375.9965(277.3865) Grad: 41077.5234 LR: 0.000033  \n",
      "Epoch: [41][1500/10164] Elapsed 0m 12s (remain 1m 13s) Loss: 607.7980(283.4057) Grad: 172023.0000 LR: 0.000033  \n",
      "Epoch: [41][2000/10164] Elapsed 0m 16s (remain 1m 9s) Loss: 58.7977(286.5271) Grad: 23066.3438 LR: 0.000033  \n",
      "Epoch: [41][2500/10164] Elapsed 0m 21s (remain 1m 5s) Loss: 38.6273(283.7800) Grad: 23157.5781 LR: 0.000033  \n",
      "Epoch: [41][3000/10164] Elapsed 0m 25s (remain 1m 0s) Loss: 58.2757(273.1954) Grad: 10974.5674 LR: 0.000033  \n",
      "Epoch: [41][3500/10164] Elapsed 0m 29s (remain 0m 56s) Loss: 94.0267(281.4377) Grad: 8922.2461 LR: 0.000033  \n",
      "Epoch: [41][4000/10164] Elapsed 0m 34s (remain 0m 52s) Loss: 80.3577(279.0658) Grad: 3978.0549 LR: 0.000033  \n",
      "Epoch: [41][4500/10164] Elapsed 0m 38s (remain 0m 48s) Loss: 74.4090(281.7106) Grad: 35311.6953 LR: 0.000033  \n",
      "Epoch: [41][5000/10164] Elapsed 0m 42s (remain 0m 44s) Loss: 430.2104(277.4229) Grad: 36358.7461 LR: 0.000033  \n",
      "Epoch: [41][5500/10164] Elapsed 0m 46s (remain 0m 39s) Loss: 148.3460(281.4923) Grad: 11696.8867 LR: 0.000033  \n",
      "Epoch: [41][6000/10164] Elapsed 0m 51s (remain 0m 35s) Loss: 16.2951(277.0950) Grad: 3484.0920 LR: 0.000033  \n",
      "Epoch: [41][6500/10164] Elapsed 0m 55s (remain 0m 31s) Loss: 725.4247(276.1835) Grad: 42582.9531 LR: 0.000033  \n",
      "Epoch: [41][7000/10164] Elapsed 1m 0s (remain 0m 27s) Loss: 16.7574(275.7959) Grad: 2085.8945 LR: 0.000033  \n",
      "Epoch: [41][7500/10164] Elapsed 1m 4s (remain 0m 23s) Loss: 170.4908(274.7062) Grad: 28831.7539 LR: 0.000033  \n",
      "Epoch: [41][8000/10164] Elapsed 1m 9s (remain 0m 18s) Loss: 31.4557(271.5581) Grad: 10383.8252 LR: 0.000033  \n",
      "Epoch: [41][8500/10164] Elapsed 1m 13s (remain 0m 14s) Loss: 60.0263(269.2124) Grad: 2594.6804 LR: 0.000033  \n",
      "Epoch: [41][9000/10164] Elapsed 1m 17s (remain 0m 10s) Loss: 52.7546(268.2616) Grad: 22517.1875 LR: 0.000033  \n",
      "Epoch: [41][9500/10164] Elapsed 1m 21s (remain 0m 5s) Loss: 89.4081(267.2202) Grad: 7834.3091 LR: 0.000033  \n",
      "Epoch: [41][10000/10164] Elapsed 1m 25s (remain 0m 1s) Loss: 204.6773(269.0826) Grad: 15586.5186 LR: 0.000033  \n",
      "Epoch: [41][10163/10164] Elapsed 1m 27s (remain 0m 0s) Loss: 88.1053(268.6608) Grad: 13106.3115 LR: 0.000033  \n",
      "EVAL: [0/1129] Elapsed 0m 0s (remain 1m 22s) Loss: 2705.0630(2705.0630) \n",
      "EVAL: [500/1129] Elapsed 0m 1s (remain 0m 2s) Loss: 625.3118(275.2910) \n",
      "EVAL: [1000/1129] Elapsed 0m 3s (remain 0m 0s) Loss: 42.2879(264.2845) \n"
     ]
    },
    {
     "name": "stderr",
     "output_type": "stream",
     "text": [
      "Epoch 41 - avg_train_loss: 268.6608  avg_val_loss: 270.1754  time: 91s\n",
      "Epoch 41 - Score: 16.4370\n",
      "Validation loss Improved (279.36682287711955 ---> 270.17535311688533)\n",
      "Epoch 41 - Save Best Loss: 270.1754 Model\n"
     ]
    },
    {
     "name": "stdout",
     "output_type": "stream",
     "text": [
      "EVAL: [1128/1129] Elapsed 0m 3s (remain 0m 0s) Loss: 1188.3503(270.1754) \n",
      "Epoch: [42][0/10164] Elapsed 0m 0s (remain 13m 33s) Loss: 323.2413(323.2413) Grad: 50125.0859 LR: 0.000016  \n",
      "Epoch: [42][500/10164] Elapsed 0m 4s (remain 1m 24s) Loss: 82.7198(284.5199) Grad: 17834.3828 LR: 0.000016  \n",
      "Epoch: [42][1000/10164] Elapsed 0m 8s (remain 1m 20s) Loss: 432.6923(272.1159) Grad: 36069.3125 LR: 0.000016  \n",
      "Epoch: [42][1500/10164] Elapsed 0m 13s (remain 1m 15s) Loss: 502.4675(278.9408) Grad: 114592.8125 LR: 0.000016  \n",
      "Epoch: [42][2000/10164] Elapsed 0m 17s (remain 1m 10s) Loss: 49.4084(281.8413) Grad: 20435.8105 LR: 0.000016  \n",
      "Epoch: [42][2500/10164] Elapsed 0m 21s (remain 1m 5s) Loss: 29.5683(279.6004) Grad: 14215.6797 LR: 0.000016  \n",
      "Epoch: [42][3000/10164] Elapsed 0m 25s (remain 1m 1s) Loss: 46.6871(269.2034) Grad: 4857.0859 LR: 0.000016  \n",
      "Epoch: [42][3500/10164] Elapsed 0m 30s (remain 0m 57s) Loss: 101.5052(277.0454) Grad: 7304.3213 LR: 0.000016  \n",
      "Epoch: [42][4000/10164] Elapsed 0m 34s (remain 0m 52s) Loss: 70.0127(274.5035) Grad: 4379.9360 LR: 0.000016  \n",
      "Epoch: [42][4500/10164] Elapsed 0m 38s (remain 0m 48s) Loss: 70.3688(277.4541) Grad: 23246.5137 LR: 0.000016  \n",
      "Epoch: [42][5000/10164] Elapsed 0m 42s (remain 0m 44s) Loss: 436.6706(273.3543) Grad: 30031.9648 LR: 0.000016  \n",
      "Epoch: [42][5500/10164] Elapsed 0m 47s (remain 0m 39s) Loss: 143.6022(277.7822) Grad: 7983.1455 LR: 0.000016  \n",
      "Epoch: [42][6000/10164] Elapsed 0m 51s (remain 0m 35s) Loss: 12.2564(273.3382) Grad: 2460.5779 LR: 0.000016  \n",
      "Epoch: [42][6500/10164] Elapsed 0m 55s (remain 0m 31s) Loss: 712.0867(272.4445) Grad: 54038.8984 LR: 0.000016  \n",
      "Epoch: [42][7000/10164] Elapsed 1m 0s (remain 0m 27s) Loss: 17.0892(272.0211) Grad: 2699.6594 LR: 0.000016  \n",
      "Epoch: [42][7500/10164] Elapsed 1m 4s (remain 0m 23s) Loss: 170.8450(271.0803) Grad: 35877.3672 LR: 0.000016  \n",
      "Epoch: [42][8000/10164] Elapsed 1m 9s (remain 0m 18s) Loss: 29.6393(267.8579) Grad: 6098.8916 LR: 0.000016  \n",
      "Epoch: [42][8500/10164] Elapsed 1m 15s (remain 0m 14s) Loss: 58.0687(265.6533) Grad: 2851.6892 LR: 0.000016  \n",
      "Epoch: [42][9000/10164] Elapsed 1m 19s (remain 0m 10s) Loss: 52.7905(264.7515) Grad: 22032.5859 LR: 0.000016  \n",
      "Epoch: [42][9500/10164] Elapsed 1m 24s (remain 0m 5s) Loss: 87.3047(263.7024) Grad: 8623.5195 LR: 0.000016  \n",
      "Epoch: [42][10000/10164] Elapsed 1m 29s (remain 0m 1s) Loss: 186.7240(265.3019) Grad: 10640.8242 LR: 0.000016  \n",
      "Epoch: [42][10163/10164] Elapsed 1m 30s (remain 0m 0s) Loss: 85.1165(264.8215) Grad: 16129.2041 LR: 0.000016  \n",
      "EVAL: [0/1129] Elapsed 0m 0s (remain 1m 31s) Loss: 2736.6812(2736.6812) \n",
      "EVAL: [500/1129] Elapsed 0m 1s (remain 0m 2s) Loss: 554.7380(273.6048) \n",
      "EVAL: [1000/1129] Elapsed 0m 3s (remain 0m 0s) Loss: 41.8483(262.6026) \n"
     ]
    },
    {
     "name": "stderr",
     "output_type": "stream",
     "text": [
      "Epoch 42 - avg_train_loss: 264.8215  avg_val_loss: 268.2637  time: 95s\n",
      "Epoch 42 - Score: 16.3788\n",
      "Validation loss Improved (270.17535311688533 ---> 268.26368465385013)\n",
      "Epoch 42 - Save Best Loss: 268.2637 Model\n"
     ]
    },
    {
     "name": "stdout",
     "output_type": "stream",
     "text": [
      "EVAL: [1128/1129] Elapsed 0m 4s (remain 0m 0s) Loss: 1293.3657(268.2637) \n",
      "Epoch: [43][0/10164] Elapsed 0m 0s (remain 13m 45s) Loss: 302.9004(302.9004) Grad: 55106.4844 LR: 0.000010  \n",
      "Epoch: [43][500/10164] Elapsed 0m 4s (remain 1m 27s) Loss: 66.9154(283.0210) Grad: 10015.6670 LR: 0.000010  \n",
      "Epoch: [43][1000/10164] Elapsed 0m 8s (remain 1m 20s) Loss: 404.4363(271.6582) Grad: 39862.7344 LR: 0.000010  \n",
      "Epoch: [43][1500/10164] Elapsed 0m 13s (remain 1m 15s) Loss: 535.0577(277.6621) Grad: 198276.9844 LR: 0.000010  \n",
      "Epoch: [43][2000/10164] Elapsed 0m 17s (remain 1m 11s) Loss: 51.0755(280.6392) Grad: 17548.2031 LR: 0.000010  \n",
      "Epoch: [43][2500/10164] Elapsed 0m 21s (remain 1m 6s) Loss: 21.9398(278.0047) Grad: 13531.5635 LR: 0.000010  \n",
      "Epoch: [43][3000/10164] Elapsed 0m 25s (remain 1m 1s) Loss: 45.4768(267.4369) Grad: 5465.0098 LR: 0.000010  \n",
      "Epoch: [43][3500/10164] Elapsed 0m 30s (remain 0m 57s) Loss: 97.2435(275.5139) Grad: 6811.3857 LR: 0.000010  \n",
      "Epoch: [43][4000/10164] Elapsed 0m 34s (remain 0m 52s) Loss: 69.7981(272.7013) Grad: 4859.4385 LR: 0.000010  \n",
      "Epoch: [43][4500/10164] Elapsed 0m 38s (remain 0m 48s) Loss: 64.8054(275.6682) Grad: 16106.8213 LR: 0.000010  \n",
      "Epoch: [43][5000/10164] Elapsed 0m 42s (remain 0m 44s) Loss: 443.7243(271.7193) Grad: 31456.4512 LR: 0.000010  \n",
      "Epoch: [43][5500/10164] Elapsed 0m 47s (remain 0m 39s) Loss: 125.5269(276.1794) Grad: 6346.8013 LR: 0.000010  \n",
      "Epoch: [43][6000/10164] Elapsed 0m 51s (remain 0m 35s) Loss: 16.8431(271.7956) Grad: 3807.6855 LR: 0.000010  \n",
      "Epoch: [43][6500/10164] Elapsed 0m 55s (remain 0m 31s) Loss: 644.1393(271.0186) Grad: 52923.8945 LR: 0.000010  \n",
      "Epoch: [43][7000/10164] Elapsed 1m 0s (remain 0m 27s) Loss: 17.2842(270.5641) Grad: 4644.9370 LR: 0.000010  \n",
      "Epoch: [43][7500/10164] Elapsed 1m 4s (remain 0m 22s) Loss: 167.6727(269.4328) Grad: 33081.2383 LR: 0.000010  \n",
      "Epoch: [43][8000/10164] Elapsed 1m 8s (remain 0m 18s) Loss: 30.3356(266.3531) Grad: 6847.9448 LR: 0.000010  \n",
      "Epoch: [43][8500/10164] Elapsed 1m 12s (remain 0m 14s) Loss: 57.8986(264.2206) Grad: 2863.1123 LR: 0.000010  \n",
      "Epoch: [43][9000/10164] Elapsed 1m 17s (remain 0m 9s) Loss: 59.9928(263.3590) Grad: 22556.9980 LR: 0.000010  \n",
      "Epoch: [43][9500/10164] Elapsed 1m 21s (remain 0m 5s) Loss: 81.2219(262.4002) Grad: 10884.5078 LR: 0.000010  \n",
      "Epoch: [43][10000/10164] Elapsed 1m 25s (remain 0m 1s) Loss: 192.0266(264.3144) Grad: 11621.6357 LR: 0.000010  \n",
      "Epoch: [43][10163/10164] Elapsed 1m 27s (remain 0m 0s) Loss: 83.0877(263.9234) Grad: 12289.6182 LR: 0.000010  \n",
      "EVAL: [0/1129] Elapsed 0m 0s (remain 1m 20s) Loss: 2634.4116(2634.4116) \n",
      "EVAL: [500/1129] Elapsed 0m 1s (remain 0m 2s) Loss: 577.0527(271.1901) \n",
      "EVAL: [1000/1129] Elapsed 0m 3s (remain 0m 0s) Loss: 40.6468(261.1042) \n"
     ]
    },
    {
     "name": "stderr",
     "output_type": "stream",
     "text": [
      "Epoch 43 - avg_train_loss: 263.9234  avg_val_loss: 266.6363  time: 91s\n",
      "Epoch 43 - Score: 16.3290\n",
      "Validation loss Improved (268.26368465385013 ---> 266.63631384533664)\n",
      "Epoch 43 - Save Best Loss: 266.6363 Model\n"
     ]
    },
    {
     "name": "stdout",
     "output_type": "stream",
     "text": [
      "EVAL: [1128/1129] Elapsed 0m 3s (remain 0m 0s) Loss: 1222.3044(266.6363) \n",
      "Epoch: [44][0/10164] Elapsed 0m 0s (remain 13m 53s) Loss: 284.1837(284.1837) Grad: 61384.0117 LR: 0.000016  \n",
      "Epoch: [44][500/10164] Elapsed 0m 4s (remain 1m 25s) Loss: 87.7728(285.5810) Grad: 23581.9082 LR: 0.000016  \n",
      "Epoch: [44][1000/10164] Elapsed 0m 8s (remain 1m 20s) Loss: 389.2945(272.9392) Grad: 40130.7344 LR: 0.000016  \n",
      "Epoch: [44][1500/10164] Elapsed 0m 13s (remain 1m 16s) Loss: 663.3962(278.8696) Grad: 266593.0625 LR: 0.000016  \n",
      "Epoch: [44][2000/10164] Elapsed 0m 17s (remain 1m 10s) Loss: 40.2216(281.4040) Grad: 13489.7793 LR: 0.000016  \n",
      "Epoch: [44][2500/10164] Elapsed 0m 21s (remain 1m 6s) Loss: 29.8086(278.2712) Grad: 16340.4062 LR: 0.000016  \n",
      "Epoch: [44][3000/10164] Elapsed 0m 25s (remain 1m 1s) Loss: 44.4573(267.7994) Grad: 4251.3696 LR: 0.000016  \n",
      "Epoch: [44][3500/10164] Elapsed 0m 29s (remain 0m 57s) Loss: 101.2023(275.6103) Grad: 11346.4854 LR: 0.000016  \n",
      "Epoch: [44][4000/10164] Elapsed 0m 34s (remain 0m 52s) Loss: 68.0280(272.8831) Grad: 5010.5122 LR: 0.000016  \n",
      "Epoch: [44][4500/10164] Elapsed 0m 38s (remain 0m 48s) Loss: 80.7443(276.1964) Grad: 33810.4414 LR: 0.000016  \n",
      "Epoch: [44][5000/10164] Elapsed 0m 43s (remain 0m 44s) Loss: 423.5576(272.2444) Grad: 32973.6797 LR: 0.000016  \n",
      "Epoch: [44][5500/10164] Elapsed 0m 47s (remain 0m 40s) Loss: 124.7853(276.8167) Grad: 6608.2559 LR: 0.000016  \n",
      "Epoch: [44][6000/10164] Elapsed 0m 51s (remain 0m 35s) Loss: 14.1193(272.3259) Grad: 3310.9829 LR: 0.000016  \n",
      "Epoch: [44][6500/10164] Elapsed 0m 56s (remain 0m 31s) Loss: 698.0457(271.1890) Grad: 45710.6953 LR: 0.000016  \n",
      "Epoch: [44][7000/10164] Elapsed 1m 0s (remain 0m 27s) Loss: 16.5315(270.7481) Grad: 3084.1985 LR: 0.000016  \n",
      "Epoch: [44][7500/10164] Elapsed 1m 4s (remain 0m 23s) Loss: 177.7734(269.5347) Grad: 38117.8555 LR: 0.000016  \n",
      "Epoch: [44][8000/10164] Elapsed 1m 9s (remain 0m 18s) Loss: 33.1977(266.4611) Grad: 5205.8008 LR: 0.000016  \n",
      "Epoch: [44][8500/10164] Elapsed 1m 13s (remain 0m 14s) Loss: 59.1310(264.2308) Grad: 3251.1086 LR: 0.000016  \n",
      "Epoch: [44][9000/10164] Elapsed 1m 18s (remain 0m 10s) Loss: 53.6258(263.2710) Grad: 19566.7930 LR: 0.000016  \n",
      "Epoch: [44][9500/10164] Elapsed 1m 22s (remain 0m 5s) Loss: 87.6595(262.2495) Grad: 7450.6079 LR: 0.000016  \n",
      "Epoch: [44][10000/10164] Elapsed 1m 27s (remain 0m 1s) Loss: 182.0118(263.9945) Grad: 9715.4844 LR: 0.000016  \n",
      "Epoch: [44][10163/10164] Elapsed 1m 28s (remain 0m 0s) Loss: 101.7951(263.5604) Grad: 14358.9561 LR: 0.000016  \n",
      "EVAL: [0/1129] Elapsed 0m 0s (remain 1m 22s) Loss: 2684.3875(2684.3875) \n",
      "EVAL: [500/1129] Elapsed 0m 1s (remain 0m 2s) Loss: 537.4207(271.7601) \n",
      "EVAL: [1000/1129] Elapsed 0m 3s (remain 0m 0s) Loss: 42.2806(261.6644) \n"
     ]
    },
    {
     "name": "stderr",
     "output_type": "stream",
     "text": [
      "Epoch 44 - avg_train_loss: 263.5604  avg_val_loss: 267.2710  time: 93s\n",
      "Epoch 44 - Score: 16.3484\n"
     ]
    },
    {
     "name": "stdout",
     "output_type": "stream",
     "text": [
      "EVAL: [1128/1129] Elapsed 0m 3s (remain 0m 0s) Loss: 1104.3982(267.2710) \n",
      "Epoch: [45][0/10164] Elapsed 0m 0s (remain 13m 15s) Loss: 290.5207(290.5207) Grad: 66543.6562 LR: 0.000033  \n",
      "Epoch: [45][500/10164] Elapsed 0m 4s (remain 1m 24s) Loss: 60.3501(283.2025) Grad: 15741.3252 LR: 0.000033  \n",
      "Epoch: [45][1000/10164] Elapsed 0m 8s (remain 1m 20s) Loss: 397.2541(273.2403) Grad: 34842.9023 LR: 0.000033  \n",
      "Epoch: [45][1500/10164] Elapsed 0m 13s (remain 1m 16s) Loss: 527.9656(279.0243) Grad: 243084.2500 LR: 0.000033  \n",
      "Epoch: [45][2000/10164] Elapsed 0m 17s (remain 1m 11s) Loss: 56.7296(281.2800) Grad: 20981.4707 LR: 0.000033  \n",
      "Epoch: [45][2500/10164] Elapsed 0m 21s (remain 1m 6s) Loss: 29.3886(278.3251) Grad: 16502.9590 LR: 0.000033  \n",
      "Epoch: [45][3000/10164] Elapsed 0m 26s (remain 1m 2s) Loss: 55.2782(268.0684) Grad: 9375.3613 LR: 0.000033  \n",
      "Epoch: [45][3500/10164] Elapsed 0m 30s (remain 0m 57s) Loss: 102.3411(276.5112) Grad: 7578.9688 LR: 0.000033  \n",
      "Epoch: [45][4000/10164] Elapsed 0m 34s (remain 0m 53s) Loss: 67.0682(274.0239) Grad: 5168.0762 LR: 0.000033  \n",
      "Epoch: [45][4500/10164] Elapsed 0m 38s (remain 0m 49s) Loss: 74.0390(277.0812) Grad: 31726.3574 LR: 0.000033  \n",
      "Epoch: [45][5000/10164] Elapsed 0m 43s (remain 0m 44s) Loss: 396.2747(273.2332) Grad: 28961.4180 LR: 0.000033  \n",
      "Epoch: [45][5500/10164] Elapsed 0m 47s (remain 0m 40s) Loss: 123.3661(277.2669) Grad: 5167.2905 LR: 0.000033  \n",
      "Epoch: [45][6000/10164] Elapsed 0m 51s (remain 0m 35s) Loss: 15.7368(272.8221) Grad: 3227.4561 LR: 0.000033  \n",
      "Epoch: [45][6500/10164] Elapsed 0m 55s (remain 0m 31s) Loss: 727.1857(272.0283) Grad: 55793.7344 LR: 0.000033  \n",
      "Epoch: [45][7000/10164] Elapsed 1m 0s (remain 0m 27s) Loss: 18.8333(271.6707) Grad: 2588.1582 LR: 0.000033  \n",
      "Epoch: [45][7500/10164] Elapsed 1m 4s (remain 0m 22s) Loss: 157.0247(270.3852) Grad: 28350.8945 LR: 0.000033  \n",
      "Epoch: [45][8000/10164] Elapsed 1m 8s (remain 0m 18s) Loss: 30.0019(267.2358) Grad: 9712.7715 LR: 0.000033  \n",
      "Epoch: [45][8500/10164] Elapsed 1m 12s (remain 0m 14s) Loss: 58.1766(265.1559) Grad: 3475.1187 LR: 0.000033  \n",
      "Epoch: [45][9000/10164] Elapsed 1m 16s (remain 0m 9s) Loss: 53.1489(264.3321) Grad: 21471.3086 LR: 0.000033  \n",
      "Epoch: [45][9500/10164] Elapsed 1m 21s (remain 0m 5s) Loss: 89.2818(263.4386) Grad: 8741.8359 LR: 0.000033  \n",
      "Epoch: [45][10000/10164] Elapsed 1m 25s (remain 0m 1s) Loss: 195.9067(265.3211) Grad: 11896.2842 LR: 0.000033  \n",
      "Epoch: [45][10163/10164] Elapsed 1m 27s (remain 0m 0s) Loss: 86.6896(264.8920) Grad: 12860.3359 LR: 0.000033  \n",
      "EVAL: [0/1129] Elapsed 0m 0s (remain 1m 23s) Loss: 2610.3037(2610.3037) \n",
      "EVAL: [500/1129] Elapsed 0m 1s (remain 0m 2s) Loss: 503.3945(271.6719) \n",
      "EVAL: [1000/1129] Elapsed 0m 3s (remain 0m 0s) Loss: 43.2277(261.6406) \n"
     ]
    },
    {
     "name": "stderr",
     "output_type": "stream",
     "text": [
      "Epoch 45 - avg_train_loss: 264.8920  avg_val_loss: 267.5418  time: 91s\n",
      "Epoch 45 - Score: 16.3567\n"
     ]
    },
    {
     "name": "stdout",
     "output_type": "stream",
     "text": [
      "EVAL: [1128/1129] Elapsed 0m 3s (remain 0m 0s) Loss: 1093.0629(267.5418) \n",
      "Epoch: [46][0/10164] Elapsed 0m 0s (remain 13m 58s) Loss: 309.7336(309.7336) Grad: 46254.9492 LR: 0.000055  \n",
      "Epoch: [46][500/10164] Elapsed 0m 4s (remain 1m 22s) Loss: 65.2033(289.6550) Grad: 15782.1729 LR: 0.000055  \n",
      "Epoch: [46][1000/10164] Elapsed 0m 8s (remain 1m 18s) Loss: 355.8797(275.3689) Grad: 30797.5176 LR: 0.000055  \n",
      "Epoch: [46][1500/10164] Elapsed 0m 12s (remain 1m 13s) Loss: 556.9684(281.6796) Grad: 188950.8125 LR: 0.000055  \n",
      "Epoch: [46][2000/10164] Elapsed 0m 17s (remain 1m 9s) Loss: 56.6705(284.8522) Grad: 13769.4980 LR: 0.000055  \n",
      "Epoch: [46][2500/10164] Elapsed 0m 21s (remain 1m 5s) Loss: 44.1001(282.7486) Grad: 21486.3574 LR: 0.000055  \n",
      "Epoch: [46][3000/10164] Elapsed 0m 25s (remain 1m 1s) Loss: 46.3984(272.1067) Grad: 6044.7095 LR: 0.000055  \n",
      "Epoch: [46][3500/10164] Elapsed 0m 29s (remain 0m 56s) Loss: 98.8759(279.8872) Grad: 8639.9570 LR: 0.000055  \n",
      "Epoch: [46][4000/10164] Elapsed 0m 34s (remain 0m 52s) Loss: 84.3002(277.5444) Grad: 5021.2925 LR: 0.000055  \n",
      "Epoch: [46][4500/10164] Elapsed 0m 38s (remain 0m 48s) Loss: 68.6920(280.6578) Grad: 31203.8613 LR: 0.000055  \n",
      "Epoch: [46][5000/10164] Elapsed 0m 42s (remain 0m 43s) Loss: 431.8507(276.3202) Grad: 40534.5469 LR: 0.000055  \n",
      "Epoch: [46][5500/10164] Elapsed 0m 46s (remain 0m 39s) Loss: 144.0653(280.4924) Grad: 8039.7612 LR: 0.000055  \n",
      "Epoch: [46][6000/10164] Elapsed 0m 50s (remain 0m 35s) Loss: 18.0907(276.1285) Grad: 3412.1113 LR: 0.000055  \n",
      "Epoch: [46][6500/10164] Elapsed 0m 54s (remain 0m 30s) Loss: 640.0106(275.5277) Grad: 52165.6914 LR: 0.000055  \n",
      "Epoch: [46][7000/10164] Elapsed 0m 59s (remain 0m 26s) Loss: 18.8539(274.9137) Grad: 4253.4697 LR: 0.000055  \n",
      "Epoch: [46][7500/10164] Elapsed 1m 3s (remain 0m 22s) Loss: 159.0830(273.9469) Grad: 15837.1162 LR: 0.000055  \n",
      "Epoch: [46][8000/10164] Elapsed 1m 7s (remain 0m 18s) Loss: 42.9013(270.7524) Grad: 13455.9004 LR: 0.000055  \n",
      "Epoch: [46][8500/10164] Elapsed 1m 12s (remain 0m 14s) Loss: 62.7632(268.5244) Grad: 4165.2466 LR: 0.000055  \n",
      "Epoch: [46][9000/10164] Elapsed 1m 17s (remain 0m 9s) Loss: 50.9648(267.5441) Grad: 19011.5820 LR: 0.000055  \n",
      "Epoch: [46][9500/10164] Elapsed 1m 21s (remain 0m 5s) Loss: 99.1893(266.4530) Grad: 8836.4941 LR: 0.000055  \n",
      "Epoch: [46][10000/10164] Elapsed 1m 26s (remain 0m 1s) Loss: 190.9518(268.2554) Grad: 19473.0684 LR: 0.000055  \n",
      "Epoch: [46][10163/10164] Elapsed 1m 27s (remain 0m 0s) Loss: 88.7941(267.8549) Grad: 10428.5771 LR: 0.000055  \n",
      "EVAL: [0/1129] Elapsed 0m 0s (remain 1m 23s) Loss: 2675.4775(2675.4775) \n",
      "EVAL: [500/1129] Elapsed 0m 1s (remain 0m 2s) Loss: 695.5930(282.8088) \n",
      "EVAL: [1000/1129] Elapsed 0m 3s (remain 0m 0s) Loss: 53.4164(272.6070) \n"
     ]
    },
    {
     "name": "stderr",
     "output_type": "stream",
     "text": [
      "Epoch 46 - avg_train_loss: 267.8549  avg_val_loss: 277.4853  time: 92s\n",
      "Epoch 46 - Score: 16.6579\n"
     ]
    },
    {
     "name": "stdout",
     "output_type": "stream",
     "text": [
      "EVAL: [1128/1129] Elapsed 0m 3s (remain 0m 0s) Loss: 1073.4774(277.4853) \n",
      "Epoch: [47][0/10164] Elapsed 0m 0s (remain 13m 13s) Loss: 299.8191(299.8191) Grad: 46032.5703 LR: 0.000078  \n",
      "Epoch: [47][500/10164] Elapsed 0m 4s (remain 1m 29s) Loss: 101.1132(292.1265) Grad: 24993.5449 LR: 0.000078  \n",
      "Epoch: [47][1000/10164] Elapsed 0m 8s (remain 1m 22s) Loss: 353.5893(280.3536) Grad: 32998.4922 LR: 0.000078  \n",
      "Epoch: [47][1500/10164] Elapsed 0m 13s (remain 1m 16s) Loss: 530.0572(286.2555) Grad: 108871.5234 LR: 0.000078  \n",
      "Epoch: [47][2000/10164] Elapsed 0m 17s (remain 1m 11s) Loss: 63.1295(288.2734) Grad: 21018.7754 LR: 0.000078  \n",
      "Epoch: [47][2500/10164] Elapsed 0m 22s (remain 1m 8s) Loss: 86.3242(286.6067) Grad: 40611.0352 LR: 0.000078  \n",
      "Epoch: [47][3000/10164] Elapsed 0m 27s (remain 1m 4s) Loss: 42.5057(276.1801) Grad: 6437.1162 LR: 0.000078  \n",
      "Epoch: [47][3500/10164] Elapsed 0m 31s (remain 0m 59s) Loss: 108.9162(284.2720) Grad: 10684.5820 LR: 0.000078  \n",
      "Epoch: [47][4000/10164] Elapsed 0m 36s (remain 0m 55s) Loss: 65.8949(281.3135) Grad: 5031.5674 LR: 0.000078  \n",
      "Epoch: [47][4500/10164] Elapsed 0m 40s (remain 0m 51s) Loss: 61.3038(284.5415) Grad: 25626.5547 LR: 0.000078  \n",
      "Epoch: [47][5000/10164] Elapsed 0m 45s (remain 0m 46s) Loss: 410.7989(280.5060) Grad: 47802.0977 LR: 0.000078  \n",
      "Epoch: [47][5500/10164] Elapsed 0m 49s (remain 0m 42s) Loss: 135.0656(284.6287) Grad: 8309.7900 LR: 0.000078  \n",
      "Epoch: [47][6000/10164] Elapsed 0m 54s (remain 0m 37s) Loss: 17.6782(280.2993) Grad: 3262.5740 LR: 0.000078  \n",
      "Epoch: [47][6500/10164] Elapsed 0m 59s (remain 0m 33s) Loss: 754.2634(279.5273) Grad: 55575.0078 LR: 0.000078  \n",
      "Epoch: [47][7000/10164] Elapsed 1m 3s (remain 0m 28s) Loss: 22.0707(279.2401) Grad: 4752.2148 LR: 0.000078  \n",
      "Epoch: [47][7500/10164] Elapsed 1m 8s (remain 0m 24s) Loss: 157.4361(278.4886) Grad: 18110.2500 LR: 0.000078  \n",
      "Epoch: [47][8000/10164] Elapsed 1m 12s (remain 0m 19s) Loss: 37.2398(275.2225) Grad: 16056.1279 LR: 0.000078  \n",
      "Epoch: [47][8500/10164] Elapsed 1m 16s (remain 0m 15s) Loss: 62.4548(272.8863) Grad: 3955.9058 LR: 0.000078  \n",
      "Epoch: [47][9000/10164] Elapsed 1m 21s (remain 0m 10s) Loss: 79.3617(271.7487) Grad: 23467.5117 LR: 0.000078  \n",
      "Epoch: [47][9500/10164] Elapsed 1m 25s (remain 0m 5s) Loss: 83.9205(270.7573) Grad: 5320.0117 LR: 0.000078  \n",
      "Epoch: [47][10000/10164] Elapsed 1m 30s (remain 0m 1s) Loss: 189.9922(272.8001) Grad: 14137.6670 LR: 0.000078  \n",
      "Epoch: [47][10163/10164] Elapsed 1m 31s (remain 0m 0s) Loss: 96.2216(272.4279) Grad: 15697.7598 LR: 0.000078  \n",
      "EVAL: [0/1129] Elapsed 0m 0s (remain 1m 22s) Loss: 2546.7886(2546.7886) \n",
      "EVAL: [500/1129] Elapsed 0m 1s (remain 0m 2s) Loss: 684.8154(281.6062) \n",
      "EVAL: [1000/1129] Elapsed 0m 3s (remain 0m 0s) Loss: 57.1725(272.9583) \n"
     ]
    },
    {
     "name": "stderr",
     "output_type": "stream",
     "text": [
      "Epoch 47 - avg_train_loss: 272.4279  avg_val_loss: 277.8117  time: 96s\n",
      "Epoch 47 - Score: 16.6677\n"
     ]
    },
    {
     "name": "stdout",
     "output_type": "stream",
     "text": [
      "EVAL: [1128/1129] Elapsed 0m 3s (remain 0m 0s) Loss: 1104.7649(277.8117) \n",
      "Epoch: [48][0/10164] Elapsed 0m 0s (remain 14m 9s) Loss: 314.5732(314.5732) Grad: 57588.7148 LR: 0.000094  \n",
      "Epoch: [48][500/10164] Elapsed 0m 4s (remain 1m 26s) Loss: 74.1233(296.3700) Grad: 12715.6562 LR: 0.000094  \n",
      "Epoch: [48][1000/10164] Elapsed 0m 8s (remain 1m 21s) Loss: 364.9261(284.8241) Grad: 35319.4844 LR: 0.000094  \n",
      "Epoch: [48][1500/10164] Elapsed 0m 13s (remain 1m 15s) Loss: 526.4540(291.2025) Grad: 81817.0703 LR: 0.000094  \n",
      "Epoch: [48][2000/10164] Elapsed 0m 17s (remain 1m 10s) Loss: 52.7047(293.2340) Grad: 8609.3076 LR: 0.000094  \n",
      "Epoch: [48][2500/10164] Elapsed 0m 21s (remain 1m 6s) Loss: 80.8545(290.5458) Grad: 45312.2930 LR: 0.000094  \n",
      "Epoch: [48][3000/10164] Elapsed 0m 26s (remain 1m 2s) Loss: 44.7815(279.8024) Grad: 7568.6309 LR: 0.000094  \n",
      "Epoch: [48][3500/10164] Elapsed 0m 30s (remain 0m 58s) Loss: 114.3426(287.1820) Grad: 13137.2715 LR: 0.000094  \n",
      "Epoch: [48][4000/10164] Elapsed 0m 34s (remain 0m 53s) Loss: 76.6038(284.9938) Grad: 3913.4536 LR: 0.000094  \n",
      "Epoch: [48][4500/10164] Elapsed 0m 39s (remain 0m 49s) Loss: 124.2153(287.9363) Grad: 40274.5234 LR: 0.000094  \n",
      "Epoch: [48][5000/10164] Elapsed 0m 43s (remain 0m 45s) Loss: 429.0838(283.6987) Grad: 39745.1445 LR: 0.000094  \n",
      "Epoch: [48][5500/10164] Elapsed 0m 48s (remain 0m 40s) Loss: 136.5143(287.4831) Grad: 9459.3008 LR: 0.000094  \n",
      "Epoch: [48][6000/10164] Elapsed 0m 52s (remain 0m 36s) Loss: 15.1071(282.9090) Grad: 3261.3574 LR: 0.000094  \n",
      "Epoch: [48][6500/10164] Elapsed 0m 56s (remain 0m 32s) Loss: 796.5527(282.3799) Grad: 65115.0977 LR: 0.000094  \n",
      "Epoch: [48][7000/10164] Elapsed 1m 1s (remain 0m 27s) Loss: 16.7737(281.9974) Grad: 2797.3660 LR: 0.000094  \n",
      "Epoch: [48][7500/10164] Elapsed 1m 5s (remain 0m 23s) Loss: 188.4311(281.0183) Grad: 24244.4277 LR: 0.000094  \n",
      "Epoch: [48][8000/10164] Elapsed 1m 10s (remain 0m 19s) Loss: 34.4562(277.5797) Grad: 13456.5049 LR: 0.000094  \n",
      "Epoch: [48][8500/10164] Elapsed 1m 14s (remain 0m 14s) Loss: 59.9638(275.4661) Grad: 3823.7749 LR: 0.000094  \n",
      "Epoch: [48][9000/10164] Elapsed 1m 19s (remain 0m 10s) Loss: 57.8110(274.3196) Grad: 18792.2148 LR: 0.000094  \n",
      "Epoch: [48][9500/10164] Elapsed 1m 23s (remain 0m 5s) Loss: 81.6651(273.2988) Grad: 7846.3164 LR: 0.000094  \n",
      "Epoch: [48][10000/10164] Elapsed 1m 28s (remain 0m 1s) Loss: 181.0592(275.4729) Grad: 19350.4082 LR: 0.000094  \n",
      "Epoch: [48][10163/10164] Elapsed 1m 29s (remain 0m 0s) Loss: 91.1129(275.2444) Grad: 15242.3604 LR: 0.000094  \n",
      "EVAL: [0/1129] Elapsed 0m 0s (remain 1m 22s) Loss: 2465.6372(2465.6372) \n",
      "EVAL: [500/1129] Elapsed 0m 1s (remain 0m 2s) Loss: 711.1130(314.9010) \n",
      "EVAL: [1000/1129] Elapsed 0m 3s (remain 0m 0s) Loss: 80.4186(305.5141) \n"
     ]
    },
    {
     "name": "stderr",
     "output_type": "stream",
     "text": [
      "Epoch 48 - avg_train_loss: 275.2444  avg_val_loss: 308.4896  time: 94s\n",
      "Epoch 48 - Score: 17.5639\n"
     ]
    },
    {
     "name": "stdout",
     "output_type": "stream",
     "text": [
      "EVAL: [1128/1129] Elapsed 0m 3s (remain 0m 0s) Loss: 1111.5944(308.4896) \n",
      "Epoch: [49][0/10164] Elapsed 0m 0s (remain 14m 23s) Loss: 308.2881(308.2881) Grad: 36062.6367 LR: 0.000100  \n",
      "Epoch: [49][500/10164] Elapsed 0m 4s (remain 1m 25s) Loss: 98.5099(301.4046) Grad: 19657.2227 LR: 0.000100  \n",
      "Epoch: [49][1000/10164] Elapsed 0m 8s (remain 1m 20s) Loss: 345.4767(286.0660) Grad: 28128.5156 LR: 0.000100  \n",
      "Epoch: [49][1500/10164] Elapsed 0m 13s (remain 1m 15s) Loss: 566.9146(291.8923) Grad: 80048.8516 LR: 0.000100  \n",
      "Epoch: [49][2000/10164] Elapsed 0m 17s (remain 1m 11s) Loss: 91.4346(294.2229) Grad: 32754.0938 LR: 0.000100  \n",
      "Epoch: [49][2500/10164] Elapsed 0m 21s (remain 1m 7s) Loss: 68.0688(291.2424) Grad: 34687.8008 LR: 0.000100  \n",
      "Epoch: [49][3000/10164] Elapsed 0m 26s (remain 1m 2s) Loss: 50.3618(280.1368) Grad: 7253.4038 LR: 0.000100  \n",
      "Epoch: [49][3500/10164] Elapsed 0m 30s (remain 0m 58s) Loss: 123.7979(287.9088) Grad: 14888.7021 LR: 0.000100  \n",
      "Epoch: [49][4000/10164] Elapsed 0m 35s (remain 0m 53s) Loss: 67.2503(284.9152) Grad: 4327.0283 LR: 0.000100  \n",
      "Epoch: [49][4500/10164] Elapsed 0m 39s (remain 0m 49s) Loss: 101.6493(288.4807) Grad: 28040.9785 LR: 0.000100  \n",
      "Epoch: [49][5000/10164] Elapsed 0m 43s (remain 0m 44s) Loss: 456.7448(284.2504) Grad: 45255.5508 LR: 0.000100  \n",
      "Epoch: [49][5500/10164] Elapsed 0m 47s (remain 0m 40s) Loss: 141.9429(288.7427) Grad: 9499.2422 LR: 0.000100  \n",
      "Epoch: [49][6000/10164] Elapsed 0m 51s (remain 0m 35s) Loss: 16.7043(284.5411) Grad: 3195.3245 LR: 0.000100  \n",
      "Epoch: [49][6500/10164] Elapsed 0m 56s (remain 0m 31s) Loss: 753.5062(283.8688) Grad: 56750.3594 LR: 0.000100  \n",
      "Epoch: [49][7000/10164] Elapsed 1m 0s (remain 0m 27s) Loss: 23.0143(283.1877) Grad: 3820.8250 LR: 0.000100  \n",
      "Epoch: [49][7500/10164] Elapsed 1m 4s (remain 0m 23s) Loss: 157.9864(281.8857) Grad: 22595.4922 LR: 0.000100  \n",
      "Epoch: [49][8000/10164] Elapsed 1m 9s (remain 0m 18s) Loss: 25.6012(278.6160) Grad: 7738.2310 LR: 0.000100  \n",
      "Epoch: [49][8500/10164] Elapsed 1m 13s (remain 0m 14s) Loss: 62.0358(276.3159) Grad: 4456.7998 LR: 0.000100  \n",
      "Epoch: [49][9000/10164] Elapsed 1m 17s (remain 0m 10s) Loss: 67.2043(275.2483) Grad: 18272.6582 LR: 0.000100  \n",
      "Epoch: [49][9500/10164] Elapsed 1m 22s (remain 0m 5s) Loss: 75.3886(273.9793) Grad: 6330.5894 LR: 0.000100  \n",
      "Epoch: [49][10000/10164] Elapsed 1m 26s (remain 0m 1s) Loss: 204.3974(275.9313) Grad: 13016.1045 LR: 0.000100  \n",
      "Epoch: [49][10163/10164] Elapsed 1m 27s (remain 0m 0s) Loss: 93.6714(275.5381) Grad: 10740.2197 LR: 0.000100  \n",
      "EVAL: [0/1129] Elapsed 0m 0s (remain 1m 22s) Loss: 2556.7778(2556.7778) \n",
      "EVAL: [500/1129] Elapsed 0m 1s (remain 0m 2s) Loss: 691.6987(302.6352) \n",
      "EVAL: [1000/1129] Elapsed 0m 3s (remain 0m 0s) Loss: 75.8197(293.5871) \n"
     ]
    },
    {
     "name": "stderr",
     "output_type": "stream",
     "text": [
      "Epoch 49 - avg_train_loss: 275.5381  avg_val_loss: 296.3903  time: 92s\n",
      "Epoch 49 - Score: 17.2160\n"
     ]
    },
    {
     "name": "stdout",
     "output_type": "stream",
     "text": [
      "EVAL: [1128/1129] Elapsed 0m 3s (remain 0m 0s) Loss: 1134.5784(296.3903) \n",
      "Epoch: [50][0/10164] Elapsed 0m 0s (remain 13m 48s) Loss: 313.6725(313.6725) Grad: 49006.2852 LR: 0.000094  \n",
      "Epoch: [50][500/10164] Elapsed 0m 4s (remain 1m 23s) Loss: 88.9960(292.6327) Grad: 21012.5840 LR: 0.000094  \n",
      "Epoch: [50][1000/10164] Elapsed 0m 8s (remain 1m 17s) Loss: 366.9647(279.3844) Grad: 33074.0195 LR: 0.000094  \n",
      "Epoch: [50][1500/10164] Elapsed 0m 12s (remain 1m 13s) Loss: 466.7895(285.3160) Grad: 101045.6094 LR: 0.000094  \n",
      "Epoch: [50][2000/10164] Elapsed 0m 16s (remain 1m 8s) Loss: 47.2484(288.1989) Grad: 4776.8237 LR: 0.000094  \n",
      "Epoch: [50][2500/10164] Elapsed 0m 21s (remain 1m 4s) Loss: 40.4228(286.8121) Grad: 17396.0723 LR: 0.000094  \n",
      "Epoch: [50][3000/10164] Elapsed 0m 25s (remain 1m 0s) Loss: 48.4211(276.3977) Grad: 9393.8242 LR: 0.000094  \n",
      "Epoch: [50][3500/10164] Elapsed 0m 29s (remain 0m 56s) Loss: 96.5651(284.0219) Grad: 6563.5205 LR: 0.000094  \n",
      "Epoch: [50][4000/10164] Elapsed 0m 33s (remain 0m 52s) Loss: 71.8726(281.8257) Grad: 5432.7476 LR: 0.000094  \n",
      "Epoch: [50][4500/10164] Elapsed 0m 38s (remain 0m 47s) Loss: 89.2333(285.3632) Grad: 35039.0625 LR: 0.000094  \n",
      "Epoch: [50][5000/10164] Elapsed 0m 42s (remain 0m 43s) Loss: 478.4743(281.6778) Grad: 39654.2852 LR: 0.000094  \n",
      "Epoch: [50][5500/10164] Elapsed 0m 46s (remain 0m 39s) Loss: 162.8629(285.6926) Grad: 14563.1299 LR: 0.000094  \n",
      "Epoch: [50][6000/10164] Elapsed 0m 50s (remain 0m 35s) Loss: 20.2113(281.2843) Grad: 3514.2915 LR: 0.000094  \n",
      "Epoch: [50][6500/10164] Elapsed 0m 54s (remain 0m 30s) Loss: 695.1012(280.7767) Grad: 43618.2539 LR: 0.000094  \n",
      "Epoch: [50][7000/10164] Elapsed 0m 59s (remain 0m 26s) Loss: 15.5840(280.1762) Grad: 3144.5137 LR: 0.000094  \n",
      "Epoch: [50][7500/10164] Elapsed 1m 3s (remain 0m 22s) Loss: 173.3977(279.2058) Grad: 26773.4277 LR: 0.000094  \n",
      "Epoch: [50][8000/10164] Elapsed 1m 7s (remain 0m 18s) Loss: 44.1692(276.1840) Grad: 15938.2979 LR: 0.000094  \n",
      "Epoch: [50][8500/10164] Elapsed 1m 12s (remain 0m 14s) Loss: 63.9689(274.0999) Grad: 4625.3379 LR: 0.000094  \n",
      "Epoch: [50][9000/10164] Elapsed 1m 16s (remain 0m 9s) Loss: 56.6236(272.9664) Grad: 17807.5156 LR: 0.000094  \n",
      "Epoch: [50][9500/10164] Elapsed 1m 20s (remain 0m 5s) Loss: 102.8599(271.8093) Grad: 6001.2749 LR: 0.000094  \n",
      "Epoch: [50][10000/10164] Elapsed 1m 25s (remain 0m 1s) Loss: 213.5523(273.8713) Grad: 18778.2832 LR: 0.000094  \n",
      "Epoch: [50][10163/10164] Elapsed 1m 26s (remain 0m 0s) Loss: 91.0778(273.4233) Grad: 12004.3389 LR: 0.000094  \n",
      "EVAL: [0/1129] Elapsed 0m 0s (remain 1m 21s) Loss: 2672.3120(2672.3120) \n",
      "EVAL: [500/1129] Elapsed 0m 1s (remain 0m 2s) Loss: 669.7336(295.1271) \n",
      "EVAL: [1000/1129] Elapsed 0m 3s (remain 0m 0s) Loss: 55.8217(284.9888) \n"
     ]
    },
    {
     "name": "stderr",
     "output_type": "stream",
     "text": [
      "Epoch 50 - avg_train_loss: 273.4233  avg_val_loss: 288.0046  time: 91s\n",
      "Epoch 50 - Score: 16.9707\n"
     ]
    },
    {
     "name": "stdout",
     "output_type": "stream",
     "text": [
      "EVAL: [1128/1129] Elapsed 0m 3s (remain 0m 0s) Loss: 1071.5322(288.0046) \n",
      "Epoch: [51][0/10164] Elapsed 0m 0s (remain 13m 34s) Loss: 295.3573(295.3573) Grad: 44466.2461 LR: 0.000078  \n",
      "Epoch: [51][500/10164] Elapsed 0m 4s (remain 1m 23s) Loss: 75.0826(288.8802) Grad: 18244.3945 LR: 0.000078  \n",
      "Epoch: [51][1000/10164] Elapsed 0m 8s (remain 1m 18s) Loss: 379.1071(276.4139) Grad: 27964.0703 LR: 0.000078  \n",
      "Epoch: [51][1500/10164] Elapsed 0m 12s (remain 1m 13s) Loss: 542.6896(281.1119) Grad: 77278.6484 LR: 0.000078  \n",
      "Epoch: [51][2000/10164] Elapsed 0m 16s (remain 1m 8s) Loss: 64.4303(284.8620) Grad: 20542.6152 LR: 0.000078  \n",
      "Epoch: [51][2500/10164] Elapsed 0m 21s (remain 1m 4s) Loss: 49.8644(282.3768) Grad: 23520.0059 LR: 0.000078  \n",
      "Epoch: [51][3000/10164] Elapsed 0m 25s (remain 1m 0s) Loss: 51.5487(271.0280) Grad: 10086.2334 LR: 0.000078  \n",
      "Epoch: [51][3500/10164] Elapsed 0m 29s (remain 0m 56s) Loss: 101.1406(279.3027) Grad: 11205.4004 LR: 0.000078  \n",
      "Epoch: [51][4000/10164] Elapsed 0m 33s (remain 0m 52s) Loss: 65.9939(277.1199) Grad: 4628.2407 LR: 0.000078  \n",
      "Epoch: [51][4500/10164] Elapsed 0m 38s (remain 0m 48s) Loss: 85.0696(280.0121) Grad: 37998.5703 LR: 0.000078  \n",
      "Epoch: [51][5000/10164] Elapsed 0m 42s (remain 0m 43s) Loss: 387.2650(276.0968) Grad: 26518.9004 LR: 0.000078  \n",
      "Epoch: [51][5500/10164] Elapsed 0m 46s (remain 0m 39s) Loss: 148.9570(280.5866) Grad: 12970.6611 LR: 0.000078  \n",
      "Epoch: [51][6000/10164] Elapsed 0m 51s (remain 0m 35s) Loss: 16.3740(276.3817) Grad: 3926.6030 LR: 0.000078  \n",
      "Epoch: [51][6500/10164] Elapsed 0m 55s (remain 0m 31s) Loss: 732.1143(275.7880) Grad: 55277.8477 LR: 0.000078  \n",
      "Epoch: [51][7000/10164] Elapsed 0m 59s (remain 0m 26s) Loss: 18.6896(275.2018) Grad: 3303.4119 LR: 0.000078  \n",
      "Epoch: [51][7500/10164] Elapsed 1m 4s (remain 0m 22s) Loss: 164.8288(274.1663) Grad: 25476.8750 LR: 0.000078  \n",
      "Epoch: [51][8000/10164] Elapsed 1m 8s (remain 0m 18s) Loss: 34.0497(270.8008) Grad: 13000.2373 LR: 0.000078  \n",
      "Epoch: [51][8500/10164] Elapsed 1m 12s (remain 0m 14s) Loss: 61.7773(268.5555) Grad: 3739.6653 LR: 0.000078  \n",
      "Epoch: [51][9000/10164] Elapsed 1m 17s (remain 0m 9s) Loss: 52.2665(267.5510) Grad: 15636.7783 LR: 0.000078  \n",
      "Epoch: [51][9500/10164] Elapsed 1m 21s (remain 0m 5s) Loss: 82.1704(266.6844) Grad: 6962.0918 LR: 0.000078  \n",
      "Epoch: [51][10000/10164] Elapsed 1m 25s (remain 0m 1s) Loss: 202.3499(268.7590) Grad: 16024.1035 LR: 0.000078  \n",
      "Epoch: [51][10163/10164] Elapsed 1m 27s (remain 0m 0s) Loss: 109.4717(268.3474) Grad: 14777.3564 LR: 0.000078  \n",
      "EVAL: [0/1129] Elapsed 0m 0s (remain 1m 23s) Loss: 2595.8389(2595.8389) \n",
      "EVAL: [500/1129] Elapsed 0m 1s (remain 0m 2s) Loss: 682.7541(283.2138) \n",
      "EVAL: [1000/1129] Elapsed 0m 3s (remain 0m 0s) Loss: 59.1538(275.9284) \n"
     ]
    },
    {
     "name": "stderr",
     "output_type": "stream",
     "text": [
      "Epoch 51 - avg_train_loss: 268.3474  avg_val_loss: 279.9153  time: 91s\n",
      "Epoch 51 - Score: 16.7307\n"
     ]
    },
    {
     "name": "stdout",
     "output_type": "stream",
     "text": [
      "EVAL: [1128/1129] Elapsed 0m 3s (remain 0m 0s) Loss: 1115.1919(279.9153) \n",
      "Epoch: [52][0/10164] Elapsed 0m 0s (remain 13m 22s) Loss: 313.7544(313.7544) Grad: 45963.7969 LR: 0.000055  \n",
      "Epoch: [52][500/10164] Elapsed 0m 4s (remain 1m 22s) Loss: 65.2756(288.0209) Grad: 11717.0361 LR: 0.000055  \n",
      "Epoch: [52][1000/10164] Elapsed 0m 8s (remain 1m 18s) Loss: 365.8427(273.2604) Grad: 38141.8359 LR: 0.000055  \n",
      "Epoch: [52][1500/10164] Elapsed 0m 12s (remain 1m 15s) Loss: 566.9784(277.5617) Grad: 177452.4375 LR: 0.000055  \n",
      "Epoch: [52][2000/10164] Elapsed 0m 17s (remain 1m 9s) Loss: 77.0026(279.5291) Grad: 30702.0762 LR: 0.000055  \n",
      "Epoch: [52][2500/10164] Elapsed 0m 21s (remain 1m 5s) Loss: 60.6966(277.5411) Grad: 32481.1699 LR: 0.000055  \n",
      "Epoch: [52][3000/10164] Elapsed 0m 25s (remain 1m 0s) Loss: 56.0802(267.1923) Grad: 12095.8975 LR: 0.000055  \n",
      "Epoch: [52][3500/10164] Elapsed 0m 29s (remain 0m 56s) Loss: 107.5033(275.4542) Grad: 8275.0830 LR: 0.000055  \n",
      "Epoch: [52][4000/10164] Elapsed 0m 34s (remain 0m 52s) Loss: 77.0552(273.1105) Grad: 5639.5635 LR: 0.000055  \n",
      "Epoch: [52][4500/10164] Elapsed 0m 38s (remain 0m 48s) Loss: 63.0876(275.8192) Grad: 19199.9336 LR: 0.000055  \n",
      "Epoch: [52][5000/10164] Elapsed 0m 42s (remain 0m 44s) Loss: 379.5680(271.7711) Grad: 28289.4883 LR: 0.000055  \n",
      "Epoch: [52][5500/10164] Elapsed 0m 46s (remain 0m 39s) Loss: 130.3966(276.1921) Grad: 10478.7090 LR: 0.000055  \n",
      "Epoch: [52][6000/10164] Elapsed 0m 51s (remain 0m 35s) Loss: 15.1202(271.6026) Grad: 2826.9492 LR: 0.000055  \n",
      "Epoch: [52][6500/10164] Elapsed 0m 55s (remain 0m 31s) Loss: 676.5649(270.7214) Grad: 48584.4375 LR: 0.000055  \n",
      "Epoch: [52][7000/10164] Elapsed 0m 59s (remain 0m 26s) Loss: 17.6727(270.1711) Grad: 2868.2083 LR: 0.000055  \n",
      "Epoch: [52][7500/10164] Elapsed 1m 4s (remain 0m 22s) Loss: 162.7617(269.0472) Grad: 17200.3633 LR: 0.000055  \n",
      "Epoch: [52][8000/10164] Elapsed 1m 8s (remain 0m 18s) Loss: 35.9115(265.8735) Grad: 14607.8047 LR: 0.000055  \n",
      "Epoch: [52][8500/10164] Elapsed 1m 12s (remain 0m 14s) Loss: 59.4976(263.6513) Grad: 4283.4688 LR: 0.000055  \n",
      "Epoch: [52][9000/10164] Elapsed 1m 17s (remain 0m 9s) Loss: 50.4266(262.7495) Grad: 18265.4121 LR: 0.000055  \n",
      "Epoch: [52][9500/10164] Elapsed 1m 21s (remain 0m 5s) Loss: 95.7463(261.8662) Grad: 10693.9775 LR: 0.000055  \n",
      "Epoch: [52][10000/10164] Elapsed 1m 25s (remain 0m 1s) Loss: 212.4506(263.7180) Grad: 16325.3799 LR: 0.000055  \n",
      "Epoch: [52][10163/10164] Elapsed 1m 27s (remain 0m 0s) Loss: 72.2465(263.2887) Grad: 8638.5469 LR: 0.000055  \n",
      "EVAL: [0/1129] Elapsed 0m 0s (remain 1m 23s) Loss: 2691.3027(2691.3027) \n",
      "EVAL: [500/1129] Elapsed 0m 1s (remain 0m 2s) Loss: 561.6956(270.4097) \n",
      "EVAL: [1000/1129] Elapsed 0m 3s (remain 0m 0s) Loss: 65.7785(262.2821) \n"
     ]
    },
    {
     "name": "stderr",
     "output_type": "stream",
     "text": [
      "Epoch 52 - avg_train_loss: 263.2887  avg_val_loss: 268.2989  time: 91s\n",
      "Epoch 52 - Score: 16.3798\n"
     ]
    },
    {
     "name": "stdout",
     "output_type": "stream",
     "text": [
      "EVAL: [1128/1129] Elapsed 0m 3s (remain 0m 0s) Loss: 1250.4277(268.2989) \n",
      "Epoch: [53][0/10164] Elapsed 0m 0s (remain 13m 57s) Loss: 353.1019(353.1019) Grad: 43836.3633 LR: 0.000033  \n",
      "Epoch: [53][500/10164] Elapsed 0m 4s (remain 1m 22s) Loss: 50.7887(277.3457) Grad: 12421.1914 LR: 0.000033  \n",
      "Epoch: [53][1000/10164] Elapsed 0m 8s (remain 1m 17s) Loss: 398.0769(265.4230) Grad: 40991.3398 LR: 0.000033  \n",
      "Epoch: [53][1500/10164] Elapsed 0m 12s (remain 1m 13s) Loss: 676.8773(272.9165) Grad: 295246.5000 LR: 0.000033  \n",
      "Epoch: [53][2000/10164] Elapsed 0m 16s (remain 1m 9s) Loss: 46.6474(276.3143) Grad: 19292.8418 LR: 0.000033  \n",
      "Epoch: [53][2500/10164] Elapsed 0m 21s (remain 1m 4s) Loss: 35.5479(273.6506) Grad: 17944.1484 LR: 0.000033  \n",
      "Epoch: [53][3000/10164] Elapsed 0m 25s (remain 1m 0s) Loss: 43.5267(263.1973) Grad: 4187.5933 LR: 0.000033  \n",
      "Epoch: [53][3500/10164] Elapsed 0m 29s (remain 0m 56s) Loss: 103.2134(270.7045) Grad: 7947.3442 LR: 0.000033  \n",
      "Epoch: [53][4000/10164] Elapsed 0m 33s (remain 0m 52s) Loss: 83.6702(268.6053) Grad: 5467.6479 LR: 0.000033  \n",
      "Epoch: [53][4500/10164] Elapsed 0m 38s (remain 0m 48s) Loss: 67.3738(271.3828) Grad: 25573.8750 LR: 0.000033  \n",
      "Epoch: [53][5000/10164] Elapsed 0m 42s (remain 0m 43s) Loss: 449.2642(267.2612) Grad: 27095.1562 LR: 0.000033  \n",
      "Epoch: [53][5500/10164] Elapsed 0m 46s (remain 0m 39s) Loss: 136.7422(271.3880) Grad: 12551.9326 LR: 0.000033  \n",
      "Epoch: [53][6000/10164] Elapsed 0m 50s (remain 0m 35s) Loss: 22.3209(266.7229) Grad: 3663.5857 LR: 0.000033  \n",
      "Epoch: [53][6500/10164] Elapsed 0m 54s (remain 0m 30s) Loss: 726.4148(265.8499) Grad: 43023.3125 LR: 0.000033  \n",
      "Epoch: [53][7000/10164] Elapsed 0m 59s (remain 0m 26s) Loss: 18.1830(265.1911) Grad: 2164.9116 LR: 0.000033  \n",
      "Epoch: [53][7500/10164] Elapsed 1m 3s (remain 0m 22s) Loss: 163.8404(264.1825) Grad: 26016.4531 LR: 0.000033  \n",
      "Epoch: [53][8000/10164] Elapsed 1m 7s (remain 0m 18s) Loss: 28.6086(261.1027) Grad: 9497.8525 LR: 0.000033  \n",
      "Epoch: [53][8500/10164] Elapsed 1m 12s (remain 0m 14s) Loss: 60.5098(258.9973) Grad: 2850.0947 LR: 0.000033  \n",
      "Epoch: [53][9000/10164] Elapsed 1m 16s (remain 0m 9s) Loss: 40.4047(258.1181) Grad: 16372.6182 LR: 0.000033  \n",
      "Epoch: [53][9500/10164] Elapsed 1m 20s (remain 0m 5s) Loss: 91.7736(257.3397) Grad: 12734.9180 LR: 0.000033  \n",
      "Epoch: [53][10000/10164] Elapsed 1m 25s (remain 0m 1s) Loss: 201.3785(259.2288) Grad: 14464.2266 LR: 0.000033  \n",
      "Epoch: [53][10163/10164] Elapsed 1m 26s (remain 0m 0s) Loss: 80.2538(258.8026) Grad: 12485.5625 LR: 0.000033  \n",
      "EVAL: [0/1129] Elapsed 0m 0s (remain 1m 23s) Loss: 2623.3843(2623.3843) \n",
      "EVAL: [500/1129] Elapsed 0m 1s (remain 0m 2s) Loss: 448.3740(265.4581) \n",
      "EVAL: [1000/1129] Elapsed 0m 3s (remain 0m 0s) Loss: 44.6513(256.6846) \n"
     ]
    },
    {
     "name": "stderr",
     "output_type": "stream",
     "text": [
      "Epoch 53 - avg_train_loss: 258.8026  avg_val_loss: 262.5445  time: 91s\n",
      "Epoch 53 - Score: 16.2032\n",
      "Validation loss Improved (266.63631384533664 ---> 262.5444572554615)\n",
      "Epoch 53 - Save Best Loss: 262.5445 Model\n"
     ]
    },
    {
     "name": "stdout",
     "output_type": "stream",
     "text": [
      "EVAL: [1128/1129] Elapsed 0m 3s (remain 0m 0s) Loss: 1352.0635(262.5445) \n",
      "Epoch: [54][0/10164] Elapsed 0m 0s (remain 13m 28s) Loss: 276.5082(276.5082) Grad: 44827.8750 LR: 0.000016  \n",
      "Epoch: [54][500/10164] Elapsed 0m 4s (remain 1m 24s) Loss: 71.5087(275.5587) Grad: 11894.3672 LR: 0.000016  \n",
      "Epoch: [54][1000/10164] Elapsed 0m 8s (remain 1m 18s) Loss: 377.2582(263.9930) Grad: 35965.3438 LR: 0.000016  \n",
      "Epoch: [54][1500/10164] Elapsed 0m 13s (remain 1m 15s) Loss: 482.2062(269.8912) Grad: 245719.4844 LR: 0.000016  \n",
      "Epoch: [54][2000/10164] Elapsed 0m 17s (remain 1m 10s) Loss: 40.6008(272.1684) Grad: 3789.4111 LR: 0.000016  \n",
      "Epoch: [54][2500/10164] Elapsed 0m 21s (remain 1m 6s) Loss: 38.1277(268.9559) Grad: 12871.3389 LR: 0.000016  \n",
      "Epoch: [54][3000/10164] Elapsed 0m 25s (remain 1m 1s) Loss: 47.9315(258.7166) Grad: 5984.1387 LR: 0.000016  \n",
      "Epoch: [54][3500/10164] Elapsed 0m 30s (remain 0m 57s) Loss: 95.6144(266.1173) Grad: 6999.9370 LR: 0.000016  \n",
      "Epoch: [54][4000/10164] Elapsed 0m 34s (remain 0m 53s) Loss: 72.2420(264.0562) Grad: 4324.4116 LR: 0.000016  \n",
      "Epoch: [54][4500/10164] Elapsed 0m 38s (remain 0m 48s) Loss: 60.0451(267.0573) Grad: 19417.2773 LR: 0.000016  \n",
      "Epoch: [54][5000/10164] Elapsed 0m 42s (remain 0m 44s) Loss: 407.3118(262.8987) Grad: 20622.9727 LR: 0.000016  \n",
      "Epoch: [54][5500/10164] Elapsed 0m 46s (remain 0m 39s) Loss: 143.5410(266.9672) Grad: 7923.6606 LR: 0.000016  \n",
      "Epoch: [54][6000/10164] Elapsed 0m 51s (remain 0m 35s) Loss: 13.7901(262.3635) Grad: 3065.2520 LR: 0.000016  \n",
      "Epoch: [54][6500/10164] Elapsed 0m 55s (remain 0m 31s) Loss: 680.7761(261.5106) Grad: 51923.2070 LR: 0.000016  \n",
      "Epoch: [54][7000/10164] Elapsed 0m 59s (remain 0m 26s) Loss: 13.6313(261.0746) Grad: 1939.8549 LR: 0.000016  \n",
      "Epoch: [54][7500/10164] Elapsed 1m 3s (remain 0m 22s) Loss: 149.6037(260.0980) Grad: 24484.1934 LR: 0.000016  \n",
      "Epoch: [54][8000/10164] Elapsed 1m 8s (remain 0m 18s) Loss: 25.7110(257.0474) Grad: 8080.9536 LR: 0.000016  \n",
      "Epoch: [54][8500/10164] Elapsed 1m 12s (remain 0m 14s) Loss: 55.2257(255.0140) Grad: 2859.5520 LR: 0.000016  \n",
      "Epoch: [54][9000/10164] Elapsed 1m 16s (remain 0m 9s) Loss: 42.7766(254.2264) Grad: 20058.1484 LR: 0.000016  \n",
      "Epoch: [54][9500/10164] Elapsed 1m 21s (remain 0m 5s) Loss: 89.5031(253.3885) Grad: 12718.5576 LR: 0.000016  \n",
      "Epoch: [54][10000/10164] Elapsed 1m 25s (remain 0m 1s) Loss: 200.7608(255.2078) Grad: 13836.8652 LR: 0.000016  \n",
      "Epoch: [54][10163/10164] Elapsed 1m 26s (remain 0m 0s) Loss: 75.6231(254.7962) Grad: 14491.5625 LR: 0.000016  \n",
      "EVAL: [0/1129] Elapsed 0m 0s (remain 1m 21s) Loss: 2507.9268(2507.9268) \n",
      "EVAL: [500/1129] Elapsed 0m 1s (remain 0m 2s) Loss: 481.3245(262.9593) \n",
      "EVAL: [1000/1129] Elapsed 0m 3s (remain 0m 0s) Loss: 46.6987(254.2767) \n"
     ]
    },
    {
     "name": "stderr",
     "output_type": "stream",
     "text": [
      "Epoch 54 - avg_train_loss: 254.7962  avg_val_loss: 260.0293  time: 91s\n",
      "Epoch 54 - Score: 16.1254\n",
      "Validation loss Improved (262.5444572554615 ---> 260.02933380990095)\n",
      "Epoch 54 - Save Best Loss: 260.0293 Model\n"
     ]
    },
    {
     "name": "stdout",
     "output_type": "stream",
     "text": [
      "EVAL: [1128/1129] Elapsed 0m 3s (remain 0m 0s) Loss: 1391.6833(260.0293) \n",
      "Epoch: [55][0/10164] Elapsed 0m 0s (remain 13m 43s) Loss: 354.6638(354.6638) Grad: 51867.5391 LR: 0.000010  \n",
      "Epoch: [55][500/10164] Elapsed 0m 4s (remain 1m 25s) Loss: 58.1104(275.0514) Grad: 10059.1729 LR: 0.000010  \n",
      "Epoch: [55][1000/10164] Elapsed 0m 8s (remain 1m 19s) Loss: 391.6407(262.5014) Grad: 38137.5703 LR: 0.000010  \n",
      "Epoch: [55][1500/10164] Elapsed 0m 12s (remain 1m 14s) Loss: 447.8035(268.0391) Grad: 146395.6562 LR: 0.000010  \n",
      "Epoch: [55][2000/10164] Elapsed 0m 17s (remain 1m 10s) Loss: 33.3682(269.9383) Grad: 5577.1245 LR: 0.000010  \n",
      "Epoch: [55][2500/10164] Elapsed 0m 21s (remain 1m 6s) Loss: 30.1547(267.2968) Grad: 8171.0527 LR: 0.000010  \n",
      "Epoch: [55][3000/10164] Elapsed 0m 25s (remain 1m 1s) Loss: 50.3385(257.2171) Grad: 8349.9453 LR: 0.000010  \n",
      "Epoch: [55][3500/10164] Elapsed 0m 30s (remain 0m 57s) Loss: 91.4823(264.5740) Grad: 6940.2886 LR: 0.000010  \n",
      "Epoch: [55][4000/10164] Elapsed 0m 34s (remain 0m 52s) Loss: 76.3905(262.3118) Grad: 6112.5664 LR: 0.000010  \n",
      "Epoch: [55][4500/10164] Elapsed 0m 38s (remain 0m 48s) Loss: 56.9284(265.1427) Grad: 18833.8301 LR: 0.000010  \n",
      "Epoch: [55][5000/10164] Elapsed 0m 42s (remain 0m 44s) Loss: 425.8091(261.2768) Grad: 24771.2500 LR: 0.000010  \n",
      "Epoch: [55][5500/10164] Elapsed 0m 46s (remain 0m 39s) Loss: 135.3722(265.5364) Grad: 8505.1230 LR: 0.000010  \n",
      "Epoch: [55][6000/10164] Elapsed 0m 51s (remain 0m 35s) Loss: 14.8093(261.0465) Grad: 3645.3877 LR: 0.000010  \n",
      "Epoch: [55][6500/10164] Elapsed 0m 55s (remain 0m 31s) Loss: 748.5811(260.1792) Grad: 57068.8203 LR: 0.000010  \n",
      "Epoch: [55][7000/10164] Elapsed 0m 59s (remain 0m 26s) Loss: 14.9145(259.8344) Grad: 1574.5737 LR: 0.000010  \n",
      "Epoch: [55][7500/10164] Elapsed 1m 3s (remain 0m 22s) Loss: 158.8149(258.8638) Grad: 26022.4746 LR: 0.000010  \n",
      "Epoch: [55][8000/10164] Elapsed 1m 8s (remain 0m 18s) Loss: 25.2681(255.8894) Grad: 5769.6509 LR: 0.000010  \n",
      "Epoch: [55][8500/10164] Elapsed 1m 12s (remain 0m 14s) Loss: 58.0232(253.9777) Grad: 3001.1528 LR: 0.000010  \n",
      "Epoch: [55][9000/10164] Elapsed 1m 16s (remain 0m 9s) Loss: 45.0792(253.1229) Grad: 20027.2969 LR: 0.000010  \n",
      "Epoch: [55][9500/10164] Elapsed 1m 20s (remain 0m 5s) Loss: 74.3719(252.3018) Grad: 9572.9531 LR: 0.000010  \n",
      "Epoch: [55][10000/10164] Elapsed 1m 24s (remain 0m 1s) Loss: 193.8991(253.9792) Grad: 15458.2363 LR: 0.000010  \n",
      "Epoch: [55][10163/10164] Elapsed 1m 26s (remain 0m 0s) Loss: 75.6919(253.5803) Grad: 11476.6631 LR: 0.000010  \n",
      "EVAL: [0/1129] Elapsed 0m 0s (remain 1m 20s) Loss: 2508.1165(2508.1165) \n",
      "EVAL: [500/1129] Elapsed 0m 1s (remain 0m 2s) Loss: 534.2179(261.3398) \n",
      "EVAL: [1000/1129] Elapsed 0m 3s (remain 0m 0s) Loss: 45.2683(252.7960) \n"
     ]
    },
    {
     "name": "stderr",
     "output_type": "stream",
     "text": [
      "Epoch 55 - avg_train_loss: 253.5803  avg_val_loss: 258.1194  time: 90s\n",
      "Epoch 55 - Score: 16.0661\n",
      "Validation loss Improved (260.02933380990095 ---> 258.11943426591614)\n",
      "Epoch 55 - Save Best Loss: 258.1194 Model\n"
     ]
    },
    {
     "name": "stdout",
     "output_type": "stream",
     "text": [
      "EVAL: [1128/1129] Elapsed 0m 3s (remain 0m 0s) Loss: 1394.0735(258.1194) \n",
      "Epoch: [56][0/10164] Elapsed 0m 0s (remain 13m 24s) Loss: 278.5486(278.5486) Grad: 44662.6289 LR: 0.000016  \n",
      "Epoch: [56][500/10164] Elapsed 0m 4s (remain 1m 22s) Loss: 70.4767(273.1795) Grad: 11572.8867 LR: 0.000016  \n",
      "Epoch: [56][1000/10164] Elapsed 0m 8s (remain 1m 19s) Loss: 359.1664(261.6794) Grad: 27023.1133 LR: 0.000016  \n",
      "Epoch: [56][1500/10164] Elapsed 0m 13s (remain 1m 16s) Loss: 471.4777(267.9742) Grad: 123174.6250 LR: 0.000016  \n",
      "Epoch: [56][2000/10164] Elapsed 0m 17s (remain 1m 11s) Loss: 29.9069(270.8760) Grad: 4819.2998 LR: 0.000016  \n",
      "Epoch: [56][2500/10164] Elapsed 0m 21s (remain 1m 7s) Loss: 41.8598(267.8490) Grad: 15874.2725 LR: 0.000016  \n",
      "Epoch: [56][3000/10164] Elapsed 0m 26s (remain 1m 2s) Loss: 49.8996(257.5509) Grad: 6168.4492 LR: 0.000016  \n",
      "Epoch: [56][3500/10164] Elapsed 0m 30s (remain 0m 57s) Loss: 101.5331(265.1167) Grad: 9405.9512 LR: 0.000016  \n",
      "Epoch: [56][4000/10164] Elapsed 0m 34s (remain 0m 53s) Loss: 73.2566(262.7631) Grad: 5636.1294 LR: 0.000016  \n",
      "Epoch: [56][4500/10164] Elapsed 0m 39s (remain 0m 49s) Loss: 54.6894(265.6365) Grad: 16060.9785 LR: 0.000016  \n",
      "Epoch: [56][5000/10164] Elapsed 0m 43s (remain 0m 44s) Loss: 395.0656(261.5229) Grad: 23843.0312 LR: 0.000016  \n",
      "Epoch: [56][5500/10164] Elapsed 0m 47s (remain 0m 40s) Loss: 137.6772(265.1883) Grad: 9936.4307 LR: 0.000016  \n",
      "Epoch: [56][6000/10164] Elapsed 0m 51s (remain 0m 35s) Loss: 16.1244(260.8206) Grad: 3254.2607 LR: 0.000016  \n",
      "Epoch: [56][6500/10164] Elapsed 0m 56s (remain 0m 31s) Loss: 743.8276(259.9425) Grad: 59131.9883 LR: 0.000016  \n",
      "Epoch: [56][7000/10164] Elapsed 1m 0s (remain 0m 27s) Loss: 14.4163(259.4599) Grad: 2081.4155 LR: 0.000016  \n",
      "Epoch: [56][7500/10164] Elapsed 1m 4s (remain 0m 22s) Loss: 161.1676(258.4437) Grad: 27336.5000 LR: 0.000016  \n",
      "Epoch: [56][8000/10164] Elapsed 1m 8s (remain 0m 18s) Loss: 27.8410(255.5696) Grad: 8118.0625 LR: 0.000016  \n",
      "Epoch: [56][8500/10164] Elapsed 1m 13s (remain 0m 14s) Loss: 58.5471(253.7336) Grad: 3320.5571 LR: 0.000016  \n",
      "Epoch: [56][9000/10164] Elapsed 1m 17s (remain 0m 10s) Loss: 42.5108(252.8222) Grad: 18231.7520 LR: 0.000016  \n",
      "Epoch: [56][9500/10164] Elapsed 1m 21s (remain 0m 5s) Loss: 93.0854(252.0544) Grad: 12698.5029 LR: 0.000016  \n",
      "Epoch: [56][10000/10164] Elapsed 1m 25s (remain 0m 1s) Loss: 208.8570(253.7817) Grad: 17026.3105 LR: 0.000016  \n",
      "Epoch: [56][10163/10164] Elapsed 1m 27s (remain 0m 0s) Loss: 82.7240(253.4297) Grad: 13439.2969 LR: 0.000016  \n",
      "EVAL: [0/1129] Elapsed 0m 0s (remain 1m 21s) Loss: 2497.9893(2497.9893) \n",
      "EVAL: [500/1129] Elapsed 0m 1s (remain 0m 2s) Loss: 479.1102(261.9312) \n",
      "EVAL: [1000/1129] Elapsed 0m 3s (remain 0m 0s) Loss: 45.3813(252.9932) \n"
     ]
    },
    {
     "name": "stderr",
     "output_type": "stream",
     "text": [
      "Epoch 56 - avg_train_loss: 253.4297  avg_val_loss: 258.4916  time: 91s\n",
      "Epoch 56 - Score: 16.0777\n"
     ]
    },
    {
     "name": "stdout",
     "output_type": "stream",
     "text": [
      "EVAL: [1128/1129] Elapsed 0m 3s (remain 0m 0s) Loss: 1370.1038(258.4916) \n",
      "Epoch: [57][0/10164] Elapsed 0m 0s (remain 14m 30s) Loss: 383.3207(383.3207) Grad: 78466.0156 LR: 0.000032  \n",
      "Epoch: [57][500/10164] Elapsed 0m 4s (remain 1m 22s) Loss: 75.6849(275.5657) Grad: 18079.9336 LR: 0.000032  \n",
      "Epoch: [57][1000/10164] Elapsed 0m 8s (remain 1m 19s) Loss: 363.9677(262.4036) Grad: 44887.6133 LR: 0.000032  \n",
      "Epoch: [57][1500/10164] Elapsed 0m 12s (remain 1m 14s) Loss: 440.2215(269.0289) Grad: 168309.2969 LR: 0.000032  \n",
      "Epoch: [57][2000/10164] Elapsed 0m 17s (remain 1m 10s) Loss: 58.7377(271.8516) Grad: 17316.8848 LR: 0.000032  \n",
      "Epoch: [57][2500/10164] Elapsed 0m 21s (remain 1m 6s) Loss: 33.7866(269.8285) Grad: 20397.6328 LR: 0.000032  \n",
      "Epoch: [57][3000/10164] Elapsed 0m 25s (remain 1m 1s) Loss: 49.5139(259.6741) Grad: 5390.7837 LR: 0.000032  \n",
      "Epoch: [57][3500/10164] Elapsed 0m 30s (remain 0m 57s) Loss: 93.8593(267.4819) Grad: 9228.7002 LR: 0.000032  \n",
      "Epoch: [57][4000/10164] Elapsed 0m 34s (remain 0m 52s) Loss: 76.6046(265.0499) Grad: 5187.0737 LR: 0.000032  \n",
      "Epoch: [57][4500/10164] Elapsed 0m 38s (remain 0m 48s) Loss: 67.3770(267.8283) Grad: 22747.0645 LR: 0.000032  \n",
      "Epoch: [57][5000/10164] Elapsed 0m 42s (remain 0m 44s) Loss: 403.7607(263.6393) Grad: 30457.1953 LR: 0.000032  \n",
      "Epoch: [57][5500/10164] Elapsed 0m 46s (remain 0m 39s) Loss: 130.6570(267.4920) Grad: 5350.6543 LR: 0.000032  \n",
      "Epoch: [57][6000/10164] Elapsed 0m 51s (remain 0m 35s) Loss: 16.9090(263.1455) Grad: 3531.5369 LR: 0.000032  \n",
      "Epoch: [57][6500/10164] Elapsed 0m 55s (remain 0m 31s) Loss: 724.5993(262.0604) Grad: 64701.3711 LR: 0.000032  \n",
      "Epoch: [57][7000/10164] Elapsed 0m 59s (remain 0m 26s) Loss: 15.3446(261.5962) Grad: 1917.4309 LR: 0.000032  \n",
      "Epoch: [57][7500/10164] Elapsed 1m 3s (remain 0m 22s) Loss: 147.8191(260.6338) Grad: 25669.0273 LR: 0.000032  \n",
      "Epoch: [57][8000/10164] Elapsed 1m 7s (remain 0m 18s) Loss: 31.1041(257.5351) Grad: 8951.9150 LR: 0.000032  \n",
      "Epoch: [57][8500/10164] Elapsed 1m 11s (remain 0m 14s) Loss: 55.9100(255.4968) Grad: 2747.3489 LR: 0.000032  \n",
      "Epoch: [57][9000/10164] Elapsed 1m 16s (remain 0m 9s) Loss: 50.6935(254.6373) Grad: 19204.8867 LR: 0.000032  \n",
      "Epoch: [57][9500/10164] Elapsed 1m 20s (remain 0m 5s) Loss: 86.7801(253.9980) Grad: 11165.3828 LR: 0.000032  \n",
      "Epoch: [57][10000/10164] Elapsed 1m 24s (remain 0m 1s) Loss: 212.1879(255.8167) Grad: 14347.6211 LR: 0.000032  \n",
      "Epoch: [57][10163/10164] Elapsed 1m 26s (remain 0m 0s) Loss: 97.2183(255.4014) Grad: 13277.6689 LR: 0.000032  \n",
      "EVAL: [0/1129] Elapsed 0m 0s (remain 1m 22s) Loss: 2471.7610(2471.7610) \n",
      "EVAL: [500/1129] Elapsed 0m 1s (remain 0m 2s) Loss: 461.9559(262.6636) \n",
      "EVAL: [1000/1129] Elapsed 0m 3s (remain 0m 0s) Loss: 44.2987(253.9101) \n"
     ]
    },
    {
     "name": "stderr",
     "output_type": "stream",
     "text": [
      "Epoch 57 - avg_train_loss: 255.4014  avg_val_loss: 259.0586  time: 90s\n",
      "Epoch 57 - Score: 16.0953\n"
     ]
    },
    {
     "name": "stdout",
     "output_type": "stream",
     "text": [
      "EVAL: [1128/1129] Elapsed 0m 3s (remain 0m 0s) Loss: 1308.7909(259.0586) \n",
      "Epoch: [58][0/10164] Elapsed 0m 0s (remain 13m 27s) Loss: 348.6263(348.6263) Grad: 80334.9844 LR: 0.000055  \n",
      "Epoch: [58][500/10164] Elapsed 0m 4s (remain 1m 31s) Loss: 70.9886(277.1998) Grad: 23483.0508 LR: 0.000055  \n",
      "Epoch: [58][1000/10164] Elapsed 0m 9s (remain 1m 25s) Loss: 331.8279(265.9231) Grad: 42552.7344 LR: 0.000055  \n",
      "Epoch: [58][1500/10164] Elapsed 0m 13s (remain 1m 18s) Loss: 447.1988(271.6184) Grad: 94937.8125 LR: 0.000055  \n",
      "Epoch: [58][2000/10164] Elapsed 0m 17s (remain 1m 12s) Loss: 65.2185(274.3701) Grad: 21225.5215 LR: 0.000055  \n",
      "Epoch: [58][2500/10164] Elapsed 0m 22s (remain 1m 8s) Loss: 46.1004(271.8661) Grad: 22739.2285 LR: 0.000055  \n",
      "Epoch: [58][3000/10164] Elapsed 0m 26s (remain 1m 3s) Loss: 47.8028(262.0431) Grad: 3974.6511 LR: 0.000055  \n",
      "Epoch: [58][3500/10164] Elapsed 0m 30s (remain 0m 58s) Loss: 99.2763(269.5200) Grad: 8826.0938 LR: 0.000055  \n",
      "Epoch: [58][4000/10164] Elapsed 0m 35s (remain 0m 54s) Loss: 80.5287(267.4841) Grad: 6150.2197 LR: 0.000055  \n",
      "Epoch: [58][4500/10164] Elapsed 0m 39s (remain 0m 49s) Loss: 54.1539(270.9033) Grad: 12914.2178 LR: 0.000055  \n",
      "Epoch: [58][5000/10164] Elapsed 0m 44s (remain 0m 45s) Loss: 391.6086(266.3465) Grad: 34778.0703 LR: 0.000055  \n",
      "Epoch: [58][5500/10164] Elapsed 0m 48s (remain 0m 41s) Loss: 135.1814(270.8598) Grad: 4229.0146 LR: 0.000055  \n",
      "Epoch: [58][6000/10164] Elapsed 0m 52s (remain 0m 36s) Loss: 22.7350(266.2165) Grad: 4324.1064 LR: 0.000055  \n",
      "Epoch: [58][6500/10164] Elapsed 0m 57s (remain 0m 32s) Loss: 665.3344(265.2111) Grad: 54008.2734 LR: 0.000055  \n",
      "Epoch: [58][7000/10164] Elapsed 1m 1s (remain 0m 27s) Loss: 14.7998(264.5964) Grad: 1981.2670 LR: 0.000055  \n",
      "Epoch: [58][7500/10164] Elapsed 1m 5s (remain 0m 23s) Loss: 148.2292(263.6506) Grad: 26947.8887 LR: 0.000055  \n",
      "Epoch: [58][8000/10164] Elapsed 1m 9s (remain 0m 18s) Loss: 30.7937(260.5342) Grad: 9707.0674 LR: 0.000055  \n",
      "Epoch: [58][8500/10164] Elapsed 1m 14s (remain 0m 14s) Loss: 57.7976(258.4890) Grad: 2770.3562 LR: 0.000055  \n",
      "Epoch: [58][9000/10164] Elapsed 1m 18s (remain 0m 10s) Loss: 56.5012(257.8307) Grad: 19373.2383 LR: 0.000055  \n",
      "Epoch: [58][9500/10164] Elapsed 1m 22s (remain 0m 5s) Loss: 93.0567(256.9676) Grad: 11709.8096 LR: 0.000055  \n",
      "Epoch: [58][10000/10164] Elapsed 1m 27s (remain 0m 1s) Loss: 193.7809(258.9037) Grad: 13306.5713 LR: 0.000055  \n",
      "Epoch: [58][10163/10164] Elapsed 1m 28s (remain 0m 0s) Loss: 94.9211(258.5260) Grad: 10043.7324 LR: 0.000055  \n",
      "EVAL: [0/1129] Elapsed 0m 0s (remain 1m 21s) Loss: 2512.4346(2512.4346) \n",
      "EVAL: [500/1129] Elapsed 0m 1s (remain 0m 2s) Loss: 548.4077(264.4803) \n",
      "EVAL: [1000/1129] Elapsed 0m 3s (remain 0m 0s) Loss: 52.5237(257.3118) \n"
     ]
    },
    {
     "name": "stderr",
     "output_type": "stream",
     "text": [
      "Epoch 58 - avg_train_loss: 258.5260  avg_val_loss: 262.4961  time: 93s\n",
      "Epoch 58 - Score: 16.2017\n"
     ]
    },
    {
     "name": "stdout",
     "output_type": "stream",
     "text": [
      "EVAL: [1128/1129] Elapsed 0m 3s (remain 0m 0s) Loss: 1268.4451(262.4961) \n",
      "Epoch: [59][0/10164] Elapsed 0m 0s (remain 12m 54s) Loss: 315.3417(315.3417) Grad: 55799.7148 LR: 0.000077  \n",
      "Epoch: [59][500/10164] Elapsed 0m 4s (remain 1m 32s) Loss: 76.2130(280.6509) Grad: 17694.4414 LR: 0.000077  \n",
      "Epoch: [59][1000/10164] Elapsed 0m 9s (remain 1m 25s) Loss: 358.9322(268.6836) Grad: 44575.6523 LR: 0.000077  \n",
      "Epoch: [59][1500/10164] Elapsed 0m 13s (remain 1m 19s) Loss: 504.3178(275.0429) Grad: 111830.8125 LR: 0.000077  \n",
      "Epoch: [59][2000/10164] Elapsed 0m 18s (remain 1m 13s) Loss: 55.1886(277.9996) Grad: 24616.1719 LR: 0.000077  \n",
      "Epoch: [59][2500/10164] Elapsed 0m 22s (remain 1m 8s) Loss: 45.9140(276.2029) Grad: 30740.6523 LR: 0.000077  \n",
      "Epoch: [59][3000/10164] Elapsed 0m 26s (remain 1m 3s) Loss: 44.6706(266.3156) Grad: 6539.1943 LR: 0.000077  \n",
      "Epoch: [59][3500/10164] Elapsed 0m 30s (remain 0m 58s) Loss: 102.8006(274.0579) Grad: 7309.8521 LR: 0.000077  \n",
      "Epoch: [59][4000/10164] Elapsed 0m 35s (remain 0m 53s) Loss: 77.8630(272.1032) Grad: 7471.4219 LR: 0.000077  \n",
      "Epoch: [59][4500/10164] Elapsed 0m 39s (remain 0m 49s) Loss: 73.5738(275.1169) Grad: 29436.0625 LR: 0.000077  \n",
      "Epoch: [59][5000/10164] Elapsed 0m 43s (remain 0m 44s) Loss: 389.2181(270.6944) Grad: 32438.1660 LR: 0.000077  \n",
      "Epoch: [59][5500/10164] Elapsed 0m 47s (remain 0m 40s) Loss: 139.4459(274.7616) Grad: 4731.1934 LR: 0.000077  \n",
      "Epoch: [59][6000/10164] Elapsed 0m 51s (remain 0m 36s) Loss: 13.8040(270.2303) Grad: 2747.5420 LR: 0.000077  \n",
      "Epoch: [59][6500/10164] Elapsed 0m 56s (remain 0m 31s) Loss: 655.5236(269.2080) Grad: 32122.2988 LR: 0.000077  \n",
      "Epoch: [59][7000/10164] Elapsed 1m 0s (remain 0m 27s) Loss: 17.8324(268.6619) Grad: 2681.8530 LR: 0.000077  \n",
      "Epoch: [59][7500/10164] Elapsed 1m 4s (remain 0m 22s) Loss: 204.5132(267.7471) Grad: 33486.9961 LR: 0.000077  \n",
      "Epoch: [59][8000/10164] Elapsed 1m 8s (remain 0m 18s) Loss: 38.4515(264.8144) Grad: 16311.7559 LR: 0.000077  \n",
      "Epoch: [59][8500/10164] Elapsed 1m 13s (remain 0m 14s) Loss: 61.4175(262.8693) Grad: 3297.2761 LR: 0.000077  \n",
      "Epoch: [59][9000/10164] Elapsed 1m 17s (remain 0m 10s) Loss: 45.5613(261.9891) Grad: 14715.1807 LR: 0.000077  \n",
      "Epoch: [59][9500/10164] Elapsed 1m 21s (remain 0m 5s) Loss: 94.2719(261.2992) Grad: 9203.5576 LR: 0.000077  \n",
      "Epoch: [59][10000/10164] Elapsed 1m 25s (remain 0m 1s) Loss: 198.6271(263.0917) Grad: 14397.8174 LR: 0.000077  \n",
      "Epoch: [59][10163/10164] Elapsed 1m 27s (remain 0m 0s) Loss: 100.3660(262.7070) Grad: 12754.6436 LR: 0.000077  \n",
      "EVAL: [0/1129] Elapsed 0m 0s (remain 1m 20s) Loss: 2583.5583(2583.5583) \n",
      "EVAL: [500/1129] Elapsed 0m 1s (remain 0m 2s) Loss: 650.2457(273.5881) \n",
      "EVAL: [1000/1129] Elapsed 0m 3s (remain 0m 0s) Loss: 45.9659(264.9897) \n"
     ]
    },
    {
     "name": "stderr",
     "output_type": "stream",
     "text": [
      "Epoch 59 - avg_train_loss: 262.7070  avg_val_loss: 269.7596  time: 91s\n",
      "Epoch 59 - Score: 16.4244\n"
     ]
    },
    {
     "name": "stdout",
     "output_type": "stream",
     "text": [
      "EVAL: [1128/1129] Elapsed 0m 3s (remain 0m 0s) Loss: 1093.8992(269.7596) \n",
      "Epoch: [60][0/10164] Elapsed 0m 0s (remain 13m 10s) Loss: 297.0775(297.0775) Grad: 55567.5469 LR: 0.000094  \n",
      "Epoch: [60][500/10164] Elapsed 0m 4s (remain 1m 24s) Loss: 96.4853(285.5134) Grad: 25514.6895 LR: 0.000094  \n",
      "Epoch: [60][1000/10164] Elapsed 0m 8s (remain 1m 18s) Loss: 335.7623(273.2465) Grad: 36538.1719 LR: 0.000094  \n",
      "Epoch: [60][1500/10164] Elapsed 0m 12s (remain 1m 13s) Loss: 444.4760(278.7644) Grad: 95175.9922 LR: 0.000094  \n",
      "Epoch: [60][2000/10164] Elapsed 0m 16s (remain 1m 9s) Loss: 60.2209(281.7818) Grad: 17236.6816 LR: 0.000094  \n",
      "Epoch: [60][2500/10164] Elapsed 0m 21s (remain 1m 5s) Loss: 39.6060(279.4011) Grad: 13828.0986 LR: 0.000094  \n",
      "Epoch: [60][3000/10164] Elapsed 0m 25s (remain 1m 1s) Loss: 44.0566(269.1265) Grad: 3775.1875 LR: 0.000094  \n",
      "Epoch: [60][3500/10164] Elapsed 0m 29s (remain 0m 57s) Loss: 115.9755(276.3156) Grad: 7220.0107 LR: 0.000094  \n",
      "Epoch: [60][4000/10164] Elapsed 0m 34s (remain 0m 52s) Loss: 79.3744(274.0825) Grad: 4791.9062 LR: 0.000094  \n",
      "Epoch: [60][4500/10164] Elapsed 0m 38s (remain 0m 48s) Loss: 71.2867(276.8957) Grad: 26451.2090 LR: 0.000094  \n",
      "Epoch: [60][5000/10164] Elapsed 0m 42s (remain 0m 44s) Loss: 403.4476(272.8273) Grad: 30423.9141 LR: 0.000094  \n",
      "Epoch: [60][5500/10164] Elapsed 0m 47s (remain 0m 40s) Loss: 143.6404(276.8071) Grad: 7156.6519 LR: 0.000094  \n",
      "Epoch: [60][6000/10164] Elapsed 0m 51s (remain 0m 35s) Loss: 16.5175(272.6037) Grad: 2902.4521 LR: 0.000094  \n",
      "Epoch: [60][6500/10164] Elapsed 0m 55s (remain 0m 31s) Loss: 699.9286(271.7241) Grad: 47124.6133 LR: 0.000094  \n",
      "Epoch: [60][7000/10164] Elapsed 1m 0s (remain 0m 27s) Loss: 20.3357(271.1527) Grad: 2783.6790 LR: 0.000094  \n",
      "Epoch: [60][7500/10164] Elapsed 1m 4s (remain 0m 22s) Loss: 145.1750(270.1485) Grad: 15627.9297 LR: 0.000094  \n",
      "Epoch: [60][8000/10164] Elapsed 1m 8s (remain 0m 18s) Loss: 28.0947(267.0997) Grad: 8504.4453 LR: 0.000094  \n",
      "Epoch: [60][8500/10164] Elapsed 1m 12s (remain 0m 14s) Loss: 61.1564(264.7942) Grad: 3478.2485 LR: 0.000094  \n",
      "Epoch: [60][9000/10164] Elapsed 1m 17s (remain 0m 9s) Loss: 50.3914(263.9317) Grad: 14331.4531 LR: 0.000094  \n",
      "Epoch: [60][9500/10164] Elapsed 1m 21s (remain 0m 5s) Loss: 92.7831(263.1363) Grad: 8118.5884 LR: 0.000094  \n",
      "Epoch: [60][10000/10164] Elapsed 1m 25s (remain 0m 1s) Loss: 185.8961(265.1856) Grad: 13857.9678 LR: 0.000094  \n",
      "Epoch: [60][10163/10164] Elapsed 1m 27s (remain 0m 0s) Loss: 69.1541(264.8966) Grad: 11139.0049 LR: 0.000094  \n",
      "EVAL: [0/1129] Elapsed 0m 0s (remain 1m 23s) Loss: 2542.7749(2542.7749) \n",
      "EVAL: [500/1129] Elapsed 0m 1s (remain 0m 2s) Loss: 533.9827(281.0942) \n",
      "EVAL: [1000/1129] Elapsed 0m 3s (remain 0m 0s) Loss: 77.1342(273.0812) \n"
     ]
    },
    {
     "name": "stderr",
     "output_type": "stream",
     "text": [
      "Epoch 60 - avg_train_loss: 264.8966  avg_val_loss: 276.9003  time: 91s\n",
      "Epoch 60 - Score: 16.6403\n"
     ]
    },
    {
     "name": "stdout",
     "output_type": "stream",
     "text": [
      "EVAL: [1128/1129] Elapsed 0m 4s (remain 0m 0s) Loss: 1332.2117(276.9003) \n"
     ]
    },
    {
     "data": {
      "application/vnd.jupyter.widget-view+json": {
       "model_id": "4d4f7355312547e4a83a3e92c4689337",
       "version_major": 2,
       "version_minor": 0
      },
      "text/plain": [
       "  0%|          | 0/1254 [00:00<?, ?it/s]"
      ]
     },
     "metadata": {},
     "output_type": "display_data"
    },
    {
     "name": "stderr",
     "output_type": "stream",
     "text": [
      "RMSE score on validation set: 16.640321483440925\n",
      "RMSE score on test set: 15.606720753124778\n"
     ]
    }
   ],
   "source": [
    "####################################################\n",
    "############## Dataloader for pytorch ##############\n",
    "####################################################\n",
    "\n",
    "seed_torch(seed=45)\n",
    "train_dataset = AirQualityDataset(train_sequence)\n",
    "\n",
    "train_loader = DataLoader(train_dataset,\n",
    "                          batch_size=CFG.batch_size, \n",
    "                          shuffle=False, # Time series data\n",
    "                          num_workers=CFG.num_workers, pin_memory=True, drop_last=True)\n",
    "\n",
    "\n",
    "valid_dataset = AirQualityDataset(valid_sequence)\n",
    "\n",
    "valid_loader = DataLoader(valid_dataset, \n",
    "                          batch_size=CFG.batch_size, \n",
    "                          shuffle=False, \n",
    "                          num_workers=CFG.num_workers, pin_memory=True, drop_last=False)\n",
    "\n",
    "\n",
    "test_dataset = AirQualityDataset(test_sequence)\n",
    "\n",
    "test_loader = DataLoader(test_dataset, \n",
    "                         batch_size=CFG.batch_size, \n",
    "                         shuffle=False, \n",
    "                         num_workers=CFG.num_workers, pin_memory=True, drop_last=False)\n",
    "\n",
    "# ====================================================\n",
    "# scheduler \n",
    "# ====================================================\n",
    "def get_scheduler(optimizer):\n",
    "    if CFG.scheduler=='ReduceLROnPlateau':\n",
    "        scheduler = ReduceLROnPlateau(optimizer, **CFG.reduce_params)\n",
    "    elif CFG.scheduler=='CosineAnnealingLR':\n",
    "        scheduler = CosineAnnealingLR(optimizer, **CFG.cosanneal_params)\n",
    "    elif CFG.scheduler=='CosineAnnealingWarmRestarts':\n",
    "        scheduler = CosineAnnealingWarmRestarts(optimizer, **CFG.cosanneal_res_params)\n",
    "    elif CFG.scheduler=='OneCycleLR':\n",
    "        scheduler = OneCycleLR(optimizer, **CFG.onecycle_params)\n",
    "    return scheduler\n",
    "\n",
    "# ====================================================\n",
    "# model & optimizer\n",
    "# ====================================================\n",
    "model = LSTM()\n",
    "model.to(device)\n",
    "optimizer = AdamW(model.parameters(), lr=CFG.lr, weight_decay=CFG.weight_decay)\n",
    "scheduler = get_scheduler(optimizer)\n",
    "\n",
    "# ====================================================\n",
    "# loop\n",
    "# ====================================================\n",
    "criterion = nn.MSELoss()\n",
    "best_loss = np.inf\n",
    "\n",
    "for epoch in range(CFG.epochs):\n",
    "        \n",
    "    start_time = time.time()\n",
    "    \n",
    "    \n",
    "    # train\n",
    "    avg_loss = train_fn(None, train_loader, model, criterion, optimizer, epoch, scheduler, device)\n",
    "    \n",
    "    # eval\n",
    "    avg_val_loss, valid_preds, valid_targets = valid_fn(valid_loader, model, criterion, device)\n",
    "    \n",
    "    \n",
    "\n",
    "    \n",
    "    if isinstance(scheduler, ReduceLROnPlateau):\n",
    "        scheduler.step(avg_val_loss)\n",
    "    elif isinstance(scheduler, CosineAnnealingLR):\n",
    "        scheduler.step()\n",
    "    elif isinstance(scheduler, CosineAnnealingWarmRestarts):\n",
    "        scheduler.step()\n",
    "    # scoring\n",
    "    score = get_score(valid_targets, valid_preds)\n",
    "    elapsed = time.time() - start_time\n",
    "    \n",
    "        \n",
    "    LOGGER.info(f'Epoch {epoch+1} - avg_train_loss: {avg_loss:.4f}  avg_val_loss: {avg_val_loss:.4f}  time: {elapsed:.0f}s')\n",
    "    LOGGER.info(f'Epoch {epoch+1} - Score: {score:.4f}')\n",
    "    wandb.log({f\" epoch\": epoch+1, \n",
    "               f\" avg_train_loss\": avg_loss, \n",
    "               f\" avg_val_loss\": avg_val_loss,\n",
    "               f\" score\": score\n",
    "              })\n",
    "    # Save best weights    \n",
    "    if avg_val_loss < best_loss:\n",
    "        LOGGER.info(f\"Validation loss Improved ({best_loss} ---> {avg_val_loss})\")\n",
    "        best_loss = avg_val_loss\n",
    "        LOGGER.info(f'Epoch {epoch+1} - Save Best Loss: {best_loss:.4f} Model')\n",
    "        torch.save({'model': model.state_dict(), \n",
    "                    'preds_loss': valid_preds,\n",
    "                    'targets': valid_targets},\n",
    "                    DIR+f'{CFG.model_name}_best_loss_version{VERSION}.pth')\n",
    "        \n",
    "# Inference\n",
    "states = [torch.load(DIR+f'{CFG.model_name}_best_loss_version{VERSION}.pth', map_location=device)]\n",
    "test_preds, test_targets = inference(model, states, test_loader, device)\n",
    "LOGGER.info(f'RMSE score on validation set: {get_score(valid_targets, valid_preds)}')\n",
    "LOGGER.info(f'RMSE score on test set: {get_score(test_targets, test_preds)}')"
   ]
  },
  {
   "cell_type": "code",
   "execution_count": 27,
   "id": "5cab174a",
   "metadata": {},
   "outputs": [
    {
     "data": {
      "image/png": "[encoded data removed]",
      "text/plain": [
       "<Figure size 1440x432 with 1 Axes>"
      ]
     },
     "metadata": {
      "needs_background": "light"
     },
     "output_type": "display_data"
    }
   ],
   "source": [
    "fig, ax = plt.subplots(figsize=(20, 6))\n",
    "ax.plot(valid.iloc[CFG.seq_length:].index, valid_targets, color='b', label='True')\n",
    "ax.plot(valid.iloc[CFG.seq_length:].index, valid_preds, color='orange', label='Prediction')\n",
    "\n",
    "ax.set_title(\"PM2.5\", fontweight=\"bold\", size=16)\n",
    "ax.legend(loc=\"upper right\")\n",
    "\n",
    "\n",
    "## Rotate date labels automatically\n",
    "ax.axis([325000, 328000, 0, 250])\n",
    "fig.autofmt_xdate()\n",
    "plt.title('Predictions on validation set')\n",
    "plt.show()"
   ]
  },
  {
   "cell_type": "code",
   "execution_count": 33,
   "id": "74d5edef",
   "metadata": {},
   "outputs": [
    {
     "data": {
      "image/png": "[encoded data removed]",
      "text/plain": [
       "<Figure size 1440x432 with 1 Axes>"
      ]
     },
     "metadata": {
      "needs_background": "light"
     },
     "output_type": "display_data"
    }
   ],
   "source": [
    "fig, ax = plt.subplots(figsize=(20, 6))\n",
    "ax.plot(test.iloc[CFG.seq_length:].index, test_targets, color='b', label='True')\n",
    "ax.plot(test.iloc[CFG.seq_length:].index, test_preds, color='orange', label='Prediction')\n",
    "\n",
    "ax.set_title(\"PM2.5\", fontweight=\"bold\", size=16)\n",
    "ax.legend(loc=\"upper right\")\n",
    "\n",
    "\n",
    "## Rotate date labels automatically\n",
    "ax.axis([361000, 365000, 0, 250])\n",
    "fig.autofmt_xdate()\n",
    "plt.title('Predictions on test set')\n",
    "plt.show()"
   ]
  }
 ],
 "metadata": {
  "kernelspec": {
   "display_name": "Python 3 (ipykernel)",
   "language": "python",
   "name": "python3"
  },
  "language_info": {
   "codemirror_mode": {
    "name": "ipython",
    "version": 3
   },
   "file_extension": ".py",
   "mimetype": "text/x-python",
   "name": "python",
   "nbconvert_exporter": "python",
   "pygments_lexer": "ipython3",
   "version": "3.9.7"
  }
 },
 "nbformat": 4,
 "nbformat_minor": 5
}
