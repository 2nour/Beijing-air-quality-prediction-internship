{
 "cells": [
  {
   "cell_type": "markdown",
   "id": "46935fb3",
   "metadata": {
    "papermill": {
     "duration": 0.00723,
     "end_time": "2022-09-17T18:21:06.132473",
     "exception": false,
     "start_time": "2022-09-17T18:21:06.125243",
     "status": "completed"
    },
    "tags": []
   },
   "source": [
    "# About this notebook\n",
    "\n",
    "## Version1\n",
    "- PyTorch lstm starter code\n",
    "- 60 epochs\n",
    "- batch size 32 no accumulation\n",
    "- AdamW optimizer\n",
    "- No weight initialization\n",
    "- No categorical features are used\n",
    "\n",
    "## Version2\n",
    "- PyTorch lstm starter code\n",
    "- 60 epochs\n",
    "- batch size 32 no accumulation\n",
    "- AdamW optimizer\n",
    "- no weight initialization\n",
    "- categorical features are used\n",
    "- Data normalization is used\n",
    "\n",
    "## Version3\n",
    "- PyTorch lstm starter code\n",
    "- 60 epochs\n",
    "- batch size 32 no accumulation\n",
    "- AdamW optimizer\n",
    "- no weight initialization\n",
    "- categorical features are used\n",
    "- No data normalization is used\n",
    "\n",
    "## Version4\n",
    "- PyTorch lstm starter code\n",
    "- 60 epochs\n",
    "- batch size 32 no accumulation\n",
    "- AdamW optimizer\n",
    "- no weight initialization\n",
    "- categorical features are used\n",
    "- No data normalization is used\n",
    "- `num_layer = 2`\n",
    "\n",
    "## Version5\n",
    "- PyTorch lstm starter code\n",
    "- 60 epochs\n",
    "- batch size 64 no accumulation\n",
    "- AdamW optimizer\n",
    "- no weight initialization\n",
    "- categorical features are used\n",
    "- No data normalization is used\n",
    "- `num_layer = 3`\n",
    "\n",
    "## Version6\n",
    "- PyTorch lstm starter code\n",
    "- 60 epochs\n",
    "- batch size 32 no accumulation\n",
    "- AdamW optimizer\n",
    "- no weight initialization\n",
    "- categorical features are used\n",
    "- No data normalization is used\n",
    "- `num_layer = 3`\n",
    "- Hubber loss function\n",
    "\n",
    "## Version7\n",
    "- PyTorch lstm starter code\n",
    "- 60 epochs\n",
    "- batch size 32 no accumulation\n",
    "- AdamW optimizer\n",
    "- no weight initialization\n",
    "- categorical features are used\n",
    "- No data normalization is used\n",
    "- `num_layer = 3`\n",
    "- sequence length 120\n",
    "\n",
    "## Version8\n",
    "- PyTorch lstm starter code\n",
    "- 60 epochs\n",
    "- batch size 64 no accumulation\n",
    "- AdamW optimizer\n",
    "- no weight initialization\n",
    "- categorical features are used\n",
    "- No data normalization is used\n",
    "- `num_layer = 3`\n",
    "- sequence length 2\n",
    "- lr = 1e-3\n",
    "\n",
    "## Version9\n",
    "- PyTorch lstm starter code\n",
    "- 60 epochs\n",
    "- batch size 64 no accumulation\n",
    "- AdamW optimizer\n",
    "- no weight initialization\n",
    "- categorical features are used\n",
    "- No data normalization is used\n",
    "- `num_layer = 2`\n",
    "- sequence length 2\n",
    "- lr = 1e-3\n",
    "- eta_min = 1e-4*0.5\n",
    "\n",
    "## Version10\n",
    "- PyTorch lstm starter code\n",
    "- 60 epochs\n",
    "- batch size 64 no accumulation\n",
    "- AdamW optimizer\n",
    "- no weight initialization\n",
    "- categorical features are used\n",
    "- No data normalization is used\n",
    "- `num_layer = 2`\n",
    "- sequence length 21\n",
    "- lr = 1e-3\n",
    "- eta_min = 1e-4*0.5\n",
    "\n",
    "## Version11\n",
    "- PyTorch lstm starter code\n",
    "- 60 epochs\n",
    "- batch size 64 no accumulation\n",
    "- AdamW optimizer\n",
    "- no weight initialization\n",
    "- categorical features are used\n",
    "- No data normalization is used\n",
    "- `num_layer = 3`\n",
    "- sequence length 48\n",
    "- lr = 1e-3\n",
    "- eta_min = 1e-4*0.5\n",
    "- add feature engineering: diff by 1"
   ]
  },
  {
   "cell_type": "markdown",
   "id": "57382c23",
   "metadata": {
    "papermill": {
     "duration": 0.005506,
     "end_time": "2022-09-17T18:21:06.143932",
     "exception": false,
     "start_time": "2022-09-17T18:21:06.138426",
     "status": "completed"
    },
    "tags": []
   },
   "source": [
    "# Library"
   ]
  },
  {
   "cell_type": "code",
   "execution_count": 1,
   "id": "7f37f7f5",
   "metadata": {
    "execution": {
     "iopub.execute_input": "2022-09-17T18:21:06.157880Z",
     "iopub.status.busy": "2022-09-17T18:21:06.156689Z",
     "iopub.status.idle": "2022-09-17T18:21:11.512134Z",
     "shell.execute_reply": "2022-09-17T18:21:11.511069Z"
    },
    "papermill": {
     "duration": 5.365148,
     "end_time": "2022-09-17T18:21:11.514738",
     "exception": false,
     "start_time": "2022-09-17T18:21:06.149590",
     "status": "completed"
    },
    "tags": []
   },
   "outputs": [],
   "source": [
    "import os\n",
    "import random\n",
    "from tqdm.auto import tqdm\n",
    "import time\n",
    "import wandb\n",
    "\n",
    "import pandas as pd\n",
    "import numpy as np\n",
    "import matplotlib.pyplot as plt\n",
    "\n",
    "import math\n",
    "\n",
    "from sklearn.model_selection import train_test_split, TimeSeriesSplit\n",
    "from sklearn.preprocessing import MinMaxScaler, StandardScaler\n",
    "\n",
    "from sklearn.metrics import mean_squared_error as mse\n",
    "from sklearn.metrics import mean_squared_log_error as msle\n",
    "from sklearn.metrics import mean_absolute_error as mae\n",
    "from sklearn.metrics import r2_score as r2\n",
    "\n",
    "import torch\n",
    "import torch.nn as nn\n",
    "from torch.optim import Adam, AdamW\n",
    "\n",
    "from torch.optim.lr_scheduler import (CosineAnnealingWarmRestarts, CosineAnnealingLR, ReduceLROnPlateau,\n",
    "OneCycleLR)\n",
    "from torch.utils.data import Dataset, DataLoader\n",
    "import pytorch_lightning as pl\n",
    "\n",
    "DIR = './'\n",
    "if not os.path.exists(DIR):\n",
    "    os.mkdir(DIR)\n",
    "\n",
    "device=(\"cuda\" if torch.cuda.is_available() else \"cpu\")\n",
    "VERSION=11"
   ]
  },
  {
   "cell_type": "markdown",
   "id": "93e541f3",
   "metadata": {
    "papermill": {
     "duration": 0.006696,
     "end_time": "2022-09-17T18:21:11.527820",
     "exception": false,
     "start_time": "2022-09-17T18:21:11.521124",
     "status": "completed"
    },
    "tags": []
   },
   "source": [
    "# Load data"
   ]
  },
  {
   "cell_type": "code",
   "execution_count": 2,
   "id": "88750309",
   "metadata": {
    "execution": {
     "iopub.execute_input": "2022-09-17T18:21:11.540824Z",
     "iopub.status.busy": "2022-09-17T18:21:11.540211Z",
     "iopub.status.idle": "2022-09-17T18:21:12.529496Z",
     "shell.execute_reply": "2022-09-17T18:21:12.528571Z"
    },
    "papermill": {
     "duration": 0.998415,
     "end_time": "2022-09-17T18:21:12.531932",
     "exception": false,
     "start_time": "2022-09-17T18:21:11.533517",
     "status": "completed"
    },
    "tags": []
   },
   "outputs": [],
   "source": [
    "data = pd.read_csv('../input/beijing-air-quality-preprocessed/airquality_data.csv')\n",
    "FEATURES_COLUMNS = [col for col in data.columns if col not in ['No', 'year', 'month', 'day', 'hour']]"
   ]
  },
  {
   "cell_type": "markdown",
   "id": "be066ff9",
   "metadata": {
    "papermill": {
     "duration": 0.005486,
     "end_time": "2022-09-17T18:21:12.544081",
     "exception": false,
     "start_time": "2022-09-17T18:21:12.538595",
     "status": "completed"
    },
    "tags": []
   },
   "source": [
    "# Configuration"
   ]
  },
  {
   "cell_type": "code",
   "execution_count": 3,
   "id": "1bf52a12",
   "metadata": {
    "execution": {
     "iopub.execute_input": "2022-09-17T18:21:12.556644Z",
     "iopub.status.busy": "2022-09-17T18:21:12.556327Z",
     "iopub.status.idle": "2022-09-17T18:21:12.565484Z",
     "shell.execute_reply": "2022-09-17T18:21:12.564481Z"
    },
    "papermill": {
     "duration": 0.017609,
     "end_time": "2022-09-17T18:21:12.567289",
     "exception": false,
     "start_time": "2022-09-17T18:21:12.549680",
     "status": "completed"
    },
    "tags": []
   },
   "outputs": [],
   "source": [
    "class CFG:\n",
    "    apex=False\n",
    "    debug=False\n",
    "    kaggle = True\n",
    "    print_freq=2000\n",
    "    num_workers=1\n",
    "    scheduler='CosineAnnealingLR' # ['ReduceLROnPlateau', 'CosineAnnealingLR', 'CosineAnnealingWarmRestarts','OneCycleLR']\n",
    "    epochs=60\n",
    "    # CosineAnnealingLR params\n",
    "    cosanneal_params={\n",
    "        'T_max':6,\n",
    "        'eta_min':1e-5,\n",
    "        'last_epoch':-1\n",
    "    }\n",
    "    #ReduceLROnPlateau params\n",
    "    reduce_params={\n",
    "        'mode':'min',\n",
    "        'factor':0.2,\n",
    "        'patience':4,\n",
    "        'eps':1e-6,\n",
    "        'verbose':True\n",
    "    }\n",
    "    # CosineAnnealingWarmRestarts params\n",
    "    cosanneal_res_params={\n",
    "        'T_0':5,\n",
    "        'eta_min':1e-4,\n",
    "        'T_mult':1,\n",
    "        'last_epoch':-1\n",
    "    }\n",
    "    onecycle_params={\n",
    "        'pct_start':0.1,\n",
    "        'div_factor':1e2,\n",
    "        'max_lr':1e-3\n",
    "    }\n",
    "    batch_size=32 #64\n",
    "    lr=1e-4\n",
    "    weight_decay=1e-2\n",
    "    gradient_accumulation_steps=1\n",
    "    max_grad_norm=1000 # Gradient clipping to prevent exploding / vanishing gradient \n",
    "    target_size=1\n",
    "    num_layers=3\n",
    "    input_size=len(FEATURES_COLUMNS)\n",
    "    hidden_size=100\n",
    "    seq_length=48 # 48h\n",
    "    nfolds=5\n",
    "    trn_folds=[0, 1, 2, 3, 4]\n",
    "    target_col=\"PM2.5\"\n",
    "    model_name=\"lstm_network\"\n",
    "    group = 'lstm'\n",
    "    train=True\n",
    "    seed=42\n",
    "    \n",
    "if CFG.debug:\n",
    "    CFG.epochs=2\n",
    "    data=data.sample(n=10000, random_state=CFG.seed).reset_index(drop=True).fillna(method=\"ffill\")"
   ]
  },
  {
   "cell_type": "markdown",
   "id": "ccbed69f",
   "metadata": {
    "papermill": {
     "duration": 0.00561,
     "end_time": "2022-09-17T18:21:12.578671",
     "exception": false,
     "start_time": "2022-09-17T18:21:12.573061",
     "status": "completed"
    },
    "tags": []
   },
   "source": [
    "# Data Preprocessing"
   ]
  },
  {
   "cell_type": "markdown",
   "id": "7b7f262e",
   "metadata": {
    "papermill": {
     "duration": 0.00561,
     "end_time": "2022-09-17T18:21:12.590090",
     "exception": false,
     "start_time": "2022-09-17T18:21:12.584480",
     "status": "completed"
    },
    "tags": []
   },
   "source": [
    "# Train test split"
   ]
  },
  {
   "cell_type": "code",
   "execution_count": 4,
   "id": "16a87fbd",
   "metadata": {
    "execution": {
     "iopub.execute_input": "2022-09-17T18:21:12.603508Z",
     "iopub.status.busy": "2022-09-17T18:21:12.602087Z",
     "iopub.status.idle": "2022-09-17T18:21:12.649335Z",
     "shell.execute_reply": "2022-09-17T18:21:12.648337Z"
    },
    "papermill": {
     "duration": 0.055976,
     "end_time": "2022-09-17T18:21:12.651631",
     "exception": false,
     "start_time": "2022-09-17T18:21:12.595655",
     "status": "completed"
    },
    "tags": []
   },
   "outputs": [],
   "source": [
    "train_data, test = train_test_split(data,\n",
    "                               test_size=0.1,\n",
    "                               shuffle=False)"
   ]
  },
  {
   "cell_type": "code",
   "execution_count": 5,
   "id": "ea095d36",
   "metadata": {
    "execution": {
     "iopub.execute_input": "2022-09-17T18:21:12.665776Z",
     "iopub.status.busy": "2022-09-17T18:21:12.665454Z",
     "iopub.status.idle": "2022-09-17T18:21:12.706930Z",
     "shell.execute_reply": "2022-09-17T18:21:12.705977Z"
    },
    "papermill": {
     "duration": 0.051575,
     "end_time": "2022-09-17T18:21:12.709296",
     "exception": false,
     "start_time": "2022-09-17T18:21:12.657721",
     "status": "completed"
    },
    "tags": []
   },
   "outputs": [],
   "source": [
    "train, valid = train_test_split(train_data,\n",
    "                               test_size=0.1,\n",
    "                               shuffle=False)"
   ]
  },
  {
   "cell_type": "markdown",
   "id": "bca06e44",
   "metadata": {
    "papermill": {
     "duration": 0.005514,
     "end_time": "2022-09-17T18:21:12.721219",
     "exception": false,
     "start_time": "2022-09-17T18:21:12.715705",
     "status": "completed"
    },
    "tags": []
   },
   "source": [
    "# Utils"
   ]
  },
  {
   "cell_type": "code",
   "execution_count": 6,
   "id": "bd6e71e7",
   "metadata": {
    "execution": {
     "iopub.execute_input": "2022-09-17T18:21:12.734084Z",
     "iopub.status.busy": "2022-09-17T18:21:12.733786Z",
     "iopub.status.idle": "2022-09-17T18:21:12.753583Z",
     "shell.execute_reply": "2022-09-17T18:21:12.752743Z"
    },
    "papermill": {
     "duration": 0.028768,
     "end_time": "2022-09-17T18:21:12.755603",
     "exception": false,
     "start_time": "2022-09-17T18:21:12.726835",
     "status": "completed"
    },
    "tags": []
   },
   "outputs": [],
   "source": [
    "def get_score(y_true, y_pred):\n",
    "    score = math.sqrt(mse(y_true, y_pred))\n",
    "    return score\n",
    "\n",
    "def init_logger(log_file=DIR+'train.log'):\n",
    "    from logging import getLogger, INFO, FileHandler,  Formatter,  StreamHandler\n",
    "    logger = getLogger(__name__)\n",
    "    logger.setLevel(INFO)\n",
    "    handler1 = StreamHandler()\n",
    "    handler1.setFormatter(Formatter(\"%(message)s\"))\n",
    "    handler2 = FileHandler(filename=log_file)\n",
    "    handler2.setFormatter(Formatter(\"%(message)s\"))\n",
    "    logger.addHandler(handler1)\n",
    "    logger.addHandler(handler2)\n",
    "    return logger\n",
    "\n",
    "LOGGER = init_logger()\n",
    "\n",
    "\n",
    "def seed_torch(seed=42):\n",
    "    random.seed(seed)\n",
    "    os.environ['PYTHONHASHSEED'] = str(seed)\n",
    "    np.random.seed(seed)\n",
    "    torch.manual_seed(seed)\n",
    "    torch.cuda.manual_seed(seed)\n",
    "    torch.backends.cudnn.deterministic = True\n",
    "    \n",
    "seed_torch(seed=45)\n",
    "\n",
    "def rolling_window(data_df, window=1):\n",
    "    \n",
    "    rolling_df = data_df[[col for col in data_df.columns if col not in ['No','station', 'wd', 'year', 'month', 'day', 'hour', 'PM2.5']]].rolling(window).mean().fillna(0)\n",
    "    rolling_df.columns = [col+\"_\"+f\"rolling_{window}\" for col in rolling_df.columns]\n",
    "    \n",
    "    return rolling_df\n",
    "\n",
    "def create_sequences(input_data: pd.DataFrame, target_column, sequence_length):\n",
    "    \n",
    "    sequences = []\n",
    "    data_size = input_data.shape[0]\n",
    "    for i in tqdm(range(data_size - sequence_length)):\n",
    "        \n",
    "        sequence = input_data[i: i+sequence_length]\n",
    "        label_position = i + sequence_length\n",
    "        label = input_data.iloc[label_position][target_column]\n",
    "        sequences.append((sequence[[col for col in sequence.columns if col not in ['No']]], label))\n",
    "        \n",
    "    return sequences\n",
    "\n",
    "def diff_data(data_df, diff=1):\n",
    "    \n",
    "    diff_df = data_df[[col for col in data_df.columns if col not in ['No','station', 'wd', 'year', 'month', 'day', 'hour']]].diff(diff).fillna(0)\n",
    "    diff_df.columns = [col+\"_\"+f\"diff_{diff}\" for col in diff_df.columns]\n",
    "    \n",
    "    return diff_df"
   ]
  },
  {
   "cell_type": "markdown",
   "id": "37bd160b",
   "metadata": {
    "execution": {
     "iopub.execute_input": "2022-09-17T17:57:34.698081Z",
     "iopub.status.busy": "2022-09-17T17:57:34.696888Z",
     "iopub.status.idle": "2022-09-17T17:57:34.771021Z",
     "shell.execute_reply": "2022-09-17T17:57:34.769813Z",
     "shell.execute_reply.started": "2022-09-17T17:57:34.698034Z"
    },
    "papermill": {
     "duration": 0.005361,
     "end_time": "2022-09-17T18:21:12.766497",
     "exception": false,
     "start_time": "2022-09-17T18:21:12.761136",
     "status": "completed"
    },
    "tags": []
   },
   "source": [
    "# Feature engineering"
   ]
  },
  {
   "cell_type": "code",
   "execution_count": 7,
   "id": "da05938d",
   "metadata": {
    "execution": {
     "iopub.execute_input": "2022-09-17T18:21:12.779044Z",
     "iopub.status.busy": "2022-09-17T18:21:12.778761Z",
     "iopub.status.idle": "2022-09-17T18:21:12.868027Z",
     "shell.execute_reply": "2022-09-17T18:21:12.867052Z"
    },
    "papermill": {
     "duration": 0.098291,
     "end_time": "2022-09-17T18:21:12.870343",
     "exception": false,
     "start_time": "2022-09-17T18:21:12.772052",
     "status": "completed"
    },
    "tags": []
   },
   "outputs": [],
   "source": [
    "train_diff = diff_data(train, diff=1)\n",
    "train = pd.concat([train, train_diff], axis=1)\n",
    "\n",
    "valid_diff = diff_data(valid, diff=1)\n",
    "valid = pd.concat([valid, valid_diff], axis=1)\n",
    "\n",
    "test_diff = diff_data(test, diff=1)\n",
    "test = pd.concat([test, test_diff], axis=1)\n",
    "\n",
    "FEATURES_COLUMNS = [col for col in train.columns if col not in ['No']]\n",
    "CFG.input_size = len(FEATURES_COLUMNS)"
   ]
  },
  {
   "cell_type": "markdown",
   "id": "0b27458e",
   "metadata": {
    "papermill": {
     "duration": 0.005555,
     "end_time": "2022-09-17T18:21:12.881799",
     "exception": false,
     "start_time": "2022-09-17T18:21:12.876244",
     "status": "completed"
    },
    "tags": []
   },
   "source": [
    "### Create sequences from  data"
   ]
  },
  {
   "cell_type": "code",
   "execution_count": 8,
   "id": "5bb2681b",
   "metadata": {
    "execution": {
     "iopub.execute_input": "2022-09-17T18:21:12.894327Z",
     "iopub.status.busy": "2022-09-17T18:21:12.894012Z",
     "iopub.status.idle": "2022-09-17T18:27:45.877962Z",
     "shell.execute_reply": "2022-09-17T18:27:45.876741Z"
    },
    "papermill": {
     "duration": 392.994418,
     "end_time": "2022-09-17T18:27:45.881788",
     "exception": false,
     "start_time": "2022-09-17T18:21:12.887370",
     "status": "completed"
    },
    "tags": []
   },
   "outputs": [
    {
     "data": {
      "application/vnd.jupyter.widget-view+json": {
       "model_id": "39a7f0e622e4450c9fa0b850eecee623",
       "version_major": 2,
       "version_minor": 0
      },
      "text/plain": [
       "  0%|          | 0/325268 [00:00<?, ?it/s]"
      ]
     },
     "metadata": {},
     "output_type": "display_data"
    },
    {
     "data": {
      "application/vnd.jupyter.widget-view+json": {
       "model_id": "37165ec9dd1149128b3f26de7db6c53f",
       "version_major": 2,
       "version_minor": 0
      },
      "text/plain": [
       "  0%|          | 0/36099 [00:00<?, ?it/s]"
      ]
     },
     "metadata": {},
     "output_type": "display_data"
    },
    {
     "data": {
      "application/vnd.jupyter.widget-view+json": {
       "model_id": "81c3b1f53c994fe798b167c5a7c28002",
       "version_major": 2,
       "version_minor": 0
      },
      "text/plain": [
       "  0%|          | 0/40115 [00:00<?, ?it/s]"
      ]
     },
     "metadata": {},
     "output_type": "display_data"
    },
    {
     "name": "stdout",
     "output_type": "stream",
     "text": [
      "CPU times: user 6min 23s, sys: 7.8 s, total: 6min 31s\n",
      "Wall time: 6min 32s\n"
     ]
    }
   ],
   "source": [
    "%%time\n",
    "train_sequence = create_sequences(train, CFG.target_col, CFG.seq_length)\n",
    "valid_sequence = create_sequences(valid, CFG.target_col, CFG.seq_length)\n",
    "test_sequence = create_sequences(test, CFG.target_col, CFG.seq_length)"
   ]
  },
  {
   "cell_type": "markdown",
   "id": "e2462bf2",
   "metadata": {
    "papermill": {
     "duration": 0.006516,
     "end_time": "2022-09-17T18:27:45.895752",
     "exception": false,
     "start_time": "2022-09-17T18:27:45.889236",
     "status": "completed"
    },
    "tags": []
   },
   "source": [
    "# Pytorch Dataset"
   ]
  },
  {
   "cell_type": "code",
   "execution_count": 9,
   "id": "853d1df8",
   "metadata": {
    "execution": {
     "iopub.execute_input": "2022-09-17T18:27:45.910785Z",
     "iopub.status.busy": "2022-09-17T18:27:45.909358Z",
     "iopub.status.idle": "2022-09-17T18:27:45.915704Z",
     "shell.execute_reply": "2022-09-17T18:27:45.914829Z"
    },
    "papermill": {
     "duration": 0.015631,
     "end_time": "2022-09-17T18:27:45.917621",
     "exception": false,
     "start_time": "2022-09-17T18:27:45.901990",
     "status": "completed"
    },
    "tags": []
   },
   "outputs": [],
   "source": [
    "class AirQualityDataset(Dataset):\n",
    "    \n",
    "    def __init__(self, sequences):\n",
    "        \n",
    "        self.sequences = sequences\n",
    "    \n",
    "    def __len__(self):\n",
    "        return len(self.sequences)\n",
    "    \n",
    "    def __getitem__(self, idx):\n",
    "        \n",
    "        sequence, target = self.sequences[idx]\n",
    "        \n",
    "        return torch.tensor(sequence.to_numpy()).float(), torch.tensor(target).float()"
   ]
  },
  {
   "cell_type": "code",
   "execution_count": 10,
   "id": "1cce471f",
   "metadata": {
    "execution": {
     "iopub.execute_input": "2022-09-17T18:27:45.931357Z",
     "iopub.status.busy": "2022-09-17T18:27:45.930602Z",
     "iopub.status.idle": "2022-09-17T18:27:45.937254Z",
     "shell.execute_reply": "2022-09-17T18:27:45.935937Z"
    },
    "papermill": {
     "duration": 0.016241,
     "end_time": "2022-09-17T18:27:45.940022",
     "exception": false,
     "start_time": "2022-09-17T18:27:45.923781",
     "status": "completed"
    },
    "tags": []
   },
   "outputs": [
    {
     "name": "stdout",
     "output_type": "stream",
     "text": [
      "sequence shape: torch.Size([48, 28])\n",
      "label shape: torch.Size([])\n"
     ]
    }
   ],
   "source": [
    "train_dataset = AirQualityDataset(train_sequence)\n",
    "sequence, label = train_dataset[0]\n",
    "print(f'sequence shape: {sequence.shape}')\n",
    "print(f'label shape: {label.shape}')"
   ]
  },
  {
   "cell_type": "markdown",
   "id": "0a11c9a6",
   "metadata": {
    "papermill": {
     "duration": 0.006336,
     "end_time": "2022-09-17T18:27:45.952909",
     "exception": false,
     "start_time": "2022-09-17T18:27:45.946573",
     "status": "completed"
    },
    "tags": []
   },
   "source": [
    "# W&B"
   ]
  },
  {
   "cell_type": "code",
   "execution_count": 11,
   "id": "526fdaa2",
   "metadata": {
    "execution": {
     "iopub.execute_input": "2022-09-17T18:27:45.967210Z",
     "iopub.status.busy": "2022-09-17T18:27:45.966939Z",
     "iopub.status.idle": "2022-09-17T18:27:54.324651Z",
     "shell.execute_reply": "2022-09-17T18:27:54.323581Z"
    },
    "papermill": {
     "duration": 8.368109,
     "end_time": "2022-09-17T18:27:54.327738",
     "exception": false,
     "start_time": "2022-09-17T18:27:45.959629",
     "status": "completed"
    },
    "tags": []
   },
   "outputs": [
    {
     "name": "stderr",
     "output_type": "stream",
     "text": [
      "\u001b[34m\u001b[1mwandb\u001b[0m: W&B API key is configured. Use \u001b[1m`wandb login --relogin`\u001b[0m to force relogin\n",
      "\u001b[34m\u001b[1mwandb\u001b[0m: \u001b[33mWARNING\u001b[0m If you're specifying your api key in code, ensure this code is not shared publicly.\n",
      "\u001b[34m\u001b[1mwandb\u001b[0m: \u001b[33mWARNING\u001b[0m Consider setting the WANDB_API_KEY environment variable, or running `wandb login` from the command line.\n",
      "\u001b[34m\u001b[1mwandb\u001b[0m: Appending key for api.wandb.ai to your netrc file: /root/.netrc\n",
      "\u001b[34m\u001b[1mwandb\u001b[0m: Currently logged in as: \u001b[33mdjoe\u001b[0m. Use \u001b[1m`wandb login --relogin`\u001b[0m to force relogin\n"
     ]
    },
    {
     "data": {
      "text/html": [
       "wandb version 0.13.3 is available!  To upgrade, please run:\n",
       " $ pip install wandb --upgrade"
      ],
      "text/plain": [
       "<IPython.core.display.HTML object>"
      ]
     },
     "metadata": {},
     "output_type": "display_data"
    },
    {
     "data": {
      "text/html": [
       "Tracking run with wandb version 0.12.21"
      ],
      "text/plain": [
       "<IPython.core.display.HTML object>"
      ]
     },
     "metadata": {},
     "output_type": "display_data"
    },
    {
     "data": {
      "text/html": [
       "Run data is saved locally in <code>/kaggle/working/wandb/run-20220917_182747-1gyxp4bs</code>"
      ],
      "text/plain": [
       "<IPython.core.display.HTML object>"
      ]
     },
     "metadata": {},
     "output_type": "display_data"
    },
    {
     "data": {
      "text/html": [
       "Syncing run <strong><a href=\"https://wandb.ai/djoe/Baijing%20airquality%20prediction/runs/1gyxp4bs\" target=\"_blank\">lstm_network</a></strong> to <a href=\"https://wandb.ai/djoe/Baijing%20airquality%20prediction\" target=\"_blank\">Weights & Biases</a> (<a href=\"https://wandb.me/run\" target=\"_blank\">docs</a>)<br/>"
      ],
      "text/plain": [
       "<IPython.core.display.HTML object>"
      ]
     },
     "metadata": {},
     "output_type": "display_data"
    }
   ],
   "source": [
    "if CFG.kaggle:\n",
    "    \n",
    "    from kaggle_secrets import UserSecretsClient\n",
    "    user_secrets = UserSecretsClient()\n",
    "    wandb_api = user_secrets.get_secret(\"wandb_key\")\n",
    "\n",
    "    wandb.login(key=wandb_api)\n",
    "\n",
    "else:\n",
    "    \n",
    "    wandb.login()\n",
    "\n",
    "def class2dict(f):\n",
    "    return dict((name, getattr(f, name)) for name in dir(f) if not name.startswith('__'))\n",
    "\n",
    "run = wandb.init(project=\"Baijing airquality prediction\", \n",
    "                 name=CFG.model_name,\n",
    "                 config=class2dict(CFG),\n",
    "                 group=CFG.group,\n",
    "                 tags=[f'CFG.model_name_version{VERSION}'],\n",
    "                 job_type=\"train\")"
   ]
  },
  {
   "cell_type": "markdown",
   "id": "36cd342f",
   "metadata": {
    "papermill": {
     "duration": 0.009991,
     "end_time": "2022-09-17T18:27:54.348434",
     "exception": false,
     "start_time": "2022-09-17T18:27:54.338443",
     "status": "completed"
    },
    "tags": []
   },
   "source": [
    "# Model"
   ]
  },
  {
   "cell_type": "code",
   "execution_count": 12,
   "id": "5ee19ced",
   "metadata": {
    "execution": {
     "iopub.execute_input": "2022-09-17T18:27:54.370463Z",
     "iopub.status.busy": "2022-09-17T18:27:54.370068Z",
     "iopub.status.idle": "2022-09-17T18:27:54.383828Z",
     "shell.execute_reply": "2022-09-17T18:27:54.382977Z"
    },
    "papermill": {
     "duration": 0.027842,
     "end_time": "2022-09-17T18:27:54.386420",
     "exception": false,
     "start_time": "2022-09-17T18:27:54.358578",
     "status": "completed"
    },
    "tags": []
   },
   "outputs": [],
   "source": [
    "class LSTM(nn.Module):\n",
    "\n",
    "    def __init__(\n",
    "                 self, \n",
    "                 target_size=CFG.target_size,\n",
    "                 input_size=CFG.input_size, \n",
    "                 hidden_size=CFG.hidden_size,\n",
    "                 num_layers=CFG.num_layers\n",
    "                 ):\n",
    "        \n",
    "        super(LSTM, self).__init__()\n",
    "        \n",
    "        self.target_size = CFG.target_size\n",
    "        self.num_layers = CFG.num_layers\n",
    "        self.input_size = CFG.input_size\n",
    "        self.hidden_size = CFG.hidden_size\n",
    "        self.seq_length = CFG.seq_length\n",
    "        \n",
    "        self.lstm = nn.LSTM(\n",
    "                            input_size=self.input_size, # Features of the sequence\n",
    "                            hidden_size=self.hidden_size, # Hidden units for the lstm\n",
    "                            num_layers=self.num_layers, # Number of layers\n",
    "                            batch_first=True, # (batch, seq, features)\n",
    "                            dropout=0.2,\n",
    "                            bidirectional=True\n",
    "                           )\n",
    "        \n",
    "        self.fc = nn.Linear(self.hidden_size, self.target_size)\n",
    "        \n",
    "        \n",
    "    def forward(self, x):\n",
    "        \n",
    "        # Propagate input through LSTM\n",
    "        ula, (h_out, _) = self.lstm(x)\n",
    "        \n",
    "        h_out = h_out[-1]\n",
    "        \n",
    "        out = self.fc(h_out)\n",
    "        \n",
    "        return out"
   ]
  },
  {
   "cell_type": "markdown",
   "id": "29424563",
   "metadata": {
    "papermill": {
     "duration": 0.010283,
     "end_time": "2022-09-17T18:27:54.408104",
     "exception": false,
     "start_time": "2022-09-17T18:27:54.397821",
     "status": "completed"
    },
    "tags": []
   },
   "source": [
    "# Helper Functions"
   ]
  },
  {
   "cell_type": "code",
   "execution_count": 13,
   "id": "f7f6ff9e",
   "metadata": {
    "execution": {
     "iopub.execute_input": "2022-09-17T18:27:54.430018Z",
     "iopub.status.busy": "2022-09-17T18:27:54.429655Z",
     "iopub.status.idle": "2022-09-17T18:27:54.472026Z",
     "shell.execute_reply": "2022-09-17T18:27:54.471152Z"
    },
    "papermill": {
     "duration": 0.056391,
     "end_time": "2022-09-17T18:27:54.474711",
     "exception": false,
     "start_time": "2022-09-17T18:27:54.418320",
     "status": "completed"
    },
    "tags": []
   },
   "outputs": [],
   "source": [
    "# ====================================================\n",
    "# Helper functions\n",
    "# ====================================================\n",
    "class AverageMeter(object):\n",
    "    \"\"\"Computes and stores the average and current value\"\"\"\n",
    "    def __init__(self):\n",
    "        self.reset()\n",
    "\n",
    "    def reset(self):\n",
    "        self.val = 0\n",
    "        self.avg = 0\n",
    "        self.sum = 0\n",
    "        self.count = 0\n",
    "\n",
    "    def update(self, val, n=1):\n",
    "        self.val = val\n",
    "        self.sum += val * n\n",
    "        self.count += n\n",
    "        self.avg = self.sum / self.count\n",
    "\n",
    "\n",
    "def asMinutes(s):\n",
    "    m = math.floor(s / 60)\n",
    "    s -= m * 60\n",
    "    return '%dm %ds' % (m, s)\n",
    "\n",
    "\n",
    "def timeSince(since, percent):\n",
    "    now = time.time()\n",
    "    s = now - since\n",
    "    es = s / (percent)\n",
    "    rs = es - s\n",
    "    return '%s (remain %s)' % (asMinutes(s), asMinutes(rs))\n",
    "\n",
    "\n",
    "def train_fn(fold, train_loader, model, criterion, optimizer, epoch, scheduler, device):\n",
    "    if CFG.apex:\n",
    "        scaler = GradScaler()\n",
    "    batch_time = AverageMeter()\n",
    "    data_time = AverageMeter()\n",
    "    losses = AverageMeter()\n",
    "    scores = AverageMeter()\n",
    "    # switch to train mode\n",
    "    model.train()\n",
    "    start = end = time.time()\n",
    "    global_step = 0\n",
    "    for step, (sequences, targets) in enumerate(train_loader):\n",
    "        # measure data loading time\n",
    "        data_time.update(time.time() - end)\n",
    "        #num = dct['num_data'].to(device)\n",
    "        #cat = dct['cat_data'].to(device)\n",
    "        sequences = sequences.to(device)\n",
    "        targets = targets.to(device)\n",
    "        batch_size = targets.size(0)\n",
    "        if CFG.apex:\n",
    "            with autocast():\n",
    "                y_preds = model(sequences)\n",
    "                loss = criterion(y_preds.squeeze(1), targets)\n",
    "        else:\n",
    "            y_preds = model(sequences)\n",
    "            loss = criterion(y_preds.squeeze(1), targets)\n",
    "        # record loss\n",
    "        losses.update(loss.item(), batch_size)\n",
    "        if CFG.gradient_accumulation_steps > 1:\n",
    "            loss = loss / CFG.gradient_accumulation_steps\n",
    "        if CFG.apex:\n",
    "            scaler.scale(loss).backward()\n",
    "        else:\n",
    "            loss.backward()\n",
    "        grad_norm = torch.nn.utils.clip_grad_norm_(model.parameters(), CFG.max_grad_norm)\n",
    "        if (step + 1) % CFG.gradient_accumulation_steps == 0:\n",
    "            if CFG.apex:\n",
    "                scaler.step(optimizer)\n",
    "                scaler.update()\n",
    "            else:\n",
    "                optimizer.step()\n",
    "            optimizer.zero_grad()\n",
    "            global_step += 1\n",
    "        # measure elapsed time\n",
    "        batch_time.update(time.time() - end)\n",
    "        end = time.time()\n",
    "        if step % CFG.print_freq == 0 or step == (len(train_loader)-1):\n",
    "            print('Epoch: [{0}][{1}/{2}] '\n",
    "                  'Elapsed {remain:s} '\n",
    "                  'Loss: {loss.val:.4f}({loss.avg:.4f}) '\n",
    "                  'Grad: {grad_norm:.4f} '\n",
    "                  'LR: {lr:.6f}  '\n",
    "                  .format(epoch+1, step, len(train_loader), \n",
    "                          remain=timeSince(start, float(step+1)/len(train_loader)),\n",
    "                          loss=losses,\n",
    "                          grad_norm=grad_norm,\n",
    "                          lr=scheduler.get_last_lr()[0]))\n",
    "        if fold:\n",
    "            \n",
    "            wandb.log({f\"[fold{fold}] loss\": losses.val,\n",
    "                       f\"[fold{fold}] lr\": scheduler.get_last_lr()[0]})\n",
    "        else:\n",
    "            \n",
    "            wandb.log({\"loss\": losses.val,\n",
    "                       \"lr\": scheduler.get_last_lr()[0]})\n",
    "            \n",
    "    return losses.avg\n",
    "\n",
    "\n",
    "def valid_fn(valid_loader, model, criterion, device):\n",
    "    batch_time = AverageMeter()\n",
    "    data_time = AverageMeter()\n",
    "    losses = AverageMeter()\n",
    "    scores = AverageMeter()\n",
    "    # switch to evaluation mode\n",
    "    model.eval()\n",
    "    preds = []\n",
    "    targets_list = []\n",
    "    start = end = time.time()\n",
    "    for step, (sequences, targets) in enumerate(valid_loader):\n",
    "        # measure data loading time\n",
    "        data_time.update(time.time() - end)\n",
    "        #num = dct['num_data'].to(device)\n",
    "        #cat = dct['cat_data'].to(device)\n",
    "        sequences = sequences.to(device)\n",
    "        targets = targets.to(device)\n",
    "        batch_size = targets.size(0)\n",
    "        # compute loss\n",
    "        with torch.no_grad():\n",
    "            y_preds = model(sequences)\n",
    "        preds.append(y_preds.detach().to('cpu').numpy())\n",
    "        targets_list.append(targets.detach().to('cpu').numpy())\n",
    "        \n",
    "        loss = criterion(y_preds.squeeze(1), targets)\n",
    "        losses.update(loss.item(), batch_size)\n",
    "        if CFG.gradient_accumulation_steps > 1:\n",
    "            loss = loss / CFG.gradient_accumulation_steps\n",
    "        # measure elapsed time\n",
    "        batch_time.update(time.time() - end)\n",
    "        end = time.time()\n",
    "        if step % CFG.print_freq == 0 or step == (len(valid_loader)-1):\n",
    "            print('EVAL: [{0}/{1}] '\n",
    "                  'Elapsed {remain:s} '\n",
    "                  'Loss: {loss.val:.4f}({loss.avg:.4f}) '\n",
    "                  .format(step, len(valid_loader),\n",
    "                          loss=losses,\n",
    "                          remain=timeSince(start, float(step+1)/len(valid_loader))))\n",
    "    predictions = np.concatenate(preds)\n",
    "    targets = np.concatenate(targets_list)\n",
    "    return losses.avg, predictions, targets\n",
    "\n",
    "# ====================================================\n",
    "# inference\n",
    "# ====================================================\n",
    "def inference(model, states, test_loader, device):\n",
    "    model.to(device)\n",
    "    tk0 = tqdm(test_loader, total=len(test_loader))\n",
    "    forcasts = []\n",
    "    targets_list = []\n",
    "    for i, (sequences, targets) in enumerate(tk0):\n",
    "        sequences = sequences.to(device).float()\n",
    "        targets = targets.to(device).float()\n",
    "        avg_forcasts = []\n",
    "        for state in states:\n",
    "            model.load_state_dict(state['model'])\n",
    "            model.eval()\n",
    "            with torch.no_grad():\n",
    "                y_preds = model(sequences)\n",
    "            avg_forcasts.append(y_preds.detach().to(\"cpu\").numpy())\n",
    "        avg_forcasts = np.mean(avg_forcasts, axis=0)\n",
    "        forcasts.append(avg_forcasts)\n",
    "        targets_list.append(targets.detach().to(\"cpu\").numpy())\n",
    "    forcasts = np.concatenate(forcasts)\n",
    "    targets = np.concatenate(targets_list)\n",
    "    return forcasts, targets"
   ]
  },
  {
   "cell_type": "markdown",
   "id": "cc6e588d",
   "metadata": {
    "papermill": {
     "duration": 0.010092,
     "end_time": "2022-09-17T18:27:54.495860",
     "exception": false,
     "start_time": "2022-09-17T18:27:54.485768",
     "status": "completed"
    },
    "tags": []
   },
   "source": [
    "# Train Loop"
   ]
  },
  {
   "cell_type": "code",
   "execution_count": 14,
   "id": "d19875bc",
   "metadata": {
    "execution": {
     "iopub.execute_input": "2022-09-17T18:27:54.517855Z",
     "iopub.status.busy": "2022-09-17T18:27:54.517452Z",
     "iopub.status.idle": "2022-09-17T21:44:34.809382Z",
     "shell.execute_reply": "2022-09-17T21:44:34.808308Z"
    },
    "papermill": {
     "duration": 11800.305742,
     "end_time": "2022-09-17T21:44:34.811682",
     "exception": false,
     "start_time": "2022-09-17T18:27:54.505940",
     "status": "completed"
    },
    "tags": []
   },
   "outputs": [
    {
     "name": "stdout",
     "output_type": "stream",
     "text": [
      "Epoch: [1][0/10164] Elapsed 0m 1s (remain 296m 47s) Loss: 5657.2715(5657.2715) Grad: 279.2619 LR: 0.000100  \n",
      "Epoch: [1][2000/10164] Elapsed 0m 50s (remain 3m 24s) Loss: 3108.6333(6431.6494) Grad: 890.4927 LR: 0.000100  \n",
      "Epoch: [1][4000/10164] Elapsed 1m 28s (remain 2m 17s) Loss: 928.8735(5635.4147) Grad: 385.8658 LR: 0.000100  \n",
      "Epoch: [1][6000/10164] Elapsed 2m 4s (remain 1m 26s) Loss: 1232.2550(5208.3844) Grad: 671.7340 LR: 0.000100  \n",
      "Epoch: [1][8000/10164] Elapsed 2m 40s (remain 0m 43s) Loss: 596.4561(4813.2714) Grad: 306.3424 LR: 0.000100  \n",
      "Epoch: [1][10000/10164] Elapsed 3m 17s (remain 0m 3s) Loss: 523.9104(4520.1016) Grad: 167.3040 LR: 0.000100  \n",
      "Epoch: [1][10163/10164] Elapsed 3m 20s (remain 0m 0s) Loss: 1490.0884(4492.9904) Grad: 574.2054 LR: 0.000100  \n",
      "EVAL: [0/1129] Elapsed 0m 0s (remain 2m 2s) Loss: 16413.2969(16413.2969) \n"
     ]
    },
    {
     "name": "stderr",
     "output_type": "stream",
     "text": [
      "Epoch 1 - avg_train_loss: 4492.9904  avg_val_loss: 3612.8177  time: 211s\n",
      "Epoch 1 - Score: 60.1067\n",
      "Validation loss Improved (inf ---> 3612.817736873554)\n",
      "Epoch 1 - Save Best Loss: 3612.8177 Model\n"
     ]
    },
    {
     "name": "stdout",
     "output_type": "stream",
     "text": [
      "EVAL: [1128/1129] Elapsed 0m 9s (remain 0m 0s) Loss: 5349.8369(3612.8177) \n",
      "Epoch: [2][0/10164] Elapsed 0m 0s (remain 19m 52s) Loss: 1658.6040(1658.6040) Grad: 191.6202 LR: 0.000094  \n",
      "Epoch: [2][2000/10164] Elapsed 0m 36s (remain 2m 28s) Loss: 1209.6893(3473.4708) Grad: 183.4594 LR: 0.000094  \n",
      "Epoch: [2][4000/10164] Elapsed 1m 12s (remain 1m 51s) Loss: 1719.3301(3444.1197) Grad: 2260.7234 LR: 0.000094  \n",
      "Epoch: [2][6000/10164] Elapsed 1m 48s (remain 1m 15s) Loss: 30.0300(3328.2991) Grad: 916.9608 LR: 0.000094  \n",
      "Epoch: [2][8000/10164] Elapsed 2m 25s (remain 0m 39s) Loss: 227.5254(3077.2837) Grad: 34314.9258 LR: 0.000094  \n",
      "Epoch: [2][10000/10164] Elapsed 3m 2s (remain 0m 2s) Loss: 251.0283(2838.5907) Grad: 8275.2178 LR: 0.000094  \n",
      "Epoch: [2][10163/10164] Elapsed 3m 5s (remain 0m 0s) Loss: 125.1191(2817.0987) Grad: 20150.4316 LR: 0.000094  \n",
      "EVAL: [0/1129] Elapsed 0m 0s (remain 1m 58s) Loss: 11566.4639(11566.4639) \n"
     ]
    },
    {
     "name": "stderr",
     "output_type": "stream",
     "text": [
      "Epoch 2 - avg_train_loss: 2817.0987  avg_val_loss: 2011.1112  time: 196s\n",
      "Epoch 2 - Score: 44.8454\n",
      "Validation loss Improved (3612.817736873554 ---> 2011.1112134463174)\n",
      "Epoch 2 - Save Best Loss: 2011.1112 Model\n"
     ]
    },
    {
     "name": "stdout",
     "output_type": "stream",
     "text": [
      "EVAL: [1128/1129] Elapsed 0m 10s (remain 0m 0s) Loss: 3183.1411(2011.1112) \n",
      "Epoch: [3][0/10164] Elapsed 0m 0s (remain 21m 59s) Loss: 680.9600(680.9600) Grad: 24314.8438 LR: 0.000078  \n",
      "Epoch: [3][2000/10164] Elapsed 0m 36s (remain 2m 29s) Loss: 205.3904(1885.8406) Grad: 34057.7539 LR: 0.000078  \n",
      "Epoch: [3][4000/10164] Elapsed 1m 14s (remain 1m 54s) Loss: 151.3649(1792.2335) Grad: 11802.3984 LR: 0.000078  \n",
      "Epoch: [3][6000/10164] Elapsed 1m 50s (remain 1m 16s) Loss: 38.4987(1750.5667) Grad: 5443.7061 LR: 0.000078  \n",
      "Epoch: [3][8000/10164] Elapsed 2m 27s (remain 0m 39s) Loss: 149.3883(1658.3607) Grad: 58310.1445 LR: 0.000078  \n",
      "Epoch: [3][10000/10164] Elapsed 3m 3s (remain 0m 2s) Loss: 191.8420(1562.5347) Grad: 36213.8828 LR: 0.000078  \n",
      "Epoch: [3][10163/10164] Elapsed 3m 6s (remain 0m 0s) Loss: 161.7895(1553.1733) Grad: 30203.5117 LR: 0.000078  \n",
      "EVAL: [0/1129] Elapsed 0m 0s (remain 2m 1s) Loss: 8221.9287(8221.9287) \n"
     ]
    },
    {
     "name": "stderr",
     "output_type": "stream",
     "text": [
      "Epoch 3 - avg_train_loss: 1553.1733  avg_val_loss: 1310.4166  time: 197s\n",
      "Epoch 3 - Score: 36.1997\n",
      "Validation loss Improved (2011.1112134463174 ---> 1310.4165973061522)\n",
      "Epoch 3 - Save Best Loss: 1310.4166 Model\n"
     ]
    },
    {
     "name": "stdout",
     "output_type": "stream",
     "text": [
      "EVAL: [1128/1129] Elapsed 0m 10s (remain 0m 0s) Loss: 1435.1322(1310.4166) \n",
      "Epoch: [4][0/10164] Elapsed 0m 0s (remain 20m 44s) Loss: 357.9462(357.9462) Grad: 67073.7891 LR: 0.000055  \n",
      "Epoch: [4][2000/10164] Elapsed 0m 37s (remain 2m 32s) Loss: 103.8497(1238.6257) Grad: 54635.4648 LR: 0.000055  \n",
      "Epoch: [4][4000/10164] Elapsed 1m 13s (remain 1m 53s) Loss: 161.0075(1198.0653) Grad: 9655.1123 LR: 0.000055  \n",
      "Epoch: [4][6000/10164] Elapsed 1m 50s (remain 1m 16s) Loss: 31.8191(1194.5679) Grad: 4962.2373 LR: 0.000055  \n",
      "Epoch: [4][8000/10164] Elapsed 2m 27s (remain 0m 39s) Loss: 111.3223(1154.7008) Grad: 59858.6523 LR: 0.000055  \n",
      "Epoch: [4][10000/10164] Elapsed 3m 3s (remain 0m 2s) Loss: 198.0033(1104.7620) Grad: 48728.7461 LR: 0.000055  \n",
      "Epoch: [4][10163/10164] Elapsed 3m 6s (remain 0m 0s) Loss: 118.1660(1099.5648) Grad: 22190.4316 LR: 0.000055  \n",
      "EVAL: [0/1129] Elapsed 0m 0s (remain 2m 3s) Loss: 6920.8721(6920.8721) \n"
     ]
    },
    {
     "name": "stderr",
     "output_type": "stream",
     "text": [
      "Epoch 4 - avg_train_loss: 1099.5648  avg_val_loss: 1035.3019  time: 198s\n",
      "Epoch 4 - Score: 32.1761\n",
      "Validation loss Improved (1310.4165973061522 ---> 1035.3019103429044)\n",
      "Epoch 4 - Save Best Loss: 1035.3019 Model\n"
     ]
    },
    {
     "name": "stdout",
     "output_type": "stream",
     "text": [
      "EVAL: [1128/1129] Elapsed 0m 10s (remain 0m 0s) Loss: 805.7000(1035.3019) \n",
      "Epoch: [5][0/10164] Elapsed 0m 0s (remain 20m 8s) Loss: 286.7749(286.7749) Grad: 54976.5039 LR: 0.000033  \n",
      "Epoch: [5][2000/10164] Elapsed 0m 36s (remain 2m 29s) Loss: 88.7951(984.4207) Grad: 12960.2891 LR: 0.000033  \n",
      "Epoch: [5][4000/10164] Elapsed 1m 13s (remain 1m 52s) Loss: 119.7600(963.7013) Grad: 21071.7715 LR: 0.000033  \n",
      "Epoch: [5][6000/10164] Elapsed 1m 50s (remain 1m 16s) Loss: 35.3380(972.0477) Grad: 18000.4785 LR: 0.000033  \n",
      "Epoch: [5][8000/10164] Elapsed 2m 26s (remain 0m 39s) Loss: 102.7035(950.2949) Grad: 71031.3750 LR: 0.000033  \n",
      "Epoch: [5][10000/10164] Elapsed 3m 3s (remain 0m 2s) Loss: 155.6500(917.8724) Grad: 26927.1797 LR: 0.000033  \n",
      "Epoch: [5][10163/10164] Elapsed 3m 6s (remain 0m 0s) Loss: 172.6794(914.3821) Grad: 41116.3633 LR: 0.000033  \n",
      "EVAL: [0/1129] Elapsed 0m 0s (remain 1m 58s) Loss: 6271.1211(6271.1211) \n"
     ]
    },
    {
     "name": "stderr",
     "output_type": "stream",
     "text": [
      "Epoch 5 - avg_train_loss: 914.3821  avg_val_loss: 907.2487  time: 197s\n",
      "Epoch 5 - Score: 30.1206\n",
      "Validation loss Improved (1035.3019103429044 ---> 907.2486602255683)\n",
      "Epoch 5 - Save Best Loss: 907.2487 Model\n"
     ]
    },
    {
     "name": "stdout",
     "output_type": "stream",
     "text": [
      "EVAL: [1128/1129] Elapsed 0m 10s (remain 0m 0s) Loss: 1133.3434(907.2487) \n",
      "Epoch: [6][0/10164] Elapsed 0m 0s (remain 21m 14s) Loss: 214.1116(214.1116) Grad: 52166.4688 LR: 0.000016  \n",
      "Epoch: [6][2000/10164] Elapsed 0m 36s (remain 2m 28s) Loss: 58.4060(877.2553) Grad: 19303.0801 LR: 0.000016  \n",
      "Epoch: [6][4000/10164] Elapsed 1m 12s (remain 1m 51s) Loss: 126.1251(864.0543) Grad: 12417.9160 LR: 0.000016  \n",
      "Epoch: [6][6000/10164] Elapsed 1m 49s (remain 1m 15s) Loss: 28.7539(878.3005) Grad: 14358.7295 LR: 0.000016  \n",
      "Epoch: [6][8000/10164] Elapsed 2m 27s (remain 0m 39s) Loss: 89.6352(863.7011) Grad: 58714.9961 LR: 0.000016  \n",
      "Epoch: [6][10000/10164] Elapsed 3m 4s (remain 0m 3s) Loss: 205.1968(838.7487) Grad: 32237.6133 LR: 0.000016  \n",
      "Epoch: [6][10163/10164] Elapsed 3m 8s (remain 0m 0s) Loss: 191.2701(836.0461) Grad: 43114.1133 LR: 0.000016  \n",
      "EVAL: [0/1129] Elapsed 0m 0s (remain 2m 3s) Loss: 5951.0913(5951.0913) \n"
     ]
    },
    {
     "name": "stderr",
     "output_type": "stream",
     "text": [
      "Epoch 6 - avg_train_loss: 836.0461  avg_val_loss: 843.4111  time: 199s\n",
      "Epoch 6 - Score: 29.0415\n",
      "Validation loss Improved (907.2486602255683 ---> 843.411111614031)\n",
      "Epoch 6 - Save Best Loss: 843.4111 Model\n"
     ]
    },
    {
     "name": "stdout",
     "output_type": "stream",
     "text": [
      "EVAL: [1128/1129] Elapsed 0m 10s (remain 0m 0s) Loss: 1005.3647(843.4111) \n",
      "Epoch: [7][0/10164] Elapsed 0m 0s (remain 21m 20s) Loss: 253.3360(253.3360) Grad: 46915.9844 LR: 0.000010  \n",
      "Epoch: [7][2000/10164] Elapsed 0m 36s (remain 2m 30s) Loss: 61.3359(832.6701) Grad: 10588.4150 LR: 0.000010  \n",
      "Epoch: [7][4000/10164] Elapsed 1m 13s (remain 1m 52s) Loss: 103.2959(820.8202) Grad: 16510.1895 LR: 0.000010  \n",
      "Epoch: [7][6000/10164] Elapsed 1m 49s (remain 1m 16s) Loss: 22.5149(835.5604) Grad: 13118.9238 LR: 0.000010  \n",
      "Epoch: [7][8000/10164] Elapsed 2m 26s (remain 0m 39s) Loss: 89.3612(823.5133) Grad: 49652.3320 LR: 0.000010  \n",
      "Epoch: [7][10000/10164] Elapsed 3m 2s (remain 0m 2s) Loss: 189.9240(801.3344) Grad: 21836.4570 LR: 0.000010  \n",
      "Epoch: [7][10163/10164] Elapsed 3m 5s (remain 0m 0s) Loss: 163.1060(798.8321) Grad: 49956.8359 LR: 0.000010  \n",
      "EVAL: [0/1129] Elapsed 0m 0s (remain 2m 0s) Loss: 5776.0947(5776.0947) \n"
     ]
    },
    {
     "name": "stderr",
     "output_type": "stream",
     "text": [
      "Epoch 7 - avg_train_loss: 798.8321  avg_val_loss: 811.1769  time: 196s\n",
      "Epoch 7 - Score: 28.4812\n",
      "Validation loss Improved (843.411111614031 ---> 811.1769393409018)\n",
      "Epoch 7 - Save Best Loss: 811.1769 Model\n"
     ]
    },
    {
     "name": "stdout",
     "output_type": "stream",
     "text": [
      "EVAL: [1128/1129] Elapsed 0m 9s (remain 0m 0s) Loss: 1112.4998(811.1769) \n",
      "Epoch: [8][0/10164] Elapsed 0m 0s (remain 28m 11s) Loss: 250.4990(250.4990) Grad: 50564.6875 LR: 0.000016  \n",
      "Epoch: [8][2000/10164] Elapsed 0m 36s (remain 2m 29s) Loss: 72.5419(803.5062) Grad: 28283.5918 LR: 0.000016  \n",
      "Epoch: [8][4000/10164] Elapsed 1m 12s (remain 1m 52s) Loss: 121.5626(791.3274) Grad: 13387.6035 LR: 0.000016  \n",
      "Epoch: [8][6000/10164] Elapsed 1m 49s (remain 1m 15s) Loss: 22.0050(803.5423) Grad: 6601.3691 LR: 0.000016  \n",
      "Epoch: [8][8000/10164] Elapsed 2m 25s (remain 0m 39s) Loss: 73.6704(791.1001) Grad: 46676.1172 LR: 0.000016  \n",
      "Epoch: [8][10000/10164] Elapsed 3m 2s (remain 0m 2s) Loss: 161.0953(768.9468) Grad: 30908.9102 LR: 0.000016  \n",
      "Epoch: [8][10163/10164] Elapsed 3m 4s (remain 0m 0s) Loss: 191.4346(766.4986) Grad: 38890.3789 LR: 0.000016  \n",
      "EVAL: [0/1129] Elapsed 0m 0s (remain 2m 4s) Loss: 5540.4961(5540.4961) \n"
     ]
    },
    {
     "name": "stderr",
     "output_type": "stream",
     "text": [
      "Epoch 8 - avg_train_loss: 766.4986  avg_val_loss: 772.2823  time: 196s\n",
      "Epoch 8 - Score: 27.7900\n",
      "Validation loss Improved (811.1769393409018 ---> 772.282335298544)\n",
      "Epoch 8 - Save Best Loss: 772.2823 Model\n"
     ]
    },
    {
     "name": "stdout",
     "output_type": "stream",
     "text": [
      "EVAL: [1128/1129] Elapsed 0m 10s (remain 0m 0s) Loss: 1062.5581(772.2823) \n",
      "Epoch: [9][0/10164] Elapsed 0m 0s (remain 21m 8s) Loss: 284.1785(284.1785) Grad: 52969.6914 LR: 0.000033  \n",
      "Epoch: [9][2000/10164] Elapsed 0m 36s (remain 2m 30s) Loss: 60.6842(765.4067) Grad: 21474.3281 LR: 0.000033  \n",
      "Epoch: [9][4000/10164] Elapsed 1m 13s (remain 1m 52s) Loss: 114.5077(750.5833) Grad: 11045.2393 LR: 0.000033  \n",
      "Epoch: [9][6000/10164] Elapsed 1m 49s (remain 1m 16s) Loss: 41.5516(757.6480) Grad: 13798.9707 LR: 0.000033  \n",
      "Epoch: [9][8000/10164] Elapsed 2m 26s (remain 0m 39s) Loss: 97.1035(742.7235) Grad: 68283.3672 LR: 0.000033  \n",
      "Epoch: [9][10000/10164] Elapsed 3m 3s (remain 0m 2s) Loss: 183.5419(719.5960) Grad: 30793.9004 LR: 0.000033  \n",
      "Epoch: [9][10163/10164] Elapsed 3m 6s (remain 0m 0s) Loss: 167.6641(717.1604) Grad: 50532.2188 LR: 0.000033  \n",
      "EVAL: [0/1129] Elapsed 0m 0s (remain 2m 12s) Loss: 4946.9126(4946.9126) \n"
     ]
    },
    {
     "name": "stderr",
     "output_type": "stream",
     "text": [
      "Epoch 9 - avg_train_loss: 717.1604  avg_val_loss: 715.3376  time: 196s\n",
      "Epoch 9 - Score: 26.7458\n",
      "Validation loss Improved (772.282335298544 ---> 715.3375670916685)\n",
      "Epoch 9 - Save Best Loss: 715.3376 Model\n"
     ]
    },
    {
     "name": "stdout",
     "output_type": "stream",
     "text": [
      "EVAL: [1128/1129] Elapsed 0m 9s (remain 0m 0s) Loss: 725.7456(715.3376) \n",
      "Epoch: [10][0/10164] Elapsed 0m 0s (remain 20m 59s) Loss: 240.6550(240.6550) Grad: 67670.4375 LR: 0.000055  \n",
      "Epoch: [10][2000/10164] Elapsed 0m 36s (remain 2m 30s) Loss: 56.0355(697.5388) Grad: 25706.3906 LR: 0.000055  \n",
      "Epoch: [10][4000/10164] Elapsed 1m 13s (remain 1m 53s) Loss: 101.6202(682.4956) Grad: 12705.2256 LR: 0.000055  \n",
      "Epoch: [10][6000/10164] Elapsed 1m 50s (remain 1m 16s) Loss: 16.8010(686.4211) Grad: 13393.3574 LR: 0.000055  \n",
      "Epoch: [10][8000/10164] Elapsed 2m 27s (remain 0m 39s) Loss: 83.0572(669.9053) Grad: 40197.2109 LR: 0.000055  \n",
      "Epoch: [10][10000/10164] Elapsed 3m 3s (remain 0m 2s) Loss: 215.0687(647.3908) Grad: 41051.3047 LR: 0.000055  \n",
      "Epoch: [10][10163/10164] Elapsed 3m 6s (remain 0m 0s) Loss: 149.6825(645.3420) Grad: 37613.5508 LR: 0.000055  \n",
      "EVAL: [0/1129] Elapsed 0m 0s (remain 2m 2s) Loss: 4409.6294(4409.6294) \n"
     ]
    },
    {
     "name": "stderr",
     "output_type": "stream",
     "text": [
      "Epoch 10 - avg_train_loss: 645.3420  avg_val_loss: 647.3561  time: 197s\n",
      "Epoch 10 - Score: 25.4432\n",
      "Validation loss Improved (715.3375670916685 ---> 647.3560965744167)\n",
      "Epoch 10 - Save Best Loss: 647.3561 Model\n"
     ]
    },
    {
     "name": "stdout",
     "output_type": "stream",
     "text": [
      "EVAL: [1128/1129] Elapsed 0m 9s (remain 0m 0s) Loss: 524.7374(647.3561) \n",
      "Epoch: [11][0/10164] Elapsed 0m 0s (remain 21m 40s) Loss: 288.3792(288.3792) Grad: 47573.3086 LR: 0.000078  \n",
      "Epoch: [11][2000/10164] Elapsed 0m 36s (remain 2m 29s) Loss: 61.1159(615.9987) Grad: 11278.5654 LR: 0.000078  \n",
      "Epoch: [11][4000/10164] Elapsed 1m 13s (remain 1m 53s) Loss: 119.5884(601.3152) Grad: 15629.1211 LR: 0.000078  \n",
      "Epoch: [11][6000/10164] Elapsed 1m 50s (remain 1m 16s) Loss: 19.7003(602.5951) Grad: 15469.2432 LR: 0.000078  \n",
      "Epoch: [11][8000/10164] Elapsed 2m 27s (remain 0m 39s) Loss: 59.2591(587.1584) Grad: 33854.9922 LR: 0.000078  \n",
      "Epoch: [11][10000/10164] Elapsed 3m 3s (remain 0m 2s) Loss: 165.5411(567.5429) Grad: 36347.0664 LR: 0.000078  \n",
      "Epoch: [11][10163/10164] Elapsed 3m 6s (remain 0m 0s) Loss: 116.7715(565.7299) Grad: 16833.6895 LR: 0.000078  \n",
      "EVAL: [0/1129] Elapsed 0m 0s (remain 2m 3s) Loss: 3742.8154(3742.8154) \n"
     ]
    },
    {
     "name": "stderr",
     "output_type": "stream",
     "text": [
      "Epoch 11 - avg_train_loss: 565.7299  avg_val_loss: 562.6644  time: 197s\n",
      "Epoch 11 - Score: 23.7205\n",
      "Validation loss Improved (647.3560965744167 ---> 562.6643833255612)\n",
      "Epoch 11 - Save Best Loss: 562.6644 Model\n"
     ]
    },
    {
     "name": "stdout",
     "output_type": "stream",
     "text": [
      "EVAL: [1128/1129] Elapsed 0m 10s (remain 0m 0s) Loss: 885.8417(562.6644) \n",
      "Epoch: [12][0/10164] Elapsed 0m 0s (remain 20m 30s) Loss: 355.0571(355.0571) Grad: 31434.6191 LR: 0.000094  \n",
      "Epoch: [12][2000/10164] Elapsed 0m 37s (remain 2m 31s) Loss: 49.4920(538.5625) Grad: 6250.1978 LR: 0.000094  \n",
      "Epoch: [12][4000/10164] Elapsed 1m 14s (remain 1m 55s) Loss: 133.1190(526.2739) Grad: 6680.1328 LR: 0.000094  \n",
      "Epoch: [12][6000/10164] Elapsed 1m 51s (remain 1m 17s) Loss: 32.4754(525.6527) Grad: 31081.9824 LR: 0.000094  \n",
      "Epoch: [12][8000/10164] Elapsed 2m 28s (remain 0m 40s) Loss: 36.8785(512.4199) Grad: 20490.5801 LR: 0.000094  \n",
      "Epoch: [12][10000/10164] Elapsed 3m 6s (remain 0m 3s) Loss: 182.1444(496.4255) Grad: 17175.7285 LR: 0.000094  \n",
      "Epoch: [12][10163/10164] Elapsed 3m 9s (remain 0m 0s) Loss: 124.8625(495.1326) Grad: 16984.1035 LR: 0.000094  \n",
      "EVAL: [0/1129] Elapsed 0m 0s (remain 2m 4s) Loss: 3290.0837(3290.0837) \n"
     ]
    },
    {
     "name": "stderr",
     "output_type": "stream",
     "text": [
      "Epoch 12 - avg_train_loss: 495.1326  avg_val_loss: 568.6671  time: 199s\n",
      "Epoch 12 - Score: 23.8467\n"
     ]
    },
    {
     "name": "stdout",
     "output_type": "stream",
     "text": [
      "EVAL: [1128/1129] Elapsed 0m 9s (remain 0m 0s) Loss: 563.3862(568.6671) \n",
      "Epoch: [13][0/10164] Elapsed 0m 0s (remain 20m 48s) Loss: 346.9129(346.9129) Grad: 88006.8281 LR: 0.000100  \n",
      "Epoch: [13][2000/10164] Elapsed 0m 36s (remain 2m 30s) Loss: 114.9670(478.1081) Grad: 64400.5039 LR: 0.000100  \n",
      "Epoch: [13][4000/10164] Elapsed 1m 14s (remain 1m 54s) Loss: 104.9556(465.2241) Grad: 12188.3877 LR: 0.000100  \n",
      "Epoch: [13][6000/10164] Elapsed 1m 51s (remain 1m 17s) Loss: 25.1059(464.5681) Grad: 19674.9902 LR: 0.000100  \n",
      "Epoch: [13][8000/10164] Elapsed 2m 29s (remain 0m 40s) Loss: 32.0807(453.3108) Grad: 9301.4902 LR: 0.000100  \n",
      "Epoch: [13][10000/10164] Elapsed 3m 6s (remain 0m 3s) Loss: 179.9416(441.0773) Grad: 24386.6133 LR: 0.000100  \n",
      "Epoch: [13][10163/10164] Elapsed 3m 9s (remain 0m 0s) Loss: 96.8537(439.8807) Grad: 27318.4668 LR: 0.000100  \n",
      "EVAL: [0/1129] Elapsed 0m 0s (remain 2m 2s) Loss: 3096.5339(3096.5339) \n"
     ]
    },
    {
     "name": "stderr",
     "output_type": "stream",
     "text": [
      "Epoch 13 - avg_train_loss: 439.8807  avg_val_loss: 485.8036  time: 200s\n",
      "Epoch 13 - Score: 22.0410\n",
      "Validation loss Improved (562.6643833255612 ---> 485.80361816529677)\n",
      "Epoch 13 - Save Best Loss: 485.8036 Model\n"
     ]
    },
    {
     "name": "stdout",
     "output_type": "stream",
     "text": [
      "EVAL: [1128/1129] Elapsed 0m 9s (remain 0m 0s) Loss: 688.8654(485.8036) \n",
      "Epoch: [14][0/10164] Elapsed 0m 0s (remain 20m 55s) Loss: 364.5833(364.5833) Grad: 65162.6953 LR: 0.000094  \n",
      "Epoch: [14][2000/10164] Elapsed 0m 37s (remain 2m 32s) Loss: 68.7085(434.7240) Grad: 19342.9238 LR: 0.000094  \n",
      "Epoch: [14][4000/10164] Elapsed 1m 14s (remain 1m 55s) Loss: 93.4988(422.0553) Grad: 12560.4258 LR: 0.000094  \n",
      "Epoch: [14][6000/10164] Elapsed 1m 51s (remain 1m 17s) Loss: 16.4012(419.9022) Grad: 10889.9033 LR: 0.000094  \n",
      "Epoch: [14][8000/10164] Elapsed 2m 28s (remain 0m 40s) Loss: 34.5691(410.5048) Grad: 17900.3750 LR: 0.000094  \n",
      "Epoch: [14][10000/10164] Elapsed 3m 5s (remain 0m 3s) Loss: 164.7234(400.8712) Grad: 37471.5703 LR: 0.000094  \n",
      "Epoch: [14][10163/10164] Elapsed 3m 8s (remain 0m 0s) Loss: 138.0700(400.0189) Grad: 41916.8164 LR: 0.000094  \n",
      "EVAL: [0/1129] Elapsed 0m 0s (remain 2m 11s) Loss: 2796.5264(2796.5264) \n"
     ]
    },
    {
     "name": "stderr",
     "output_type": "stream",
     "text": [
      "Epoch 14 - avg_train_loss: 400.0189  avg_val_loss: 455.6885  time: 200s\n",
      "Epoch 14 - Score: 21.3469\n",
      "Validation loss Improved (485.80361816529677 ---> 455.68851656868713)\n",
      "Epoch 14 - Save Best Loss: 455.6885 Model\n"
     ]
    },
    {
     "name": "stdout",
     "output_type": "stream",
     "text": [
      "EVAL: [1128/1129] Elapsed 0m 10s (remain 0m 0s) Loss: 937.1102(455.6885) \n",
      "Epoch: [15][0/10164] Elapsed 0m 0s (remain 20m 32s) Loss: 334.9889(334.9889) Grad: 28342.8848 LR: 0.000078  \n",
      "Epoch: [15][2000/10164] Elapsed 0m 37s (remain 2m 31s) Loss: 66.5737(395.6868) Grad: 36640.1250 LR: 0.000078  \n",
      "Epoch: [15][4000/10164] Elapsed 1m 14s (remain 1m 54s) Loss: 103.5353(386.4968) Grad: 11536.5742 LR: 0.000078  \n",
      "Epoch: [15][6000/10164] Elapsed 1m 51s (remain 1m 17s) Loss: 13.4587(384.7636) Grad: 5753.0229 LR: 0.000078  \n",
      "Epoch: [15][8000/10164] Elapsed 2m 28s (remain 0m 40s) Loss: 36.8419(376.9531) Grad: 16348.6416 LR: 0.000078  \n",
      "Epoch: [15][10000/10164] Elapsed 3m 4s (remain 0m 3s) Loss: 190.9448(369.4806) Grad: 21704.6211 LR: 0.000078  \n",
      "Epoch: [15][10163/10164] Elapsed 3m 7s (remain 0m 0s) Loss: 132.2114(368.8439) Grad: 30786.8867 LR: 0.000078  \n",
      "EVAL: [0/1129] Elapsed 0m 0s (remain 2m 46s) Loss: 2804.5081(2804.5081) \n"
     ]
    },
    {
     "name": "stderr",
     "output_type": "stream",
     "text": [
      "Epoch 15 - avg_train_loss: 368.8439  avg_val_loss: 441.5323  time: 198s\n",
      "Epoch 15 - Score: 21.0127\n",
      "Validation loss Improved (455.68851656868713 ---> 441.5322682915832)\n",
      "Epoch 15 - Save Best Loss: 441.5323 Model\n"
     ]
    },
    {
     "name": "stdout",
     "output_type": "stream",
     "text": [
      "EVAL: [1128/1129] Elapsed 0m 9s (remain 0m 0s) Loss: 815.9927(441.5323) \n",
      "Epoch: [16][0/10164] Elapsed 0m 0s (remain 22m 55s) Loss: 301.4531(301.4531) Grad: 34930.6875 LR: 0.000055  \n",
      "Epoch: [16][2000/10164] Elapsed 0m 36s (remain 2m 30s) Loss: 55.8563(375.0164) Grad: 20074.2559 LR: 0.000055  \n",
      "Epoch: [16][4000/10164] Elapsed 1m 13s (remain 1m 53s) Loss: 106.3391(364.3752) Grad: 11074.6660 LR: 0.000055  \n",
      "Epoch: [16][6000/10164] Elapsed 1m 50s (remain 1m 16s) Loss: 29.1808(363.8807) Grad: 6404.2080 LR: 0.000055  \n",
      "Epoch: [16][8000/10164] Elapsed 2m 27s (remain 0m 39s) Loss: 30.0060(356.7566) Grad: 23203.1426 LR: 0.000055  \n",
      "Epoch: [16][10000/10164] Elapsed 3m 4s (remain 0m 3s) Loss: 196.2759(350.0671) Grad: 23339.3262 LR: 0.000055  \n",
      "Epoch: [16][10163/10164] Elapsed 3m 7s (remain 0m 0s) Loss: 114.3837(349.3040) Grad: 36192.7930 LR: 0.000055  \n",
      "EVAL: [0/1129] Elapsed 0m 0s (remain 1m 58s) Loss: 2565.2253(2565.2253) \n"
     ]
    },
    {
     "name": "stderr",
     "output_type": "stream",
     "text": [
      "Epoch 16 - avg_train_loss: 349.3040  avg_val_loss: 401.2566  time: 197s\n",
      "Epoch 16 - Score: 20.0314\n",
      "Validation loss Improved (441.5322682915832 ---> 401.25655883761164)\n",
      "Epoch 16 - Save Best Loss: 401.2566 Model\n"
     ]
    },
    {
     "name": "stdout",
     "output_type": "stream",
     "text": [
      "EVAL: [1128/1129] Elapsed 0m 9s (remain 0m 0s) Loss: 907.3158(401.2566) \n",
      "Epoch: [17][0/10164] Elapsed 0m 0s (remain 19m 59s) Loss: 346.9091(346.9091) Grad: 23371.0586 LR: 0.000033  \n",
      "Epoch: [17][2000/10164] Elapsed 0m 36s (remain 2m 29s) Loss: 49.9613(357.3825) Grad: 23832.0020 LR: 0.000033  \n",
      "Epoch: [17][4000/10164] Elapsed 1m 14s (remain 1m 54s) Loss: 90.6035(348.0264) Grad: 12699.9521 LR: 0.000033  \n",
      "Epoch: [17][6000/10164] Elapsed 1m 50s (remain 1m 16s) Loss: 14.6636(347.4744) Grad: 5772.4648 LR: 0.000033  \n",
      "Epoch: [17][8000/10164] Elapsed 2m 27s (remain 0m 39s) Loss: 56.8844(341.0991) Grad: 31344.0469 LR: 0.000033  \n",
      "Epoch: [17][10000/10164] Elapsed 3m 3s (remain 0m 2s) Loss: 145.2158(335.1088) Grad: 19093.8398 LR: 0.000033  \n",
      "Epoch: [17][10163/10164] Elapsed 3m 6s (remain 0m 0s) Loss: 102.5271(334.4274) Grad: 34478.3320 LR: 0.000033  \n",
      "EVAL: [0/1129] Elapsed 0m 0s (remain 2m 8s) Loss: 2591.8408(2591.8408) \n"
     ]
    },
    {
     "name": "stderr",
     "output_type": "stream",
     "text": [
      "Epoch 17 - avg_train_loss: 334.4274  avg_val_loss: 357.9618  time: 197s\n",
      "Epoch 17 - Score: 18.9199\n",
      "Validation loss Improved (401.25655883761164 ---> 357.9617606387343)\n",
      "Epoch 17 - Save Best Loss: 357.9618 Model\n"
     ]
    },
    {
     "name": "stdout",
     "output_type": "stream",
     "text": [
      "EVAL: [1128/1129] Elapsed 0m 9s (remain 0m 0s) Loss: 1124.2146(357.9618) \n",
      "Epoch: [18][0/10164] Elapsed 0m 0s (remain 20m 59s) Loss: 335.5939(335.5939) Grad: 56933.7969 LR: 0.000016  \n",
      "Epoch: [18][2000/10164] Elapsed 0m 37s (remain 2m 31s) Loss: 39.6677(351.0928) Grad: 18823.9688 LR: 0.000016  \n",
      "Epoch: [18][4000/10164] Elapsed 1m 13s (remain 1m 52s) Loss: 106.3925(340.7396) Grad: 13630.3145 LR: 0.000016  \n",
      "Epoch: [18][6000/10164] Elapsed 1m 49s (remain 1m 15s) Loss: 14.2317(340.0340) Grad: 3709.0276 LR: 0.000016  \n",
      "Epoch: [18][8000/10164] Elapsed 2m 25s (remain 0m 39s) Loss: 62.5351(333.8028) Grad: 29889.4512 LR: 0.000016  \n",
      "Epoch: [18][10000/10164] Elapsed 3m 1s (remain 0m 2s) Loss: 151.0711(328.5694) Grad: 16893.3242 LR: 0.000016  \n",
      "Epoch: [18][10163/10164] Elapsed 3m 4s (remain 0m 0s) Loss: 99.2840(327.8982) Grad: 27287.6309 LR: 0.000016  \n",
      "EVAL: [0/1129] Elapsed 0m 0s (remain 1m 58s) Loss: 2606.1914(2606.1914) \n"
     ]
    },
    {
     "name": "stderr",
     "output_type": "stream",
     "text": [
      "Epoch 18 - avg_train_loss: 327.8982  avg_val_loss: 333.7631  time: 195s\n",
      "Epoch 18 - Score: 18.2692\n",
      "Validation loss Improved (357.9617606387343 ---> 333.76307948577)\n",
      "Epoch 18 - Save Best Loss: 333.7631 Model\n"
     ]
    },
    {
     "name": "stdout",
     "output_type": "stream",
     "text": [
      "EVAL: [1128/1129] Elapsed 0m 9s (remain 0m 0s) Loss: 1492.4897(333.7631) \n",
      "Epoch: [19][0/10164] Elapsed 0m 0s (remain 20m 18s) Loss: 356.4303(356.4303) Grad: 40009.0117 LR: 0.000010  \n",
      "Epoch: [19][2000/10164] Elapsed 0m 36s (remain 2m 27s) Loss: 43.3058(346.3948) Grad: 5876.1201 LR: 0.000010  \n",
      "Epoch: [19][4000/10164] Elapsed 1m 12s (remain 1m 51s) Loss: 108.3033(337.0828) Grad: 15695.6680 LR: 0.000010  \n",
      "Epoch: [19][6000/10164] Elapsed 1m 48s (remain 1m 15s) Loss: 14.0567(336.4085) Grad: 4346.9336 LR: 0.000010  \n",
      "Epoch: [19][8000/10164] Elapsed 2m 24s (remain 0m 39s) Loss: 43.2178(330.3936) Grad: 23957.4512 LR: 0.000010  \n",
      "Epoch: [19][10000/10164] Elapsed 3m 0s (remain 0m 2s) Loss: 180.1537(325.1587) Grad: 25021.4160 LR: 0.000010  \n",
      "Epoch: [19][10163/10164] Elapsed 3m 4s (remain 0m 0s) Loss: 112.9185(324.5166) Grad: 46894.1523 LR: 0.000010  \n",
      "EVAL: [0/1129] Elapsed 0m 0s (remain 2m 31s) Loss: 2583.6172(2583.6172) \n"
     ]
    },
    {
     "name": "stderr",
     "output_type": "stream",
     "text": [
      "Epoch 19 - avg_train_loss: 324.5166  avg_val_loss: 328.9864  time: 194s\n",
      "Epoch 19 - Score: 18.1380\n",
      "Validation loss Improved (333.76307948577 ---> 328.9864490367114)\n",
      "Epoch 19 - Save Best Loss: 328.9864 Model\n"
     ]
    },
    {
     "name": "stdout",
     "output_type": "stream",
     "text": [
      "EVAL: [1128/1129] Elapsed 0m 9s (remain 0m 0s) Loss: 1596.6284(328.9864) \n",
      "Epoch: [20][0/10164] Elapsed 0m 0s (remain 26m 40s) Loss: 344.8651(344.8651) Grad: 56345.2188 LR: 0.000016  \n",
      "Epoch: [20][2000/10164] Elapsed 0m 36s (remain 2m 28s) Loss: 54.3202(342.2871) Grad: 10831.7207 LR: 0.000016  \n",
      "Epoch: [20][4000/10164] Elapsed 1m 12s (remain 1m 51s) Loss: 102.5900(333.0788) Grad: 15544.1377 LR: 0.000016  \n",
      "Epoch: [20][6000/10164] Elapsed 1m 48s (remain 1m 15s) Loss: 15.4316(332.5992) Grad: 8054.9146 LR: 0.000016  \n",
      "Epoch: [20][8000/10164] Elapsed 2m 24s (remain 0m 39s) Loss: 48.9604(326.5721) Grad: 19151.5703 LR: 0.000016  \n",
      "Epoch: [20][10000/10164] Elapsed 3m 1s (remain 0m 2s) Loss: 163.0094(321.6007) Grad: 15819.9336 LR: 0.000016  \n",
      "Epoch: [20][10163/10164] Elapsed 3m 4s (remain 0m 0s) Loss: 104.9727(321.0124) Grad: 35460.2109 LR: 0.000016  \n",
      "EVAL: [0/1129] Elapsed 0m 0s (remain 2m 1s) Loss: 2598.4312(2598.4312) \n"
     ]
    },
    {
     "name": "stderr",
     "output_type": "stream",
     "text": [
      "Epoch 20 - avg_train_loss: 321.0124  avg_val_loss: 323.7561  time: 194s\n",
      "Epoch 20 - Score: 17.9932\n",
      "Validation loss Improved (328.9864490367114 ---> 323.7561217440427)\n",
      "Epoch 20 - Save Best Loss: 323.7561 Model\n"
     ]
    },
    {
     "name": "stdout",
     "output_type": "stream",
     "text": [
      "EVAL: [1128/1129] Elapsed 0m 9s (remain 0m 0s) Loss: 1476.1235(323.7561) \n",
      "Epoch: [21][0/10164] Elapsed 0m 0s (remain 20m 47s) Loss: 388.9603(388.9603) Grad: 77435.1250 LR: 0.000033  \n",
      "Epoch: [21][2000/10164] Elapsed 0m 36s (remain 2m 30s) Loss: 50.3584(339.2652) Grad: 9453.8662 LR: 0.000033  \n",
      "Epoch: [21][4000/10164] Elapsed 1m 13s (remain 1m 52s) Loss: 93.2374(329.9848) Grad: 13759.9688 LR: 0.000033  \n",
      "Epoch: [21][6000/10164] Elapsed 1m 49s (remain 1m 15s) Loss: 24.7427(329.0703) Grad: 9102.1201 LR: 0.000033  \n",
      "Epoch: [21][8000/10164] Elapsed 2m 25s (remain 0m 39s) Loss: 41.0330(322.6589) Grad: 19127.8613 LR: 0.000033  \n",
      "Epoch: [21][10000/10164] Elapsed 3m 1s (remain 0m 2s) Loss: 135.4487(317.7498) Grad: 12754.7568 LR: 0.000033  \n",
      "Epoch: [21][10163/10164] Elapsed 3m 4s (remain 0m 0s) Loss: 92.5507(317.1195) Grad: 37073.2969 LR: 0.000033  \n",
      "EVAL: [0/1129] Elapsed 0m 0s (remain 1m 59s) Loss: 2615.5195(2615.5195) \n"
     ]
    },
    {
     "name": "stderr",
     "output_type": "stream",
     "text": [
      "Epoch 21 - avg_train_loss: 317.1195  avg_val_loss: 323.0440  time: 194s\n",
      "Epoch 21 - Score: 17.9734\n",
      "Validation loss Improved (323.7561217440427 ---> 323.0439616472537)\n",
      "Epoch 21 - Save Best Loss: 323.0440 Model\n"
     ]
    },
    {
     "name": "stdout",
     "output_type": "stream",
     "text": [
      "EVAL: [1128/1129] Elapsed 0m 9s (remain 0m 0s) Loss: 1308.8756(323.0440) \n",
      "Epoch: [22][0/10164] Elapsed 0m 0s (remain 20m 11s) Loss: 421.8612(421.8612) Grad: 53717.5508 LR: 0.000055  \n",
      "Epoch: [22][2000/10164] Elapsed 0m 36s (remain 2m 27s) Loss: 59.0307(336.1406) Grad: 18445.2598 LR: 0.000055  \n",
      "Epoch: [22][4000/10164] Elapsed 1m 12s (remain 1m 52s) Loss: 99.0958(327.0718) Grad: 13758.1846 LR: 0.000055  \n",
      "Epoch: [22][6000/10164] Elapsed 1m 48s (remain 1m 15s) Loss: 18.5114(324.5999) Grad: 3432.2019 LR: 0.000055  \n",
      "Epoch: [22][8000/10164] Elapsed 2m 25s (remain 0m 39s) Loss: 36.5368(317.9694) Grad: 15412.7354 LR: 0.000055  \n",
      "Epoch: [22][10000/10164] Elapsed 3m 0s (remain 0m 2s) Loss: 204.2910(313.2565) Grad: 19011.1230 LR: 0.000055  \n",
      "Epoch: [22][10163/10164] Elapsed 3m 4s (remain 0m 0s) Loss: 109.3909(312.7386) Grad: 37930.9805 LR: 0.000055  \n",
      "EVAL: [0/1129] Elapsed 0m 0s (remain 1m 58s) Loss: 2604.0242(2604.0242) \n"
     ]
    },
    {
     "name": "stderr",
     "output_type": "stream",
     "text": [
      "Epoch 22 - avg_train_loss: 312.7386  avg_val_loss: 321.0348  time: 194s\n",
      "Epoch 22 - Score: 17.9174\n",
      "Validation loss Improved (323.0439616472537 ---> 321.0348014843167)\n",
      "Epoch 22 - Save Best Loss: 321.0348 Model\n"
     ]
    },
    {
     "name": "stdout",
     "output_type": "stream",
     "text": [
      "EVAL: [1128/1129] Elapsed 0m 9s (remain 0m 0s) Loss: 1197.2322(321.0348) \n",
      "Epoch: [23][0/10164] Elapsed 0m 0s (remain 25m 17s) Loss: 332.4424(332.4424) Grad: 36035.5820 LR: 0.000078  \n",
      "Epoch: [23][2000/10164] Elapsed 0m 36s (remain 2m 30s) Loss: 56.3098(330.9662) Grad: 17099.0957 LR: 0.000078  \n",
      "Epoch: [23][4000/10164] Elapsed 1m 13s (remain 1m 52s) Loss: 75.1849(321.2431) Grad: 11833.6963 LR: 0.000078  \n",
      "Epoch: [23][6000/10164] Elapsed 1m 49s (remain 1m 15s) Loss: 18.1755(318.8040) Grad: 15005.4629 LR: 0.000078  \n",
      "Epoch: [23][8000/10164] Elapsed 2m 25s (remain 0m 39s) Loss: 34.7177(312.2886) Grad: 11749.3232 LR: 0.000078  \n",
      "Epoch: [23][10000/10164] Elapsed 3m 1s (remain 0m 2s) Loss: 205.2157(307.6941) Grad: 12611.8838 LR: 0.000078  \n",
      "Epoch: [23][10163/10164] Elapsed 3m 4s (remain 0m 0s) Loss: 126.9372(307.2089) Grad: 42916.5117 LR: 0.000078  \n",
      "EVAL: [0/1129] Elapsed 0m 0s (remain 2m 2s) Loss: 2330.4910(2330.4910) \n"
     ]
    },
    {
     "name": "stderr",
     "output_type": "stream",
     "text": [
      "Epoch 23 - avg_train_loss: 307.2089  avg_val_loss: 330.0967  time: 195s\n",
      "Epoch 23 - Score: 18.1686\n"
     ]
    },
    {
     "name": "stdout",
     "output_type": "stream",
     "text": [
      "EVAL: [1128/1129] Elapsed 0m 10s (remain 0m 0s) Loss: 1018.5034(330.0967) \n",
      "Epoch: [24][0/10164] Elapsed 0m 0s (remain 22m 26s) Loss: 375.9683(375.9683) Grad: 54370.1562 LR: 0.000094  \n",
      "Epoch: [24][2000/10164] Elapsed 0m 36s (remain 2m 26s) Loss: 69.2388(325.2135) Grad: 32593.6484 LR: 0.000094  \n",
      "Epoch: [24][4000/10164] Elapsed 1m 12s (remain 1m 51s) Loss: 83.2206(314.9665) Grad: 14447.9053 LR: 0.000094  \n",
      "Epoch: [24][6000/10164] Elapsed 1m 48s (remain 1m 15s) Loss: 23.2038(313.0299) Grad: 10126.2705 LR: 0.000094  \n",
      "Epoch: [24][8000/10164] Elapsed 2m 24s (remain 0m 39s) Loss: 25.1997(306.4889) Grad: 4132.4116 LR: 0.000094  \n",
      "Epoch: [24][10000/10164] Elapsed 3m 0s (remain 0m 2s) Loss: 188.4598(302.1206) Grad: 13872.4189 LR: 0.000094  \n",
      "Epoch: [24][10163/10164] Elapsed 3m 3s (remain 0m 0s) Loss: 148.8984(301.6872) Grad: 30951.0586 LR: 0.000094  \n",
      "EVAL: [0/1129] Elapsed 0m 0s (remain 1m 58s) Loss: 2467.3328(2467.3328) \n"
     ]
    },
    {
     "name": "stderr",
     "output_type": "stream",
     "text": [
      "Epoch 24 - avg_train_loss: 301.6872  avg_val_loss: 342.5573  time: 194s\n",
      "Epoch 24 - Score: 18.5083\n"
     ]
    },
    {
     "name": "stdout",
     "output_type": "stream",
     "text": [
      "EVAL: [1128/1129] Elapsed 0m 10s (remain 0m 0s) Loss: 807.9110(342.5573) \n",
      "Epoch: [25][0/10164] Elapsed 0m 0s (remain 20m 10s) Loss: 367.3579(367.3579) Grad: 55364.2031 LR: 0.000100  \n",
      "Epoch: [25][2000/10164] Elapsed 0m 36s (remain 2m 27s) Loss: 78.8995(318.3826) Grad: 34088.5273 LR: 0.000100  \n",
      "Epoch: [25][4000/10164] Elapsed 1m 11s (remain 1m 50s) Loss: 96.5764(309.2781) Grad: 10880.3242 LR: 0.000100  \n",
      "Epoch: [25][6000/10164] Elapsed 1m 48s (remain 1m 15s) Loss: 18.0135(305.8118) Grad: 6077.2329 LR: 0.000100  \n",
      "Epoch: [25][8000/10164] Elapsed 2m 24s (remain 0m 39s) Loss: 32.5663(299.2729) Grad: 5757.6582 LR: 0.000100  \n",
      "Epoch: [25][10000/10164] Elapsed 3m 0s (remain 0m 2s) Loss: 178.3709(295.7071) Grad: 11943.3447 LR: 0.000100  \n",
      "Epoch: [25][10163/10164] Elapsed 3m 4s (remain 0m 0s) Loss: 106.0969(295.3973) Grad: 21019.1367 LR: 0.000100  \n",
      "EVAL: [0/1129] Elapsed 0m 0s (remain 1m 58s) Loss: 2597.1194(2597.1194) \n"
     ]
    },
    {
     "name": "stderr",
     "output_type": "stream",
     "text": [
      "Epoch 25 - avg_train_loss: 295.3973  avg_val_loss: 332.6524  time: 194s\n",
      "Epoch 25 - Score: 18.2388\n"
     ]
    },
    {
     "name": "stdout",
     "output_type": "stream",
     "text": [
      "EVAL: [1128/1129] Elapsed 0m 9s (remain 0m 0s) Loss: 1266.4957(332.6524) \n",
      "Epoch: [26][0/10164] Elapsed 0m 0s (remain 28m 24s) Loss: 482.4604(482.4604) Grad: 129147.5391 LR: 0.000094  \n",
      "Epoch: [26][2000/10164] Elapsed 0m 36s (remain 2m 28s) Loss: 61.4752(311.3053) Grad: 27830.8574 LR: 0.000094  \n",
      "Epoch: [26][4000/10164] Elapsed 1m 12s (remain 1m 51s) Loss: 93.5200(300.8687) Grad: 8025.4072 LR: 0.000094  \n",
      "Epoch: [26][6000/10164] Elapsed 1m 48s (remain 1m 15s) Loss: 20.3348(298.1530) Grad: 8527.9541 LR: 0.000094  \n",
      "Epoch: [26][8000/10164] Elapsed 2m 25s (remain 0m 39s) Loss: 26.5205(291.3690) Grad: 5531.7500 LR: 0.000094  \n",
      "Epoch: [26][10000/10164] Elapsed 3m 1s (remain 0m 2s) Loss: 196.1179(288.4503) Grad: 19706.2832 LR: 0.000094  \n",
      "Epoch: [26][10163/10164] Elapsed 3m 4s (remain 0m 0s) Loss: 107.1596(288.0408) Grad: 31283.7578 LR: 0.000094  \n",
      "EVAL: [0/1129] Elapsed 0m 0s (remain 2m 0s) Loss: 2361.0977(2361.0977) \n"
     ]
    },
    {
     "name": "stderr",
     "output_type": "stream",
     "text": [
      "Epoch 26 - avg_train_loss: 288.0408  avg_val_loss: 345.9821  time: 194s\n",
      "Epoch 26 - Score: 18.6006\n"
     ]
    },
    {
     "name": "stdout",
     "output_type": "stream",
     "text": [
      "EVAL: [1128/1129] Elapsed 0m 9s (remain 0m 0s) Loss: 1242.6304(345.9821) \n",
      "Epoch: [27][0/10164] Elapsed 0m 0s (remain 20m 48s) Loss: 389.1188(389.1188) Grad: 42093.3008 LR: 0.000078  \n",
      "Epoch: [27][2000/10164] Elapsed 0m 36s (remain 2m 27s) Loss: 57.9749(304.2445) Grad: 17192.2988 LR: 0.000078  \n",
      "Epoch: [27][4000/10164] Elapsed 1m 12s (remain 1m 51s) Loss: 93.1033(293.8002) Grad: 8592.2725 LR: 0.000078  \n",
      "Epoch: [27][6000/10164] Elapsed 1m 48s (remain 1m 15s) Loss: 16.1624(291.4138) Grad: 4779.1426 LR: 0.000078  \n",
      "Epoch: [27][8000/10164] Elapsed 2m 24s (remain 0m 39s) Loss: 31.3171(284.9426) Grad: 8030.3374 LR: 0.000078  \n",
      "Epoch: [27][10000/10164] Elapsed 3m 1s (remain 0m 2s) Loss: 188.9766(282.1413) Grad: 17484.5898 LR: 0.000078  \n",
      "Epoch: [27][10163/10164] Elapsed 3m 4s (remain 0m 0s) Loss: 118.6718(281.7428) Grad: 21526.1523 LR: 0.000078  \n",
      "EVAL: [0/1129] Elapsed 0m 0s (remain 1m 59s) Loss: 2444.3567(2444.3567) \n"
     ]
    },
    {
     "name": "stderr",
     "output_type": "stream",
     "text": [
      "Epoch 27 - avg_train_loss: 281.7428  avg_val_loss: 329.9199  time: 194s\n",
      "Epoch 27 - Score: 18.1637\n"
     ]
    },
    {
     "name": "stdout",
     "output_type": "stream",
     "text": [
      "EVAL: [1128/1129] Elapsed 0m 9s (remain 0m 0s) Loss: 1299.5048(329.9199) \n",
      "Epoch: [28][0/10164] Elapsed 0m 0s (remain 20m 35s) Loss: 400.3872(400.3872) Grad: 35375.5195 LR: 0.000055  \n",
      "Epoch: [28][2000/10164] Elapsed 0m 36s (remain 2m 28s) Loss: 43.9820(295.8427) Grad: 10973.6113 LR: 0.000055  \n",
      "Epoch: [28][4000/10164] Elapsed 1m 12s (remain 1m 52s) Loss: 107.5005(285.9865) Grad: 8658.2207 LR: 0.000055  \n",
      "Epoch: [28][6000/10164] Elapsed 1m 49s (remain 1m 15s) Loss: 17.7261(283.8649) Grad: 3841.1482 LR: 0.000055  \n",
      "Epoch: [28][8000/10164] Elapsed 2m 25s (remain 0m 39s) Loss: 36.6678(277.9214) Grad: 18138.9883 LR: 0.000055  \n",
      "Epoch: [28][10000/10164] Elapsed 3m 1s (remain 0m 2s) Loss: 197.0607(275.1853) Grad: 24265.2539 LR: 0.000055  \n",
      "Epoch: [28][10163/10164] Elapsed 3m 4s (remain 0m 0s) Loss: 119.1066(274.7109) Grad: 20163.8457 LR: 0.000055  \n",
      "EVAL: [0/1129] Elapsed 0m 0s (remain 1m 58s) Loss: 2515.7788(2515.7788) \n"
     ]
    },
    {
     "name": "stderr",
     "output_type": "stream",
     "text": [
      "Epoch 28 - avg_train_loss: 274.7109  avg_val_loss: 294.0985  time: 194s\n",
      "Epoch 28 - Score: 17.1493\n",
      "Validation loss Improved (321.0348014843167 ---> 294.0985176536382)\n"
     ]
    },
    {
     "name": "stdout",
     "output_type": "stream",
     "text": [
      "EVAL: [1128/1129] Elapsed 0m 9s (remain 0m 0s) Loss: 1333.3799(294.0985) \n"
     ]
    },
    {
     "name": "stderr",
     "output_type": "stream",
     "text": [
      "Epoch 28 - Save Best Loss: 294.0985 Model\n"
     ]
    },
    {
     "name": "stdout",
     "output_type": "stream",
     "text": [
      "Epoch: [29][0/10164] Elapsed 0m 0s (remain 46m 22s) Loss: 352.6177(352.6177) Grad: 28547.5605 LR: 0.000033  \n",
      "Epoch: [29][2000/10164] Elapsed 0m 36s (remain 2m 29s) Loss: 45.9957(288.6986) Grad: 8307.2520 LR: 0.000033  \n",
      "Epoch: [29][4000/10164] Elapsed 1m 12s (remain 1m 52s) Loss: 88.3261(279.9664) Grad: 9893.7217 LR: 0.000033  \n",
      "Epoch: [29][6000/10164] Elapsed 1m 49s (remain 1m 15s) Loss: 17.7122(277.8989) Grad: 4031.9014 LR: 0.000033  \n",
      "Epoch: [29][8000/10164] Elapsed 2m 25s (remain 0m 39s) Loss: 55.8887(272.5284) Grad: 25507.3809 LR: 0.000033  \n",
      "Epoch: [29][10000/10164] Elapsed 3m 1s (remain 0m 2s) Loss: 175.1929(269.9322) Grad: 14065.4375 LR: 0.000033  \n",
      "Epoch: [29][10163/10164] Elapsed 3m 4s (remain 0m 0s) Loss: 92.5011(269.4570) Grad: 21382.5000 LR: 0.000033  \n",
      "EVAL: [0/1129] Elapsed 0m 0s (remain 2m 2s) Loss: 2418.1099(2418.1099) \n"
     ]
    },
    {
     "name": "stderr",
     "output_type": "stream",
     "text": [
      "Epoch 29 - avg_train_loss: 269.4570  avg_val_loss: 278.3970  time: 195s\n",
      "Epoch 29 - Score: 16.6852\n",
      "Validation loss Improved (294.0985176536382 ---> 278.39699461915893)\n",
      "Epoch 29 - Save Best Loss: 278.3970 Model\n"
     ]
    },
    {
     "name": "stdout",
     "output_type": "stream",
     "text": [
      "EVAL: [1128/1129] Elapsed 0m 10s (remain 0m 0s) Loss: 1469.7500(278.3970) \n",
      "Epoch: [30][0/10164] Elapsed 0m 0s (remain 20m 25s) Loss: 346.1797(346.1797) Grad: 28103.2891 LR: 0.000016  \n",
      "Epoch: [30][2000/10164] Elapsed 0m 36s (remain 2m 29s) Loss: 35.2153(287.7287) Grad: 14988.4453 LR: 0.000016  \n",
      "Epoch: [30][4000/10164] Elapsed 1m 12s (remain 1m 51s) Loss: 80.2042(278.3194) Grad: 7663.9937 LR: 0.000016  \n",
      "Epoch: [30][6000/10164] Elapsed 1m 48s (remain 1m 15s) Loss: 15.8059(276.6252) Grad: 6814.4624 LR: 0.000016  \n",
      "Epoch: [30][8000/10164] Elapsed 2m 24s (remain 0m 38s) Loss: 43.5047(270.4549) Grad: 21370.7656 LR: 0.000016  \n",
      "Epoch: [30][10000/10164] Elapsed 3m 0s (remain 0m 2s) Loss: 184.6720(267.5127) Grad: 16266.7607 LR: 0.000016  \n",
      "Epoch: [30][10163/10164] Elapsed 3m 3s (remain 0m 0s) Loss: 104.1467(267.0432) Grad: 31494.3516 LR: 0.000016  \n",
      "EVAL: [0/1129] Elapsed 0m 0s (remain 2m 2s) Loss: 2407.0830(2407.0830) \n"
     ]
    },
    {
     "name": "stderr",
     "output_type": "stream",
     "text": [
      "Epoch 30 - avg_train_loss: 267.0432  avg_val_loss: 271.1346  time: 194s\n",
      "Epoch 30 - Score: 16.4662\n",
      "Validation loss Improved (278.39699461915893 ---> 271.13460846103663)\n",
      "Epoch 30 - Save Best Loss: 271.1346 Model\n"
     ]
    },
    {
     "name": "stdout",
     "output_type": "stream",
     "text": [
      "EVAL: [1128/1129] Elapsed 0m 10s (remain 0m 0s) Loss: 1463.5833(271.1346) \n",
      "Epoch: [31][0/10164] Elapsed 0m 0s (remain 23m 34s) Loss: 339.1411(339.1411) Grad: 25937.7305 LR: 0.000010  \n",
      "Epoch: [31][2000/10164] Elapsed 0m 36s (remain 2m 27s) Loss: 34.1457(286.1836) Grad: 9637.8164 LR: 0.000010  \n",
      "Epoch: [31][4000/10164] Elapsed 1m 12s (remain 1m 51s) Loss: 86.7733(277.2008) Grad: 8865.8008 LR: 0.000010  \n",
      "Epoch: [31][6000/10164] Elapsed 1m 48s (remain 1m 15s) Loss: 18.0215(274.7579) Grad: 6980.8530 LR: 0.000010  \n",
      "Epoch: [31][8000/10164] Elapsed 2m 25s (remain 0m 39s) Loss: 37.0044(268.6948) Grad: 13584.5127 LR: 0.000010  \n",
      "Epoch: [31][10000/10164] Elapsed 3m 1s (remain 0m 2s) Loss: 186.5925(265.8503) Grad: 15181.9873 LR: 0.000010  \n",
      "Epoch: [31][10163/10164] Elapsed 3m 4s (remain 0m 0s) Loss: 108.5517(265.3288) Grad: 25037.0430 LR: 0.000010  \n",
      "EVAL: [0/1129] Elapsed 0m 0s (remain 2m 2s) Loss: 2384.1072(2384.1072) \n"
     ]
    },
    {
     "name": "stderr",
     "output_type": "stream",
     "text": [
      "Epoch 31 - avg_train_loss: 265.3288  avg_val_loss: 270.2785  time: 194s\n",
      "Epoch 31 - Score: 16.4402\n",
      "Validation loss Improved (271.13460846103663 ---> 270.2785303728802)\n",
      "Epoch 31 - Save Best Loss: 270.2785 Model\n"
     ]
    },
    {
     "name": "stdout",
     "output_type": "stream",
     "text": [
      "EVAL: [1128/1129] Elapsed 0m 9s (remain 0m 0s) Loss: 1457.7297(270.2785) \n",
      "Epoch: [32][0/10164] Elapsed 0m 0s (remain 20m 12s) Loss: 352.7380(352.7380) Grad: 39668.3203 LR: 0.000016  \n",
      "Epoch: [32][2000/10164] Elapsed 0m 36s (remain 2m 28s) Loss: 36.2172(283.1711) Grad: 11091.3564 LR: 0.000016  \n",
      "Epoch: [32][4000/10164] Elapsed 1m 12s (remain 1m 51s) Loss: 84.0495(275.5008) Grad: 10299.1768 LR: 0.000016  \n",
      "Epoch: [32][6000/10164] Elapsed 1m 49s (remain 1m 16s) Loss: 17.4476(273.1064) Grad: 7552.8291 LR: 0.000016  \n",
      "Epoch: [32][8000/10164] Elapsed 2m 26s (remain 0m 39s) Loss: 39.4620(267.0643) Grad: 21713.0117 LR: 0.000016  \n",
      "Epoch: [32][10000/10164] Elapsed 3m 2s (remain 0m 2s) Loss: 176.2895(264.5420) Grad: 12813.2578 LR: 0.000016  \n",
      "Epoch: [32][10163/10164] Elapsed 3m 5s (remain 0m 0s) Loss: 108.4288(264.0482) Grad: 22508.6895 LR: 0.000016  \n",
      "EVAL: [0/1129] Elapsed 0m 0s (remain 2m 2s) Loss: 2352.1455(2352.1455) \n"
     ]
    },
    {
     "name": "stderr",
     "output_type": "stream",
     "text": [
      "Epoch 32 - avg_train_loss: 264.0482  avg_val_loss: 268.0072  time: 196s\n",
      "Epoch 32 - Score: 16.3709\n",
      "Validation loss Improved (270.2785303728802 ---> 268.0072496202257)\n",
      "Epoch 32 - Save Best Loss: 268.0072 Model\n"
     ]
    },
    {
     "name": "stdout",
     "output_type": "stream",
     "text": [
      "EVAL: [1128/1129] Elapsed 0m 10s (remain 0m 0s) Loss: 1379.6888(268.0072) \n",
      "Epoch: [33][0/10164] Elapsed 0m 0s (remain 20m 7s) Loss: 338.4794(338.4794) Grad: 41852.0352 LR: 0.000033  \n",
      "Epoch: [33][2000/10164] Elapsed 0m 36s (remain 2m 29s) Loss: 39.2634(282.0599) Grad: 12135.3818 LR: 0.000033  \n",
      "Epoch: [33][4000/10164] Elapsed 1m 12s (remain 1m 52s) Loss: 86.7936(274.3122) Grad: 9679.5303 LR: 0.000033  \n",
      "Epoch: [33][6000/10164] Elapsed 1m 49s (remain 1m 15s) Loss: 25.6855(272.4612) Grad: 10041.1992 LR: 0.000033  \n",
      "Epoch: [33][8000/10164] Elapsed 2m 25s (remain 0m 39s) Loss: 44.3186(266.8491) Grad: 18771.0273 LR: 0.000033  \n",
      "Epoch: [33][10000/10164] Elapsed 3m 1s (remain 0m 2s) Loss: 176.0480(264.4721) Grad: 14704.5605 LR: 0.000033  \n",
      "Epoch: [33][10163/10164] Elapsed 3m 4s (remain 0m 0s) Loss: 83.6371(264.0290) Grad: 15536.3389 LR: 0.000033  \n",
      "EVAL: [0/1129] Elapsed 0m 0s (remain 1m 59s) Loss: 2417.8403(2417.8403) \n"
     ]
    },
    {
     "name": "stderr",
     "output_type": "stream",
     "text": [
      "Epoch 33 - avg_train_loss: 264.0290  avg_val_loss: 266.5453  time: 195s\n",
      "Epoch 33 - Score: 16.3262\n",
      "Validation loss Improved (268.0072496202257 ---> 266.5452508767089)\n",
      "Epoch 33 - Save Best Loss: 266.5453 Model\n"
     ]
    },
    {
     "name": "stdout",
     "output_type": "stream",
     "text": [
      "EVAL: [1128/1129] Elapsed 0m 10s (remain 0m 0s) Loss: 1363.2195(266.5453) \n",
      "Epoch: [34][0/10164] Elapsed 0m 0s (remain 20m 36s) Loss: 362.8053(362.8053) Grad: 50164.7383 LR: 0.000055  \n",
      "Epoch: [34][2000/10164] Elapsed 0m 36s (remain 2m 28s) Loss: 42.5029(286.1564) Grad: 8587.2314 LR: 0.000055  \n",
      "Epoch: [34][4000/10164] Elapsed 1m 12s (remain 1m 51s) Loss: 80.7512(277.7427) Grad: 10486.0098 LR: 0.000055  \n",
      "Epoch: [34][6000/10164] Elapsed 1m 49s (remain 1m 16s) Loss: 25.0225(275.2789) Grad: 6833.2656 LR: 0.000055  \n",
      "Epoch: [34][8000/10164] Elapsed 2m 26s (remain 0m 39s) Loss: 53.7784(269.6898) Grad: 23285.5684 LR: 0.000055  \n",
      "Epoch: [34][10000/10164] Elapsed 3m 2s (remain 0m 2s) Loss: 181.4446(267.1319) Grad: 13339.5322 LR: 0.000055  \n",
      "Epoch: [34][10163/10164] Elapsed 3m 5s (remain 0m 0s) Loss: 105.8496(266.7100) Grad: 32454.2871 LR: 0.000055  \n",
      "EVAL: [0/1129] Elapsed 0m 0s (remain 2m 1s) Loss: 2350.2019(2350.2019) \n"
     ]
    },
    {
     "name": "stderr",
     "output_type": "stream",
     "text": [
      "Epoch 34 - avg_train_loss: 266.7100  avg_val_loss: 272.4553  time: 197s\n",
      "Epoch 34 - Score: 16.5062\n"
     ]
    },
    {
     "name": "stdout",
     "output_type": "stream",
     "text": [
      "EVAL: [1128/1129] Elapsed 0m 10s (remain 0m 0s) Loss: 1132.8856(272.4553) \n",
      "Epoch: [35][0/10164] Elapsed 0m 0s (remain 20m 38s) Loss: 378.8812(378.8812) Grad: 26360.8027 LR: 0.000078  \n",
      "Epoch: [35][2000/10164] Elapsed 0m 36s (remain 2m 28s) Loss: 43.2253(287.4718) Grad: 11922.0029 LR: 0.000078  \n",
      "Epoch: [35][4000/10164] Elapsed 1m 12s (remain 1m 51s) Loss: 97.7213(280.7148) Grad: 11113.9082 LR: 0.000078  \n",
      "Epoch: [35][6000/10164] Elapsed 1m 48s (remain 1m 15s) Loss: 21.6370(278.3852) Grad: 4261.2393 LR: 0.000078  \n",
      "Epoch: [35][8000/10164] Elapsed 2m 24s (remain 0m 39s) Loss: 29.5178(272.2679) Grad: 11349.3389 LR: 0.000078  \n",
      "Epoch: [35][10000/10164] Elapsed 3m 1s (remain 0m 2s) Loss: 179.8952(269.8274) Grad: 10692.7676 LR: 0.000078  \n",
      "Epoch: [35][10163/10164] Elapsed 3m 4s (remain 0m 0s) Loss: 104.7094(269.4065) Grad: 16770.3672 LR: 0.000078  \n",
      "EVAL: [0/1129] Elapsed 0m 0s (remain 2m 0s) Loss: 2436.2581(2436.2581) \n"
     ]
    },
    {
     "name": "stderr",
     "output_type": "stream",
     "text": [
      "Epoch 35 - avg_train_loss: 269.4065  avg_val_loss: 289.2847  time: 195s\n",
      "Epoch 35 - Score: 17.0084\n"
     ]
    },
    {
     "name": "stdout",
     "output_type": "stream",
     "text": [
      "EVAL: [1128/1129] Elapsed 0m 9s (remain 0m 0s) Loss: 1078.6208(289.2847) \n",
      "Epoch: [36][0/10164] Elapsed 0m 0s (remain 20m 46s) Loss: 424.2560(424.2560) Grad: 49665.4570 LR: 0.000094  \n",
      "Epoch: [36][2000/10164] Elapsed 0m 37s (remain 2m 31s) Loss: 48.5015(291.1651) Grad: 13464.6494 LR: 0.000094  \n",
      "Epoch: [36][4000/10164] Elapsed 1m 13s (remain 1m 52s) Loss: 92.7785(283.5842) Grad: 10559.3545 LR: 0.000094  \n",
      "Epoch: [36][6000/10164] Elapsed 1m 50s (remain 1m 16s) Loss: 20.4375(280.8477) Grad: 5812.3125 LR: 0.000094  \n",
      "Epoch: [36][8000/10164] Elapsed 2m 26s (remain 0m 39s) Loss: 25.2937(275.1645) Grad: 8632.3818 LR: 0.000094  \n",
      "Epoch: [36][10000/10164] Elapsed 3m 3s (remain 0m 2s) Loss: 189.3470(272.6506) Grad: 12953.4951 LR: 0.000094  \n",
      "Epoch: [36][10163/10164] Elapsed 3m 6s (remain 0m 0s) Loss: 122.2615(272.2919) Grad: 18566.6641 LR: 0.000094  \n",
      "EVAL: [0/1129] Elapsed 0m 0s (remain 1m 59s) Loss: 2527.2666(2527.2666) \n"
     ]
    },
    {
     "name": "stderr",
     "output_type": "stream",
     "text": [
      "Epoch 36 - avg_train_loss: 272.2919  avg_val_loss: 288.4608  time: 196s\n",
      "Epoch 36 - Score: 16.9841\n"
     ]
    },
    {
     "name": "stdout",
     "output_type": "stream",
     "text": [
      "EVAL: [1128/1129] Elapsed 0m 9s (remain 0m 0s) Loss: 922.5521(288.4608) \n",
      "Epoch: [37][0/10164] Elapsed 0m 0s (remain 21m 47s) Loss: 421.1913(421.1913) Grad: 33101.3633 LR: 0.000100  \n",
      "Epoch: [37][2000/10164] Elapsed 0m 36s (remain 2m 29s) Loss: 52.2550(292.9921) Grad: 14808.5439 LR: 0.000100  \n",
      "Epoch: [37][4000/10164] Elapsed 1m 13s (remain 1m 53s) Loss: 85.5083(283.9039) Grad: 8333.9375 LR: 0.000100  \n",
      "Epoch: [37][6000/10164] Elapsed 1m 50s (remain 1m 16s) Loss: 21.4573(281.3514) Grad: 5654.9346 LR: 0.000100  \n",
      "Epoch: [37][8000/10164] Elapsed 2m 27s (remain 0m 39s) Loss: 31.3058(275.7386) Grad: 6216.9238 LR: 0.000100  \n",
      "Epoch: [37][10000/10164] Elapsed 3m 3s (remain 0m 2s) Loss: 216.8525(274.1512) Grad: 10360.2490 LR: 0.000100  \n",
      "Epoch: [37][10163/10164] Elapsed 3m 6s (remain 0m 0s) Loss: 116.5399(273.6325) Grad: 15309.7861 LR: 0.000100  \n",
      "EVAL: [0/1129] Elapsed 0m 0s (remain 2m 8s) Loss: 2320.8740(2320.8740) \n"
     ]
    },
    {
     "name": "stderr",
     "output_type": "stream",
     "text": [
      "Epoch 37 - avg_train_loss: 273.6325  avg_val_loss: 287.7504  time: 198s\n",
      "Epoch 37 - Score: 16.9632\n"
     ]
    },
    {
     "name": "stdout",
     "output_type": "stream",
     "text": [
      "EVAL: [1128/1129] Elapsed 0m 10s (remain 0m 0s) Loss: 1305.7526(287.7504) \n",
      "Epoch: [38][0/10164] Elapsed 0m 0s (remain 31m 49s) Loss: 429.5435(429.5435) Grad: 39334.3359 LR: 0.000094  \n",
      "Epoch: [38][2000/10164] Elapsed 0m 36s (remain 2m 27s) Loss: 61.2852(292.9074) Grad: 8804.4189 LR: 0.000094  \n",
      "Epoch: [38][4000/10164] Elapsed 1m 12s (remain 1m 51s) Loss: 76.4839(284.7045) Grad: 5828.5596 LR: 0.000094  \n",
      "Epoch: [38][6000/10164] Elapsed 1m 48s (remain 1m 15s) Loss: 21.0696(281.5645) Grad: 2978.9761 LR: 0.000094  \n",
      "Epoch: [38][8000/10164] Elapsed 2m 25s (remain 0m 39s) Loss: 40.0752(275.9273) Grad: 14859.0791 LR: 0.000094  \n",
      "Epoch: [38][10000/10164] Elapsed 3m 1s (remain 0m 2s) Loss: 196.7614(272.9501) Grad: 14922.5107 LR: 0.000094  \n",
      "Epoch: [38][10163/10164] Elapsed 3m 4s (remain 0m 0s) Loss: 90.5940(272.5983) Grad: 10626.4736 LR: 0.000094  \n",
      "EVAL: [0/1129] Elapsed 0m 0s (remain 2m 5s) Loss: 2285.3384(2285.3384) \n"
     ]
    },
    {
     "name": "stderr",
     "output_type": "stream",
     "text": [
      "Epoch 38 - avg_train_loss: 272.5983  avg_val_loss: 301.3460  time: 195s\n",
      "Epoch 38 - Score: 17.3593\n"
     ]
    },
    {
     "name": "stdout",
     "output_type": "stream",
     "text": [
      "EVAL: [1128/1129] Elapsed 0m 10s (remain 0m 0s) Loss: 877.5007(301.3460) \n",
      "Epoch: [39][0/10164] Elapsed 0m 0s (remain 21m 24s) Loss: 375.8879(375.8879) Grad: 35163.1484 LR: 0.000078  \n",
      "Epoch: [39][2000/10164] Elapsed 0m 36s (remain 2m 29s) Loss: 55.7761(284.7195) Grad: 10800.1963 LR: 0.000078  \n",
      "Epoch: [39][4000/10164] Elapsed 1m 13s (remain 1m 52s) Loss: 88.7334(277.5376) Grad: 6656.0464 LR: 0.000078  \n",
      "Epoch: [39][6000/10164] Elapsed 1m 49s (remain 1m 15s) Loss: 19.0804(275.1305) Grad: 3389.3555 LR: 0.000078  \n",
      "Epoch: [39][8000/10164] Elapsed 2m 25s (remain 0m 39s) Loss: 38.1538(269.7393) Grad: 14950.2334 LR: 0.000078  \n",
      "Epoch: [39][10000/10164] Elapsed 3m 2s (remain 0m 2s) Loss: 180.8621(267.4657) Grad: 14823.0205 LR: 0.000078  \n",
      "Epoch: [39][10163/10164] Elapsed 3m 5s (remain 0m 0s) Loss: 78.8381(267.0192) Grad: 6561.4424 LR: 0.000078  \n",
      "EVAL: [0/1129] Elapsed 0m 0s (remain 2m 4s) Loss: 2223.0640(2223.0640) \n"
     ]
    },
    {
     "name": "stderr",
     "output_type": "stream",
     "text": [
      "Epoch 39 - avg_train_loss: 267.0192  avg_val_loss: 290.1091  time: 195s\n",
      "Epoch 39 - Score: 17.0326\n"
     ]
    },
    {
     "name": "stdout",
     "output_type": "stream",
     "text": [
      "EVAL: [1128/1129] Elapsed 0m 9s (remain 0m 0s) Loss: 982.9711(290.1091) \n",
      "Epoch: [40][0/10164] Elapsed 0m 0s (remain 20m 47s) Loss: 425.9404(425.9404) Grad: 34229.8711 LR: 0.000055  \n",
      "Epoch: [40][2000/10164] Elapsed 0m 36s (remain 2m 28s) Loss: 50.4501(278.1163) Grad: 21369.3535 LR: 0.000055  \n",
      "Epoch: [40][4000/10164] Elapsed 1m 12s (remain 1m 52s) Loss: 96.8793(270.6645) Grad: 6381.6128 LR: 0.000055  \n",
      "Epoch: [40][6000/10164] Elapsed 1m 49s (remain 1m 15s) Loss: 18.2492(268.9159) Grad: 4074.7900 LR: 0.000055  \n",
      "Epoch: [40][8000/10164] Elapsed 2m 25s (remain 0m 39s) Loss: 63.6708(263.4665) Grad: 28920.4688 LR: 0.000055  \n",
      "Epoch: [40][10000/10164] Elapsed 3m 2s (remain 0m 2s) Loss: 189.8934(260.9265) Grad: 9464.3457 LR: 0.000055  \n",
      "Epoch: [40][10163/10164] Elapsed 3m 5s (remain 0m 0s) Loss: 95.3227(260.5359) Grad: 7176.0874 LR: 0.000055  \n",
      "EVAL: [0/1129] Elapsed 0m 0s (remain 2m 0s) Loss: 2360.6685(2360.6685) \n"
     ]
    },
    {
     "name": "stderr",
     "output_type": "stream",
     "text": [
      "Epoch 40 - avg_train_loss: 260.5359  avg_val_loss: 272.9541  time: 195s\n",
      "Epoch 40 - Score: 16.5213\n"
     ]
    },
    {
     "name": "stdout",
     "output_type": "stream",
     "text": [
      "EVAL: [1128/1129] Elapsed 0m 9s (remain 0m 0s) Loss: 1341.8397(272.9541) \n",
      "Epoch: [41][0/10164] Elapsed 0m 0s (remain 21m 14s) Loss: 358.2068(358.2068) Grad: 32334.6621 LR: 0.000033  \n",
      "Epoch: [41][2000/10164] Elapsed 0m 36s (remain 2m 27s) Loss: 40.6125(275.5149) Grad: 7056.2412 LR: 0.000033  \n",
      "Epoch: [41][4000/10164] Elapsed 1m 13s (remain 1m 52s) Loss: 104.7304(268.1214) Grad: 7719.4897 LR: 0.000033  \n",
      "Epoch: [41][6000/10164] Elapsed 1m 49s (remain 1m 16s) Loss: 18.8860(266.2571) Grad: 5074.6851 LR: 0.000033  \n",
      "Epoch: [41][8000/10164] Elapsed 2m 26s (remain 0m 39s) Loss: 49.9104(260.2536) Grad: 21038.0781 LR: 0.000033  \n",
      "Epoch: [41][10000/10164] Elapsed 3m 5s (remain 0m 3s) Loss: 171.3814(257.9306) Grad: 11117.0684 LR: 0.000033  \n",
      "Epoch: [41][10163/10164] Elapsed 3m 8s (remain 0m 0s) Loss: 91.4786(257.4941) Grad: 7190.5669 LR: 0.000033  \n",
      "EVAL: [0/1129] Elapsed 0m 0s (remain 2m 7s) Loss: 2242.2297(2242.2297) \n"
     ]
    },
    {
     "name": "stderr",
     "output_type": "stream",
     "text": [
      "Epoch 41 - avg_train_loss: 257.4941  avg_val_loss: 262.1893  time: 199s\n",
      "Epoch 41 - Score: 16.1923\n",
      "Validation loss Improved (266.5452508767089 ---> 262.18934622238623)\n",
      "Epoch 41 - Save Best Loss: 262.1893 Model\n"
     ]
    },
    {
     "name": "stdout",
     "output_type": "stream",
     "text": [
      "EVAL: [1128/1129] Elapsed 0m 10s (remain 0m 0s) Loss: 1531.1924(262.1893) \n",
      "Epoch: [42][0/10164] Elapsed 0m 0s (remain 27m 1s) Loss: 376.7743(376.7743) Grad: 26297.0957 LR: 0.000016  \n",
      "Epoch: [42][2000/10164] Elapsed 0m 37s (remain 2m 33s) Loss: 44.3771(273.8837) Grad: 22236.2617 LR: 0.000016  \n",
      "Epoch: [42][4000/10164] Elapsed 1m 14s (remain 1m 55s) Loss: 78.0389(266.5897) Grad: 6117.7505 LR: 0.000016  \n",
      "Epoch: [42][6000/10164] Elapsed 1m 51s (remain 1m 17s) Loss: 15.6984(264.0875) Grad: 4997.8784 LR: 0.000016  \n",
      "Epoch: [42][8000/10164] Elapsed 2m 27s (remain 0m 39s) Loss: 37.4743(257.8940) Grad: 15414.3643 LR: 0.000016  \n",
      "Epoch: [42][10000/10164] Elapsed 3m 4s (remain 0m 3s) Loss: 184.7535(255.7855) Grad: 12057.1660 LR: 0.000016  \n",
      "Epoch: [42][10163/10164] Elapsed 3m 6s (remain 0m 0s) Loss: 88.7171(255.2782) Grad: 11319.0557 LR: 0.000016  \n",
      "EVAL: [0/1129] Elapsed 0m 0s (remain 2m 0s) Loss: 2267.2173(2267.2173) \n"
     ]
    },
    {
     "name": "stderr",
     "output_type": "stream",
     "text": [
      "Epoch 42 - avg_train_loss: 255.2782  avg_val_loss: 260.4963  time: 197s\n",
      "Epoch 42 - Score: 16.1399\n",
      "Validation loss Improved (262.18934622238623 ---> 260.4963137645854)\n",
      "Epoch 42 - Save Best Loss: 260.4963 Model\n"
     ]
    },
    {
     "name": "stdout",
     "output_type": "stream",
     "text": [
      "EVAL: [1128/1129] Elapsed 0m 10s (remain 0m 0s) Loss: 1627.9028(260.4963) \n",
      "Epoch: [43][0/10164] Elapsed 0m 0s (remain 20m 0s) Loss: 349.8339(349.8339) Grad: 33688.4375 LR: 0.000010  \n",
      "Epoch: [43][2000/10164] Elapsed 0m 36s (remain 2m 28s) Loss: 49.6439(272.3440) Grad: 12030.3398 LR: 0.000010  \n",
      "Epoch: [43][4000/10164] Elapsed 1m 12s (remain 1m 52s) Loss: 91.5181(265.0239) Grad: 7329.5537 LR: 0.000010  \n",
      "Epoch: [43][6000/10164] Elapsed 1m 49s (remain 1m 15s) Loss: 13.3886(262.5182) Grad: 3546.5305 LR: 0.000010  \n",
      "Epoch: [43][8000/10164] Elapsed 2m 25s (remain 0m 39s) Loss: 30.7772(256.5113) Grad: 13191.0010 LR: 0.000010  \n",
      "Epoch: [43][10000/10164] Elapsed 3m 2s (remain 0m 2s) Loss: 190.0891(254.4937) Grad: 16263.4473 LR: 0.000010  \n",
      "Epoch: [43][10163/10164] Elapsed 3m 5s (remain 0m 0s) Loss: 95.0632(254.0295) Grad: 7643.1895 LR: 0.000010  \n",
      "EVAL: [0/1129] Elapsed 0m 0s (remain 1m 59s) Loss: 2270.3057(2270.3057) \n"
     ]
    },
    {
     "name": "stderr",
     "output_type": "stream",
     "text": [
      "Epoch 43 - avg_train_loss: 254.0295  avg_val_loss: 258.8491  time: 196s\n",
      "Epoch 43 - Score: 16.0888\n",
      "Validation loss Improved (260.4963137645854 ---> 258.84909167200306)\n",
      "Epoch 43 - Save Best Loss: 258.8491 Model\n"
     ]
    },
    {
     "name": "stdout",
     "output_type": "stream",
     "text": [
      "EVAL: [1128/1129] Elapsed 0m 9s (remain 0m 0s) Loss: 1493.5662(258.8491) \n",
      "Epoch: [44][0/10164] Elapsed 0m 0s (remain 20m 41s) Loss: 368.0053(368.0053) Grad: 32519.8145 LR: 0.000016  \n",
      "Epoch: [44][2000/10164] Elapsed 0m 36s (remain 2m 29s) Loss: 46.3284(270.7866) Grad: 19554.4082 LR: 0.000016  \n",
      "Epoch: [44][4000/10164] Elapsed 1m 12s (remain 1m 52s) Loss: 72.6685(263.8596) Grad: 6379.3652 LR: 0.000016  \n",
      "Epoch: [44][6000/10164] Elapsed 1m 49s (remain 1m 16s) Loss: 17.5981(261.5515) Grad: 5431.3354 LR: 0.000016  \n",
      "Epoch: [44][8000/10164] Elapsed 2m 27s (remain 0m 39s) Loss: 36.3871(255.8061) Grad: 14018.9404 LR: 0.000016  \n",
      "Epoch: [44][10000/10164] Elapsed 3m 2s (remain 0m 2s) Loss: 196.1087(253.8251) Grad: 11155.8770 LR: 0.000016  \n",
      "Epoch: [44][10163/10164] Elapsed 3m 5s (remain 0m 0s) Loss: 81.2224(253.3908) Grad: 11442.2344 LR: 0.000016  \n",
      "EVAL: [0/1129] Elapsed 0m 0s (remain 2m 2s) Loss: 2225.2974(2225.2974) \n"
     ]
    },
    {
     "name": "stderr",
     "output_type": "stream",
     "text": [
      "Epoch 44 - avg_train_loss: 253.3908  avg_val_loss: 258.2890  time: 196s\n",
      "Epoch 44 - Score: 16.0714\n",
      "Validation loss Improved (258.84909167200306 ---> 258.2889556432484)\n",
      "Epoch 44 - Save Best Loss: 258.2890 Model\n"
     ]
    },
    {
     "name": "stdout",
     "output_type": "stream",
     "text": [
      "EVAL: [1128/1129] Elapsed 0m 10s (remain 0m 0s) Loss: 1525.7244(258.2890) \n",
      "Epoch: [45][0/10164] Elapsed 0m 0s (remain 21m 10s) Loss: 297.9555(297.9555) Grad: 27462.3105 LR: 0.000033  \n",
      "Epoch: [45][2000/10164] Elapsed 0m 36s (remain 2m 28s) Loss: 44.3874(272.0275) Grad: 9783.3613 LR: 0.000033  \n",
      "Epoch: [45][4000/10164] Elapsed 1m 13s (remain 1m 53s) Loss: 71.9535(264.9120) Grad: 6158.8701 LR: 0.000033  \n",
      "Epoch: [45][6000/10164] Elapsed 1m 50s (remain 1m 16s) Loss: 18.1219(262.1909) Grad: 6361.4316 LR: 0.000033  \n",
      "Epoch: [45][8000/10164] Elapsed 2m 26s (remain 0m 39s) Loss: 37.9783(256.6065) Grad: 16527.1836 LR: 0.000033  \n",
      "Epoch: [45][10000/10164] Elapsed 3m 2s (remain 0m 2s) Loss: 181.9848(254.5727) Grad: 11240.8174 LR: 0.000033  \n",
      "Epoch: [45][10163/10164] Elapsed 3m 5s (remain 0m 0s) Loss: 94.0501(254.1170) Grad: 7512.2974 LR: 0.000033  \n",
      "EVAL: [0/1129] Elapsed 0m 0s (remain 3m 6s) Loss: 2196.7373(2196.7373) \n"
     ]
    },
    {
     "name": "stderr",
     "output_type": "stream",
     "text": [
      "Epoch 45 - avg_train_loss: 254.1170  avg_val_loss: 258.1493  time: 196s\n",
      "Epoch 45 - Score: 16.0670\n",
      "Validation loss Improved (258.2889556432484 ---> 258.1493079670182)\n",
      "Epoch 45 - Save Best Loss: 258.1493 Model\n"
     ]
    },
    {
     "name": "stdout",
     "output_type": "stream",
     "text": [
      "EVAL: [1128/1129] Elapsed 0m 10s (remain 0m 0s) Loss: 1426.7334(258.1493) \n",
      "Epoch: [46][0/10164] Elapsed 0m 0s (remain 32m 44s) Loss: 375.0598(375.0598) Grad: 34993.3867 LR: 0.000055  \n",
      "Epoch: [46][2000/10164] Elapsed 0m 36s (remain 2m 29s) Loss: 46.9053(274.9196) Grad: 24335.1445 LR: 0.000055  \n",
      "Epoch: [46][4000/10164] Elapsed 1m 12s (remain 1m 52s) Loss: 95.1576(267.0059) Grad: 9019.5381 LR: 0.000055  \n",
      "Epoch: [46][6000/10164] Elapsed 1m 49s (remain 1m 16s) Loss: 14.2256(264.7074) Grad: 3540.4294 LR: 0.000055  \n",
      "Epoch: [46][8000/10164] Elapsed 2m 26s (remain 0m 39s) Loss: 49.6087(259.4898) Grad: 20099.0234 LR: 0.000055  \n",
      "Epoch: [46][10000/10164] Elapsed 3m 2s (remain 0m 2s) Loss: 178.0501(257.3846) Grad: 9209.1064 LR: 0.000055  \n",
      "Epoch: [46][10163/10164] Elapsed 3m 5s (remain 0m 0s) Loss: 96.3646(256.9217) Grad: 7007.2539 LR: 0.000055  \n",
      "EVAL: [0/1129] Elapsed 0m 0s (remain 2m 2s) Loss: 2337.5498(2337.5498) \n"
     ]
    },
    {
     "name": "stderr",
     "output_type": "stream",
     "text": [
      "Epoch 46 - avg_train_loss: 256.9217  avg_val_loss: 261.3250  time: 196s\n",
      "Epoch 46 - Score: 16.1655\n"
     ]
    },
    {
     "name": "stdout",
     "output_type": "stream",
     "text": [
      "EVAL: [1128/1129] Elapsed 0m 10s (remain 0m 0s) Loss: 1314.8423(261.3250) \n",
      "Epoch: [47][0/10164] Elapsed 0m 0s (remain 21m 13s) Loss: 352.7012(352.7012) Grad: 23671.9824 LR: 0.000078  \n",
      "Epoch: [47][2000/10164] Elapsed 0m 37s (remain 2m 32s) Loss: 53.4463(278.0838) Grad: 11939.4756 LR: 0.000078  \n",
      "Epoch: [47][4000/10164] Elapsed 1m 14s (remain 1m 54s) Loss: 80.9303(270.7454) Grad: 5652.5830 LR: 0.000078  \n",
      "Epoch: [47][6000/10164] Elapsed 1m 50s (remain 1m 16s) Loss: 17.3434(269.3556) Grad: 4009.0183 LR: 0.000078  \n",
      "Epoch: [47][8000/10164] Elapsed 2m 27s (remain 0m 39s) Loss: 32.7746(263.7702) Grad: 11457.5381 LR: 0.000078  \n",
      "Epoch: [47][10000/10164] Elapsed 3m 5s (remain 0m 3s) Loss: 177.8719(261.7198) Grad: 12144.9824 LR: 0.000078  \n",
      "Epoch: [47][10163/10164] Elapsed 3m 8s (remain 0m 0s) Loss: 91.5121(261.3942) Grad: 9708.8828 LR: 0.000078  \n",
      "EVAL: [0/1129] Elapsed 0m 0s (remain 2m 4s) Loss: 2298.5684(2298.5684) \n"
     ]
    },
    {
     "name": "stderr",
     "output_type": "stream",
     "text": [
      "Epoch 47 - avg_train_loss: 261.3942  avg_val_loss: 269.4608  time: 198s\n",
      "Epoch 47 - Score: 16.4153\n"
     ]
    },
    {
     "name": "stdout",
     "output_type": "stream",
     "text": [
      "EVAL: [1128/1129] Elapsed 0m 9s (remain 0m 0s) Loss: 1300.2256(269.4608) \n",
      "Epoch: [48][0/10164] Elapsed 0m 0s (remain 21m 0s) Loss: 304.9222(304.9222) Grad: 17866.5703 LR: 0.000094  \n",
      "Epoch: [48][2000/10164] Elapsed 0m 37s (remain 2m 32s) Loss: 45.8236(280.9116) Grad: 11556.5049 LR: 0.000094  \n",
      "Epoch: [48][4000/10164] Elapsed 1m 13s (remain 1m 53s) Loss: 84.7020(275.0207) Grad: 6585.8315 LR: 0.000094  \n",
      "Epoch: [48][6000/10164] Elapsed 1m 50s (remain 1m 16s) Loss: 17.6092(272.6141) Grad: 2940.4431 LR: 0.000094  \n",
      "Epoch: [48][8000/10164] Elapsed 2m 27s (remain 0m 39s) Loss: 29.6101(266.7377) Grad: 8399.6318 LR: 0.000094  \n",
      "Epoch: [48][10000/10164] Elapsed 3m 4s (remain 0m 3s) Loss: 200.2832(264.4655) Grad: 7992.5791 LR: 0.000094  \n",
      "Epoch: [48][10163/10164] Elapsed 3m 7s (remain 0m 0s) Loss: 89.7056(264.1041) Grad: 7777.7695 LR: 0.000094  \n",
      "EVAL: [0/1129] Elapsed 0m 0s (remain 2m 31s) Loss: 2221.9568(2221.9568) \n"
     ]
    },
    {
     "name": "stderr",
     "output_type": "stream",
     "text": [
      "Epoch 48 - avg_train_loss: 264.1041  avg_val_loss: 280.6107  time: 198s\n",
      "Epoch 48 - Score: 16.7514\n"
     ]
    },
    {
     "name": "stdout",
     "output_type": "stream",
     "text": [
      "EVAL: [1128/1129] Elapsed 0m 10s (remain 0m 0s) Loss: 1234.5253(280.6107) \n",
      "Epoch: [49][0/10164] Elapsed 0m 0s (remain 21m 12s) Loss: 252.7321(252.7321) Grad: 24737.8262 LR: 0.000100  \n",
      "Epoch: [49][2000/10164] Elapsed 0m 37s (remain 2m 31s) Loss: 43.3002(287.2001) Grad: 13562.9209 LR: 0.000100  \n",
      "Epoch: [49][4000/10164] Elapsed 1m 13s (remain 1m 53s) Loss: 91.7569(278.0913) Grad: 6314.2896 LR: 0.000100  \n",
      "Epoch: [49][6000/10164] Elapsed 1m 50s (remain 1m 16s) Loss: 17.1216(275.1485) Grad: 2643.8547 LR: 0.000100  \n",
      "Epoch: [49][8000/10164] Elapsed 2m 27s (remain 0m 39s) Loss: 33.0705(269.4064) Grad: 10849.3008 LR: 0.000100  \n",
      "Epoch: [49][10000/10164] Elapsed 3m 5s (remain 0m 3s) Loss: 199.9133(266.6145) Grad: 11991.8730 LR: 0.000100  \n",
      "Epoch: [49][10163/10164] Elapsed 3m 8s (remain 0m 0s) Loss: 84.8141(266.2364) Grad: 4676.3389 LR: 0.000100  \n",
      "EVAL: [0/1129] Elapsed 0m 0s (remain 2m 0s) Loss: 2404.6782(2404.6782) \n"
     ]
    },
    {
     "name": "stderr",
     "output_type": "stream",
     "text": [
      "Epoch 49 - avg_train_loss: 266.2364  avg_val_loss: 275.9323  time: 199s\n",
      "Epoch 49 - Score: 16.6112\n"
     ]
    },
    {
     "name": "stdout",
     "output_type": "stream",
     "text": [
      "EVAL: [1128/1129] Elapsed 0m 10s (remain 0m 0s) Loss: 988.1178(275.9323) \n",
      "Epoch: [50][0/10164] Elapsed 0m 0s (remain 20m 57s) Loss: 343.4719(343.4719) Grad: 29031.6133 LR: 0.000094  \n",
      "Epoch: [50][2000/10164] Elapsed 0m 37s (remain 2m 33s) Loss: 57.7872(282.3494) Grad: 12116.4990 LR: 0.000094  \n",
      "Epoch: [50][4000/10164] Elapsed 1m 13s (remain 1m 53s) Loss: 63.2437(274.4624) Grad: 6158.4458 LR: 0.000094  \n",
      "Epoch: [50][6000/10164] Elapsed 1m 50s (remain 1m 16s) Loss: 15.5228(272.4063) Grad: 2549.4485 LR: 0.000094  \n",
      "Epoch: [50][8000/10164] Elapsed 2m 26s (remain 0m 39s) Loss: 26.6570(266.4616) Grad: 11483.8330 LR: 0.000094  \n",
      "Epoch: [50][10000/10164] Elapsed 3m 3s (remain 0m 2s) Loss: 197.0061(264.4748) Grad: 10051.1270 LR: 0.000094  \n",
      "Epoch: [50][10163/10164] Elapsed 3m 6s (remain 0m 0s) Loss: 72.2397(264.1385) Grad: 6718.3911 LR: 0.000094  \n",
      "EVAL: [0/1129] Elapsed 0m 0s (remain 2m 2s) Loss: 2443.1162(2443.1162) \n"
     ]
    },
    {
     "name": "stderr",
     "output_type": "stream",
     "text": [
      "Epoch 50 - avg_train_loss: 264.1385  avg_val_loss: 275.3670  time: 197s\n",
      "Epoch 50 - Score: 16.5942\n"
     ]
    },
    {
     "name": "stdout",
     "output_type": "stream",
     "text": [
      "EVAL: [1128/1129] Elapsed 0m 9s (remain 0m 0s) Loss: 1368.0315(275.3670) \n",
      "Epoch: [51][0/10164] Elapsed 0m 0s (remain 21m 19s) Loss: 404.1386(404.1386) Grad: 44270.5586 LR: 0.000078  \n",
      "Epoch: [51][2000/10164] Elapsed 0m 36s (remain 2m 30s) Loss: 56.9623(277.9787) Grad: 17898.4258 LR: 0.000078  \n",
      "Epoch: [51][4000/10164] Elapsed 1m 13s (remain 1m 52s) Loss: 75.4851(270.8669) Grad: 6724.6646 LR: 0.000078  \n",
      "Epoch: [51][6000/10164] Elapsed 1m 49s (remain 1m 16s) Loss: 24.9178(268.8050) Grad: 8561.8330 LR: 0.000078  \n",
      "Epoch: [51][8000/10164] Elapsed 2m 26s (remain 0m 39s) Loss: 28.3831(262.7288) Grad: 8603.7354 LR: 0.000078  \n",
      "Epoch: [51][10000/10164] Elapsed 3m 3s (remain 0m 2s) Loss: 207.4782(260.5644) Grad: 10344.2197 LR: 0.000078  \n",
      "Epoch: [51][10163/10164] Elapsed 3m 6s (remain 0m 0s) Loss: 73.9056(260.1857) Grad: 4774.2104 LR: 0.000078  \n",
      "EVAL: [0/1129] Elapsed 0m 0s (remain 2m 4s) Loss: 2388.1035(2388.1035) \n"
     ]
    },
    {
     "name": "stderr",
     "output_type": "stream",
     "text": [
      "Epoch 51 - avg_train_loss: 260.1857  avg_val_loss: 290.1228  time: 197s\n",
      "Epoch 51 - Score: 17.0330\n"
     ]
    },
    {
     "name": "stdout",
     "output_type": "stream",
     "text": [
      "EVAL: [1128/1129] Elapsed 0m 9s (remain 0m 0s) Loss: 1142.7537(290.1228) \n",
      "Epoch: [52][0/10164] Elapsed 0m 0s (remain 20m 1s) Loss: 354.0035(354.0035) Grad: 50883.4258 LR: 0.000055  \n",
      "Epoch: [52][2000/10164] Elapsed 0m 36s (remain 2m 28s) Loss: 58.5927(274.9503) Grad: 17517.3223 LR: 0.000055  \n",
      "Epoch: [52][4000/10164] Elapsed 1m 14s (remain 1m 54s) Loss: 99.4793(267.4980) Grad: 8579.4697 LR: 0.000055  \n",
      "Epoch: [52][6000/10164] Elapsed 1m 50s (remain 1m 16s) Loss: 26.2564(264.6280) Grad: 7130.7456 LR: 0.000055  \n",
      "Epoch: [52][8000/10164] Elapsed 2m 26s (remain 0m 39s) Loss: 38.6535(258.5772) Grad: 18240.6230 LR: 0.000055  \n",
      "Epoch: [52][10000/10164] Elapsed 3m 3s (remain 0m 2s) Loss: 204.3548(256.2523) Grad: 20133.1074 LR: 0.000055  \n",
      "Epoch: [52][10163/10164] Elapsed 3m 6s (remain 0m 0s) Loss: 94.7865(255.8112) Grad: 7256.4561 LR: 0.000055  \n",
      "EVAL: [0/1129] Elapsed 0m 0s (remain 2m 3s) Loss: 2298.8867(2298.8867) \n"
     ]
    },
    {
     "name": "stderr",
     "output_type": "stream",
     "text": [
      "Epoch 52 - avg_train_loss: 255.8112  avg_val_loss: 263.5412  time: 196s\n",
      "Epoch 52 - Score: 16.2340\n"
     ]
    },
    {
     "name": "stdout",
     "output_type": "stream",
     "text": [
      "EVAL: [1128/1129] Elapsed 0m 9s (remain 0m 0s) Loss: 1471.1294(263.5412) \n",
      "Epoch: [53][0/10164] Elapsed 0m 0s (remain 21m 15s) Loss: 301.0441(301.0441) Grad: 27074.6543 LR: 0.000033  \n",
      "Epoch: [53][2000/10164] Elapsed 0m 37s (remain 2m 31s) Loss: 49.0617(271.4310) Grad: 14990.0654 LR: 0.000033  \n",
      "Epoch: [53][4000/10164] Elapsed 1m 13s (remain 1m 53s) Loss: 71.9205(262.9311) Grad: 6723.9473 LR: 0.000033  \n",
      "Epoch: [53][6000/10164] Elapsed 1m 49s (remain 1m 16s) Loss: 18.2848(260.2981) Grad: 5686.5288 LR: 0.000033  \n",
      "Epoch: [53][8000/10164] Elapsed 2m 26s (remain 0m 39s) Loss: 48.9759(254.5304) Grad: 17291.2598 LR: 0.000033  \n",
      "Epoch: [53][10000/10164] Elapsed 3m 2s (remain 0m 2s) Loss: 219.9608(252.2931) Grad: 12331.7197 LR: 0.000033  \n",
      "Epoch: [53][10163/10164] Elapsed 3m 5s (remain 0m 0s) Loss: 94.3135(251.8474) Grad: 9669.7412 LR: 0.000033  \n",
      "EVAL: [0/1129] Elapsed 0m 0s (remain 2m 0s) Loss: 2288.2766(2288.2766) \n"
     ]
    },
    {
     "name": "stderr",
     "output_type": "stream",
     "text": [
      "Epoch 53 - avg_train_loss: 251.8474  avg_val_loss: 256.7539  time: 197s\n",
      "Epoch 53 - Score: 16.0235\n",
      "Validation loss Improved (258.1493079670182 ---> 256.75392618165847)\n",
      "Epoch 53 - Save Best Loss: 256.7539 Model\n"
     ]
    },
    {
     "name": "stdout",
     "output_type": "stream",
     "text": [
      "EVAL: [1128/1129] Elapsed 0m 10s (remain 0m 0s) Loss: 1770.1869(256.7539) \n",
      "Epoch: [54][0/10164] Elapsed 0m 0s (remain 20m 59s) Loss: 321.8376(321.8376) Grad: 27720.7148 LR: 0.000016  \n",
      "Epoch: [54][2000/10164] Elapsed 0m 36s (remain 2m 28s) Loss: 44.9381(268.3343) Grad: 13915.4307 LR: 0.000016  \n",
      "Epoch: [54][4000/10164] Elapsed 1m 12s (remain 1m 51s) Loss: 87.3514(261.5780) Grad: 7731.8008 LR: 0.000016  \n",
      "Epoch: [54][6000/10164] Elapsed 1m 49s (remain 1m 15s) Loss: 19.1636(258.3586) Grad: 4483.5352 LR: 0.000016  \n",
      "Epoch: [54][8000/10164] Elapsed 2m 25s (remain 0m 39s) Loss: 42.5068(252.3709) Grad: 16331.8701 LR: 0.000016  \n",
      "Epoch: [54][10000/10164] Elapsed 3m 1s (remain 0m 2s) Loss: 199.4280(249.9219) Grad: 11365.7783 LR: 0.000016  \n",
      "Epoch: [54][10163/10164] Elapsed 3m 5s (remain 0m 0s) Loss: 74.7357(249.4467) Grad: 11441.8008 LR: 0.000016  \n",
      "EVAL: [0/1129] Elapsed 0m 0s (remain 2m 0s) Loss: 2277.0300(2277.0300) \n"
     ]
    },
    {
     "name": "stderr",
     "output_type": "stream",
     "text": [
      "Epoch 54 - avg_train_loss: 249.4467  avg_val_loss: 255.0242  time: 195s\n",
      "Epoch 54 - Score: 15.9695\n",
      "Validation loss Improved (256.75392618165847 ---> 255.02418451640224)\n",
      "Epoch 54 - Save Best Loss: 255.0242 Model\n"
     ]
    },
    {
     "name": "stdout",
     "output_type": "stream",
     "text": [
      "EVAL: [1128/1129] Elapsed 0m 9s (remain 0m 0s) Loss: 1719.1228(255.0242) \n",
      "Epoch: [55][0/10164] Elapsed 0m 0s (remain 20m 37s) Loss: 369.4516(369.4516) Grad: 68776.2891 LR: 0.000010  \n",
      "Epoch: [55][2000/10164] Elapsed 0m 36s (remain 2m 28s) Loss: 48.7073(266.5481) Grad: 16637.8809 LR: 0.000010  \n",
      "Epoch: [55][4000/10164] Elapsed 1m 13s (remain 1m 52s) Loss: 74.4074(259.2573) Grad: 6889.9800 LR: 0.000010  \n",
      "Epoch: [55][6000/10164] Elapsed 1m 50s (remain 1m 16s) Loss: 15.0244(256.3559) Grad: 5027.4995 LR: 0.000010  \n",
      "Epoch: [55][8000/10164] Elapsed 2m 27s (remain 0m 39s) Loss: 39.7064(250.1646) Grad: 11875.0537 LR: 0.000010  \n",
      "Epoch: [55][10000/10164] Elapsed 3m 4s (remain 0m 2s) Loss: 214.8458(248.2874) Grad: 11942.8242 LR: 0.000010  \n",
      "Epoch: [55][10163/10164] Elapsed 3m 7s (remain 0m 0s) Loss: 85.8449(247.8080) Grad: 5636.1592 LR: 0.000010  \n",
      "EVAL: [0/1129] Elapsed 0m 0s (remain 2m 0s) Loss: 2264.5176(2264.5176) \n"
     ]
    },
    {
     "name": "stderr",
     "output_type": "stream",
     "text": [
      "Epoch 55 - avg_train_loss: 247.8080  avg_val_loss: 252.2469  time: 198s\n",
      "Epoch 55 - Score: 15.8823\n",
      "Validation loss Improved (255.02418451640224 ---> 252.2468986229083)\n",
      "Epoch 55 - Save Best Loss: 252.2469 Model\n"
     ]
    },
    {
     "name": "stdout",
     "output_type": "stream",
     "text": [
      "EVAL: [1128/1129] Elapsed 0m 10s (remain 0m 0s) Loss: 1606.7905(252.2469) \n",
      "Epoch: [56][0/10164] Elapsed 0m 0s (remain 23m 11s) Loss: 295.9041(295.9041) Grad: 31584.9375 LR: 0.000016  \n",
      "Epoch: [56][2000/10164] Elapsed 0m 36s (remain 2m 29s) Loss: 41.4789(264.6787) Grad: 12174.7676 LR: 0.000016  \n",
      "Epoch: [56][4000/10164] Elapsed 1m 13s (remain 1m 53s) Loss: 81.2452(257.9680) Grad: 6035.0000 LR: 0.000016  \n",
      "Epoch: [56][6000/10164] Elapsed 1m 49s (remain 1m 16s) Loss: 16.7444(255.2464) Grad: 7597.9097 LR: 0.000016  \n",
      "Epoch: [56][8000/10164] Elapsed 2m 26s (remain 0m 39s) Loss: 34.7903(249.2089) Grad: 15998.7715 LR: 0.000016  \n",
      "Epoch: [56][10000/10164] Elapsed 3m 2s (remain 0m 2s) Loss: 193.6296(247.2252) Grad: 11459.8789 LR: 0.000016  \n",
      "Epoch: [56][10163/10164] Elapsed 3m 5s (remain 0m 0s) Loss: 96.3599(246.7778) Grad: 9223.5479 LR: 0.000016  \n",
      "EVAL: [0/1129] Elapsed 0m 0s (remain 2m 3s) Loss: 2245.6326(2245.6326) \n"
     ]
    },
    {
     "name": "stderr",
     "output_type": "stream",
     "text": [
      "Epoch 56 - avg_train_loss: 246.7778  avg_val_loss: 251.6944  time: 195s\n",
      "Epoch 56 - Score: 15.8649\n",
      "Validation loss Improved (252.2468986229083 ---> 251.6943910558018)\n",
      "Epoch 56 - Save Best Loss: 251.6944 Model\n"
     ]
    },
    {
     "name": "stdout",
     "output_type": "stream",
     "text": [
      "EVAL: [1128/1129] Elapsed 0m 9s (remain 0m 0s) Loss: 1584.8651(251.6944) \n",
      "Epoch: [57][0/10164] Elapsed 0m 0s (remain 20m 48s) Loss: 324.4779(324.4779) Grad: 31186.5000 LR: 0.000032  \n",
      "Epoch: [57][2000/10164] Elapsed 0m 37s (remain 2m 32s) Loss: 59.1783(265.6894) Grad: 20634.9219 LR: 0.000032  \n",
      "Epoch: [57][4000/10164] Elapsed 1m 13s (remain 1m 53s) Loss: 74.0652(258.8337) Grad: 6045.1221 LR: 0.000032  \n",
      "Epoch: [57][6000/10164] Elapsed 1m 50s (remain 1m 16s) Loss: 16.3380(256.5813) Grad: 5997.1738 LR: 0.000032  \n",
      "Epoch: [57][8000/10164] Elapsed 2m 26s (remain 0m 39s) Loss: 43.3647(250.7911) Grad: 18107.0234 LR: 0.000032  \n",
      "Epoch: [57][10000/10164] Elapsed 3m 2s (remain 0m 2s) Loss: 191.3969(248.9201) Grad: 9800.3242 LR: 0.000032  \n",
      "Epoch: [57][10163/10164] Elapsed 3m 5s (remain 0m 0s) Loss: 98.4533(248.5084) Grad: 13312.2832 LR: 0.000032  \n",
      "EVAL: [0/1129] Elapsed 0m 0s (remain 1m 59s) Loss: 2251.4541(2251.4541) \n"
     ]
    },
    {
     "name": "stderr",
     "output_type": "stream",
     "text": [
      "Epoch 57 - avg_train_loss: 248.5084  avg_val_loss: 254.9709  time: 196s\n",
      "Epoch 57 - Score: 15.9678\n"
     ]
    },
    {
     "name": "stdout",
     "output_type": "stream",
     "text": [
      "EVAL: [1128/1129] Elapsed 0m 10s (remain 0m 0s) Loss: 1600.1731(254.9709) \n",
      "Epoch: [58][0/10164] Elapsed 0m 0s (remain 20m 39s) Loss: 320.3292(320.3292) Grad: 32048.1348 LR: 0.000055  \n",
      "Epoch: [58][2000/10164] Elapsed 0m 36s (remain 2m 28s) Loss: 48.1719(267.8457) Grad: 8885.7344 LR: 0.000055  \n",
      "Epoch: [58][4000/10164] Elapsed 1m 12s (remain 1m 51s) Loss: 72.4796(261.1208) Grad: 5549.7188 LR: 0.000055  \n",
      "Epoch: [58][6000/10164] Elapsed 1m 48s (remain 1m 15s) Loss: 18.3001(258.8400) Grad: 4056.0325 LR: 0.000055  \n",
      "Epoch: [58][8000/10164] Elapsed 2m 24s (remain 0m 39s) Loss: 34.7678(253.3707) Grad: 14642.5273 LR: 0.000055  \n",
      "Epoch: [58][10000/10164] Elapsed 3m 1s (remain 0m 2s) Loss: 199.3327(251.4925) Grad: 9563.8594 LR: 0.000055  \n",
      "Epoch: [58][10163/10164] Elapsed 3m 4s (remain 0m 0s) Loss: 90.6805(251.1064) Grad: 7772.5703 LR: 0.000055  \n",
      "EVAL: [0/1129] Elapsed 0m 0s (remain 2m 54s) Loss: 2336.7908(2336.7908) \n"
     ]
    },
    {
     "name": "stderr",
     "output_type": "stream",
     "text": [
      "Epoch 58 - avg_train_loss: 251.1064  avg_val_loss: 256.0867  time: 195s\n",
      "Epoch 58 - Score: 16.0027\n"
     ]
    },
    {
     "name": "stdout",
     "output_type": "stream",
     "text": [
      "EVAL: [1128/1129] Elapsed 0m 9s (remain 0m 0s) Loss: 1667.6277(256.0867) \n",
      "Epoch: [59][0/10164] Elapsed 0m 0s (remain 21m 34s) Loss: 340.1326(340.1326) Grad: 47536.1445 LR: 0.000077  \n",
      "Epoch: [59][2000/10164] Elapsed 0m 36s (remain 2m 27s) Loss: 51.8440(271.4613) Grad: 15988.7246 LR: 0.000077  \n",
      "Epoch: [59][4000/10164] Elapsed 1m 12s (remain 1m 51s) Loss: 75.2624(265.6242) Grad: 5558.7881 LR: 0.000077  \n",
      "Epoch: [59][6000/10164] Elapsed 1m 49s (remain 1m 15s) Loss: 16.9755(263.1999) Grad: 3959.7976 LR: 0.000077  \n",
      "Epoch: [59][8000/10164] Elapsed 2m 25s (remain 0m 39s) Loss: 43.1849(257.6554) Grad: 17323.9043 LR: 0.000077  \n",
      "Epoch: [59][10000/10164] Elapsed 3m 2s (remain 0m 2s) Loss: 183.8843(255.9028) Grad: 9628.3652 LR: 0.000077  \n",
      "Epoch: [59][10163/10164] Elapsed 3m 5s (remain 0m 0s) Loss: 84.1981(255.5237) Grad: 9438.3613 LR: 0.000077  \n",
      "EVAL: [0/1129] Elapsed 0m 0s (remain 1m 59s) Loss: 2324.5024(2324.5024) \n"
     ]
    },
    {
     "name": "stderr",
     "output_type": "stream",
     "text": [
      "Epoch 59 - avg_train_loss: 255.5237  avg_val_loss: 259.1387  time: 196s\n",
      "Epoch 59 - Score: 16.0978\n"
     ]
    },
    {
     "name": "stdout",
     "output_type": "stream",
     "text": [
      "EVAL: [1128/1129] Elapsed 0m 10s (remain 0m 0s) Loss: 1561.8500(259.1387) \n",
      "Epoch: [60][0/10164] Elapsed 0m 0s (remain 20m 42s) Loss: 279.7462(279.7462) Grad: 36060.0938 LR: 0.000094  \n",
      "Epoch: [60][2000/10164] Elapsed 0m 36s (remain 2m 28s) Loss: 46.6759(275.7906) Grad: 7701.5601 LR: 0.000094  \n",
      "Epoch: [60][4000/10164] Elapsed 1m 12s (remain 1m 51s) Loss: 74.5097(268.8391) Grad: 5030.2715 LR: 0.000094  \n",
      "Epoch: [60][6000/10164] Elapsed 1m 48s (remain 1m 15s) Loss: 12.6977(266.9532) Grad: 4548.3154 LR: 0.000094  \n",
      "Epoch: [60][8000/10164] Elapsed 2m 25s (remain 0m 39s) Loss: 26.0633(261.0695) Grad: 6472.8501 LR: 0.000094  \n",
      "Epoch: [60][10000/10164] Elapsed 3m 1s (remain 0m 2s) Loss: 172.0901(259.4399) Grad: 12736.1885 LR: 0.000094  \n",
      "Epoch: [60][10163/10164] Elapsed 3m 4s (remain 0m 0s) Loss: 74.5029(259.2447) Grad: 6120.3066 LR: 0.000094  \n",
      "EVAL: [0/1129] Elapsed 0m 0s (remain 2m 22s) Loss: 2457.9309(2457.9309) \n"
     ]
    },
    {
     "name": "stderr",
     "output_type": "stream",
     "text": [
      "Epoch 60 - avg_train_loss: 259.2447  avg_val_loss: 258.1425  time: 194s\n",
      "Epoch 60 - Score: 16.0668\n"
     ]
    },
    {
     "name": "stdout",
     "output_type": "stream",
     "text": [
      "EVAL: [1128/1129] Elapsed 0m 10s (remain 0m 0s) Loss: 1390.9252(258.1425) \n"
     ]
    },
    {
     "data": {
      "application/vnd.jupyter.widget-view+json": {
       "model_id": "d144743833604c79a3bb02a1272a41b9",
       "version_major": 2,
       "version_minor": 0
      },
      "text/plain": [
       "  0%|          | 0/1254 [00:00<?, ?it/s]"
      ]
     },
     "metadata": {},
     "output_type": "display_data"
    },
    {
     "name": "stderr",
     "output_type": "stream",
     "text": [
      "RMSE score on validation set: 15.864878393958087\n",
      "RMSE score on test set: 15.454681595799347\n"
     ]
    }
   ],
   "source": [
    "####################################################\n",
    "############## Dataloader for pytorch ##############\n",
    "####################################################\n",
    "\n",
    "seed_torch(seed=45)\n",
    "train_dataset = AirQualityDataset(train_sequence)\n",
    "\n",
    "train_loader = DataLoader(train_dataset,\n",
    "                          batch_size=CFG.batch_size, \n",
    "                          shuffle=False, # Time series data\n",
    "                          num_workers=CFG.num_workers, pin_memory=True, drop_last=True)\n",
    "\n",
    "\n",
    "valid_dataset = AirQualityDataset(valid_sequence)\n",
    "\n",
    "valid_loader = DataLoader(valid_dataset, \n",
    "                          batch_size=CFG.batch_size, \n",
    "                          shuffle=False, \n",
    "                          num_workers=CFG.num_workers, pin_memory=True, drop_last=False)\n",
    "\n",
    "\n",
    "test_dataset = AirQualityDataset(test_sequence)\n",
    "\n",
    "test_loader = DataLoader(test_dataset, \n",
    "                         batch_size=CFG.batch_size, \n",
    "                         shuffle=False, \n",
    "                         num_workers=CFG.num_workers, pin_memory=True, drop_last=False)\n",
    "\n",
    "# ====================================================\n",
    "# scheduler \n",
    "# ====================================================\n",
    "def get_scheduler(optimizer):\n",
    "    if CFG.scheduler=='ReduceLROnPlateau':\n",
    "        scheduler = ReduceLROnPlateau(optimizer, **CFG.reduce_params)\n",
    "    elif CFG.scheduler=='CosineAnnealingLR':\n",
    "        scheduler = CosineAnnealingLR(optimizer, **CFG.cosanneal_params)\n",
    "    elif CFG.scheduler=='CosineAnnealingWarmRestarts':\n",
    "        scheduler = CosineAnnealingWarmRestarts(optimizer, **CFG.cosanneal_res_params)\n",
    "    elif CFG.scheduler=='OneCycleLR':\n",
    "        scheduler = OneCycleLR(optimizer, **CFG.onecycle_params)\n",
    "    return scheduler\n",
    "\n",
    "# ====================================================\n",
    "# model & optimizer\n",
    "# ====================================================\n",
    "model = LSTM()\n",
    "model.to(device)\n",
    "optimizer = AdamW(model.parameters(), lr=CFG.lr, weight_decay=CFG.weight_decay)\n",
    "scheduler = get_scheduler(optimizer)\n",
    "\n",
    "# ====================================================\n",
    "# loop\n",
    "# ====================================================\n",
    "criterion = nn.MSELoss()\n",
    "best_loss = np.inf\n",
    "\n",
    "for epoch in range(CFG.epochs):\n",
    "        \n",
    "    start_time = time.time()\n",
    "    \n",
    "    \n",
    "    # train\n",
    "    avg_loss = train_fn(None, train_loader, model, criterion, optimizer, epoch, scheduler, device)\n",
    "    \n",
    "    # eval\n",
    "    avg_val_loss, valid_preds, valid_targets = valid_fn(valid_loader, model, criterion, device)\n",
    "    \n",
    "    \n",
    "\n",
    "    \n",
    "    if isinstance(scheduler, ReduceLROnPlateau):\n",
    "        scheduler.step(avg_val_loss)\n",
    "    elif isinstance(scheduler, CosineAnnealingLR):\n",
    "        scheduler.step()\n",
    "    elif isinstance(scheduler, CosineAnnealingWarmRestarts):\n",
    "        scheduler.step()\n",
    "    # scoring\n",
    "    score = get_score(valid_targets, valid_preds)\n",
    "    elapsed = time.time() - start_time\n",
    "    \n",
    "        \n",
    "    LOGGER.info(f'Epoch {epoch+1} - avg_train_loss: {avg_loss:.4f}  avg_val_loss: {avg_val_loss:.4f}  time: {elapsed:.0f}s')\n",
    "    LOGGER.info(f'Epoch {epoch+1} - Score: {score:.4f}')\n",
    "    wandb.log({f\" epoch\": epoch+1, \n",
    "               f\" avg_train_loss\": avg_loss, \n",
    "               f\" avg_val_loss\": avg_val_loss,\n",
    "               f\" score\": score\n",
    "              })\n",
    "    # Save best weights    \n",
    "    if avg_val_loss < best_loss:\n",
    "        LOGGER.info(f\"Validation loss Improved ({best_loss} ---> {avg_val_loss})\")\n",
    "        best_loss = avg_val_loss\n",
    "        LOGGER.info(f'Epoch {epoch+1} - Save Best Loss: {best_loss:.4f} Model')\n",
    "        torch.save({'model': model.state_dict(), \n",
    "                    'preds_loss': valid_preds,\n",
    "                    'targets': valid_targets},\n",
    "                    DIR+f'{CFG.model_name}_best_loss_version{VERSION}.pth')\n",
    "        \n",
    "# Inference\n",
    "states = [torch.load(DIR+f'{CFG.model_name}_best_loss_version{VERSION}.pth', map_location=device)]\n",
    "valid_targets = states[0]['targets']\n",
    "valid_predictions = states[0]['preds_loss']\n",
    "test_preds, test_targets = inference(model, states, test_loader, device)\n",
    "LOGGER.info(f'RMSE score on validation set: {get_score(valid_targets, valid_predictions)}')\n",
    "LOGGER.info(f'RMSE score on test set: {get_score(test_targets, test_preds)}')"
   ]
  },
  {
   "cell_type": "markdown",
   "id": "12fcc305",
   "metadata": {
    "papermill": {
     "duration": 0.04869,
     "end_time": "2022-09-17T21:44:34.908037",
     "exception": false,
     "start_time": "2022-09-17T21:44:34.859347",
     "status": "completed"
    },
    "tags": []
   },
   "source": [
    "# Plot Predictions"
   ]
  },
  {
   "cell_type": "code",
   "execution_count": 15,
   "id": "c403d9fe",
   "metadata": {
    "execution": {
     "iopub.execute_input": "2022-09-17T21:44:34.997010Z",
     "iopub.status.busy": "2022-09-17T21:44:34.996595Z",
     "iopub.status.idle": "2022-09-17T21:44:35.314419Z",
     "shell.execute_reply": "2022-09-17T21:44:35.313451Z"
    },
    "papermill": {
     "duration": 0.364498,
     "end_time": "2022-09-17T21:44:35.316668",
     "exception": false,
     "start_time": "2022-09-17T21:44:34.952170",
     "status": "completed"
    },
    "tags": []
   },
   "outputs": [
    {
     "data": {
      "image/png": "[encoded data removed]",
      "text/plain": [
       "<Figure size 1440x432 with 1 Axes>"
      ]
     },
     "metadata": {
      "needs_background": "light"
     },
     "output_type": "display_data"
    }
   ],
   "source": [
    "fig, ax = plt.subplots(figsize=(20, 6))\n",
    "ax.plot(valid.iloc[CFG.seq_length:].index, valid_targets, color='b', label='True')\n",
    "ax.plot(valid.iloc[CFG.seq_length:].index, valid_predictions, color='orange', label='Prediction')\n",
    "\n",
    "ax.set_title(\"PM2.5\", fontweight=\"bold\", size=16)\n",
    "ax.legend(loc=\"upper right\")\n",
    "\n",
    "\n",
    "## Rotate date labels automatically\n",
    "ax.axis([325000, 328000, 0, 250])\n",
    "fig.autofmt_xdate()\n",
    "plt.title('Predictions on validation set')\n",
    "plt.show()"
   ]
  },
  {
   "cell_type": "code",
   "execution_count": 16,
   "id": "a672cc63",
   "metadata": {
    "execution": {
     "iopub.execute_input": "2022-09-17T21:44:35.410809Z",
     "iopub.status.busy": "2022-09-17T21:44:35.410489Z",
     "iopub.status.idle": "2022-09-17T21:44:35.673310Z",
     "shell.execute_reply": "2022-09-17T21:44:35.672427Z"
    },
    "papermill": {
     "duration": 0.311008,
     "end_time": "2022-09-17T21:44:35.676107",
     "exception": false,
     "start_time": "2022-09-17T21:44:35.365099",
     "status": "completed"
    },
    "tags": []
   },
   "outputs": [
    {
     "data": {
      "image/png": "[encoded data removed]",
      "text/plain": [
       "<Figure size 1440x432 with 1 Axes>"
      ]
     },
     "metadata": {
      "needs_background": "light"
     },
     "output_type": "display_data"
    }
   ],
   "source": [
    "fig, ax = plt.subplots(figsize=(20, 6))\n",
    "ax.plot(test.iloc[CFG.seq_length:].index, test_targets, color='b', label='True')\n",
    "ax.plot(test.iloc[CFG.seq_length:].index, test_preds, color='orange', label='Prediction')\n",
    "\n",
    "ax.set_title(\"PM2.5\", fontweight=\"bold\", size=16)\n",
    "ax.legend(loc=\"upper right\")\n",
    "\n",
    "\n",
    "## Rotate date labels automatically\n",
    "ax.axis([361000, 365000, 0, 250])\n",
    "fig.autofmt_xdate()\n",
    "plt.title('Predictions on test set')\n",
    "plt.show()"
   ]
  }
 ],
 "metadata": {
  "kernelspec": {
   "display_name": "Python 3",
   "language": "python",
   "name": "python3"
  },
  "language_info": {
   "codemirror_mode": {
    "name": "ipython",
    "version": 3
   },
   "file_extension": ".py",
   "mimetype": "text/x-python",
   "name": "python",
   "nbconvert_exporter": "python",
   "pygments_lexer": "ipython3",
   "version": "3.7.12"
  },
  "papermill": {
   "default_parameters": {},
   "duration": 12220.559696,
   "end_time": "2022-09-17T21:44:38.875107",
   "environment_variables": {},
   "exception": null,
   "input_path": "__notebook__.ipynb",
   "output_path": "__notebook__.ipynb",
   "parameters": {},
   "start_time": "2022-09-17T18:20:58.315411",
   "version": "2.3.4"
  },
  "widgets": {
   "application/vnd.jupyter.widget-state+json": {
    "state": {
     "00a6d42de4ea48cfa588ef55071ea116": {
      "model_module": "@jupyter-widgets/base",
      "model_module_version": "1.2.0",
      "model_name": "LayoutModel",
      "state": {
       "_model_module": "@jupyter-widgets/base",
       "_model_module_version": "1.2.0",
       "_model_name": "LayoutModel",
       "_view_count": null,
       "_view_module": "@jupyter-widgets/base",
       "_view_module_version": "1.2.0",
       "_view_name": "LayoutView",
       "align_content": null,
       "align_items": null,
       "align_self": null,
       "border": null,
       "bottom": null,
       "display": null,
       "flex": null,
       "flex_flow": null,
       "grid_area": null,
       "grid_auto_columns": null,
       "grid_auto_flow": null,
       "grid_auto_rows": null,
       "grid_column": null,
       "grid_gap": null,
       "grid_row": null,
       "grid_template_areas": null,
       "grid_template_columns": null,
       "grid_template_rows": null,
       "height": null,
       "justify_content": null,
       "justify_items": null,
       "left": null,
       "margin": null,
       "max_height": null,
       "max_width": null,
       "min_height": null,
       "min_width": null,
       "object_fit": null,
       "object_position": null,
       "order": null,
       "overflow": null,
       "overflow_x": null,
       "overflow_y": null,
       "padding": null,
       "right": null,
       "top": null,
       "visibility": null,
       "width": null
      }
     },
     "020f0271d76e4502a9a659ff0c75721f": {
      "model_module": "@jupyter-widgets/controls",
      "model_module_version": "1.5.0",
      "model_name": "DescriptionStyleModel",
      "state": {
       "_model_module": "@jupyter-widgets/controls",
       "_model_module_version": "1.5.0",
       "_model_name": "DescriptionStyleModel",
       "_view_count": null,
       "_view_module": "@jupyter-widgets/base",
       "_view_module_version": "1.2.0",
       "_view_name": "StyleView",
       "description_width": ""
      }
     },
     "0410b5e9211c44aba81e0039084a9017": {
      "model_module": "@jupyter-widgets/base",
      "model_module_version": "1.2.0",
      "model_name": "LayoutModel",
      "state": {
       "_model_module": "@jupyter-widgets/base",
       "_model_module_version": "1.2.0",
       "_model_name": "LayoutModel",
       "_view_count": null,
       "_view_module": "@jupyter-widgets/base",
       "_view_module_version": "1.2.0",
       "_view_name": "LayoutView",
       "align_content": null,
       "align_items": null,
       "align_self": null,
       "border": null,
       "bottom": null,
       "display": null,
       "flex": null,
       "flex_flow": null,
       "grid_area": null,
       "grid_auto_columns": null,
       "grid_auto_flow": null,
       "grid_auto_rows": null,
       "grid_column": null,
       "grid_gap": null,
       "grid_row": null,
       "grid_template_areas": null,
       "grid_template_columns": null,
       "grid_template_rows": null,
       "height": null,
       "justify_content": null,
       "justify_items": null,
       "left": null,
       "margin": null,
       "max_height": null,
       "max_width": null,
       "min_height": null,
       "min_width": null,
       "object_fit": null,
       "object_position": null,
       "order": null,
       "overflow": null,
       "overflow_x": null,
       "overflow_y": null,
       "padding": null,
       "right": null,
       "top": null,
       "visibility": null,
       "width": null
      }
     },
     "0c112b00c7154600a88303880f5086fa": {
      "model_module": "@jupyter-widgets/base",
      "model_module_version": "1.2.0",
      "model_name": "LayoutModel",
      "state": {
       "_model_module": "@jupyter-widgets/base",
       "_model_module_version": "1.2.0",
       "_model_name": "LayoutModel",
       "_view_count": null,
       "_view_module": "@jupyter-widgets/base",
       "_view_module_version": "1.2.0",
       "_view_name": "LayoutView",
       "align_content": null,
       "align_items": null,
       "align_self": null,
       "border": null,
       "bottom": null,
       "display": null,
       "flex": null,
       "flex_flow": null,
       "grid_area": null,
       "grid_auto_columns": null,
       "grid_auto_flow": null,
       "grid_auto_rows": null,
       "grid_column": null,
       "grid_gap": null,
       "grid_row": null,
       "grid_template_areas": null,
       "grid_template_columns": null,
       "grid_template_rows": null,
       "height": null,
       "justify_content": null,
       "justify_items": null,
       "left": null,
       "margin": null,
       "max_height": null,
       "max_width": null,
       "min_height": null,
       "min_width": null,
       "object_fit": null,
       "object_position": null,
       "order": null,
       "overflow": null,
       "overflow_x": null,
       "overflow_y": null,
       "padding": null,
       "right": null,
       "top": null,
       "visibility": null,
       "width": null
      }
     },
     "1ef82549da6d403b810e10def6c7dce2": {
      "model_module": "@jupyter-widgets/base",
      "model_module_version": "1.2.0",
      "model_name": "LayoutModel",
      "state": {
       "_model_module": "@jupyter-widgets/base",
       "_model_module_version": "1.2.0",
       "_model_name": "LayoutModel",
       "_view_count": null,
       "_view_module": "@jupyter-widgets/base",
       "_view_module_version": "1.2.0",
       "_view_name": "LayoutView",
       "align_content": null,
       "align_items": null,
       "align_self": null,
       "border": null,
       "bottom": null,
       "display": null,
       "flex": null,
       "flex_flow": null,
       "grid_area": null,
       "grid_auto_columns": null,
       "grid_auto_flow": null,
       "grid_auto_rows": null,
       "grid_column": null,
       "grid_gap": null,
       "grid_row": null,
       "grid_template_areas": null,
       "grid_template_columns": null,
       "grid_template_rows": null,
       "height": null,
       "justify_content": null,
       "justify_items": null,
       "left": null,
       "margin": null,
       "max_height": null,
       "max_width": null,
       "min_height": null,
       "min_width": null,
       "object_fit": null,
       "object_position": null,
       "order": null,
       "overflow": null,
       "overflow_x": null,
       "overflow_y": null,
       "padding": null,
       "right": null,
       "top": null,
       "visibility": null,
       "width": null
      }
     },
     "216577628ed54f9d90aee2cc877a60ad": {
      "model_module": "@jupyter-widgets/controls",
      "model_module_version": "1.5.0",
      "model_name": "FloatProgressModel",
      "state": {
       "_dom_classes": [],
       "_model_module": "@jupyter-widgets/controls",
       "_model_module_version": "1.5.0",
       "_model_name": "FloatProgressModel",
       "_view_count": null,
       "_view_module": "@jupyter-widgets/controls",
       "_view_module_version": "1.5.0",
       "_view_name": "ProgressView",
       "bar_style": "success",
       "description": "",
       "description_tooltip": null,
       "layout": "IPY_MODEL_e94b2592a51a47d3a68c0b172fc72210",
       "max": 1254.0,
       "min": 0.0,
       "orientation": "horizontal",
       "style": "IPY_MODEL_722d1f5ebdb44917a09c742d7efee135",
       "value": 1254.0
      }
     },
     "21c6f52d1390465ca24c966c6dc8ed04": {
      "model_module": "@jupyter-widgets/base",
      "model_module_version": "1.2.0",
      "model_name": "LayoutModel",
      "state": {
       "_model_module": "@jupyter-widgets/base",
       "_model_module_version": "1.2.0",
       "_model_name": "LayoutModel",
       "_view_count": null,
       "_view_module": "@jupyter-widgets/base",
       "_view_module_version": "1.2.0",
       "_view_name": "LayoutView",
       "align_content": null,
       "align_items": null,
       "align_self": null,
       "border": null,
       "bottom": null,
       "display": null,
       "flex": null,
       "flex_flow": null,
       "grid_area": null,
       "grid_auto_columns": null,
       "grid_auto_flow": null,
       "grid_auto_rows": null,
       "grid_column": null,
       "grid_gap": null,
       "grid_row": null,
       "grid_template_areas": null,
       "grid_template_columns": null,
       "grid_template_rows": null,
       "height": null,
       "justify_content": null,
       "justify_items": null,
       "left": null,
       "margin": null,
       "max_height": null,
       "max_width": null,
       "min_height": null,
       "min_width": null,
       "object_fit": null,
       "object_position": null,
       "order": null,
       "overflow": null,
       "overflow_x": null,
       "overflow_y": null,
       "padding": null,
       "right": null,
       "top": null,
       "visibility": null,
       "width": null
      }
     },
     "252ecfe7cdaa4a87bb499f546bffe407": {
      "model_module": "@jupyter-widgets/base",
      "model_module_version": "1.2.0",
      "model_name": "LayoutModel",
      "state": {
       "_model_module": "@jupyter-widgets/base",
       "_model_module_version": "1.2.0",
       "_model_name": "LayoutModel",
       "_view_count": null,
       "_view_module": "@jupyter-widgets/base",
       "_view_module_version": "1.2.0",
       "_view_name": "LayoutView",
       "align_content": null,
       "align_items": null,
       "align_self": null,
       "border": null,
       "bottom": null,
       "display": null,
       "flex": null,
       "flex_flow": null,
       "grid_area": null,
       "grid_auto_columns": null,
       "grid_auto_flow": null,
       "grid_auto_rows": null,
       "grid_column": null,
       "grid_gap": null,
       "grid_row": null,
       "grid_template_areas": null,
       "grid_template_columns": null,
       "grid_template_rows": null,
       "height": null,
       "justify_content": null,
       "justify_items": null,
       "left": null,
       "margin": null,
       "max_height": null,
       "max_width": null,
       "min_height": null,
       "min_width": null,
       "object_fit": null,
       "object_position": null,
       "order": null,
       "overflow": null,
       "overflow_x": null,
       "overflow_y": null,
       "padding": null,
       "right": null,
       "top": null,
       "visibility": null,
       "width": null
      }
     },
     "34635c99740d4054943311c3f0882a2a": {
      "model_module": "@jupyter-widgets/base",
      "model_module_version": "1.2.0",
      "model_name": "LayoutModel",
      "state": {
       "_model_module": "@jupyter-widgets/base",
       "_model_module_version": "1.2.0",
       "_model_name": "LayoutModel",
       "_view_count": null,
       "_view_module": "@jupyter-widgets/base",
       "_view_module_version": "1.2.0",
       "_view_name": "LayoutView",
       "align_content": null,
       "align_items": null,
       "align_self": null,
       "border": null,
       "bottom": null,
       "display": null,
       "flex": null,
       "flex_flow": null,
       "grid_area": null,
       "grid_auto_columns": null,
       "grid_auto_flow": null,
       "grid_auto_rows": null,
       "grid_column": null,
       "grid_gap": null,
       "grid_row": null,
       "grid_template_areas": null,
       "grid_template_columns": null,
       "grid_template_rows": null,
       "height": null,
       "justify_content": null,
       "justify_items": null,
       "left": null,
       "margin": null,
       "max_height": null,
       "max_width": null,
       "min_height": null,
       "min_width": null,
       "object_fit": null,
       "object_position": null,
       "order": null,
       "overflow": null,
       "overflow_x": null,
       "overflow_y": null,
       "padding": null,
       "right": null,
       "top": null,
       "visibility": null,
       "width": null
      }
     },
     "3512f4b320d242f38ed9cab4fa75f809": {
      "model_module": "@jupyter-widgets/controls",
      "model_module_version": "1.5.0",
      "model_name": "FloatProgressModel",
      "state": {
       "_dom_classes": [],
       "_model_module": "@jupyter-widgets/controls",
       "_model_module_version": "1.5.0",
       "_model_name": "FloatProgressModel",
       "_view_count": null,
       "_view_module": "@jupyter-widgets/controls",
       "_view_module_version": "1.5.0",
       "_view_name": "ProgressView",
       "bar_style": "",
       "description": "",
       "description_tooltip": null,
       "layout": "IPY_MODEL_bc57f7b0bf8a4ad59cc5c4748060603d",
       "max": 1.0,
       "min": 0.0,
       "orientation": "horizontal",
       "style": "IPY_MODEL_4b9a92a97d9e4681b4ef9aa98d56e920",
       "value": 0.0
      }
     },
     "37165ec9dd1149128b3f26de7db6c53f": {
      "model_module": "@jupyter-widgets/controls",
      "model_module_version": "1.5.0",
      "model_name": "HBoxModel",
      "state": {
       "_dom_classes": [],
       "_model_module": "@jupyter-widgets/controls",
       "_model_module_version": "1.5.0",
       "_model_name": "HBoxModel",
       "_view_count": null,
       "_view_module": "@jupyter-widgets/controls",
       "_view_module_version": "1.5.0",
       "_view_name": "HBoxView",
       "box_style": "",
       "children": [
        "IPY_MODEL_ea6284d48a5442baaa99ff8d5f0c7203",
        "IPY_MODEL_4d09d58b06fc40dda26cf5d72dfe5385",
        "IPY_MODEL_81bc231f38e5430da1c32bf3d59e0b41"
       ],
       "layout": "IPY_MODEL_bca575bd80eb435eb820ee06d25ac154"
      }
     },
     "394fbeb6b5964453a6da6440e7463807": {
      "model_module": "@jupyter-widgets/controls",
      "model_module_version": "1.5.0",
      "model_name": "LabelModel",
      "state": {
       "_dom_classes": [],
       "_model_module": "@jupyter-widgets/controls",
       "_model_module_version": "1.5.0",
       "_model_name": "LabelModel",
       "_view_count": null,
       "_view_module": "@jupyter-widgets/controls",
       "_view_module_version": "1.5.0",
       "_view_name": "LabelView",
       "description": "",
       "description_tooltip": null,
       "layout": "IPY_MODEL_4a3c51cb6373490d9e441a4df3712ad2",
       "placeholder": "​",
       "style": "IPY_MODEL_8a42db04416d4f979b0bff6352fef00e",
       "value": ""
      }
     },
     "39a7f0e622e4450c9fa0b850eecee623": {
      "model_module": "@jupyter-widgets/controls",
      "model_module_version": "1.5.0",
      "model_name": "HBoxModel",
      "state": {
       "_dom_classes": [],
       "_model_module": "@jupyter-widgets/controls",
       "_model_module_version": "1.5.0",
       "_model_name": "HBoxModel",
       "_view_count": null,
       "_view_module": "@jupyter-widgets/controls",
       "_view_module_version": "1.5.0",
       "_view_name": "HBoxView",
       "box_style": "",
       "children": [
        "IPY_MODEL_cb79f66553514d6aabebc40889f3793a",
        "IPY_MODEL_fded20b4276543cda040b29b978866bb",
        "IPY_MODEL_fdd58bb5f25147738cceddd48ac1af57"
       ],
       "layout": "IPY_MODEL_252ecfe7cdaa4a87bb499f546bffe407"
      }
     },
     "4407c4ab271e4c9789b003874775c326": {
      "model_module": "@jupyter-widgets/base",
      "model_module_version": "1.2.0",
      "model_name": "LayoutModel",
      "state": {
       "_model_module": "@jupyter-widgets/base",
       "_model_module_version": "1.2.0",
       "_model_name": "LayoutModel",
       "_view_count": null,
       "_view_module": "@jupyter-widgets/base",
       "_view_module_version": "1.2.0",
       "_view_name": "LayoutView",
       "align_content": null,
       "align_items": null,
       "align_self": null,
       "border": null,
       "bottom": null,
       "display": null,
       "flex": null,
       "flex_flow": null,
       "grid_area": null,
       "grid_auto_columns": null,
       "grid_auto_flow": null,
       "grid_auto_rows": null,
       "grid_column": null,
       "grid_gap": null,
       "grid_row": null,
       "grid_template_areas": null,
       "grid_template_columns": null,
       "grid_template_rows": null,
       "height": null,
       "justify_content": null,
       "justify_items": null,
       "left": null,
       "margin": null,
       "max_height": null,
       "max_width": null,
       "min_height": null,
       "min_width": null,
       "object_fit": null,
       "object_position": null,
       "order": null,
       "overflow": null,
       "overflow_x": null,
       "overflow_y": null,
       "padding": null,
       "right": null,
       "top": null,
       "visibility": null,
       "width": null
      }
     },
     "4a3c51cb6373490d9e441a4df3712ad2": {
      "model_module": "@jupyter-widgets/base",
      "model_module_version": "1.2.0",
      "model_name": "LayoutModel",
      "state": {
       "_model_module": "@jupyter-widgets/base",
       "_model_module_version": "1.2.0",
       "_model_name": "LayoutModel",
       "_view_count": null,
       "_view_module": "@jupyter-widgets/base",
       "_view_module_version": "1.2.0",
       "_view_name": "LayoutView",
       "align_content": null,
       "align_items": null,
       "align_self": null,
       "border": null,
       "bottom": null,
       "display": null,
       "flex": null,
       "flex_flow": null,
       "grid_area": null,
       "grid_auto_columns": null,
       "grid_auto_flow": null,
       "grid_auto_rows": null,
       "grid_column": null,
       "grid_gap": null,
       "grid_row": null,
       "grid_template_areas": null,
       "grid_template_columns": null,
       "grid_template_rows": null,
       "height": null,
       "justify_content": null,
       "justify_items": null,
       "left": null,
       "margin": null,
       "max_height": null,
       "max_width": null,
       "min_height": null,
       "min_width": null,
       "object_fit": null,
       "object_position": null,
       "order": null,
       "overflow": null,
       "overflow_x": null,
       "overflow_y": null,
       "padding": null,
       "right": null,
       "top": null,
       "visibility": null,
       "width": null
      }
     },
     "4aed99e0e9884168a133efd3c35f3e06": {
      "model_module": "@jupyter-widgets/controls",
      "model_module_version": "1.5.0",
      "model_name": "LabelModel",
      "state": {
       "_dom_classes": [],
       "_model_module": "@jupyter-widgets/controls",
       "_model_module_version": "1.5.0",
       "_model_name": "LabelModel",
       "_view_count": null,
       "_view_module": "@jupyter-widgets/controls",
       "_view_module_version": "1.5.0",
       "_view_name": "LabelView",
       "description": "",
       "description_tooltip": null,
       "layout": "IPY_MODEL_8dfdd9bd820e428ca74ed692e1e606fc",
       "placeholder": "​",
       "style": "IPY_MODEL_b7e242998fd44178a0dd52b7cb6fa9e1",
       "value": ""
      }
     },
     "4b9a92a97d9e4681b4ef9aa98d56e920": {
      "model_module": "@jupyter-widgets/controls",
      "model_module_version": "1.5.0",
      "model_name": "ProgressStyleModel",
      "state": {
       "_model_module": "@jupyter-widgets/controls",
       "_model_module_version": "1.5.0",
       "_model_name": "ProgressStyleModel",
       "_view_count": null,
       "_view_module": "@jupyter-widgets/base",
       "_view_module_version": "1.2.0",
       "_view_name": "StyleView",
       "bar_color": null,
       "description_width": ""
      }
     },
     "4d09d58b06fc40dda26cf5d72dfe5385": {
      "model_module": "@jupyter-widgets/controls",
      "model_module_version": "1.5.0",
      "model_name": "FloatProgressModel",
      "state": {
       "_dom_classes": [],
       "_model_module": "@jupyter-widgets/controls",
       "_model_module_version": "1.5.0",
       "_model_name": "FloatProgressModel",
       "_view_count": null,
       "_view_module": "@jupyter-widgets/controls",
       "_view_module_version": "1.5.0",
       "_view_name": "ProgressView",
       "bar_style": "success",
       "description": "",
       "description_tooltip": null,
       "layout": "IPY_MODEL_5858b8b2a6f749f0985c5dff6dc6620d",
       "max": 36099.0,
       "min": 0.0,
       "orientation": "horizontal",
       "style": "IPY_MODEL_ac5218cd69844a64ac104297413488f4",
       "value": 36099.0
      }
     },
     "51f40b612de64b87b69eb933c167d252": {
      "model_module": "@jupyter-widgets/controls",
      "model_module_version": "1.5.0",
      "model_name": "FloatProgressModel",
      "state": {
       "_dom_classes": [],
       "_model_module": "@jupyter-widgets/controls",
       "_model_module_version": "1.5.0",
       "_model_name": "FloatProgressModel",
       "_view_count": null,
       "_view_module": "@jupyter-widgets/controls",
       "_view_module_version": "1.5.0",
       "_view_name": "ProgressView",
       "bar_style": "",
       "description": "",
       "description_tooltip": null,
       "layout": "IPY_MODEL_a1954aa42f9f43cc962b301c04ff5cb2",
       "max": 1.0,
       "min": 0.0,
       "orientation": "horizontal",
       "style": "IPY_MODEL_a117c90281fe49d2ab483206c3f64c2a",
       "value": 0.0
      }
     },
     "57e0ed84d1c4498ebf3ab8b92e2a62de": {
      "model_module": "@jupyter-widgets/controls",
      "model_module_version": "1.5.0",
      "model_name": "HTMLModel",
      "state": {
       "_dom_classes": [],
       "_model_module": "@jupyter-widgets/controls",
       "_model_module_version": "1.5.0",
       "_model_name": "HTMLModel",
       "_view_count": null,
       "_view_module": "@jupyter-widgets/controls",
       "_view_module_version": "1.5.0",
       "_view_name": "HTMLView",
       "description": "",
       "description_tooltip": null,
       "layout": "IPY_MODEL_a8663cf794f443c49936537e9aa98d50",
       "placeholder": "​",
       "style": "IPY_MODEL_78d91a94a8314b8c8b8ee3370cb98f61",
       "value": " 1254/1254 [00:12&lt;00:00, 116.45it/s]"
      }
     },
     "5858b8b2a6f749f0985c5dff6dc6620d": {
      "model_module": "@jupyter-widgets/base",
      "model_module_version": "1.2.0",
      "model_name": "LayoutModel",
      "state": {
       "_model_module": "@jupyter-widgets/base",
       "_model_module_version": "1.2.0",
       "_model_name": "LayoutModel",
       "_view_count": null,
       "_view_module": "@jupyter-widgets/base",
       "_view_module_version": "1.2.0",
       "_view_name": "LayoutView",
       "align_content": null,
       "align_items": null,
       "align_self": null,
       "border": null,
       "bottom": null,
       "display": null,
       "flex": null,
       "flex_flow": null,
       "grid_area": null,
       "grid_auto_columns": null,
       "grid_auto_flow": null,
       "grid_auto_rows": null,
       "grid_column": null,
       "grid_gap": null,
       "grid_row": null,
       "grid_template_areas": null,
       "grid_template_columns": null,
       "grid_template_rows": null,
       "height": null,
       "justify_content": null,
       "justify_items": null,
       "left": null,
       "margin": null,
       "max_height": null,
       "max_width": null,
       "min_height": null,
       "min_width": null,
       "object_fit": null,
       "object_position": null,
       "order": null,
       "overflow": null,
       "overflow_x": null,
       "overflow_y": null,
       "padding": null,
       "right": null,
       "top": null,
       "visibility": null,
       "width": null
      }
     },
     "5c5949d3c08b43f09ff975baf89470b8": {
      "model_module": "@jupyter-widgets/base",
      "model_module_version": "1.2.0",
      "model_name": "LayoutModel",
      "state": {
       "_model_module": "@jupyter-widgets/base",
       "_model_module_version": "1.2.0",
       "_model_name": "LayoutModel",
       "_view_count": null,
       "_view_module": "@jupyter-widgets/base",
       "_view_module_version": "1.2.0",
       "_view_name": "LayoutView",
       "align_content": null,
       "align_items": null,
       "align_self": null,
       "border": null,
       "bottom": null,
       "display": null,
       "flex": null,
       "flex_flow": null,
       "grid_area": null,
       "grid_auto_columns": null,
       "grid_auto_flow": null,
       "grid_auto_rows": null,
       "grid_column": null,
       "grid_gap": null,
       "grid_row": null,
       "grid_template_areas": null,
       "grid_template_columns": null,
       "grid_template_rows": null,
       "height": null,
       "justify_content": null,
       "justify_items": null,
       "left": null,
       "margin": null,
       "max_height": null,
       "max_width": null,
       "min_height": null,
       "min_width": null,
       "object_fit": null,
       "object_position": null,
       "order": null,
       "overflow": null,
       "overflow_x": null,
       "overflow_y": null,
       "padding": null,
       "right": null,
       "top": null,
       "visibility": null,
       "width": null
      }
     },
     "5f7b7fcce1c84fb3b64da132a434e23e": {
      "model_module": "@jupyter-widgets/base",
      "model_module_version": "1.2.0",
      "model_name": "LayoutModel",
      "state": {
       "_model_module": "@jupyter-widgets/base",
       "_model_module_version": "1.2.0",
       "_model_name": "LayoutModel",
       "_view_count": null,
       "_view_module": "@jupyter-widgets/base",
       "_view_module_version": "1.2.0",
       "_view_name": "LayoutView",
       "align_content": null,
       "align_items": null,
       "align_self": null,
       "border": null,
       "bottom": null,
       "display": null,
       "flex": null,
       "flex_flow": null,
       "grid_area": null,
       "grid_auto_columns": null,
       "grid_auto_flow": null,
       "grid_auto_rows": null,
       "grid_column": null,
       "grid_gap": null,
       "grid_row": null,
       "grid_template_areas": null,
       "grid_template_columns": null,
       "grid_template_rows": null,
       "height": null,
       "justify_content": null,
       "justify_items": null,
       "left": null,
       "margin": null,
       "max_height": null,
       "max_width": null,
       "min_height": null,
       "min_width": null,
       "object_fit": null,
       "object_position": null,
       "order": null,
       "overflow": null,
       "overflow_x": null,
       "overflow_y": null,
       "padding": null,
       "right": null,
       "top": null,
       "visibility": null,
       "width": null
      }
     },
     "5ffd2221905242c38b5cb8a163ff42a1": {
      "model_module": "@jupyter-widgets/controls",
      "model_module_version": "1.5.0",
      "model_name": "DescriptionStyleModel",
      "state": {
       "_model_module": "@jupyter-widgets/controls",
       "_model_module_version": "1.5.0",
       "_model_name": "DescriptionStyleModel",
       "_view_count": null,
       "_view_module": "@jupyter-widgets/base",
       "_view_module_version": "1.2.0",
       "_view_name": "StyleView",
       "description_width": ""
      }
     },
     "630f0c80451a467a96d963731b1e863a": {
      "model_module": "@jupyter-widgets/controls",
      "model_module_version": "1.5.0",
      "model_name": "VBoxModel",
      "state": {
       "_dom_classes": [],
       "_model_module": "@jupyter-widgets/controls",
       "_model_module_version": "1.5.0",
       "_model_name": "VBoxModel",
       "_view_count": null,
       "_view_module": "@jupyter-widgets/controls",
       "_view_module_version": "1.5.0",
       "_view_name": "VBoxView",
       "box_style": "",
       "children": [
        "IPY_MODEL_4aed99e0e9884168a133efd3c35f3e06",
        "IPY_MODEL_51f40b612de64b87b69eb933c167d252"
       ],
       "layout": "IPY_MODEL_a0854ccfe05b4537a7d204e5e78c5429"
      }
     },
     "717327bf073748c9a6c63191e606689f": {
      "model_module": "@jupyter-widgets/controls",
      "model_module_version": "1.5.0",
      "model_name": "HTMLModel",
      "state": {
       "_dom_classes": [],
       "_model_module": "@jupyter-widgets/controls",
       "_model_module_version": "1.5.0",
       "_model_name": "HTMLModel",
       "_view_count": null,
       "_view_module": "@jupyter-widgets/controls",
       "_view_module_version": "1.5.0",
       "_view_name": "HTMLView",
       "description": "",
       "description_tooltip": null,
       "layout": "IPY_MODEL_1ef82549da6d403b810e10def6c7dce2",
       "placeholder": "​",
       "style": "IPY_MODEL_8800a9cad1af4922acee45f24e4f34a3",
       "value": "100%"
      }
     },
     "722d1f5ebdb44917a09c742d7efee135": {
      "model_module": "@jupyter-widgets/controls",
      "model_module_version": "1.5.0",
      "model_name": "ProgressStyleModel",
      "state": {
       "_model_module": "@jupyter-widgets/controls",
       "_model_module_version": "1.5.0",
       "_model_name": "ProgressStyleModel",
       "_view_count": null,
       "_view_module": "@jupyter-widgets/base",
       "_view_module_version": "1.2.0",
       "_view_name": "StyleView",
       "bar_color": null,
       "description_width": ""
      }
     },
     "7514b57edb6a4d26a8e2bd77d97decdc": {
      "model_module": "@jupyter-widgets/base",
      "model_module_version": "1.2.0",
      "model_name": "LayoutModel",
      "state": {
       "_model_module": "@jupyter-widgets/base",
       "_model_module_version": "1.2.0",
       "_model_name": "LayoutModel",
       "_view_count": null,
       "_view_module": "@jupyter-widgets/base",
       "_view_module_version": "1.2.0",
       "_view_name": "LayoutView",
       "align_content": null,
       "align_items": null,
       "align_self": null,
       "border": null,
       "bottom": null,
       "display": null,
       "flex": null,
       "flex_flow": null,
       "grid_area": null,
       "grid_auto_columns": null,
       "grid_auto_flow": null,
       "grid_auto_rows": null,
       "grid_column": null,
       "grid_gap": null,
       "grid_row": null,
       "grid_template_areas": null,
       "grid_template_columns": null,
       "grid_template_rows": null,
       "height": null,
       "justify_content": null,
       "justify_items": null,
       "left": null,
       "margin": null,
       "max_height": null,
       "max_width": null,
       "min_height": null,
       "min_width": null,
       "object_fit": null,
       "object_position": null,
       "order": null,
       "overflow": null,
       "overflow_x": null,
       "overflow_y": null,
       "padding": null,
       "right": null,
       "top": null,
       "visibility": null,
       "width": null
      }
     },
     "78d91a94a8314b8c8b8ee3370cb98f61": {
      "model_module": "@jupyter-widgets/controls",
      "model_module_version": "1.5.0",
      "model_name": "DescriptionStyleModel",
      "state": {
       "_model_module": "@jupyter-widgets/controls",
       "_model_module_version": "1.5.0",
       "_model_name": "DescriptionStyleModel",
       "_view_count": null,
       "_view_module": "@jupyter-widgets/base",
       "_view_module_version": "1.2.0",
       "_view_name": "StyleView",
       "description_width": ""
      }
     },
     "81bc231f38e5430da1c32bf3d59e0b41": {
      "model_module": "@jupyter-widgets/controls",
      "model_module_version": "1.5.0",
      "model_name": "HTMLModel",
      "state": {
       "_dom_classes": [],
       "_model_module": "@jupyter-widgets/controls",
       "_model_module_version": "1.5.0",
       "_model_name": "HTMLModel",
       "_view_count": null,
       "_view_module": "@jupyter-widgets/controls",
       "_view_module_version": "1.5.0",
       "_view_name": "HTMLView",
       "description": "",
       "description_tooltip": null,
       "layout": "IPY_MODEL_5f7b7fcce1c84fb3b64da132a434e23e",
       "placeholder": "​",
       "style": "IPY_MODEL_9f01389694714366abd53f4a54df45e7",
       "value": " 36099/36099 [00:34&lt;00:00, 1016.04it/s]"
      }
     },
     "81c3b1f53c994fe798b167c5a7c28002": {
      "model_module": "@jupyter-widgets/controls",
      "model_module_version": "1.5.0",
      "model_name": "HBoxModel",
      "state": {
       "_dom_classes": [],
       "_model_module": "@jupyter-widgets/controls",
       "_model_module_version": "1.5.0",
       "_model_name": "HBoxModel",
       "_view_count": null,
       "_view_module": "@jupyter-widgets/controls",
       "_view_module_version": "1.5.0",
       "_view_name": "HBoxView",
       "box_style": "",
       "children": [
        "IPY_MODEL_89018122a25744f6aa5f0b8a7da7ae2b",
        "IPY_MODEL_c019c66f8b3d46a586184f13f5eb2853",
        "IPY_MODEL_86c37a2c4a5f44d787aa9b1ec367cb22"
       ],
       "layout": "IPY_MODEL_0c112b00c7154600a88303880f5086fa"
      }
     },
     "86c37a2c4a5f44d787aa9b1ec367cb22": {
      "model_module": "@jupyter-widgets/controls",
      "model_module_version": "1.5.0",
      "model_name": "HTMLModel",
      "state": {
       "_dom_classes": [],
       "_model_module": "@jupyter-widgets/controls",
       "_model_module_version": "1.5.0",
       "_model_name": "HTMLModel",
       "_view_count": null,
       "_view_module": "@jupyter-widgets/controls",
       "_view_module_version": "1.5.0",
       "_view_name": "HTMLView",
       "description": "",
       "description_tooltip": null,
       "layout": "IPY_MODEL_7514b57edb6a4d26a8e2bd77d97decdc",
       "placeholder": "​",
       "style": "IPY_MODEL_8a95ce9385e744a59d104a22ed742067",
       "value": " 40115/40115 [00:40&lt;00:00, 1047.72it/s]"
      }
     },
     "8800a9cad1af4922acee45f24e4f34a3": {
      "model_module": "@jupyter-widgets/controls",
      "model_module_version": "1.5.0",
      "model_name": "DescriptionStyleModel",
      "state": {
       "_model_module": "@jupyter-widgets/controls",
       "_model_module_version": "1.5.0",
       "_model_name": "DescriptionStyleModel",
       "_view_count": null,
       "_view_module": "@jupyter-widgets/base",
       "_view_module_version": "1.2.0",
       "_view_name": "StyleView",
       "description_width": ""
      }
     },
     "89018122a25744f6aa5f0b8a7da7ae2b": {
      "model_module": "@jupyter-widgets/controls",
      "model_module_version": "1.5.0",
      "model_name": "HTMLModel",
      "state": {
       "_dom_classes": [],
       "_model_module": "@jupyter-widgets/controls",
       "_model_module_version": "1.5.0",
       "_model_name": "HTMLModel",
       "_view_count": null,
       "_view_module": "@jupyter-widgets/controls",
       "_view_module_version": "1.5.0",
       "_view_name": "HTMLView",
       "description": "",
       "description_tooltip": null,
       "layout": "IPY_MODEL_8e595851bf0c4cba95ab6a67d183c243",
       "placeholder": "​",
       "style": "IPY_MODEL_c9a260a1170e431e80ca852173e978ac",
       "value": "100%"
      }
     },
     "8a42db04416d4f979b0bff6352fef00e": {
      "model_module": "@jupyter-widgets/controls",
      "model_module_version": "1.5.0",
      "model_name": "DescriptionStyleModel",
      "state": {
       "_model_module": "@jupyter-widgets/controls",
       "_model_module_version": "1.5.0",
       "_model_name": "DescriptionStyleModel",
       "_view_count": null,
       "_view_module": "@jupyter-widgets/base",
       "_view_module_version": "1.2.0",
       "_view_name": "StyleView",
       "description_width": ""
      }
     },
     "8a95ce9385e744a59d104a22ed742067": {
      "model_module": "@jupyter-widgets/controls",
      "model_module_version": "1.5.0",
      "model_name": "DescriptionStyleModel",
      "state": {
       "_model_module": "@jupyter-widgets/controls",
       "_model_module_version": "1.5.0",
       "_model_name": "DescriptionStyleModel",
       "_view_count": null,
       "_view_module": "@jupyter-widgets/base",
       "_view_module_version": "1.2.0",
       "_view_name": "StyleView",
       "description_width": ""
      }
     },
     "8dfdd9bd820e428ca74ed692e1e606fc": {
      "model_module": "@jupyter-widgets/base",
      "model_module_version": "1.2.0",
      "model_name": "LayoutModel",
      "state": {
       "_model_module": "@jupyter-widgets/base",
       "_model_module_version": "1.2.0",
       "_model_name": "LayoutModel",
       "_view_count": null,
       "_view_module": "@jupyter-widgets/base",
       "_view_module_version": "1.2.0",
       "_view_name": "LayoutView",
       "align_content": null,
       "align_items": null,
       "align_self": null,
       "border": null,
       "bottom": null,
       "display": null,
       "flex": null,
       "flex_flow": null,
       "grid_area": null,
       "grid_auto_columns": null,
       "grid_auto_flow": null,
       "grid_auto_rows": null,
       "grid_column": null,
       "grid_gap": null,
       "grid_row": null,
       "grid_template_areas": null,
       "grid_template_columns": null,
       "grid_template_rows": null,
       "height": null,
       "justify_content": null,
       "justify_items": null,
       "left": null,
       "margin": null,
       "max_height": null,
       "max_width": null,
       "min_height": null,
       "min_width": null,
       "object_fit": null,
       "object_position": null,
       "order": null,
       "overflow": null,
       "overflow_x": null,
       "overflow_y": null,
       "padding": null,
       "right": null,
       "top": null,
       "visibility": null,
       "width": null
      }
     },
     "8e595851bf0c4cba95ab6a67d183c243": {
      "model_module": "@jupyter-widgets/base",
      "model_module_version": "1.2.0",
      "model_name": "LayoutModel",
      "state": {
       "_model_module": "@jupyter-widgets/base",
       "_model_module_version": "1.2.0",
       "_model_name": "LayoutModel",
       "_view_count": null,
       "_view_module": "@jupyter-widgets/base",
       "_view_module_version": "1.2.0",
       "_view_name": "LayoutView",
       "align_content": null,
       "align_items": null,
       "align_self": null,
       "border": null,
       "bottom": null,
       "display": null,
       "flex": null,
       "flex_flow": null,
       "grid_area": null,
       "grid_auto_columns": null,
       "grid_auto_flow": null,
       "grid_auto_rows": null,
       "grid_column": null,
       "grid_gap": null,
       "grid_row": null,
       "grid_template_areas": null,
       "grid_template_columns": null,
       "grid_template_rows": null,
       "height": null,
       "justify_content": null,
       "justify_items": null,
       "left": null,
       "margin": null,
       "max_height": null,
       "max_width": null,
       "min_height": null,
       "min_width": null,
       "object_fit": null,
       "object_position": null,
       "order": null,
       "overflow": null,
       "overflow_x": null,
       "overflow_y": null,
       "padding": null,
       "right": null,
       "top": null,
       "visibility": null,
       "width": null
      }
     },
     "9f01389694714366abd53f4a54df45e7": {
      "model_module": "@jupyter-widgets/controls",
      "model_module_version": "1.5.0",
      "model_name": "DescriptionStyleModel",
      "state": {
       "_model_module": "@jupyter-widgets/controls",
       "_model_module_version": "1.5.0",
       "_model_name": "DescriptionStyleModel",
       "_view_count": null,
       "_view_module": "@jupyter-widgets/base",
       "_view_module_version": "1.2.0",
       "_view_name": "StyleView",
       "description_width": ""
      }
     },
     "a0854ccfe05b4537a7d204e5e78c5429": {
      "model_module": "@jupyter-widgets/base",
      "model_module_version": "1.2.0",
      "model_name": "LayoutModel",
      "state": {
       "_model_module": "@jupyter-widgets/base",
       "_model_module_version": "1.2.0",
       "_model_name": "LayoutModel",
       "_view_count": null,
       "_view_module": "@jupyter-widgets/base",
       "_view_module_version": "1.2.0",
       "_view_name": "LayoutView",
       "align_content": null,
       "align_items": null,
       "align_self": null,
       "border": null,
       "bottom": null,
       "display": null,
       "flex": null,
       "flex_flow": null,
       "grid_area": null,
       "grid_auto_columns": null,
       "grid_auto_flow": null,
       "grid_auto_rows": null,
       "grid_column": null,
       "grid_gap": null,
       "grid_row": null,
       "grid_template_areas": null,
       "grid_template_columns": null,
       "grid_template_rows": null,
       "height": null,
       "justify_content": null,
       "justify_items": null,
       "left": null,
       "margin": null,
       "max_height": null,
       "max_width": null,
       "min_height": null,
       "min_width": null,
       "object_fit": null,
       "object_position": null,
       "order": null,
       "overflow": null,
       "overflow_x": null,
       "overflow_y": null,
       "padding": null,
       "right": null,
       "top": null,
       "visibility": null,
       "width": null
      }
     },
     "a117c90281fe49d2ab483206c3f64c2a": {
      "model_module": "@jupyter-widgets/controls",
      "model_module_version": "1.5.0",
      "model_name": "ProgressStyleModel",
      "state": {
       "_model_module": "@jupyter-widgets/controls",
       "_model_module_version": "1.5.0",
       "_model_name": "ProgressStyleModel",
       "_view_count": null,
       "_view_module": "@jupyter-widgets/base",
       "_view_module_version": "1.2.0",
       "_view_name": "StyleView",
       "bar_color": null,
       "description_width": ""
      }
     },
     "a1954aa42f9f43cc962b301c04ff5cb2": {
      "model_module": "@jupyter-widgets/base",
      "model_module_version": "1.2.0",
      "model_name": "LayoutModel",
      "state": {
       "_model_module": "@jupyter-widgets/base",
       "_model_module_version": "1.2.0",
       "_model_name": "LayoutModel",
       "_view_count": null,
       "_view_module": "@jupyter-widgets/base",
       "_view_module_version": "1.2.0",
       "_view_name": "LayoutView",
       "align_content": null,
       "align_items": null,
       "align_self": null,
       "border": null,
       "bottom": null,
       "display": null,
       "flex": null,
       "flex_flow": null,
       "grid_area": null,
       "grid_auto_columns": null,
       "grid_auto_flow": null,
       "grid_auto_rows": null,
       "grid_column": null,
       "grid_gap": null,
       "grid_row": null,
       "grid_template_areas": null,
       "grid_template_columns": null,
       "grid_template_rows": null,
       "height": null,
       "justify_content": null,
       "justify_items": null,
       "left": null,
       "margin": null,
       "max_height": null,
       "max_width": null,
       "min_height": null,
       "min_width": null,
       "object_fit": null,
       "object_position": null,
       "order": null,
       "overflow": null,
       "overflow_x": null,
       "overflow_y": null,
       "padding": null,
       "right": null,
       "top": null,
       "visibility": null,
       "width": null
      }
     },
     "a8663cf794f443c49936537e9aa98d50": {
      "model_module": "@jupyter-widgets/base",
      "model_module_version": "1.2.0",
      "model_name": "LayoutModel",
      "state": {
       "_model_module": "@jupyter-widgets/base",
       "_model_module_version": "1.2.0",
       "_model_name": "LayoutModel",
       "_view_count": null,
       "_view_module": "@jupyter-widgets/base",
       "_view_module_version": "1.2.0",
       "_view_name": "LayoutView",
       "align_content": null,
       "align_items": null,
       "align_self": null,
       "border": null,
       "bottom": null,
       "display": null,
       "flex": null,
       "flex_flow": null,
       "grid_area": null,
       "grid_auto_columns": null,
       "grid_auto_flow": null,
       "grid_auto_rows": null,
       "grid_column": null,
       "grid_gap": null,
       "grid_row": null,
       "grid_template_areas": null,
       "grid_template_columns": null,
       "grid_template_rows": null,
       "height": null,
       "justify_content": null,
       "justify_items": null,
       "left": null,
       "margin": null,
       "max_height": null,
       "max_width": null,
       "min_height": null,
       "min_width": null,
       "object_fit": null,
       "object_position": null,
       "order": null,
       "overflow": null,
       "overflow_x": null,
       "overflow_y": null,
       "padding": null,
       "right": null,
       "top": null,
       "visibility": null,
       "width": null
      }
     },
     "ac5218cd69844a64ac104297413488f4": {
      "model_module": "@jupyter-widgets/controls",
      "model_module_version": "1.5.0",
      "model_name": "ProgressStyleModel",
      "state": {
       "_model_module": "@jupyter-widgets/controls",
       "_model_module_version": "1.5.0",
       "_model_name": "ProgressStyleModel",
       "_view_count": null,
       "_view_module": "@jupyter-widgets/base",
       "_view_module_version": "1.2.0",
       "_view_name": "StyleView",
       "bar_color": null,
       "description_width": ""
      }
     },
     "b7e242998fd44178a0dd52b7cb6fa9e1": {
      "model_module": "@jupyter-widgets/controls",
      "model_module_version": "1.5.0",
      "model_name": "DescriptionStyleModel",
      "state": {
       "_model_module": "@jupyter-widgets/controls",
       "_model_module_version": "1.5.0",
       "_model_name": "DescriptionStyleModel",
       "_view_count": null,
       "_view_module": "@jupyter-widgets/base",
       "_view_module_version": "1.2.0",
       "_view_name": "StyleView",
       "description_width": ""
      }
     },
     "bc57f7b0bf8a4ad59cc5c4748060603d": {
      "model_module": "@jupyter-widgets/base",
      "model_module_version": "1.2.0",
      "model_name": "LayoutModel",
      "state": {
       "_model_module": "@jupyter-widgets/base",
       "_model_module_version": "1.2.0",
       "_model_name": "LayoutModel",
       "_view_count": null,
       "_view_module": "@jupyter-widgets/base",
       "_view_module_version": "1.2.0",
       "_view_name": "LayoutView",
       "align_content": null,
       "align_items": null,
       "align_self": null,
       "border": null,
       "bottom": null,
       "display": null,
       "flex": null,
       "flex_flow": null,
       "grid_area": null,
       "grid_auto_columns": null,
       "grid_auto_flow": null,
       "grid_auto_rows": null,
       "grid_column": null,
       "grid_gap": null,
       "grid_row": null,
       "grid_template_areas": null,
       "grid_template_columns": null,
       "grid_template_rows": null,
       "height": null,
       "justify_content": null,
       "justify_items": null,
       "left": null,
       "margin": null,
       "max_height": null,
       "max_width": null,
       "min_height": null,
       "min_width": null,
       "object_fit": null,
       "object_position": null,
       "order": null,
       "overflow": null,
       "overflow_x": null,
       "overflow_y": null,
       "padding": null,
       "right": null,
       "top": null,
       "visibility": null,
       "width": null
      }
     },
     "bca575bd80eb435eb820ee06d25ac154": {
      "model_module": "@jupyter-widgets/base",
      "model_module_version": "1.2.0",
      "model_name": "LayoutModel",
      "state": {
       "_model_module": "@jupyter-widgets/base",
       "_model_module_version": "1.2.0",
       "_model_name": "LayoutModel",
       "_view_count": null,
       "_view_module": "@jupyter-widgets/base",
       "_view_module_version": "1.2.0",
       "_view_name": "LayoutView",
       "align_content": null,
       "align_items": null,
       "align_self": null,
       "border": null,
       "bottom": null,
       "display": null,
       "flex": null,
       "flex_flow": null,
       "grid_area": null,
       "grid_auto_columns": null,
       "grid_auto_flow": null,
       "grid_auto_rows": null,
       "grid_column": null,
       "grid_gap": null,
       "grid_row": null,
       "grid_template_areas": null,
       "grid_template_columns": null,
       "grid_template_rows": null,
       "height": null,
       "justify_content": null,
       "justify_items": null,
       "left": null,
       "margin": null,
       "max_height": null,
       "max_width": null,
       "min_height": null,
       "min_width": null,
       "object_fit": null,
       "object_position": null,
       "order": null,
       "overflow": null,
       "overflow_x": null,
       "overflow_y": null,
       "padding": null,
       "right": null,
       "top": null,
       "visibility": null,
       "width": null
      }
     },
     "c019c66f8b3d46a586184f13f5eb2853": {
      "model_module": "@jupyter-widgets/controls",
      "model_module_version": "1.5.0",
      "model_name": "FloatProgressModel",
      "state": {
       "_dom_classes": [],
       "_model_module": "@jupyter-widgets/controls",
       "_model_module_version": "1.5.0",
       "_model_name": "FloatProgressModel",
       "_view_count": null,
       "_view_module": "@jupyter-widgets/controls",
       "_view_module_version": "1.5.0",
       "_view_name": "ProgressView",
       "bar_style": "success",
       "description": "",
       "description_tooltip": null,
       "layout": "IPY_MODEL_0410b5e9211c44aba81e0039084a9017",
       "max": 40115.0,
       "min": 0.0,
       "orientation": "horizontal",
       "style": "IPY_MODEL_dbf011a740484f50880cd1e01e6bd1d3",
       "value": 40115.0
      }
     },
     "c9a260a1170e431e80ca852173e978ac": {
      "model_module": "@jupyter-widgets/controls",
      "model_module_version": "1.5.0",
      "model_name": "DescriptionStyleModel",
      "state": {
       "_model_module": "@jupyter-widgets/controls",
       "_model_module_version": "1.5.0",
       "_model_name": "DescriptionStyleModel",
       "_view_count": null,
       "_view_module": "@jupyter-widgets/base",
       "_view_module_version": "1.2.0",
       "_view_name": "StyleView",
       "description_width": ""
      }
     },
     "cb79f66553514d6aabebc40889f3793a": {
      "model_module": "@jupyter-widgets/controls",
      "model_module_version": "1.5.0",
      "model_name": "HTMLModel",
      "state": {
       "_dom_classes": [],
       "_model_module": "@jupyter-widgets/controls",
       "_model_module_version": "1.5.0",
       "_model_name": "HTMLModel",
       "_view_count": null,
       "_view_module": "@jupyter-widgets/controls",
       "_view_module_version": "1.5.0",
       "_view_name": "HTMLView",
       "description": "",
       "description_tooltip": null,
       "layout": "IPY_MODEL_4407c4ab271e4c9789b003874775c326",
       "placeholder": "​",
       "style": "IPY_MODEL_020f0271d76e4502a9a659ff0c75721f",
       "value": "100%"
      }
     },
     "d144743833604c79a3bb02a1272a41b9": {
      "model_module": "@jupyter-widgets/controls",
      "model_module_version": "1.5.0",
      "model_name": "HBoxModel",
      "state": {
       "_dom_classes": [],
       "_model_module": "@jupyter-widgets/controls",
       "_model_module_version": "1.5.0",
       "_model_name": "HBoxModel",
       "_view_count": null,
       "_view_module": "@jupyter-widgets/controls",
       "_view_module_version": "1.5.0",
       "_view_name": "HBoxView",
       "box_style": "",
       "children": [
        "IPY_MODEL_717327bf073748c9a6c63191e606689f",
        "IPY_MODEL_216577628ed54f9d90aee2cc877a60ad",
        "IPY_MODEL_57e0ed84d1c4498ebf3ab8b92e2a62de"
       ],
       "layout": "IPY_MODEL_5c5949d3c08b43f09ff975baf89470b8"
      }
     },
     "dbf011a740484f50880cd1e01e6bd1d3": {
      "model_module": "@jupyter-widgets/controls",
      "model_module_version": "1.5.0",
      "model_name": "ProgressStyleModel",
      "state": {
       "_model_module": "@jupyter-widgets/controls",
       "_model_module_version": "1.5.0",
       "_model_name": "ProgressStyleModel",
       "_view_count": null,
       "_view_module": "@jupyter-widgets/base",
       "_view_module_version": "1.2.0",
       "_view_name": "StyleView",
       "bar_color": null,
       "description_width": ""
      }
     },
     "e834adf2abb04076a77e3a956b8c6e29": {
      "model_module": "@jupyter-widgets/base",
      "model_module_version": "1.2.0",
      "model_name": "LayoutModel",
      "state": {
       "_model_module": "@jupyter-widgets/base",
       "_model_module_version": "1.2.0",
       "_model_name": "LayoutModel",
       "_view_count": null,
       "_view_module": "@jupyter-widgets/base",
       "_view_module_version": "1.2.0",
       "_view_name": "LayoutView",
       "align_content": null,
       "align_items": null,
       "align_self": null,
       "border": null,
       "bottom": null,
       "display": null,
       "flex": null,
       "flex_flow": null,
       "grid_area": null,
       "grid_auto_columns": null,
       "grid_auto_flow": null,
       "grid_auto_rows": null,
       "grid_column": null,
       "grid_gap": null,
       "grid_row": null,
       "grid_template_areas": null,
       "grid_template_columns": null,
       "grid_template_rows": null,
       "height": null,
       "justify_content": null,
       "justify_items": null,
       "left": null,
       "margin": null,
       "max_height": null,
       "max_width": null,
       "min_height": null,
       "min_width": null,
       "object_fit": null,
       "object_position": null,
       "order": null,
       "overflow": null,
       "overflow_x": null,
       "overflow_y": null,
       "padding": null,
       "right": null,
       "top": null,
       "visibility": null,
       "width": null
      }
     },
     "e94b2592a51a47d3a68c0b172fc72210": {
      "model_module": "@jupyter-widgets/base",
      "model_module_version": "1.2.0",
      "model_name": "LayoutModel",
      "state": {
       "_model_module": "@jupyter-widgets/base",
       "_model_module_version": "1.2.0",
       "_model_name": "LayoutModel",
       "_view_count": null,
       "_view_module": "@jupyter-widgets/base",
       "_view_module_version": "1.2.0",
       "_view_name": "LayoutView",
       "align_content": null,
       "align_items": null,
       "align_self": null,
       "border": null,
       "bottom": null,
       "display": null,
       "flex": null,
       "flex_flow": null,
       "grid_area": null,
       "grid_auto_columns": null,
       "grid_auto_flow": null,
       "grid_auto_rows": null,
       "grid_column": null,
       "grid_gap": null,
       "grid_row": null,
       "grid_template_areas": null,
       "grid_template_columns": null,
       "grid_template_rows": null,
       "height": null,
       "justify_content": null,
       "justify_items": null,
       "left": null,
       "margin": null,
       "max_height": null,
       "max_width": null,
       "min_height": null,
       "min_width": null,
       "object_fit": null,
       "object_position": null,
       "order": null,
       "overflow": null,
       "overflow_x": null,
       "overflow_y": null,
       "padding": null,
       "right": null,
       "top": null,
       "visibility": null,
       "width": null
      }
     },
     "ea6284d48a5442baaa99ff8d5f0c7203": {
      "model_module": "@jupyter-widgets/controls",
      "model_module_version": "1.5.0",
      "model_name": "HTMLModel",
      "state": {
       "_dom_classes": [],
       "_model_module": "@jupyter-widgets/controls",
       "_model_module_version": "1.5.0",
       "_model_name": "HTMLModel",
       "_view_count": null,
       "_view_module": "@jupyter-widgets/controls",
       "_view_module_version": "1.5.0",
       "_view_name": "HTMLView",
       "description": "",
       "description_tooltip": null,
       "layout": "IPY_MODEL_21c6f52d1390465ca24c966c6dc8ed04",
       "placeholder": "​",
       "style": "IPY_MODEL_5ffd2221905242c38b5cb8a163ff42a1",
       "value": "100%"
      }
     },
     "edcfbe8d64054c2cb69f14534168afb5": {
      "model_module": "@jupyter-widgets/controls",
      "model_module_version": "1.5.0",
      "model_name": "DescriptionStyleModel",
      "state": {
       "_model_module": "@jupyter-widgets/controls",
       "_model_module_version": "1.5.0",
       "_model_name": "DescriptionStyleModel",
       "_view_count": null,
       "_view_module": "@jupyter-widgets/base",
       "_view_module_version": "1.2.0",
       "_view_name": "StyleView",
       "description_width": ""
      }
     },
     "f138279bcaf443148e831e3828855d47": {
      "model_module": "@jupyter-widgets/controls",
      "model_module_version": "1.5.0",
      "model_name": "ProgressStyleModel",
      "state": {
       "_model_module": "@jupyter-widgets/controls",
       "_model_module_version": "1.5.0",
       "_model_name": "ProgressStyleModel",
       "_view_count": null,
       "_view_module": "@jupyter-widgets/base",
       "_view_module_version": "1.2.0",
       "_view_name": "StyleView",
       "bar_color": null,
       "description_width": ""
      }
     },
     "f270b33e96b84e9aadfee765509e3c9c": {
      "model_module": "@jupyter-widgets/controls",
      "model_module_version": "1.5.0",
      "model_name": "VBoxModel",
      "state": {
       "_dom_classes": [],
       "_model_module": "@jupyter-widgets/controls",
       "_model_module_version": "1.5.0",
       "_model_name": "VBoxModel",
       "_view_count": null,
       "_view_module": "@jupyter-widgets/controls",
       "_view_module_version": "1.5.0",
       "_view_name": "VBoxView",
       "box_style": "",
       "children": [
        "IPY_MODEL_394fbeb6b5964453a6da6440e7463807",
        "IPY_MODEL_3512f4b320d242f38ed9cab4fa75f809"
       ],
       "layout": "IPY_MODEL_00a6d42de4ea48cfa588ef55071ea116"
      }
     },
     "fdd58bb5f25147738cceddd48ac1af57": {
      "model_module": "@jupyter-widgets/controls",
      "model_module_version": "1.5.0",
      "model_name": "HTMLModel",
      "state": {
       "_dom_classes": [],
       "_model_module": "@jupyter-widgets/controls",
       "_model_module_version": "1.5.0",
       "_model_name": "HTMLModel",
       "_view_count": null,
       "_view_module": "@jupyter-widgets/controls",
       "_view_module_version": "1.5.0",
       "_view_name": "HTMLView",
       "description": "",
       "description_tooltip": null,
       "layout": "IPY_MODEL_e834adf2abb04076a77e3a956b8c6e29",
       "placeholder": "​",
       "style": "IPY_MODEL_edcfbe8d64054c2cb69f14534168afb5",
       "value": " 325268/325268 [05:17&lt;00:00, 1078.94it/s]"
      }
     },
     "fded20b4276543cda040b29b978866bb": {
      "model_module": "@jupyter-widgets/controls",
      "model_module_version": "1.5.0",
      "model_name": "FloatProgressModel",
      "state": {
       "_dom_classes": [],
       "_model_module": "@jupyter-widgets/controls",
       "_model_module_version": "1.5.0",
       "_model_name": "FloatProgressModel",
       "_view_count": null,
       "_view_module": "@jupyter-widgets/controls",
       "_view_module_version": "1.5.0",
       "_view_name": "ProgressView",
       "bar_style": "success",
       "description": "",
       "description_tooltip": null,
       "layout": "IPY_MODEL_34635c99740d4054943311c3f0882a2a",
       "max": 325268.0,
       "min": 0.0,
       "orientation": "horizontal",
       "style": "IPY_MODEL_f138279bcaf443148e831e3828855d47",
       "value": 325268.0
      }
     }
    },
    "version_major": 2,
    "version_minor": 0
   }
  }
 },
 "nbformat": 4,
 "nbformat_minor": 5
}
