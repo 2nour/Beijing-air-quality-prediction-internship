{
 "cells": [
  {
   "cell_type": "code",
   "execution_count": 1,
   "id": "eaef56c2",
   "metadata": {
    "execution": {
     "iopub.execute_input": "2022-09-17T00:21:19.149889Z",
     "iopub.status.busy": "2022-09-17T00:21:19.149386Z",
     "iopub.status.idle": "2022-09-17T00:21:20.605828Z",
     "shell.execute_reply": "2022-09-17T00:21:20.604900Z"
    },
    "papermill": {
     "duration": 1.465944,
     "end_time": "2022-09-17T00:21:20.608308",
     "exception": false,
     "start_time": "2022-09-17T00:21:19.142364",
     "status": "completed"
    },
    "tags": []
   },
   "outputs": [],
   "source": [
    "import gc\n",
    "\n",
    "import pandas as pd\n",
    "import numpy as np\n",
    "import matplotlib.pyplot as plt\n",
    "\n",
    "\n",
    "import seaborn as sns\n",
    "sns.set(style=\"whitegrid\", color_codes=True)\n",
    "from statsmodels.tsa.stattools import acf, pacf\n",
    "\n",
    "from math import sqrt, log, exp\n",
    "from sklearn.model_selection import train_test_split, TimeSeriesSplit\n",
    "from sklearn.metrics import mean_squared_error as mse\n",
    "from sklearn.metrics import mean_squared_log_error as msle\n",
    "from sklearn.metrics import mean_absolute_error as mae\n",
    "from sklearn.metrics import r2_score as r2\n",
    "\n",
    "import catboost as cb"
   ]
  },
  {
   "cell_type": "code",
   "execution_count": 2,
   "id": "4df548ba",
   "metadata": {
    "execution": {
     "iopub.execute_input": "2022-09-17T00:21:20.618337Z",
     "iopub.status.busy": "2022-09-17T00:21:20.618040Z",
     "iopub.status.idle": "2022-09-17T00:21:21.516186Z",
     "shell.execute_reply": "2022-09-17T00:21:21.515063Z"
    },
    "papermill": {
     "duration": 0.906464,
     "end_time": "2022-09-17T00:21:21.519211",
     "exception": false,
     "start_time": "2022-09-17T00:21:20.612747",
     "status": "completed"
    },
    "tags": []
   },
   "outputs": [],
   "source": [
    "# Importing the data\n",
    "data = pd.read_csv('../input/beijing-air-quality-preprocessed/airquality_data.csv')"
   ]
  },
  {
   "cell_type": "markdown",
   "id": "f3ff3440",
   "metadata": {
    "papermill": {
     "duration": 0.005648,
     "end_time": "2022-09-17T00:21:21.531353",
     "exception": false,
     "start_time": "2022-09-17T00:21:21.525705",
     "status": "completed"
    },
    "tags": []
   },
   "source": [
    "# Train test split"
   ]
  },
  {
   "cell_type": "code",
   "execution_count": 3,
   "id": "89f8de9f",
   "metadata": {
    "execution": {
     "iopub.execute_input": "2022-09-17T00:21:21.545163Z",
     "iopub.status.busy": "2022-09-17T00:21:21.544810Z",
     "iopub.status.idle": "2022-09-17T00:21:21.581813Z",
     "shell.execute_reply": "2022-09-17T00:21:21.581020Z"
    },
    "papermill": {
     "duration": 0.046528,
     "end_time": "2022-09-17T00:21:21.584248",
     "exception": false,
     "start_time": "2022-09-17T00:21:21.537720",
     "status": "completed"
    },
    "tags": []
   },
   "outputs": [
    {
     "data": {
      "text/html": [
       "<div>\n",
       "<style scoped>\n",
       "    .dataframe tbody tr th:only-of-type {\n",
       "        vertical-align: middle;\n",
       "    }\n",
       "\n",
       "    .dataframe tbody tr th {\n",
       "        vertical-align: top;\n",
       "    }\n",
       "\n",
       "    .dataframe thead th {\n",
       "        text-align: right;\n",
       "    }\n",
       "</style>\n",
       "<table border=\"1\" class=\"dataframe\">\n",
       "  <thead>\n",
       "    <tr style=\"text-align: right;\">\n",
       "      <th></th>\n",
       "      <th>No</th>\n",
       "      <th>year</th>\n",
       "      <th>month</th>\n",
       "      <th>day</th>\n",
       "      <th>hour</th>\n",
       "      <th>PM2.5</th>\n",
       "      <th>PM10</th>\n",
       "      <th>SO2</th>\n",
       "      <th>NO2</th>\n",
       "      <th>CO</th>\n",
       "      <th>O3</th>\n",
       "      <th>TEMP</th>\n",
       "      <th>PRES</th>\n",
       "      <th>DEWP</th>\n",
       "      <th>RAIN</th>\n",
       "      <th>wd</th>\n",
       "      <th>WSPM</th>\n",
       "      <th>station</th>\n",
       "    </tr>\n",
       "  </thead>\n",
       "  <tbody>\n",
       "    <tr>\n",
       "      <th>0</th>\n",
       "      <td>1</td>\n",
       "      <td>2013</td>\n",
       "      <td>3</td>\n",
       "      <td>1</td>\n",
       "      <td>0</td>\n",
       "      <td>6.0</td>\n",
       "      <td>18.0</td>\n",
       "      <td>5.0</td>\n",
       "      <td>9.80000</td>\n",
       "      <td>800.0</td>\n",
       "      <td>88.0</td>\n",
       "      <td>0.1</td>\n",
       "      <td>1021.1</td>\n",
       "      <td>-18.6</td>\n",
       "      <td>0.0</td>\n",
       "      <td>7</td>\n",
       "      <td>4.4</td>\n",
       "      <td>5</td>\n",
       "    </tr>\n",
       "    <tr>\n",
       "      <th>1</th>\n",
       "      <td>2</td>\n",
       "      <td>2013</td>\n",
       "      <td>3</td>\n",
       "      <td>1</td>\n",
       "      <td>1</td>\n",
       "      <td>6.0</td>\n",
       "      <td>15.0</td>\n",
       "      <td>5.0</td>\n",
       "      <td>11.00000</td>\n",
       "      <td>800.0</td>\n",
       "      <td>88.0</td>\n",
       "      <td>-0.3</td>\n",
       "      <td>1021.5</td>\n",
       "      <td>-19.0</td>\n",
       "      <td>0.0</td>\n",
       "      <td>7</td>\n",
       "      <td>4.0</td>\n",
       "      <td>5</td>\n",
       "    </tr>\n",
       "    <tr>\n",
       "      <th>2</th>\n",
       "      <td>3</td>\n",
       "      <td>2013</td>\n",
       "      <td>3</td>\n",
       "      <td>1</td>\n",
       "      <td>2</td>\n",
       "      <td>5.0</td>\n",
       "      <td>18.0</td>\n",
       "      <td>5.2</td>\n",
       "      <td>10.09936</td>\n",
       "      <td>700.0</td>\n",
       "      <td>52.0</td>\n",
       "      <td>-0.7</td>\n",
       "      <td>1021.5</td>\n",
       "      <td>-19.8</td>\n",
       "      <td>0.0</td>\n",
       "      <td>14</td>\n",
       "      <td>4.6</td>\n",
       "      <td>5</td>\n",
       "    </tr>\n",
       "    <tr>\n",
       "      <th>3</th>\n",
       "      <td>4</td>\n",
       "      <td>2013</td>\n",
       "      <td>3</td>\n",
       "      <td>1</td>\n",
       "      <td>3</td>\n",
       "      <td>6.0</td>\n",
       "      <td>20.0</td>\n",
       "      <td>6.0</td>\n",
       "      <td>13.60000</td>\n",
       "      <td>320.0</td>\n",
       "      <td>49.8</td>\n",
       "      <td>-1.0</td>\n",
       "      <td>1022.7</td>\n",
       "      <td>-21.2</td>\n",
       "      <td>0.0</td>\n",
       "      <td>13</td>\n",
       "      <td>2.8</td>\n",
       "      <td>5</td>\n",
       "    </tr>\n",
       "    <tr>\n",
       "      <th>4</th>\n",
       "      <td>5</td>\n",
       "      <td>2013</td>\n",
       "      <td>3</td>\n",
       "      <td>1</td>\n",
       "      <td>4</td>\n",
       "      <td>5.0</td>\n",
       "      <td>17.0</td>\n",
       "      <td>5.0</td>\n",
       "      <td>15.60000</td>\n",
       "      <td>600.0</td>\n",
       "      <td>73.0</td>\n",
       "      <td>-1.3</td>\n",
       "      <td>1023.0</td>\n",
       "      <td>-21.4</td>\n",
       "      <td>0.0</td>\n",
       "      <td>14</td>\n",
       "      <td>3.6</td>\n",
       "      <td>5</td>\n",
       "    </tr>\n",
       "  </tbody>\n",
       "</table>\n",
       "</div>"
      ],
      "text/plain": [
       "   No  year  month  day  hour  PM2.5  PM10  SO2       NO2     CO    O3  TEMP  \\\n",
       "0   1  2013      3    1     0    6.0  18.0  5.0   9.80000  800.0  88.0   0.1   \n",
       "1   2  2013      3    1     1    6.0  15.0  5.0  11.00000  800.0  88.0  -0.3   \n",
       "2   3  2013      3    1     2    5.0  18.0  5.2  10.09936  700.0  52.0  -0.7   \n",
       "3   4  2013      3    1     3    6.0  20.0  6.0  13.60000  320.0  49.8  -1.0   \n",
       "4   5  2013      3    1     4    5.0  17.0  5.0  15.60000  600.0  73.0  -1.3   \n",
       "\n",
       "     PRES  DEWP  RAIN  wd  WSPM  station  \n",
       "0  1021.1 -18.6   0.0   7   4.4        5  \n",
       "1  1021.5 -19.0   0.0   7   4.0        5  \n",
       "2  1021.5 -19.8   0.0  14   4.6        5  \n",
       "3  1022.7 -21.2   0.0  13   2.8        5  \n",
       "4  1023.0 -21.4   0.0  14   3.6        5  "
      ]
     },
     "execution_count": 3,
     "metadata": {},
     "output_type": "execute_result"
    }
   ],
   "source": [
    "data.head()"
   ]
  },
  {
   "cell_type": "code",
   "execution_count": 4,
   "id": "7392e6f0",
   "metadata": {
    "execution": {
     "iopub.execute_input": "2022-09-17T00:21:21.598410Z",
     "iopub.status.busy": "2022-09-17T00:21:21.598098Z",
     "iopub.status.idle": "2022-09-17T00:21:21.642415Z",
     "shell.execute_reply": "2022-09-17T00:21:21.641342Z"
    },
    "papermill": {
     "duration": 0.054643,
     "end_time": "2022-09-17T00:21:21.645368",
     "exception": false,
     "start_time": "2022-09-17T00:21:21.590725",
     "status": "completed"
    },
    "tags": []
   },
   "outputs": [],
   "source": [
    "# Splitting tha data into train and test\n",
    "train_data, test = train_test_split(data,\n",
    "                               test_size=0.1,\n",
    "                               shuffle=False)"
   ]
  },
  {
   "cell_type": "code",
   "execution_count": 5,
   "id": "da86778c",
   "metadata": {
    "execution": {
     "iopub.execute_input": "2022-09-17T00:21:21.660826Z",
     "iopub.status.busy": "2022-09-17T00:21:21.660486Z",
     "iopub.status.idle": "2022-09-17T00:21:21.707894Z",
     "shell.execute_reply": "2022-09-17T00:21:21.706914Z"
    },
    "papermill": {
     "duration": 0.058296,
     "end_time": "2022-09-17T00:21:21.711013",
     "exception": false,
     "start_time": "2022-09-17T00:21:21.652717",
     "status": "completed"
    },
    "tags": []
   },
   "outputs": [],
   "source": [
    "# Splitting tha data into train and valid\n",
    "train, valid = train_test_split(train_data,\n",
    "                               test_size=0.1,\n",
    "                               shuffle=False)"
   ]
  },
  {
   "cell_type": "markdown",
   "id": "dbf61044",
   "metadata": {
    "papermill": {
     "duration": 0.006467,
     "end_time": "2022-09-17T00:21:21.725209",
     "exception": false,
     "start_time": "2022-09-17T00:21:21.718742",
     "status": "completed"
    },
    "tags": []
   },
   "source": [
    "# Feature Engineering"
   ]
  },
  {
   "cell_type": "markdown",
   "id": "1a521b2c",
   "metadata": {
    "papermill": {
     "duration": 0.006539,
     "end_time": "2022-09-17T00:21:21.738047",
     "exception": false,
     "start_time": "2022-09-17T00:21:21.731508",
     "status": "completed"
    },
    "tags": []
   },
   "source": [
    "# PACF\n",
    "This function was introduced as part of the Box–Jenkins approach to time series modelling, whereby plotting the partial autocorrelative functions one could determine the appropriate lags **p** in an AR **(p)** model or in an extended ARIMA **(p,d,q)** model.\n",
    "\n",
    "We choose for example the explanatory variable `PM10` and how it is correlated in time.\n",
    "\n",
    "We noticed that all variable verify the same plot meaning the best lag is two."
   ]
  },
  {
   "cell_type": "code",
   "execution_count": 6,
   "id": "29e94333",
   "metadata": {
    "execution": {
     "iopub.execute_input": "2022-09-17T00:21:21.752184Z",
     "iopub.status.busy": "2022-09-17T00:21:21.751832Z",
     "iopub.status.idle": "2022-09-17T00:21:28.579861Z",
     "shell.execute_reply": "2022-09-17T00:21:28.578931Z"
    },
    "papermill": {
     "duration": 6.837576,
     "end_time": "2022-09-17T00:21:28.582051",
     "exception": false,
     "start_time": "2022-09-17T00:21:21.744475",
     "status": "completed"
    },
    "tags": []
   },
   "outputs": [
    {
     "data": {
      "image/png": "[encoded data removed]",
      "text/plain": [
       "<Figure size 1152x504 with 1 Axes>"
      ]
     },
     "metadata": {},
     "output_type": "display_data"
    }
   ],
   "source": [
    "# The variable we choose to apply pacf\n",
    "\n",
    "y = train['PM10']\n",
    "\n",
    "#calling partial correlation function\n",
    "lag_pacf = pacf(y, nlags=30, method='ols')\n",
    "#Plot PACF:\n",
    "plt.figure(figsize=(16, 7))\n",
    "plt.plot(lag_pacf,marker='+')\n",
    "plt.axhline(y=0,linestyle='--',color='gray')\n",
    "plt.axhline(y= -((np.std(y) * 1.96)) / np.sqrt(len(y)), linestyle='--',color='blue') # lower bound\n",
    "plt.axhline(y= ((np.std(y) * 1.96)) / np.sqrt(len(y)),linestyle='--',color='blue') # Upper bound\n",
    "plt.title('Partial Autocorrelation Function')\n",
    "plt.xlabel('Number of lags')\n",
    "plt.ylabel('correlation')\n",
    "plt.tight_layout()"
   ]
  },
  {
   "cell_type": "code",
   "execution_count": 7,
   "id": "39eccc7a",
   "metadata": {
    "execution": {
     "iopub.execute_input": "2022-09-17T00:21:28.593381Z",
     "iopub.status.busy": "2022-09-17T00:21:28.592577Z",
     "iopub.status.idle": "2022-09-17T00:21:28.599947Z",
     "shell.execute_reply": "2022-09-17T00:21:28.599057Z"
    },
    "papermill": {
     "duration": 0.014952,
     "end_time": "2022-09-17T00:21:28.601919",
     "exception": false,
     "start_time": "2022-09-17T00:21:28.586967",
     "status": "completed"
    },
    "tags": []
   },
   "outputs": [],
   "source": [
    "def series_to_supervised(data_df, lag=2):\n",
    "    \n",
    "    '''Create lagged features'''\n",
    "    \n",
    "    # We create the lag features with the pandas function shift\n",
    "    lag_df = data_df[[col for col in data_df.columns if col not in ['No', 'year', 'month', 'day', 'hour']]].shift(lag)\n",
    "    lag_df.columns = [col+\"_\"+f\"lag_{lag}\" for col in lag_df.columns]\n",
    "    \n",
    "    return lag_df\n",
    "\n",
    "def rolling_window(data_df, window=1):\n",
    "    \n",
    "    # We create the rolling mean features (MA) with the pandas function shift\n",
    "    rolling_df = data_df[[col for col in data_df.columns if col not in ['No','station', 'wd', 'year', 'month', 'day', 'hour', 'PM2.5']]].rolling(window).mean()\n",
    "    \n",
    "    # We rename the columùns by adding rolling_{window} at the end\n",
    "    rolling_df.columns = [col+\"_\"+f\"rolling_{window}\" for col in rolling_df.columns]\n",
    "    \n",
    "    return rolling_df"
   ]
  },
  {
   "cell_type": "code",
   "execution_count": 8,
   "id": "df9564cc",
   "metadata": {
    "execution": {
     "iopub.execute_input": "2022-09-17T00:21:28.612498Z",
     "iopub.status.busy": "2022-09-17T00:21:28.612231Z",
     "iopub.status.idle": "2022-09-17T00:21:29.191107Z",
     "shell.execute_reply": "2022-09-17T00:21:29.190128Z"
    },
    "papermill": {
     "duration": 0.587179,
     "end_time": "2022-09-17T00:21:29.193785",
     "exception": false,
     "start_time": "2022-09-17T00:21:28.606606",
     "status": "completed"
    },
    "tags": []
   },
   "outputs": [],
   "source": [
    "# Lag features by shift(1) and shift(2)\n",
    "train_lag1 = series_to_supervised(train, lag=1)\n",
    "train_lag2 = series_to_supervised(train, lag=2)\n",
    "\n",
    "# Rolling window by 2\n",
    "train_rolling2 = rolling_window(train, window=2)\n",
    "\n",
    "# Concat everything together\n",
    "train = pd.concat([train, train_lag1, train_lag2, train_rolling2], axis=1).dropna()\n",
    "\n",
    "# Cumulative wind speed\n",
    "train['cum_wspm'] = train['WSPM'].cumsum()\n",
    "\n",
    "# Saturated vapor pressure\n",
    "train['saturated_vapor_pressure'] = 6.11*10*((7.5*train['TEMP'])/(237.3+train['TEMP']))\n",
    "# Actual vapor pressure\n",
    "train['actual_vapor_pressure'] = 6.11*10*((7.5*train['DEWP'])/(237.3+train['DEWP']))\n",
    "\n",
    "# Lag features by shift(1) and shift(2)\n",
    "valid_lag1 = series_to_supervised(valid, lag=1)\n",
    "valid_lag2 = series_to_supervised(valid, lag=2)\n",
    "\n",
    "# Rolling window by 2\n",
    "valid_rolling2 = rolling_window(valid, window=2)\n",
    "\n",
    "# Concat everything together\n",
    "valid = pd.concat([valid, valid_lag1, valid_lag2, valid_rolling2], axis=1).dropna()\n",
    "\n",
    "# Cumulative wind speed\n",
    "valid['cum_wspm'] = valid['WSPM'].cumsum()\n",
    "\n",
    "# Saturated vapor pressure\n",
    "valid['saturated_vapor_pressure'] = 6.11 * 10 * ((7.5 * valid['TEMP']) / (237.3 + valid['TEMP']))\n",
    "# Actual vapor pressure\n",
    "valid['actual_vapor_pressure'] = 6.11 * 10 * ((7.5 * valid['DEWP']) / (237.3 + valid['DEWP']))\n",
    "\n",
    "\n",
    "# Lag features by shift(1) and shift(2)\n",
    "test_lag1 = series_to_supervised(test, lag=1)\n",
    "test_lag2 = series_to_supervised(test, lag=2)\n",
    "\n",
    "# Rolling window by 2\n",
    "test_rolling2 = rolling_window(test, window=2)\n",
    "\n",
    "# Concat everything together\n",
    "test = pd.concat([test, test_lag1, test_lag2, test_rolling2], axis=1).dropna()\n",
    "\n",
    "# Cumulative wind speed\n",
    "test['cum_wspm'] = test['WSPM'].cumsum()\n",
    "\n",
    "# Saturated vapor pressure\n",
    "test['saturated_vapor_pressure'] = 6.11 * 10 * ((7.5 * test['TEMP']) / (237.3 + test['TEMP']))\n",
    "# Actual vapor pressure\n",
    "test['actual_vapor_pressure'] = 6.11 * 10 * ((7.5 * test['DEWP']) / (237.3 + test['DEWP']))\n",
    "\n",
    "# endogenous variables\n",
    "features_columns = [col for col in train.columns if col not in ['No', 'PM2.5']]\n",
    "\n",
    "del train_lag1, train_lag2, train_rolling2\n",
    "del valid_lag1, valid_lag2, valid_rolling2\n",
    "del test_lag1, test_lag2, test_rolling2\n",
    "\n",
    "_ = gc.collect()"
   ]
  },
  {
   "cell_type": "code",
   "execution_count": 9,
   "id": "67f60636",
   "metadata": {
    "execution": {
     "iopub.execute_input": "2022-09-17T00:21:29.205017Z",
     "iopub.status.busy": "2022-09-17T00:21:29.204706Z",
     "iopub.status.idle": "2022-09-17T00:25:41.962412Z",
     "shell.execute_reply": "2022-09-17T00:25:41.960887Z"
    },
    "papermill": {
     "duration": 252.766417,
     "end_time": "2022-09-17T00:25:41.965224",
     "exception": false,
     "start_time": "2022-09-17T00:21:29.198807",
     "status": "completed"
    },
    "tags": []
   },
   "outputs": [
    {
     "name": "stdout",
     "output_type": "stream",
     "text": [
      "0:\tlearn: 1.0707251\ttest: 1.0326352\tbest: 1.0326352 (0)\ttotal: 22.7ms\tremaining: 7m 34s\n",
      "2500:\tlearn: 0.2597029\ttest: 0.2350437\tbest: 0.2350437 (2500)\ttotal: 46.6s\tremaining: 5m 25s\n",
      "5000:\tlearn: 0.2515383\ttest: 0.2304183\tbest: 0.2304040 (4997)\ttotal: 1m 34s\tremaining: 4m 42s\n",
      "7500:\tlearn: 0.2466663\ttest: 0.2282287\tbest: 0.2282287 (7500)\ttotal: 2m 21s\tremaining: 3m 55s\n",
      "bestTest = 0.2273587553\n",
      "bestIteration = 8915\n",
      "Shrink model to first 8916 iterations.\n",
      "\n",
      "\n",
      "Catboost rmse valid: 10.624370378223933\n",
      "Catboost mae valid: 6.198144472472129\n",
      "Catboost r2 valid0.966541917643603\n",
      "\n",
      "\n",
      "Catboost rmse test: 10.049266701447328\n",
      "Catboost mae test:  5.9764968122422015\n",
      "Catboost r2 test: 0.9703972288696459\n"
     ]
    }
   ],
   "source": [
    "# Transform the data into pool format for CatBoost\n",
    "train_pool = cb.Pool(train[features_columns], np.log(train[\"PM2.5\"]), cat_features=['wd', 'station'])\n",
    "val_pool = cb.Pool(valid[features_columns], np.log(valid[\"PM2.5\"]), cat_features=['wd', 'station'])\n",
    "test_pool = cb.Pool(test[features_columns], cat_features=['wd', 'station'])\n",
    "\n",
    "# Fit and train catboost\n",
    "CATBOOST_PARAMS = {\"loss_function\": \"RMSE\",\n",
    "                   \"objective\":\"RMSE\",\n",
    "                   \"iterations\": 20000,\n",
    "                   \"learning_rate\": 0.01,\n",
    "                   \"max_bin\":100,\n",
    "                   \"depth\": 5,\n",
    "                   #\"colsample_bylevel\":0.7,\n",
    "                   \"task_type\":'GPU',\n",
    "                   \"random_seed\":2022,\n",
    "             }\n",
    "# Train model\n",
    "model = cb.CatBoostRegressor(**CATBOOST_PARAMS)\n",
    "model.fit(train_pool, eval_set=val_pool, verbose=2500, early_stopping_rounds=50)\n",
    "\n",
    "# Predictions and score on validation data\n",
    "pred_val = model.predict(val_pool)\n",
    "pred_test = model.predict(test_pool)\n",
    "\n",
    "\n",
    "# Calculate score on validation set\n",
    "mse_score_valid = mse(y_true=valid[\"PM2.5\"], y_pred=np.exp(pred_val))\n",
    "mae_score_valid = mae(y_true=valid[\"PM2.5\"], y_pred=np.exp(pred_val))\n",
    "msle_score_valid = msle(y_true=valid[\"PM2.5\"], y_pred=np.exp(pred_val))\n",
    "r2_score_valid = r2(y_true=valid[\"PM2.5\"], y_pred=np.exp(pred_val))\n",
    "\n",
    "# Calculate score on test set\n",
    "mse_score_test = mse(y_true=test[\"PM2.5\"], y_pred=np.exp(pred_test))\n",
    "mae_score_test = mae(y_true=test[\"PM2.5\"], y_pred=np.exp(pred_test))\n",
    "msle_score_test = msle(y_true=test[\"PM2.5\"], y_pred=np.exp(pred_test))\n",
    "r2_score_test = r2(y_true=test[\"PM2.5\"], y_pred=np.exp(pred_test))\n",
    "print(\"\\n\")\n",
    "\n",
    "print(f\"Catboost rmse valid: {sqrt(mse_score_valid)}\")\n",
    "print(f\"Catboost mae valid: {mae_score_valid}\")\n",
    "print(f\"Catboost r2 valid{r2_score_valid}\")\n",
    "\n",
    "print('\\n')\n",
    "\n",
    "print(f\"Catboost rmse test: {sqrt(mse_score_test)}\")\n",
    "print(f\"Catboost mae test:  {mae_score_test}\")\n",
    "print(f\"Catboost r2 test: {r2_score_test}\")"
   ]
  },
  {
   "cell_type": "markdown",
   "id": "83d36596",
   "metadata": {
    "papermill": {
     "duration": 0.006731,
     "end_time": "2022-09-17T00:25:41.979267",
     "exception": false,
     "start_time": "2022-09-17T00:25:41.972536",
     "status": "completed"
    },
    "tags": []
   },
   "source": [
    "# Configuration"
   ]
  },
  {
   "cell_type": "code",
   "execution_count": 10,
   "id": "fc25044f",
   "metadata": {
    "execution": {
     "iopub.execute_input": "2022-09-17T00:25:41.993891Z",
     "iopub.status.busy": "2022-09-17T00:25:41.993488Z",
     "iopub.status.idle": "2022-09-17T00:25:41.998755Z",
     "shell.execute_reply": "2022-09-17T00:25:41.997969Z"
    },
    "papermill": {
     "duration": 0.015134,
     "end_time": "2022-09-17T00:25:42.001012",
     "exception": false,
     "start_time": "2022-09-17T00:25:41.985878",
     "status": "completed"
    },
    "tags": []
   },
   "outputs": [],
   "source": [
    "N_SPLITS = 5\n",
    "SEED = 42"
   ]
  },
  {
   "cell_type": "code",
   "execution_count": 11,
   "id": "f1436e85",
   "metadata": {
    "execution": {
     "iopub.execute_input": "2022-09-17T00:25:42.015160Z",
     "iopub.status.busy": "2022-09-17T00:25:42.014868Z",
     "iopub.status.idle": "2022-09-17T00:25:42.020399Z",
     "shell.execute_reply": "2022-09-17T00:25:42.019652Z"
    },
    "papermill": {
     "duration": 0.017319,
     "end_time": "2022-09-17T00:25:42.024872",
     "exception": false,
     "start_time": "2022-09-17T00:25:42.007553",
     "status": "completed"
    },
    "tags": []
   },
   "outputs": [
    {
     "data": {
      "text/plain": [
       "60243"
      ]
     },
     "execution_count": 11,
     "metadata": {},
     "output_type": "execute_result"
    }
   ],
   "source": [
    "train_data.shape[0] // (N_SPLITS + 1)"
   ]
  },
  {
   "cell_type": "code",
   "execution_count": 12,
   "id": "e0bc1557",
   "metadata": {
    "execution": {
     "iopub.execute_input": "2022-09-17T00:25:42.039627Z",
     "iopub.status.busy": "2022-09-17T00:25:42.039350Z",
     "iopub.status.idle": "2022-09-17T00:25:42.045572Z",
     "shell.execute_reply": "2022-09-17T00:25:42.044662Z"
    },
    "papermill": {
     "duration": 0.01859,
     "end_time": "2022-09-17T00:25:42.050432",
     "exception": false,
     "start_time": "2022-09-17T00:25:42.031842",
     "status": "completed"
    },
    "tags": []
   },
   "outputs": [
    {
     "data": {
      "text/plain": [
       "36147"
      ]
     },
     "execution_count": 12,
     "metadata": {},
     "output_type": "execute_result"
    }
   ],
   "source": [
    "np.ceil(train_data.shape[0]*0.1).astype(int)"
   ]
  },
  {
   "cell_type": "markdown",
   "id": "930a6983",
   "metadata": {
    "papermill": {
     "duration": 0.006749,
     "end_time": "2022-09-17T00:25:42.064506",
     "exception": false,
     "start_time": "2022-09-17T00:25:42.057757",
     "status": "completed"
    },
    "tags": []
   },
   "source": [
    "# Catboost CV"
   ]
  },
  {
   "cell_type": "code",
   "execution_count": 13,
   "id": "dcfc8f46",
   "metadata": {
    "execution": {
     "iopub.execute_input": "2022-09-17T00:25:42.077054Z",
     "iopub.status.busy": "2022-09-17T00:25:42.076773Z",
     "iopub.status.idle": "2022-09-17T00:35:11.822902Z",
     "shell.execute_reply": "2022-09-17T00:35:11.820533Z"
    },
    "papermill": {
     "duration": 569.755277,
     "end_time": "2022-09-17T00:35:11.825718",
     "exception": false,
     "start_time": "2022-09-17T00:25:42.070441",
     "status": "completed"
    },
    "tags": []
   },
   "outputs": [
    {
     "name": "stdout",
     "output_type": "stream",
     "text": [
      "CV 1/5\n",
      "\n",
      "\n",
      "0:\tlearn: 1.0476559\ttest: 1.0714055\tbest: 1.0714055 (0)\ttotal: 15.7ms\tremaining: 5m 13s\n",
      "2500:\tlearn: 0.2464177\ttest: 0.2671744\tbest: 0.2671744 (2500)\ttotal: 41s\tremaining: 4m 47s\n",
      "5000:\tlearn: 0.2369127\ttest: 0.2617766\tbest: 0.2617766 (5000)\ttotal: 1m 21s\tremaining: 4m 3s\n",
      "bestTest = 0.2598915302\n",
      "bestIteration = 7091\n",
      "Shrink model to first 7092 iterations.\n",
      "\n",
      "\n",
      "Fold 1 Catboost rmse: 10.664241624228454\n",
      "Fold 1 Catboost  mae: 6.431407397624472\n",
      "Fold 1 Catboost rmse: 0.23818740642837646\n",
      "Fold 1 Catboost r2: 0.9671218076049766\n",
      "\n",
      "\n",
      "CV 2/5\n",
      "\n",
      "\n",
      "0:\tlearn: 1.0516163\ttest: 1.0742676\tbest: 1.0742676 (0)\ttotal: 16.4ms\tremaining: 5m 27s\n",
      "2500:\tlearn: 0.2484837\ttest: 0.2789193\tbest: 0.2789193 (2500)\ttotal: 41.6s\tremaining: 4m 51s\n",
      "bestTest = 0.276948329\n",
      "bestIteration = 3836\n",
      "Shrink model to first 3837 iterations.\n",
      "\n",
      "\n",
      "Fold 2 Catboost rmse: 10.731070318432195\n",
      "Fold 2 Catboost  mae: 6.442524276466047\n",
      "Fold 2 Catboost rmse: 0.25327525483697266\n",
      "Fold 2 Catboost r2: 0.9646588455316591\n",
      "\n",
      "\n",
      "CV 3/5\n",
      "\n",
      "\n",
      "0:\tlearn: 1.0548349\ttest: 1.1424847\tbest: 1.1424847 (0)\ttotal: 16.8ms\tremaining: 5m 35s\n",
      "2500:\tlearn: 0.2525067\ttest: 0.2917966\tbest: 0.2917966 (2500)\ttotal: 44s\tremaining: 5m 8s\n",
      "5000:\tlearn: 0.2435653\ttest: 0.2875098\tbest: 0.2875098 (5000)\ttotal: 1m 26s\tremaining: 4m 20s\n",
      "bestTest = 0.2865628668\n",
      "bestIteration = 6087\n",
      "Shrink model to first 6088 iterations.\n",
      "\n",
      "\n",
      "Fold 3 Catboost rmse: 9.831232092845072\n",
      "Fold 3 Catboost  mae: 5.63017273060594\n",
      "Fold 3 Catboost rmse: 0.2599317193204954\n",
      "Fold 3 Catboost r2: 0.9671496194051998\n",
      "\n",
      "\n",
      "CV 4/5\n",
      "\n",
      "\n",
      "0:\tlearn: 1.0657542\ttest: 1.1100713\tbest: 1.1100713 (0)\ttotal: 17.6ms\tremaining: 5m 52s\n",
      "2500:\tlearn: 0.2572497\ttest: 0.2858679\tbest: 0.2858679 (2500)\ttotal: 44.9s\tremaining: 5m 13s\n",
      "bestTest = 0.2852832455\n",
      "bestIteration = 2739\n",
      "Shrink model to first 2740 iterations.\n",
      "\n",
      "\n",
      "Fold 4 Catboost rmse: 12.03748129636752\n",
      "Fold 4 Catboost  mae: 6.972607456622619\n",
      "Fold 4 Catboost rmse: 0.2615252947003351\n",
      "Fold 4 Catboost r2: 0.956756457021678\n",
      "\n",
      "\n",
      "CV 5/5\n",
      "\n",
      "\n",
      "0:\tlearn: 1.0707251\ttest: 1.0326284\tbest: 1.0326284 (0)\ttotal: 19ms\tremaining: 6m 20s\n",
      "2500:\tlearn: 0.2597029\ttest: 0.2352798\tbest: 0.2352798 (2500)\ttotal: 48s\tremaining: 5m 35s\n",
      "5000:\tlearn: 0.2515344\ttest: 0.2309522\tbest: 0.2309522 (5000)\ttotal: 1m 35s\tremaining: 4m 45s\n",
      "7500:\tlearn: 0.2466475\ttest: 0.2288977\tbest: 0.2288972 (7499)\ttotal: 2m 22s\tremaining: 3m 58s\n",
      "10000:\tlearn: 0.2430102\ttest: 0.2275290\tbest: 0.2275290 (10000)\ttotal: 3m 9s\tremaining: 3m 9s\n",
      "bestTest = 0.2269596882\n",
      "bestIteration = 11442\n",
      "Shrink model to first 11443 iterations.\n",
      "\n",
      "\n",
      "Fold 5 Catboost rmse: 10.566910770446396\n",
      "Fold 5 Catboost  mae: 6.164616114037228\n",
      "Fold 5 Catboost rmse: 0.21019529801390546\n",
      "Fold 5 Catboost r2: 0.9669024860582995\n",
      "\n",
      "\n",
      "Catboost rmse cv: 10.766187220463928\n",
      "Catboost rmae cv: 6.328265595071261\n",
      "Catboost r2 cv: 0.9645178431243625\n",
      "\n",
      "\n",
      "Catboost rmse test: 10.29049114835836\n",
      "Catboost rmae test: 6.128772769981664\n",
      "Catboost r2 test: 0.9689589909978623\n"
     ]
    }
   ],
   "source": [
    "# Place holders for predictions\n",
    "oof_catboost = np.zeros((train_data.shape[0]))\n",
    "oof_target = np.zeros((train_data.shape[0]))\n",
    "\n",
    "predictions_catboost = np.zeros((test.shape[0]))\n",
    "counter = 1\n",
    "\n",
    "# Placer holders for calculating scores\n",
    "mse_scores_catboost = []\n",
    "mae_scores_catboost = []\n",
    "msle_scores_catboost = []\n",
    "r2_scores_catboost = []\n",
    "\n",
    "# Lag features by shift(1) and shift(2)\n",
    "train_lag1 = series_to_supervised(train_data, lag=1)\n",
    "train_lag2 = series_to_supervised(train_data, lag=2)\n",
    "\n",
    "# Rolling window by 2\n",
    "train_rolling2 = rolling_window(train_data, window=2)\n",
    "\n",
    "# Concat everything together\n",
    "train_data = pd.concat([train_data, train_lag1, train_lag2, train_rolling2], axis=1).dropna()\n",
    "\n",
    "# Cumulative wind speed\n",
    "train_data['cum_wspm'] = train_data['WSPM'].cumsum()\n",
    "\n",
    "# Saturated vapor pressure\n",
    "train_data['saturated_vapor_pressure'] = 6.11*10*((7.5*train_data['TEMP'])/(237.3+train_data['TEMP']))\n",
    "# Actual vapor pressure\n",
    "train_data['actual_vapor_pressure'] = 6.11*10*((7.5*train_data['DEWP'])/(237.3+train_data['DEWP']))\n",
    "\n",
    "# Features to use for training and prediction\n",
    "features_columns = [col for col in train_data.columns if col not in ['No', 'PM2.5']]\n",
    "\n",
    "# TimeSeriesSplit validation \n",
    "tsp = TimeSeriesSplit(n_splits=5, test_size=np.ceil(train_data.shape[0]*0.1).astype(int))\n",
    "\n",
    "\n",
    "\n",
    "# TimeSeriesSplit validation \n",
    "tsp = TimeSeriesSplit(n_splits=5, test_size=np.ceil(train_data.shape[0]*0.1).astype(int))\n",
    "\n",
    "for trn_idx, vld_idx in tsp.split(train_data):\n",
    "    \n",
    "    \n",
    "    # train valid separation\n",
    "    print(f\"CV {counter}/{N_SPLITS}\")\n",
    "    print('\\n')\n",
    "    train_pool = cb.Pool(train_data.iloc[trn_idx][features_columns], np.log(train_data.iloc[trn_idx][\"PM2.5\"]), cat_features=['wd', 'station'])\n",
    "    val_pool = cb.Pool(train_data.iloc[vld_idx][features_columns], np.log(train_data.iloc[vld_idx][\"PM2.5\"]), cat_features=['wd', 'station'])\n",
    "    test_pool = cb.Pool(test[features_columns], cat_features=['wd', 'station'])\n",
    "\n",
    "    \n",
    "    # Fit and train catboost\n",
    "    CATBOOST_PARAMS = {\"loss_function\": \"RMSE\",\n",
    "                       \"objective\":\"RMSE\",\n",
    "                       \"iterations\": 20000,\n",
    "                       \"learning_rate\": 0.01,\n",
    "                       \"max_bin\":100,\n",
    "                       \"depth\": 5,\n",
    "                       #\"colsample_bylevel\":0.7,\n",
    "                       \"task_type\":'GPU',\n",
    "                       \"random_seed\":2022,\n",
    "             }\n",
    "\n",
    "    model = cb.CatBoostRegressor(**CATBOOST_PARAMS)\n",
    "    model.fit(train_pool, eval_set=val_pool, verbose=2500, early_stopping_rounds=50)\n",
    "\n",
    "    # Predictions and score on validation data\n",
    "    pred_val = model.predict(val_pool)\n",
    "    pred_test = model.predict(test_pool)\n",
    "    \n",
    "    # Register the score on each fold   \n",
    "    mse_score_valid = mse(y_true=train_data.iloc[vld_idx][\"PM2.5\"], y_pred=np.exp(pred_val))\n",
    "    mae_score_valid = mae(y_true=train_data.iloc[vld_idx][\"PM2.5\"], y_pred=np.exp(pred_val))\n",
    "    msle_score_valid = msle(y_true=train_data.iloc[vld_idx][\"PM2.5\"], y_pred=np.exp(pred_val))\n",
    "    r2_score_valid = r2(y_true=train_data.iloc[vld_idx][\"PM2.5\"], y_pred=np.exp(pred_val))\n",
    "    \n",
    "    print('\\n')\n",
    "    print(f\"Fold {counter} Catboost rmse: {sqrt(mse_score_valid)}\")\n",
    "    print(f\"Fold {counter} Catboost  mae: {mae_score_valid}\")\n",
    "    print(f\"Fold {counter} Catboost rmse: {sqrt(msle_score_valid)}\")\n",
    "    print(f\"Fold {counter} Catboost r2: {r2_score_valid}\")\n",
    "    print('\\n')\n",
    "    \n",
    "    # Register the score on each fold\n",
    "    mse_scores_catboost.append(sqrt(mse_score_valid))\n",
    "    mae_scores_catboost.append(mae_score_valid)\n",
    "    msle_scores_catboost.append(sqrt(msle_score_valid))\n",
    "    r2_scores_catboost.append(r2_score_valid)\n",
    "    \n",
    "    # Calculate prediction on test set  \n",
    "    oof_catboost[vld_idx] = pred_val\n",
    "    oof_target[vld_idx] = train_data.iloc[vld_idx][\"PM2.5\"]\n",
    "    predictions_catboost += pred_test / N_SPLITS\n",
    "    counter += 1\n",
    "\n",
    "    \n",
    "# Inference score\n",
    "mse_score_test = mse(y_true=test[\"PM2.5\"], y_pred=np.exp(predictions_catboost) )\n",
    "mae_score_test = mae(y_true=test[\"PM2.5\"], y_pred=np.exp(predictions_catboost))\n",
    "msle_score_test = msle(y_true=test[\"PM2.5\"], y_pred=np.exp(predictions_catboost))\n",
    "r2_score_test = r2(y_true=test[\"PM2.5\"], y_pred=np.exp(predictions_catboost))\n",
    "\n",
    "print(f\"Catboost rmse cv: {np.array(mse_scores_catboost).mean()}\")\n",
    "print(f\"Catboost rmae cv: {np.array(mae_scores_catboost).mean()}\")\n",
    "print(f\"Catboost r2 cv: {np.array(r2_scores_catboost).mean()}\")\n",
    "\n",
    "print('\\n')\n",
    "\n",
    "print(f\"Catboost rmse test: {sqrt(mse_score_test)}\")\n",
    "print(f\"Catboost rmae test: {mae_score_test}\")\n",
    "print(f\"Catboost r2 test: {r2_score_test}\")"
   ]
  },
  {
   "cell_type": "code",
   "execution_count": 14,
   "id": "3299fa72",
   "metadata": {
    "execution": {
     "iopub.execute_input": "2022-09-17T00:35:11.840939Z",
     "iopub.status.busy": "2022-09-17T00:35:11.840638Z",
     "iopub.status.idle": "2022-09-17T00:35:12.130972Z",
     "shell.execute_reply": "2022-09-17T00:35:12.130114Z"
    },
    "papermill": {
     "duration": 0.300283,
     "end_time": "2022-09-17T00:35:12.133192",
     "exception": false,
     "start_time": "2022-09-17T00:35:11.832909",
     "status": "completed"
    },
    "tags": []
   },
   "outputs": [
    {
     "data": {
      "image/png": "[encoded data removed]",
      "text/plain": [
       "<Figure size 1440x432 with 1 Axes>"
      ]
     },
     "metadata": {},
     "output_type": "display_data"
    }
   ],
   "source": [
    "# Create fig size for plotting\n",
    "fig, ax = plt.subplots(figsize=(20, 6))\n",
    "# Plot the prediction\n",
    "ax.plot(test[\"PM2.5\"].index, np.exp(predictions_catboost), color='b', label='Prediction')\n",
    "# Plot the true values \n",
    "ax.plot(test[\"PM2.5\"].index, test[\"PM2.5\"], color='orange', label='True')\n",
    "# set title\n",
    "ax.set_title(\"PM2.5\", fontweight=\"bold\", size=16)\n",
    "# set legend\n",
    "ax.legend(loc=\"upper right\")\n",
    "\n",
    "\n",
    "## Rotate date labels automatically\n",
    "ax.axis([364000, 364810, 0, 250])\n",
    "fig.autofmt_xdate()\n",
    "plt.title('Predictions on validation set')\n",
    "plt.show()"
   ]
  }
 ],
 "metadata": {
  "kernelspec": {
   "display_name": "Python 3",
   "language": "python",
   "name": "python3"
  },
  "language_info": {
   "codemirror_mode": {
    "name": "ipython",
    "version": 3
   },
   "file_extension": ".py",
   "mimetype": "text/x-python",
   "name": "python",
   "nbconvert_exporter": "python",
   "pygments_lexer": "ipython3",
   "version": "3.7.12"
  },
  "papermill": {
   "default_parameters": {},
   "duration": 841.195019,
   "end_time": "2022-09-17T00:35:12.762379",
   "environment_variables": {},
   "exception": null,
   "input_path": "__notebook__.ipynb",
   "output_path": "__notebook__.ipynb",
   "parameters": {},
   "start_time": "2022-09-17T00:21:11.567360",
   "version": "2.3.4"
  }
 },
 "nbformat": 4,
 "nbformat_minor": 5
}
