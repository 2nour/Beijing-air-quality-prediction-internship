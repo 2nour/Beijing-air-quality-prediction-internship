{
 "cells": [
  {
   "cell_type": "markdown",
   "id": "672147bc",
   "metadata": {
    "papermill": {
     "duration": 0.007258,
     "end_time": "2022-09-18T20:57:06.080288",
     "exception": false,
     "start_time": "2022-09-18T20:57:06.073030",
     "status": "completed"
    },
    "tags": []
   },
   "source": [
    "Click to run on kaggle (if you're not already there): [![Kaggle](https://kaggle.com/static/images/open-in-kaggle.svg)](https://www.kaggle.com/datasets/medali1992/beijing-air-quality-preprocessed)"
   ]
  },
  {
   "cell_type": "code",
   "execution_count": 1,
   "id": "b1707d50",
   "metadata": {
    "execution": {
     "iopub.execute_input": "2022-09-18T20:57:06.095061Z",
     "iopub.status.busy": "2022-09-18T20:57:06.094218Z",
     "iopub.status.idle": "2022-09-18T20:57:10.605410Z",
     "shell.execute_reply": "2022-09-18T20:57:10.604417Z"
    },
    "papermill": {
     "duration": 4.521261,
     "end_time": "2022-09-18T20:57:10.607933",
     "exception": false,
     "start_time": "2022-09-18T20:57:06.086672",
     "status": "completed"
    },
    "tags": []
   },
   "outputs": [],
   "source": [
    "import gc\n",
    "\n",
    "import numpy as np\n",
    "import pandas as pd\n",
    "import numpy as np \n",
    "\n",
    "import matplotlib.pyplot as plt\n",
    "\n",
    "\n",
    "import seaborn as sns\n",
    "sns.set(style=\"whitegrid\", color_codes=True)\n",
    "from statsmodels.tsa.stattools import acf, pacf\n",
    "\n",
    "from math import sqrt\n",
    "from sklearn.model_selection import train_test_split, TimeSeriesSplit\n",
    "\n",
    "\n",
    "from sklearn.metrics import mean_squared_error as mse\n",
    "from sklearn.metrics import mean_squared_log_error as msle\n",
    "from sklearn.metrics import mean_absolute_error as mae\n",
    "from sklearn.metrics import r2_score as r2\n",
    "from sklearn.ensemble import AdaBoostRegressor\n",
    "\n",
    "import cudf \n",
    "\n",
    "from sklearn.linear_model import LinearRegression , Lasso , Ridge \n",
    "from sklearn.preprocessing import StandardScaler \n",
    "from cuml.svm import SVR\n"
   ]
  },
  {
   "cell_type": "code",
   "execution_count": 2,
   "id": "c81ce010",
   "metadata": {
    "execution": {
     "iopub.execute_input": "2022-09-18T20:57:10.621659Z",
     "iopub.status.busy": "2022-09-18T20:57:10.621338Z",
     "iopub.status.idle": "2022-09-18T20:57:11.633663Z",
     "shell.execute_reply": "2022-09-18T20:57:11.632698Z"
    },
    "papermill": {
     "duration": 1.021909,
     "end_time": "2022-09-18T20:57:11.636092",
     "exception": false,
     "start_time": "2022-09-18T20:57:10.614183",
     "status": "completed"
    },
    "tags": []
   },
   "outputs": [],
   "source": [
    "# Importing the data\n",
    "data = pd.read_csv('../input/beijing-air-quality-preprocessed/airquality_data.csv')"
   ]
  },
  {
   "cell_type": "code",
   "execution_count": 3,
   "id": "1b67dadb",
   "metadata": {
    "execution": {
     "iopub.execute_input": "2022-09-18T20:57:11.650449Z",
     "iopub.status.busy": "2022-09-18T20:57:11.650161Z",
     "iopub.status.idle": "2022-09-18T20:57:11.675961Z",
     "shell.execute_reply": "2022-09-18T20:57:11.674856Z"
    },
    "papermill": {
     "duration": 0.036591,
     "end_time": "2022-09-18T20:57:11.679138",
     "exception": false,
     "start_time": "2022-09-18T20:57:11.642547",
     "status": "completed"
    },
    "tags": []
   },
   "outputs": [
    {
     "data": {
      "text/html": [
       "<div>\n",
       "<style scoped>\n",
       "    .dataframe tbody tr th:only-of-type {\n",
       "        vertical-align: middle;\n",
       "    }\n",
       "\n",
       "    .dataframe tbody tr th {\n",
       "        vertical-align: top;\n",
       "    }\n",
       "\n",
       "    .dataframe thead th {\n",
       "        text-align: right;\n",
       "    }\n",
       "</style>\n",
       "<table border=\"1\" class=\"dataframe\">\n",
       "  <thead>\n",
       "    <tr style=\"text-align: right;\">\n",
       "      <th></th>\n",
       "      <th>No</th>\n",
       "      <th>year</th>\n",
       "      <th>month</th>\n",
       "      <th>day</th>\n",
       "      <th>hour</th>\n",
       "      <th>PM2.5</th>\n",
       "      <th>PM10</th>\n",
       "      <th>SO2</th>\n",
       "      <th>NO2</th>\n",
       "      <th>CO</th>\n",
       "      <th>O3</th>\n",
       "      <th>TEMP</th>\n",
       "      <th>PRES</th>\n",
       "      <th>DEWP</th>\n",
       "      <th>RAIN</th>\n",
       "      <th>wd</th>\n",
       "      <th>WSPM</th>\n",
       "      <th>station</th>\n",
       "    </tr>\n",
       "  </thead>\n",
       "  <tbody>\n",
       "    <tr>\n",
       "      <th>0</th>\n",
       "      <td>1</td>\n",
       "      <td>2013</td>\n",
       "      <td>3</td>\n",
       "      <td>1</td>\n",
       "      <td>0</td>\n",
       "      <td>6.0</td>\n",
       "      <td>18.0</td>\n",
       "      <td>5.0</td>\n",
       "      <td>9.80000</td>\n",
       "      <td>800.0</td>\n",
       "      <td>88.0</td>\n",
       "      <td>0.1</td>\n",
       "      <td>1021.1</td>\n",
       "      <td>-18.6</td>\n",
       "      <td>0.0</td>\n",
       "      <td>7</td>\n",
       "      <td>4.4</td>\n",
       "      <td>5</td>\n",
       "    </tr>\n",
       "    <tr>\n",
       "      <th>1</th>\n",
       "      <td>2</td>\n",
       "      <td>2013</td>\n",
       "      <td>3</td>\n",
       "      <td>1</td>\n",
       "      <td>1</td>\n",
       "      <td>6.0</td>\n",
       "      <td>15.0</td>\n",
       "      <td>5.0</td>\n",
       "      <td>11.00000</td>\n",
       "      <td>800.0</td>\n",
       "      <td>88.0</td>\n",
       "      <td>-0.3</td>\n",
       "      <td>1021.5</td>\n",
       "      <td>-19.0</td>\n",
       "      <td>0.0</td>\n",
       "      <td>7</td>\n",
       "      <td>4.0</td>\n",
       "      <td>5</td>\n",
       "    </tr>\n",
       "    <tr>\n",
       "      <th>2</th>\n",
       "      <td>3</td>\n",
       "      <td>2013</td>\n",
       "      <td>3</td>\n",
       "      <td>1</td>\n",
       "      <td>2</td>\n",
       "      <td>5.0</td>\n",
       "      <td>18.0</td>\n",
       "      <td>5.2</td>\n",
       "      <td>10.09936</td>\n",
       "      <td>700.0</td>\n",
       "      <td>52.0</td>\n",
       "      <td>-0.7</td>\n",
       "      <td>1021.5</td>\n",
       "      <td>-19.8</td>\n",
       "      <td>0.0</td>\n",
       "      <td>14</td>\n",
       "      <td>4.6</td>\n",
       "      <td>5</td>\n",
       "    </tr>\n",
       "    <tr>\n",
       "      <th>3</th>\n",
       "      <td>4</td>\n",
       "      <td>2013</td>\n",
       "      <td>3</td>\n",
       "      <td>1</td>\n",
       "      <td>3</td>\n",
       "      <td>6.0</td>\n",
       "      <td>20.0</td>\n",
       "      <td>6.0</td>\n",
       "      <td>13.60000</td>\n",
       "      <td>320.0</td>\n",
       "      <td>49.8</td>\n",
       "      <td>-1.0</td>\n",
       "      <td>1022.7</td>\n",
       "      <td>-21.2</td>\n",
       "      <td>0.0</td>\n",
       "      <td>13</td>\n",
       "      <td>2.8</td>\n",
       "      <td>5</td>\n",
       "    </tr>\n",
       "    <tr>\n",
       "      <th>4</th>\n",
       "      <td>5</td>\n",
       "      <td>2013</td>\n",
       "      <td>3</td>\n",
       "      <td>1</td>\n",
       "      <td>4</td>\n",
       "      <td>5.0</td>\n",
       "      <td>17.0</td>\n",
       "      <td>5.0</td>\n",
       "      <td>15.60000</td>\n",
       "      <td>600.0</td>\n",
       "      <td>73.0</td>\n",
       "      <td>-1.3</td>\n",
       "      <td>1023.0</td>\n",
       "      <td>-21.4</td>\n",
       "      <td>0.0</td>\n",
       "      <td>14</td>\n",
       "      <td>3.6</td>\n",
       "      <td>5</td>\n",
       "    </tr>\n",
       "  </tbody>\n",
       "</table>\n",
       "</div>"
      ],
      "text/plain": [
       "   No  year  month  day  hour  PM2.5  PM10  SO2       NO2     CO    O3  TEMP  \\\n",
       "0   1  2013      3    1     0    6.0  18.0  5.0   9.80000  800.0  88.0   0.1   \n",
       "1   2  2013      3    1     1    6.0  15.0  5.0  11.00000  800.0  88.0  -0.3   \n",
       "2   3  2013      3    1     2    5.0  18.0  5.2  10.09936  700.0  52.0  -0.7   \n",
       "3   4  2013      3    1     3    6.0  20.0  6.0  13.60000  320.0  49.8  -1.0   \n",
       "4   5  2013      3    1     4    5.0  17.0  5.0  15.60000  600.0  73.0  -1.3   \n",
       "\n",
       "     PRES  DEWP  RAIN  wd  WSPM  station  \n",
       "0  1021.1 -18.6   0.0   7   4.4        5  \n",
       "1  1021.5 -19.0   0.0   7   4.0        5  \n",
       "2  1021.5 -19.8   0.0  14   4.6        5  \n",
       "3  1022.7 -21.2   0.0  13   2.8        5  \n",
       "4  1023.0 -21.4   0.0  14   3.6        5  "
      ]
     },
     "execution_count": 3,
     "metadata": {},
     "output_type": "execute_result"
    }
   ],
   "source": [
    "data.head()"
   ]
  },
  {
   "cell_type": "markdown",
   "id": "d58c3d37",
   "metadata": {
    "papermill": {
     "duration": 0.006468,
     "end_time": "2022-09-18T20:57:11.692270",
     "exception": false,
     "start_time": "2022-09-18T20:57:11.685802",
     "status": "completed"
    },
    "tags": []
   },
   "source": [
    "# Train test split"
   ]
  },
  {
   "cell_type": "code",
   "execution_count": 4,
   "id": "5f30edea",
   "metadata": {
    "execution": {
     "iopub.execute_input": "2022-09-18T20:57:11.706015Z",
     "iopub.status.busy": "2022-09-18T20:57:11.705752Z",
     "iopub.status.idle": "2022-09-18T20:57:11.744237Z",
     "shell.execute_reply": "2022-09-18T20:57:11.743298Z"
    },
    "papermill": {
     "duration": 0.047859,
     "end_time": "2022-09-18T20:57:11.746581",
     "exception": false,
     "start_time": "2022-09-18T20:57:11.698722",
     "status": "completed"
    },
    "tags": []
   },
   "outputs": [],
   "source": [
    "# Splitting tha data into train and test\n",
    "train_data, test = train_test_split(data, # Switch from GPU to CPU\n",
    "                               test_size=0.1,\n",
    "                               shuffle=False)"
   ]
  },
  {
   "cell_type": "code",
   "execution_count": 5,
   "id": "dd8536fc",
   "metadata": {
    "execution": {
     "iopub.execute_input": "2022-09-18T20:57:11.760556Z",
     "iopub.status.busy": "2022-09-18T20:57:11.760253Z",
     "iopub.status.idle": "2022-09-18T20:57:11.799751Z",
     "shell.execute_reply": "2022-09-18T20:57:11.798607Z"
    },
    "papermill": {
     "duration": 0.049118,
     "end_time": "2022-09-18T20:57:11.802133",
     "exception": false,
     "start_time": "2022-09-18T20:57:11.753015",
     "status": "completed"
    },
    "tags": []
   },
   "outputs": [],
   "source": [
    "# Splitting tha data into train and valid\n",
    "train, valid = train_test_split(train_data,\n",
    "                               test_size=0.1,\n",
    "                               shuffle=False)"
   ]
  },
  {
   "cell_type": "markdown",
   "id": "441be8e5",
   "metadata": {
    "papermill": {
     "duration": 0.006929,
     "end_time": "2022-09-18T20:57:11.815809",
     "exception": false,
     "start_time": "2022-09-18T20:57:11.808880",
     "status": "completed"
    },
    "tags": []
   },
   "source": [
    "# Feature enginneering "
   ]
  },
  {
   "cell_type": "markdown",
   "id": "cbbb5823",
   "metadata": {
    "papermill": {
     "duration": 0.0059,
     "end_time": "2022-09-18T20:57:11.827844",
     "exception": false,
     "start_time": "2022-09-18T20:57:11.821944",
     "status": "completed"
    },
    "tags": []
   },
   "source": [
    "# PACF\n",
    "This function was introduced as part of the Box–Jenkins approach to time series modelling, whereby plotting the partial autocorrelative functions one could determine the appropriate lags **p** in an AR **(p)** model or in an extended ARIMA **(p,d,q)** model.\n",
    "\n",
    "We choose for example the explanatory variable `PM10` and how it is correlated in time.\n",
    "\n",
    "We noticed that all variable verify the same plot meaning the best lag is two."
   ]
  },
  {
   "cell_type": "code",
   "execution_count": 6,
   "id": "59de99c6",
   "metadata": {
    "execution": {
     "iopub.execute_input": "2022-09-18T20:57:11.841413Z",
     "iopub.status.busy": "2022-09-18T20:57:11.841087Z",
     "iopub.status.idle": "2022-09-18T20:57:18.587378Z",
     "shell.execute_reply": "2022-09-18T20:57:18.586444Z"
    },
    "papermill": {
     "duration": 6.755524,
     "end_time": "2022-09-18T20:57:18.589525",
     "exception": false,
     "start_time": "2022-09-18T20:57:11.834001",
     "status": "completed"
    },
    "tags": []
   },
   "outputs": [
    {
     "data": {
      "image/png": "[encoded data removed]",
      "text/plain": [
       "<Figure size 1152x504 with 1 Axes>"
      ]
     },
     "metadata": {},
     "output_type": "display_data"
    }
   ],
   "source": [
    "# The variable we choose to apply pacf\n",
    "\n",
    "y = train['PM10']\n",
    "\n",
    "#calling partial correlation function\n",
    "lag_pacf = pacf(y, nlags=30, method='ols')\n",
    "#Plot PACF:\n",
    "plt.figure(figsize=(16, 7))\n",
    "plt.plot(lag_pacf,marker='+')\n",
    "plt.axhline(y=0,linestyle='--',color='gray')\n",
    "plt.axhline(y= -((np.std(y) * 1.96)) / np.sqrt(len(y)), linestyle='--',color='blue') # lower bound\n",
    "plt.axhline(y= ((np.std(y) * 1.96)) / np.sqrt(len(y)),linestyle='--',color='blue') # Upper bound\n",
    "plt.title('Partial Autocorrelation Function')\n",
    "plt.xlabel('Number of lags')\n",
    "plt.ylabel('correlation')\n",
    "plt.tight_layout()"
   ]
  },
  {
   "cell_type": "code",
   "execution_count": 7,
   "id": "f050d01c",
   "metadata": {
    "execution": {
     "iopub.execute_input": "2022-09-18T20:57:18.605218Z",
     "iopub.status.busy": "2022-09-18T20:57:18.604309Z",
     "iopub.status.idle": "2022-09-18T20:57:18.611933Z",
     "shell.execute_reply": "2022-09-18T20:57:18.610959Z"
    },
    "papermill": {
     "duration": 0.017411,
     "end_time": "2022-09-18T20:57:18.613826",
     "exception": false,
     "start_time": "2022-09-18T20:57:18.596415",
     "status": "completed"
    },
    "tags": []
   },
   "outputs": [],
   "source": [
    "def series_to_supervised(data_df, lag=2):\n",
    "    \n",
    "    '''Create lagged features'''\n",
    "    \n",
    "    # We create the lag features with the pandas function shift\n",
    "    lag_df = data_df[[col for col in data_df.columns if col not in ['No', 'year', 'month', 'day', 'hour']]].shift(lag)\n",
    "    lag_df.columns = [col+\"_\"+f\"lag_{lag}\" for col in lag_df.columns]\n",
    "    \n",
    "    return lag_df\n",
    "\n",
    "def rolling_window(data_df, window=1):\n",
    "    \n",
    "    # We create the rolling mean features (MA) with the pandas function shift\n",
    "    rolling_df = data_df[[col for col in data_df.columns if col not in ['No','station', 'wd', 'year', 'month', 'day', 'hour', 'PM2.5']]].rolling(window).mean()\n",
    "    \n",
    "    # We rename the columùns by adding rolling_{window} at the end\n",
    "    rolling_df.columns = [col+\"_\"+f\"rolling_{window}\" for col in rolling_df.columns]\n",
    "    \n",
    "    return rolling_df"
   ]
  },
  {
   "cell_type": "code",
   "execution_count": 8,
   "id": "b3edf2a1",
   "metadata": {
    "execution": {
     "iopub.execute_input": "2022-09-18T20:57:18.628118Z",
     "iopub.status.busy": "2022-09-18T20:57:18.627854Z",
     "iopub.status.idle": "2022-09-18T20:57:19.342140Z",
     "shell.execute_reply": "2022-09-18T20:57:19.341196Z"
    },
    "papermill": {
     "duration": 0.724776,
     "end_time": "2022-09-18T20:57:19.345068",
     "exception": false,
     "start_time": "2022-09-18T20:57:18.620292",
     "status": "completed"
    },
    "tags": []
   },
   "outputs": [],
   "source": [
    "# Lag features by shift(1) and shift(2)\n",
    "train_lag1 = series_to_supervised(train, lag=1)\n",
    "train_lag2 = series_to_supervised(train, lag=2)\n",
    "\n",
    "# Rolling window by 2\n",
    "train_rolling2 = rolling_window(train, window=2)\n",
    "\n",
    "# Concat everything together\n",
    "train = pd.concat([train, train_lag1, train_lag2, train_rolling2], axis=1).dropna()\n",
    "\n",
    "# Cumulative wind speed\n",
    "train['cum_wspm'] = train['WSPM'].cumsum()\n",
    "\n",
    "# Saturated vapor pressure\n",
    "train['saturated_vapor_pressure'] = 6.11*10*((7.5*train['TEMP'])/(237.3+train['TEMP']))\n",
    "# Actual vapor pressure\n",
    "train['actual_vapor_pressure'] = 6.11*10*((7.5*train['DEWP'])/(237.3+train['DEWP']))\n",
    "\n",
    "# Lag features by shift(1) and shift(2)\n",
    "valid_lag1 = series_to_supervised(valid, lag=1)\n",
    "valid_lag2 = series_to_supervised(valid, lag=2)\n",
    "\n",
    "# Rolling window by 2\n",
    "valid_rolling2 = rolling_window(valid, window=2)\n",
    "\n",
    "# Concat everything together\n",
    "valid = pd.concat([valid, valid_lag1, valid_lag2, valid_rolling2], axis=1).dropna()\n",
    "\n",
    "# Cumulative wind speed\n",
    "valid['cum_wspm'] = valid['WSPM'].cumsum()\n",
    "\n",
    "# Saturated vapor pressure\n",
    "valid['saturated_vapor_pressure'] = 6.11 * 10 * ((7.5 * valid['TEMP']) / (237.3 + valid['TEMP']))\n",
    "# Actual vapor pressure\n",
    "valid['actual_vapor_pressure'] = 6.11 * 10 * ((7.5 * valid['DEWP']) / (237.3 + valid['DEWP']))\n",
    "\n",
    "\n",
    "# Lag features by shift(1) and shift(2)\n",
    "test_lag1 = series_to_supervised(test, lag=1)\n",
    "test_lag2 = series_to_supervised(test, lag=2)\n",
    "\n",
    "# Rolling window by 2\n",
    "test_rolling2 = rolling_window(test, window=2)\n",
    "\n",
    "# Concat everything together\n",
    "test = pd.concat([test, test_lag1, test_lag2, test_rolling2], axis=1).dropna()\n",
    "\n",
    "# Cumulative wind speed\n",
    "test['cum_wspm'] = test['WSPM'].cumsum()\n",
    "\n",
    "# Saturated vapor pressure\n",
    "test['saturated_vapor_pressure'] = 6.11 * 10 * ((7.5 * test['TEMP']) / (237.3 + test['TEMP']))\n",
    "# Actual vapor pressure\n",
    "test['actual_vapor_pressure'] = 6.11 * 10 * ((7.5 * test['DEWP']) / (237.3 + test['DEWP']))\n",
    "\n",
    "# endogenous variables\n",
    "features_columns = [col for col in train.columns if col not in ['No', 'PM2.5']]\n",
    "\n",
    "del train_lag1, train_lag2, train_rolling2\n",
    "del valid_lag1, valid_lag2, valid_rolling2\n",
    "del test_lag1, test_lag2, test_rolling2\n",
    "\n",
    "_ = gc.collect()"
   ]
  },
  {
   "cell_type": "markdown",
   "id": "ce1751ea",
   "metadata": {
    "papermill": {
     "duration": 0.009768,
     "end_time": "2022-09-18T20:57:19.365026",
     "exception": false,
     "start_time": "2022-09-18T20:57:19.355258",
     "status": "completed"
    },
    "tags": []
   },
   "source": [
    "# Linear regression"
   ]
  },
  {
   "cell_type": "code",
   "execution_count": 9,
   "id": "b9fae4a5",
   "metadata": {
    "execution": {
     "iopub.execute_input": "2022-09-18T20:57:19.385635Z",
     "iopub.status.busy": "2022-09-18T20:57:19.385282Z",
     "iopub.status.idle": "2022-09-18T20:57:20.702760Z",
     "shell.execute_reply": "2022-09-18T20:57:20.701438Z"
    },
    "papermill": {
     "duration": 1.331914,
     "end_time": "2022-09-18T20:57:20.706601",
     "exception": false,
     "start_time": "2022-09-18T20:57:19.374687",
     "status": "completed"
    },
    "tags": []
   },
   "outputs": [
    {
     "name": "stdout",
     "output_type": "stream",
     "text": [
      "LinearRegression rmse valid: 13.168457410269673\n",
      "LinearRegression rmae valid: 7.681518674506884\n",
      "LinearRegression r2 valid : 0.9485998426884968\n",
      "\n",
      "\n",
      "LinearRegression rmse test: 12.311002141839413\n",
      "LinearRegression rmae test: 7.42726546991649\n",
      "LinearRegression r2 test: 0.9555726471969599\n"
     ]
    }
   ],
   "source": [
    "LinearRegression_PARAMS = {}\n",
    "\n",
    "# train model\n",
    "model = LinearRegression(**LinearRegression_PARAMS)\n",
    "model.fit(train[features_columns], (train[\"PM2.5\"]))\n",
    "\n",
    "# Predictions and score on validation data\n",
    "pred_val = model.predict(valid[features_columns])\n",
    "pred_test = model.predict(test[features_columns])\n",
    "\n",
    "\n",
    "# Calculate score on validation set\n",
    "mse_score_valid = mse(y_true=valid[\"PM2.5\"], y_pred=pred_val)\n",
    "mae_score_valid = mae(y_true=valid[\"PM2.5\"], y_pred=pred_val)\n",
    "r2_score_valid = r2(y_true=valid[\"PM2.5\"], y_pred=pred_val)\n",
    "\n",
    "# Calculate score on test set\n",
    "mse_score_test = mse(y_true=test[\"PM2.5\"], y_pred=pred_test)\n",
    "mae_score_test = mae(y_true=test[\"PM2.5\"], y_pred=pred_test)\n",
    "r2_score_test = r2(y_true=test[\"PM2.5\"], y_pred=pred_test)\n",
    "\n",
    "print(f\"LinearRegression rmse valid: {sqrt(mse_score_valid)}\")\n",
    "print(f\"LinearRegression rmae valid: {mae_score_valid}\")\n",
    "print(f\"LinearRegression r2 valid : {r2_score_valid}\")\n",
    "print('\\n')\n",
    "print(f\"LinearRegression rmse test: {sqrt(mse_score_test)}\")\n",
    "print(f\"LinearRegression rmae test: {mae_score_test}\")\n",
    "print(f\"LinearRegression r2 test: {r2_score_test}\")"
   ]
  },
  {
   "cell_type": "markdown",
   "id": "a37f9ff4",
   "metadata": {
    "papermill": {
     "duration": 0.034395,
     "end_time": "2022-09-18T20:57:20.772956",
     "exception": false,
     "start_time": "2022-09-18T20:57:20.738561",
     "status": "completed"
    },
    "tags": []
   },
   "source": [
    "# Cross validation Linear regression"
   ]
  },
  {
   "cell_type": "code",
   "execution_count": 10,
   "id": "79801f39",
   "metadata": {
    "execution": {
     "iopub.execute_input": "2022-09-18T20:57:20.809468Z",
     "iopub.status.busy": "2022-09-18T20:57:20.808940Z",
     "iopub.status.idle": "2022-09-18T20:57:20.814429Z",
     "shell.execute_reply": "2022-09-18T20:57:20.813370Z"
    },
    "papermill": {
     "duration": 0.026421,
     "end_time": "2022-09-18T20:57:20.817514",
     "exception": false,
     "start_time": "2022-09-18T20:57:20.791093",
     "status": "completed"
    },
    "tags": []
   },
   "outputs": [],
   "source": [
    "N_SPLITS = 5\n",
    "SEED = 42"
   ]
  },
  {
   "cell_type": "code",
   "execution_count": 11,
   "id": "cbb39fe2",
   "metadata": {
    "execution": {
     "iopub.execute_input": "2022-09-18T20:57:20.833713Z",
     "iopub.status.busy": "2022-09-18T20:57:20.833424Z",
     "iopub.status.idle": "2022-09-18T20:57:20.839379Z",
     "shell.execute_reply": "2022-09-18T20:57:20.838505Z"
    },
    "papermill": {
     "duration": 0.015136,
     "end_time": "2022-09-18T20:57:20.841212",
     "exception": false,
     "start_time": "2022-09-18T20:57:20.826076",
     "status": "completed"
    },
    "tags": []
   },
   "outputs": [
    {
     "data": {
      "text/plain": [
       "60243"
      ]
     },
     "execution_count": 11,
     "metadata": {},
     "output_type": "execute_result"
    }
   ],
   "source": [
    "train_data.shape[0] // (N_SPLITS + 1)"
   ]
  },
  {
   "cell_type": "code",
   "execution_count": 12,
   "id": "0d739996",
   "metadata": {
    "execution": {
     "iopub.execute_input": "2022-09-18T20:57:20.856180Z",
     "iopub.status.busy": "2022-09-18T20:57:20.855366Z",
     "iopub.status.idle": "2022-09-18T20:57:20.861511Z",
     "shell.execute_reply": "2022-09-18T20:57:20.860852Z"
    },
    "papermill": {
     "duration": 0.015353,
     "end_time": "2022-09-18T20:57:20.863334",
     "exception": false,
     "start_time": "2022-09-18T20:57:20.847981",
     "status": "completed"
    },
    "tags": []
   },
   "outputs": [
    {
     "data": {
      "text/plain": [
       "36147"
      ]
     },
     "execution_count": 12,
     "metadata": {},
     "output_type": "execute_result"
    }
   ],
   "source": [
    "np.ceil(train_data.shape[0]*0.1).astype(int)"
   ]
  },
  {
   "cell_type": "code",
   "execution_count": 13,
   "id": "b27b6fc5",
   "metadata": {
    "execution": {
     "iopub.execute_input": "2022-09-18T20:57:20.879076Z",
     "iopub.status.busy": "2022-09-18T20:57:20.878366Z",
     "iopub.status.idle": "2022-09-18T20:57:21.263116Z",
     "shell.execute_reply": "2022-09-18T20:57:21.262147Z"
    },
    "papermill": {
     "duration": 0.395172,
     "end_time": "2022-09-18T20:57:21.265524",
     "exception": false,
     "start_time": "2022-09-18T20:57:20.870352",
     "status": "completed"
    },
    "tags": []
   },
   "outputs": [],
   "source": [
    "# Lag features by shift(1) and shift(2)\n",
    "train_lag1 = series_to_supervised(train_data, lag=1)\n",
    "train_lag2 = series_to_supervised(train_data, lag=2)\n",
    "\n",
    "# Rolling window by 2\n",
    "train_rolling2 = rolling_window(train_data, window=2)\n",
    "\n",
    "# Concat everything together\n",
    "train_data = pd.concat([train_data, train_lag1, train_lag2, train_rolling2], axis=1).dropna()\n",
    "\n",
    "# Cumulative wind speed\n",
    "train_data['cum_wspm'] = train_data['WSPM'].cumsum()\n",
    "\n",
    "# Saturated vapor pressure\n",
    "train_data['saturated_vapor_pressure'] = 6.11*10*((7.5*train_data['TEMP'])/(237.3+train_data['TEMP']))\n",
    "# Actual vapor pressure\n",
    "train_data['actual_vapor_pressure'] = 6.11*10*((7.5*train_data['DEWP'])/(237.3+train_data['DEWP']))"
   ]
  },
  {
   "cell_type": "code",
   "execution_count": 14,
   "id": "4e89b575",
   "metadata": {
    "execution": {
     "iopub.execute_input": "2022-09-18T20:57:21.281408Z",
     "iopub.status.busy": "2022-09-18T20:57:21.281106Z",
     "iopub.status.idle": "2022-09-18T20:57:26.852536Z",
     "shell.execute_reply": "2022-09-18T20:57:26.851523Z"
    },
    "papermill": {
     "duration": 5.58497,
     "end_time": "2022-09-18T20:57:26.857888",
     "exception": false,
     "start_time": "2022-09-18T20:57:21.272918",
     "status": "completed"
    },
    "tags": []
   },
   "outputs": [
    {
     "name": "stdout",
     "output_type": "stream",
     "text": [
      "CV 1/5\n",
      "\n",
      "\n",
      "\n",
      "\n",
      "Fold 1 LinearRegression mse: 13.104958814229203\n",
      "Fold 1 LinearRegression mae: 8.034918814962092\n",
      "Fold 1 LinearRegression r2: 0.950349994573759\n",
      "\n",
      "\n",
      "CV 2/5\n",
      "\n",
      "\n",
      "\n",
      "\n",
      "Fold 2 LinearRegression mse: 12.82100553057121\n",
      "Fold 2 LinearRegression mae: 7.700033802433699\n",
      "Fold 2 LinearRegression r2: 0.9495525956162642\n",
      "\n",
      "\n",
      "CV 3/5\n",
      "\n",
      "\n",
      "\n",
      "\n",
      "Fold 3 LinearRegression mse: 12.078162354671028\n",
      "Fold 3 LinearRegression mae: 6.8819169256451715\n",
      "Fold 3 LinearRegression r2: 0.9504177496461637\n",
      "\n",
      "\n",
      "CV 4/5\n",
      "\n",
      "\n",
      "\n",
      "\n",
      "Fold 4 LinearRegression mse: 13.2383602815855\n",
      "Fold 4 LinearRegression mae: 7.7865594200120976\n",
      "Fold 4 LinearRegression r2: 0.9476979862411212\n",
      "\n",
      "\n",
      "CV 5/5\n",
      "\n",
      "\n",
      "\n",
      "\n",
      "Fold 5 LinearRegression mse: 13.24686211793482\n",
      "Fold 5 LinearRegression mae: 7.789874596604675\n",
      "Fold 5 LinearRegression r2: 0.9479853925438321\n",
      "\n",
      "\n",
      "LinearRegression rmse cv: 12.897869819798354\n",
      "LinearRegression rmae cv: 7.638660711931547\n",
      "LinearRegression r2 cv: 0.949200743724228\n",
      "\n",
      "\n",
      "LinearRegression rmse test: 12.296977424678687\n",
      "LinearRegression mae test: 7.41143364758988\n",
      "LinearRegression r2 test: 0.9556738129903734\n"
     ]
    }
   ],
   "source": [
    "oof_lr = np.zeros((train_data.shape[0]))\n",
    "oof_target = np.zeros((train_data.shape[0]))\n",
    "\n",
    "predictions_lr = np.zeros((test.shape[0]))\n",
    "counter = 1\n",
    "\n",
    "\n",
    "mse_scores_lr = []\n",
    "mae_scores_lr = []\n",
    "msle_scores_lr = []\n",
    "r2_scores_lr = []\n",
    "LinearRegression_PARAMS = {}\n",
    "\n",
    "\n",
    "# Features to use for training and prediction\n",
    "features_columns = [col for col in train_data.columns if col not in ['No', 'PM2.5']]\n",
    "\n",
    "# TimeSeriesSplit validation \n",
    "tsp = TimeSeriesSplit(n_splits=5, test_size=np.ceil(train_data.shape[0]*0.1).astype(int))\n",
    "\n",
    "for trn_idx, vld_idx in tsp.split(train_data):\n",
    "    \n",
    "    \n",
    "    # train valid separation\n",
    "    print(f\"CV {counter}/{N_SPLITS}\")\n",
    "    print('\\n')\n",
    "    x_train, y_train = train_data.iloc[trn_idx][features_columns], train_data.iloc[trn_idx][\"PM2.5\"]\n",
    "    x_val, y_val = train_data.iloc[vld_idx][features_columns], train_data.iloc[vld_idx][\"PM2.5\"]\n",
    "    x_test = test[features_columns]\n",
    "    \n",
    "    # Fit and train LinearRegression\n",
    "    model = LinearRegression(**LinearRegression_PARAMS)\n",
    "    model.fit(x_train, y_train) \n",
    "\n",
    "    # Predictions and score on validation data\n",
    "    pred_val = model.predict(x_val)\n",
    "    pred_test = model.predict(x_test)\n",
    "    \n",
    "    mse_score_valid = mse(y_true =train_data.iloc[vld_idx][\"PM2.5\"], y_pred=pred_val)\n",
    "    mae_score_valid = mae(y_true =train_data.iloc[vld_idx][\"PM2.5\"], y_pred=pred_val)\n",
    "    r2_score_valid = r2(y_true =train_data.iloc[vld_idx][\"PM2.5\"], y_pred=pred_val)\n",
    "    print('\\n')\n",
    "    print(f\"Fold {counter} LinearRegression mse: {sqrt(mse_score_valid)}\")\n",
    "    print(f\"Fold {counter} LinearRegression mae: {(mae_score_valid)}\")\n",
    "    print(f\"Fold {counter} LinearRegression r2: {r2_score_valid}\")\n",
    "    print('\\n')\n",
    "    mse_scores_lr.append(sqrt(mse_score_valid))\n",
    "    mae_scores_lr.append(mae_score_valid)\n",
    "    r2_scores_lr.append(r2_score_valid)\n",
    "    \n",
    "    oof_lr[vld_idx] = pred_val\n",
    "    oof_target[vld_idx] = train_data.iloc[vld_idx][\"PM2.5\"]\n",
    "    predictions_lr += pred_test / N_SPLITS\n",
    "    counter += 1\n",
    "\n",
    "    # CV score\n",
    "    mse_score_cv = mse(y_true=oof_target, y_pred=oof_lr)\n",
    "    mae_score_cv = mae(y_true=oof_target, y_pred=oof_lr)\n",
    "    r2_score_cv = r2(y_true=oof_target, y_pred=oof_lr)\n",
    "\n",
    "    # Inference score\n",
    "    mse_score_test = mse(y_true=test[\"PM2.5\"], y_pred=predictions_lr)\n",
    "    mae_score_test = mae(y_true=test[\"PM2.5\"], y_pred=predictions_lr)\n",
    "    r2_score_test = r2(y_true=test[\"PM2.5\"], y_pred=predictions_lr)\n",
    "\n",
    "print(f\"LinearRegression rmse cv: {np.array(mse_scores_lr).mean()}\")\n",
    "print(f\"LinearRegression rmae cv: {np.array(mae_scores_lr).mean()}\")\n",
    "print(f\"LinearRegression r2 cv: {np.array(r2_scores_lr).mean()}\")\n",
    "print('\\n')\n",
    "\n",
    "print(f\"LinearRegression rmse test: {sqrt(mse_score_test)}\")\n",
    "print(f\"LinearRegression mae test: {(mae_score_test)}\")\n",
    "print(f\"LinearRegression r2 test: {r2_score_test}\")"
   ]
  },
  {
   "cell_type": "markdown",
   "id": "f9a50173",
   "metadata": {
    "papermill": {
     "duration": 0.023763,
     "end_time": "2022-09-18T20:57:26.917193",
     "exception": false,
     "start_time": "2022-09-18T20:57:26.893430",
     "status": "completed"
    },
    "tags": []
   },
   "source": [
    "# Lasso"
   ]
  },
  {
   "cell_type": "code",
   "execution_count": 15,
   "id": "3983a615",
   "metadata": {
    "execution": {
     "iopub.execute_input": "2022-09-18T20:57:26.940316Z",
     "iopub.status.busy": "2022-09-18T20:57:26.940022Z",
     "iopub.status.idle": "2022-09-18T20:59:19.628256Z",
     "shell.execute_reply": "2022-09-18T20:59:19.627275Z"
    },
    "papermill": {
     "duration": 112.736619,
     "end_time": "2022-09-18T20:59:19.668519",
     "exception": false,
     "start_time": "2022-09-18T20:57:26.931900",
     "status": "completed"
    },
    "tags": []
   },
   "outputs": [
    {
     "name": "stdout",
     "output_type": "stream",
     "text": [
      "\n",
      "\n",
      "Lasso rmse valid: 13.253383945193246\n",
      "Lasso mae valid: 7.6494927440459906\n",
      "Lasso r2 valid : 0.9479347209739797\n",
      "\n",
      "\n",
      "Lasso rmse test: 12.462314386194166\n",
      "Lasso mae test: 7.467536380531984\n",
      "Lasso r2 test: 0.954473839108638\n"
     ]
    },
    {
     "name": "stderr",
     "output_type": "stream",
     "text": [
      "/opt/conda/lib/python3.7/site-packages/sklearn/linear_model/_coordinate_descent.py:648: ConvergenceWarning: Objective did not converge. You might want to increase the number of iterations, check the scale of the features or consider increasing regularisation. Duality gap: 9.801e+06, tolerance: 1.083e+05\n",
      "  coef_, l1_reg, l2_reg, X, y, max_iter, tol, rng, random, positive\n"
     ]
    }
   ],
   "source": [
    "Lasso_PARAMS = {\"alpha\" : 1.3, \"max_iter\":3000}\n",
    "       \n",
    "\n",
    "model_lasso = Lasso(**Lasso_PARAMS)\n",
    "model_lasso.fit(train[features_columns], train[\"PM2.5\"])\n",
    "\n",
    "# Predictions and score on validation data\n",
    "pred_val = model_lasso.predict(valid[features_columns])\n",
    "pred_test = model_lasso.predict(test[features_columns])\n",
    "\n",
    "# Calculate score on validation set\n",
    "mse_score_valid = mse(y_true=valid[\"PM2.5\"], y_pred=(pred_val))\n",
    "mae_score_valid = mae(y_true=valid[\"PM2.5\"], y_pred=(pred_val))\n",
    "r2_score_valid = r2(y_true=valid[\"PM2.5\"], y_pred=(pred_val))\n",
    "\n",
    "# Calculate score on test set\n",
    "mse_score_test = mse(y_true=test[\"PM2.5\"], y_pred=(pred_test))\n",
    "mae_score_test = mae(y_true=test[\"PM2.5\"], y_pred=(pred_test))\n",
    "r2_score_test = r2(y_true=test[\"PM2.5\"], y_pred=(pred_test))\n",
    "\n",
    "print(\"\\n\")\n",
    "\n",
    "print(f\"Lasso rmse valid: {sqrt(mse_score_valid)}\")\n",
    "print(f\"Lasso mae valid: {mae_score_valid}\")\n",
    "print(f\"Lasso r2 valid : {r2_score_valid}\")\n",
    "print('\\n')\n",
    "print(f\"Lasso rmse test: {sqrt(mse_score_test)}\")\n",
    "print(f\"Lasso mae test: {mae_score_test}\")\n",
    "print(f\"Lasso r2 test: {r2_score_test}\")"
   ]
  },
  {
   "cell_type": "markdown",
   "id": "13e8e9e6",
   "metadata": {
    "papermill": {
     "duration": 0.019129,
     "end_time": "2022-09-18T20:59:19.709530",
     "exception": false,
     "start_time": "2022-09-18T20:59:19.690401",
     "status": "completed"
    },
    "tags": []
   },
   "source": [
    "# Cross validation Lasso"
   ]
  },
  {
   "cell_type": "code",
   "execution_count": 16,
   "id": "a64d96a9",
   "metadata": {
    "execution": {
     "iopub.execute_input": "2022-09-18T20:59:19.746137Z",
     "iopub.status.busy": "2022-09-18T20:59:19.745862Z",
     "iopub.status.idle": "2022-09-18T21:06:31.837749Z",
     "shell.execute_reply": "2022-09-18T21:06:31.836538Z"
    },
    "papermill": {
     "duration": 432.126267,
     "end_time": "2022-09-18T21:06:31.856120",
     "exception": false,
     "start_time": "2022-09-18T20:59:19.729853",
     "status": "completed"
    },
    "tags": []
   },
   "outputs": [
    {
     "name": "stdout",
     "output_type": "stream",
     "text": [
      "CV 1/5\n",
      "\n",
      "\n"
     ]
    },
    {
     "name": "stderr",
     "output_type": "stream",
     "text": [
      "/opt/conda/lib/python3.7/site-packages/sklearn/linear_model/_coordinate_descent.py:648: ConvergenceWarning: Objective did not converge. You might want to increase the number of iterations, check the scale of the features or consider increasing regularisation. Duality gap: 5.671e+06, tolerance: 6.080e+04\n",
      "  coef_, l1_reg, l2_reg, X, y, max_iter, tol, rng, random, positive\n"
     ]
    },
    {
     "name": "stdout",
     "output_type": "stream",
     "text": [
      "\n",
      "\n",
      "Fold 1 Lasso rmse: 13.249568758321551\n",
      "Fold 1 Lasso mae: 8.083717866741457\n",
      "Fold 1 Lasso r2: 0.949248198112365\n",
      "\n",
      "\n",
      "CV 2/5\n",
      "\n",
      "\n"
     ]
    },
    {
     "name": "stderr",
     "output_type": "stream",
     "text": [
      "/opt/conda/lib/python3.7/site-packages/sklearn/linear_model/_coordinate_descent.py:648: ConvergenceWarning: Objective did not converge. You might want to increase the number of iterations, check the scale of the features or consider increasing regularisation. Duality gap: 6.754e+06, tolerance: 7.331e+04\n",
      "  coef_, l1_reg, l2_reg, X, y, max_iter, tol, rng, random, positive\n"
     ]
    },
    {
     "name": "stdout",
     "output_type": "stream",
     "text": [
      "\n",
      "\n",
      "Fold 2 Lasso rmse: 12.905933824702148\n",
      "Fold 2 Lasso mae: 7.686043475684\n",
      "Fold 2 Lasso r2: 0.9488820394284001\n",
      "\n",
      "\n",
      "CV 3/5\n",
      "\n",
      "\n"
     ]
    },
    {
     "name": "stderr",
     "output_type": "stream",
     "text": [
      "/opt/conda/lib/python3.7/site-packages/sklearn/linear_model/_coordinate_descent.py:648: ConvergenceWarning: Objective did not converge. You might want to increase the number of iterations, check the scale of the features or consider increasing regularisation. Duality gap: 7.777e+06, tolerance: 8.512e+04\n",
      "  coef_, l1_reg, l2_reg, X, y, max_iter, tol, rng, random, positive\n"
     ]
    },
    {
     "name": "stdout",
     "output_type": "stream",
     "text": [
      "\n",
      "\n",
      "Fold 3 Lasso rmse: 12.197654384254077\n",
      "Fold 3 Lasso mae: 6.906353271486947\n",
      "Fold 3 Lasso r2: 0.94943183959155\n",
      "\n",
      "\n",
      "CV 4/5\n",
      "\n",
      "\n"
     ]
    },
    {
     "name": "stderr",
     "output_type": "stream",
     "text": [
      "/opt/conda/lib/python3.7/site-packages/sklearn/linear_model/_coordinate_descent.py:648: ConvergenceWarning: Objective did not converge. You might want to increase the number of iterations, check the scale of the features or consider increasing regularisation. Duality gap: 8.700e+06, tolerance: 9.613e+04\n",
      "  coef_, l1_reg, l2_reg, X, y, max_iter, tol, rng, random, positive\n"
     ]
    },
    {
     "name": "stdout",
     "output_type": "stream",
     "text": [
      "\n",
      "\n",
      "Fold 4 Lasso rmse: 13.37070974349117\n",
      "Fold 4 Lasso mae: 7.82783173562009\n",
      "Fold 4 Lasso r2: 0.9466469882291928\n",
      "\n",
      "\n",
      "CV 5/5\n",
      "\n",
      "\n",
      "\n",
      "\n",
      "Fold 5 Lasso rmse: 13.277100511253012\n",
      "Fold 5 Lasso mae: 7.668902187783998\n",
      "Fold 5 Lasso r2: 0.9477476557439208\n",
      "\n",
      "\n",
      "Lasso rmse cv: 13.000193444404392\n",
      "Lasso rmae cv: 7.634569707463298\n",
      "Lasso r2 cv: 0.9483913442210857\n",
      "\n",
      "\n",
      "Lasso rmse test: 12.447836107387923\n",
      "Lasso rmae test: 7.458762551633041\n",
      "Lasso r2 test: 0.9545795590490673\n"
     ]
    },
    {
     "name": "stderr",
     "output_type": "stream",
     "text": [
      "/opt/conda/lib/python3.7/site-packages/sklearn/linear_model/_coordinate_descent.py:648: ConvergenceWarning: Objective did not converge. You might want to increase the number of iterations, check the scale of the features or consider increasing regularisation. Duality gap: 9.801e+06, tolerance: 1.083e+05\n",
      "  coef_, l1_reg, l2_reg, X, y, max_iter, tol, rng, random, positive\n"
     ]
    }
   ],
   "source": [
    "# Place holders for predictions\n",
    "oof_lasso = np.zeros((train_data.shape[0]))\n",
    "oof_target = np.zeros((train_data.shape[0]))\n",
    "\n",
    "predictions_lasso = np.zeros((test.shape[0]))\n",
    "counter = 1\n",
    "\n",
    "# Placer holders for calculating scores\n",
    "mse_scores_lasso = []\n",
    "mae_scores_lasso = []\n",
    "msle_scores_lasso = []\n",
    "r2_scores_lasso = []\n",
    "\n",
    "\n",
    "\n",
    "\n",
    "# Iterate over the whole folds\n",
    "for trn_idx, vld_idx in tsp.split(train_data):\n",
    "    # train valid separation\n",
    "    print(f\"CV {counter}/{N_SPLITS}\")\n",
    "    print('\\n')\n",
    "    x_train, y_train = train_data.iloc[trn_idx][features_columns], train_data.iloc[trn_idx][\"PM2.5\"]\n",
    "    x_val, y_val = train_data.iloc[vld_idx][features_columns], train_data.iloc[vld_idx][\"PM2.5\"]\n",
    "    d_test = test[features_columns].astype(\"float\")\n",
    "    Lasso_PARAMS = {\"alpha\" : 1.3, \"max_iter\": 3000}\n",
    "    \n",
    "    # Fit and train Lasso\n",
    "    model = Lasso(**Lasso_PARAMS)\n",
    "    model.fit(x_train, y_train) \n",
    "    \n",
    "\n",
    "    # Predictions and score on validation data\n",
    "    pred_val = model.predict(x_val)\n",
    "    pred_test = model.predict(d_test)\n",
    "    \n",
    "    mse_score_valid = mse(y_true=train_data.iloc[vld_idx][\"PM2.5\"], y_pred=pred_val)\n",
    "    mae_score_valid = mae(y_true=train_data.iloc[vld_idx][\"PM2.5\"], y_pred=pred_val)\n",
    "    r2_score_valid = r2(y_true=train_data.iloc[vld_idx][\"PM2.5\"], y_pred=pred_val)\n",
    "    print('\\n')\n",
    "    print(f\"Fold {counter} Lasso rmse: {sqrt(mse_score_valid)}\")\n",
    "    print(f\"Fold {counter} Lasso mae: {(mae_score_valid)}\")\n",
    "    print(f\"Fold {counter} Lasso r2: {r2_score_valid}\")\n",
    "    print('\\n')\n",
    "    \n",
    "    mse_scores_lasso.append(sqrt(mse_score_valid))\n",
    "    mae_scores_lasso.append(mae_score_valid)\n",
    "    r2_scores_lasso.append(r2_score_valid)\n",
    "    \n",
    "    oof_lasso[vld_idx] = pred_val\n",
    "    oof_target[vld_idx] = train_data.iloc[vld_idx][\"PM2.5\"]\n",
    "    predictions_lasso += pred_test / N_SPLITS\n",
    "    counter += 1\n",
    "    \n",
    "    \n",
    "    \n",
    "    \n",
    "    \n",
    "    # Inference score\n",
    "    mse_score_test = mse(y_true=test[\"PM2.5\"], y_pred=predictions_lasso)\n",
    "    mae_score_test = mae(y_true=test[\"PM2.5\"], y_pred=predictions_lasso)\n",
    "    r2_score_test = r2(y_true=test[\"PM2.5\"], y_pred=predictions_lasso)\n",
    "\n",
    "print(f\"Lasso rmse cv: {np.array(mse_scores_lasso).mean()}\")\n",
    "print(f\"Lasso rmae cv: {np.array(mae_scores_lasso).mean()}\")\n",
    "print(f\"Lasso r2 cv: {np.array(r2_scores_lasso).mean()}\")\n",
    "\n",
    "print('\\n')\n",
    "\n",
    "print(f\"Lasso rmse test: {sqrt(mse_score_test)}\")\n",
    "print(f\"Lasso rmae test: {mae_score_test}\")\n",
    "print(f\"Lasso r2 test: {r2_score_test}\")"
   ]
  },
  {
   "cell_type": "markdown",
   "id": "ca197705",
   "metadata": {
    "papermill": {
     "duration": 0.01971,
     "end_time": "2022-09-18T21:06:31.895779",
     "exception": false,
     "start_time": "2022-09-18T21:06:31.876069",
     "status": "completed"
    },
    "tags": []
   },
   "source": [
    "# Ridge"
   ]
  },
  {
   "cell_type": "code",
   "execution_count": 17,
   "id": "d8e4feee",
   "metadata": {
    "execution": {
     "iopub.execute_input": "2022-09-18T21:06:31.921658Z",
     "iopub.status.busy": "2022-09-18T21:06:31.921349Z",
     "iopub.status.idle": "2022-09-18T21:06:32.234133Z",
     "shell.execute_reply": "2022-09-18T21:06:32.226945Z"
    },
    "papermill": {
     "duration": 0.326377,
     "end_time": "2022-09-18T21:06:32.238765",
     "exception": false,
     "start_time": "2022-09-18T21:06:31.912388",
     "status": "completed"
    },
    "tags": []
   },
   "outputs": [
    {
     "name": "stdout",
     "output_type": "stream",
     "text": [
      "\n",
      "\n",
      "Ridge rmse valid: 13.168450551966831\n",
      "Ridge mae valid: 7.6815151132436705\n",
      "Ridge r2 valid : 94.85998962282156\n",
      "\n",
      "\n",
      "Ridge rmse test: 12.311004209009656\n",
      "Ridge mae test: 7.427266841885218\n",
      "Ridge r2 test: 95.55726322771496\n"
     ]
    },
    {
     "name": "stderr",
     "output_type": "stream",
     "text": [
      "/opt/conda/lib/python3.7/site-packages/sklearn/linear_model/_ridge.py:157: LinAlgWarning: Ill-conditioned matrix (rcond=1.07687e-16): result may not be accurate.\n",
      "  return linalg.solve(A, Xy, sym_pos=True, overwrite_a=True).T\n"
     ]
    }
   ],
   "source": [
    "Ridge_PARAMS = {\"alpha\" : 1.3, \"max_iter\":3000}\n",
    "\n",
    "model = Ridge(**Ridge_PARAMS)\n",
    "model.fit(train[features_columns], (train[\"PM2.5\"]))\n",
    "\n",
    "# Predictions and score on validation data\n",
    "pred_val = model.predict(valid[features_columns])\n",
    "pred_test = model.predict(test[features_columns])\n",
    "\n",
    "\n",
    "# Calculate score on validation set\n",
    "mse_score_valid = mse(y_true=valid[\"PM2.5\"], y_pred=(pred_val))\n",
    "mae_score_valid = mae(y_true=valid[\"PM2.5\"], y_pred=(pred_val))\n",
    "r2_score_valid = r2(y_true=valid[\"PM2.5\"], y_pred=(pred_val))\n",
    "\n",
    "# Calculate score on test set\n",
    "mse_score_test = mse(y_true=test[\"PM2.5\"], y_pred=(pred_test))\n",
    "mae_score_test = mae(y_true=test[\"PM2.5\"], y_pred=(pred_test))\n",
    "r2_score_test = r2(y_true=test[\"PM2.5\"], y_pred=(pred_test))\n",
    "\n",
    "print(\"\\n\")\n",
    "\n",
    "print(f\"Ridge rmse valid: {sqrt(mse_score_valid)}\")\n",
    "print(f\"Ridge mae valid: {mae_score_valid}\")\n",
    "print(f\"Ridge r2 valid : {r2_score_valid *100}\")\n",
    "print('\\n')\n",
    "\n",
    "print(f\"Ridge rmse test: {sqrt(mse_score_test)}\")\n",
    "print(f\"Ridge mae test: {mae_score_test}\")\n",
    "print(f\"Ridge r2 test: {r2_score_test*100}\")\n",
    "\n"
   ]
  },
  {
   "cell_type": "markdown",
   "id": "bccde50c",
   "metadata": {
    "papermill": {
     "duration": 0.01977,
     "end_time": "2022-09-18T21:06:32.279984",
     "exception": false,
     "start_time": "2022-09-18T21:06:32.260214",
     "status": "completed"
    },
    "tags": []
   },
   "source": [
    "# Cross Validation Ridge"
   ]
  },
  {
   "cell_type": "code",
   "execution_count": 18,
   "id": "21fdf55f",
   "metadata": {
    "execution": {
     "iopub.execute_input": "2022-09-18T21:06:32.322399Z",
     "iopub.status.busy": "2022-09-18T21:06:32.321874Z",
     "iopub.status.idle": "2022-09-18T21:06:34.588895Z",
     "shell.execute_reply": "2022-09-18T21:06:34.586403Z"
    },
    "papermill": {
     "duration": 2.294721,
     "end_time": "2022-09-18T21:06:34.594872",
     "exception": false,
     "start_time": "2022-09-18T21:06:32.300151",
     "status": "completed"
    },
    "tags": []
   },
   "outputs": [
    {
     "name": "stdout",
     "output_type": "stream",
     "text": [
      "CV 1/5\n",
      "\n",
      "\n"
     ]
    },
    {
     "name": "stderr",
     "output_type": "stream",
     "text": [
      "/opt/conda/lib/python3.7/site-packages/sklearn/linear_model/_ridge.py:157: LinAlgWarning: Ill-conditioned matrix (rcond=4.69912e-17): result may not be accurate.\n",
      "  return linalg.solve(A, Xy, sym_pos=True, overwrite_a=True).T\n"
     ]
    },
    {
     "name": "stdout",
     "output_type": "stream",
     "text": [
      "\n",
      "\n",
      "Fold 1 ridge rmse: 13.104958646236675\n",
      "Fold 1 ridge r2: 0.9503499958466862\n",
      "\n",
      "\n",
      "CV 2/5\n",
      "\n",
      "\n"
     ]
    },
    {
     "name": "stderr",
     "output_type": "stream",
     "text": [
      "/opt/conda/lib/python3.7/site-packages/sklearn/linear_model/_ridge.py:157: LinAlgWarning: Ill-conditioned matrix (rcond=2.75948e-17): result may not be accurate.\n",
      "  return linalg.solve(A, Xy, sym_pos=True, overwrite_a=True).T\n"
     ]
    },
    {
     "name": "stdout",
     "output_type": "stream",
     "text": [
      "\n",
      "\n",
      "Fold 2 ridge rmse: 12.821004834925814\n",
      "Fold 2 ridge r2: 0.9495526010906403\n",
      "\n",
      "\n",
      "CV 3/5\n",
      "\n",
      "\n"
     ]
    },
    {
     "name": "stderr",
     "output_type": "stream",
     "text": [
      "/opt/conda/lib/python3.7/site-packages/sklearn/linear_model/_ridge.py:157: LinAlgWarning: Ill-conditioned matrix (rcond=1.74954e-17): result may not be accurate.\n",
      "  return linalg.solve(A, Xy, sym_pos=True, overwrite_a=True).T\n"
     ]
    },
    {
     "name": "stdout",
     "output_type": "stream",
     "text": [
      "\n",
      "\n",
      "Fold 3 ridge rmse: 12.078161885884938\n",
      "Fold 3 ridge r2: 0.9504177534950056\n",
      "\n",
      "\n",
      "CV 4/5\n",
      "\n",
      "\n"
     ]
    },
    {
     "name": "stderr",
     "output_type": "stream",
     "text": [
      "/opt/conda/lib/python3.7/site-packages/sklearn/linear_model/_ridge.py:157: LinAlgWarning: Ill-conditioned matrix (rcond=1.17978e-17): result may not be accurate.\n",
      "  return linalg.solve(A, Xy, sym_pos=True, overwrite_a=True).T\n"
     ]
    },
    {
     "name": "stdout",
     "output_type": "stream",
     "text": [
      "\n",
      "\n",
      "Fold 4 ridge rmse: 13.23836042318564\n",
      "Fold 4 ridge r2: 0.9476979851222557\n",
      "\n",
      "\n",
      "CV 5/5\n",
      "\n",
      "\n",
      "\n",
      "\n",
      "Fold 5 ridge rmse: 13.246861598945861\n",
      "Fold 5 ridge r2: 0.9479853966195152\n",
      "\n",
      "\n",
      "ridge rmse cv: 12.897869477835787\n",
      "ridge rmae cv: nan\n",
      "ridge r2 cv: 0.9492007464348206\n",
      "\n",
      "\n",
      "ridge rmse test: 12.296977838123215\n",
      "ridge rmae test: 7.411433983635799\n",
      "ridge r2 test: 0.9556738100097353\n"
     ]
    },
    {
     "name": "stderr",
     "output_type": "stream",
     "text": [
      "/opt/conda/lib/python3.7/site-packages/sklearn/linear_model/_ridge.py:157: LinAlgWarning: Ill-conditioned matrix (rcond=8.24581e-18): result may not be accurate.\n",
      "  return linalg.solve(A, Xy, sym_pos=True, overwrite_a=True).T\n",
      "/opt/conda/lib/python3.7/site-packages/ipykernel_launcher.py:59: RuntimeWarning: Mean of empty slice.\n",
      "/opt/conda/lib/python3.7/site-packages/numpy/core/_methods.py:189: RuntimeWarning: invalid value encountered in double_scalars\n",
      "  ret = ret.dtype.type(ret / rcount)\n"
     ]
    }
   ],
   "source": [
    "# Place holders for predictions\n",
    "oof_ridge = np.zeros((train_data.shape[0]))\n",
    "oof_target = np.zeros((train_data.shape[0]))\n",
    "\n",
    "predictions_ridge = np.zeros((test.shape[0]))\n",
    "counter = 1\n",
    "\n",
    "# Placer holders for calculating scores\n",
    "mse_scores_ridge = []\n",
    "mae_scores_ridge = []\n",
    "msle_scores_ridge = []\n",
    "r2_scores_ridge = []\n",
    "\n",
    "\n",
    "\n",
    "# Iterate over the whole folds\n",
    "for trn_idx, vld_idx in tsp.split(train_data):\n",
    "    # train valid separation\n",
    "    print(f\"CV {counter}/{N_SPLITS}\")\n",
    "    print('\\n')\n",
    "    \n",
    "    x_train, y_train = train_data.iloc[trn_idx][features_columns], train_data.iloc[trn_idx][\"PM2.5\"]\n",
    "    x_val, y_val = train_data.iloc[vld_idx][features_columns], train_data.iloc[vld_idx][\"PM2.5\"]\n",
    "    d_test = test[features_columns].astype(\"float\")\n",
    "    \n",
    "    \n",
    "    Ridge_PARAMS = {\"alpha\" : 0.1}  \n",
    "    # Fit and train ridge\n",
    "    model = Ridge(**Ridge_PARAMS)\n",
    "    model.fit(x_train, y_train) \n",
    "\n",
    "    # Predictions and score on validation data\n",
    "    pred_val = model.predict(x_val)\n",
    "    pred_test = model.predict(d_test)\n",
    "    \n",
    "    mse_score_valid = mse(y_true=train_data.iloc[vld_idx][\"PM2.5\"], y_pred=pred_val)\n",
    "    r2_score_valid = r2(y_true=train_data.iloc[vld_idx][\"PM2.5\"], y_pred=pred_val)\n",
    "    print('\\n')\n",
    "    print(f\"Fold {counter} ridge rmse: {sqrt(mse_score_valid)}\")\n",
    "    print(f\"Fold {counter} ridge r2: {r2_score_valid}\")\n",
    "    print('\\n')\n",
    "    mse_scores_ridge.append(sqrt(mse_score_valid))\n",
    "    r2_scores_ridge.append(r2_score_valid)\n",
    "    oof_ridge[vld_idx] = pred_val\n",
    "    oof_target[vld_idx] = train_data.iloc[vld_idx][\"PM2.5\"]\n",
    "    predictions_ridge += pred_test / N_SPLITS\n",
    "    counter += 1\n",
    "    \n",
    "    \n",
    "    \n",
    "    \n",
    "    \n",
    "# Inference score\n",
    "mse_score_test = mse(y_true=test[\"PM2.5\"], y_pred=predictions_ridge)\n",
    "mae_score_test = mae(y_true=test[\"PM2.5\"], y_pred=predictions_ridge)\n",
    "r2_score_test = r2(y_true=test[\"PM2.5\"], y_pred=predictions_ridge)\n",
    "\n",
    "print(f\"ridge rmse cv: {np.array(mse_scores_ridge).mean()}\")\n",
    "print(f\"ridge rmae cv: {np.array(mae_scores_ridge).mean()}\")\n",
    "print(f\"ridge r2 cv: {np.array(r2_scores_ridge).mean()}\")\n",
    "\n",
    "print('\\n')\n",
    "\n",
    "print(f\"ridge rmse test: {sqrt(mse_score_test)}\")\n",
    "print(f\"ridge rmae test: {mae_score_test}\")\n",
    "print(f\"ridge r2 test: {r2_score_test}\")"
   ]
  },
  {
   "cell_type": "markdown",
   "id": "c747687b",
   "metadata": {
    "papermill": {
     "duration": 0.021474,
     "end_time": "2022-09-18T21:06:34.639361",
     "exception": false,
     "start_time": "2022-09-18T21:06:34.617887",
     "status": "completed"
    },
    "tags": []
   },
   "source": [
    "# SVR"
   ]
  },
  {
   "cell_type": "code",
   "execution_count": 19,
   "id": "5fe8f436",
   "metadata": {
    "execution": {
     "iopub.execute_input": "2022-09-18T21:06:34.678275Z",
     "iopub.status.busy": "2022-09-18T21:06:34.677954Z",
     "iopub.status.idle": "2022-09-18T21:07:16.851894Z",
     "shell.execute_reply": "2022-09-18T21:07:16.850875Z"
    },
    "papermill": {
     "duration": 42.193785,
     "end_time": "2022-09-18T21:07:16.854799",
     "exception": false,
     "start_time": "2022-09-18T21:06:34.661014",
     "status": "completed"
    },
    "tags": []
   },
   "outputs": [
    {
     "name": "stdout",
     "output_type": "stream",
     "text": [
      "[D] [21:06:40.735921] ../src/svm/workingset.cuh:122 Creating working set with 1024 elements\n",
      "[D] [21:06:40.741531] ../src_prims/cache/cache.cuh:162 Creating cache with size=1024.000000 MiB, to store 384 vectors, in 12 sets with associativity=32\n",
      "[D] [21:06:40.741933] ../src/svm/kernelcache.cuh:131 Allocating kernel tile, size: 2541 MiB\n",
      "[D] [21:06:40.744761] ../src/svm/kernelcache.cuh:136 Allocating x_ws, size: 55 KiB\n",
      "[D] [21:07:05.386018] ../src/svm/smosolver.cuh:188 SMO iteration 500, diff 54.824798\n",
      "[D] [21:07:13.546021] ../src/svm/smosolver.cuh:191 SMO solver finished after 659 outer iterations, total inner iterations, and diff 0.000965\n",
      "\n",
      "\n",
      "SVR rmse valid: 57.570866082520126\n",
      "SVR mae valid: 44.083170644542975\n",
      "SVR rmsle valid: 0.9847455607863372\n",
      "SVR r2 valid1.7573277315457103\n",
      "\n",
      "\n",
      "SVR rmse test: 57.66594123381334\n",
      "SVR mae test:  43.97126418675923\n",
      "SVR rmsle test: 1.0087015805162227\n",
      "SVR r2 test: 2.522946500968559\n",
      "CPU times: user 38.1 s, sys: 1.19 s, total: 39.3 s\n",
      "Wall time: 42.2 s\n"
     ]
    }
   ],
   "source": [
    "%%time\n",
    "SVR_PARAMS = {  \"kernel\" : \"rbf\",\n",
    "                \"C\": 0.5,\n",
    "                \"verbose\" : True,\n",
    "                \"max_iter\" : 5000\n",
    "             }\n",
    "\n",
    "model = SVR(**SVR_PARAMS)\n",
    "model.fit(train[features_columns], train[\"PM2.5\"])\n",
    "\n",
    "#Predictions and score on validation data\n",
    "pred_val = model.predict(valid[features_columns])\n",
    "pred_test = model.predict(test[features_columns])\n",
    "\n",
    "mse_score_valid = mse(y_true=valid[\"PM2.5\"], y_pred=pred_val)\n",
    "mae_score_valid = mae(y_true=valid[\"PM2.5\"], y_pred=pred_val)\n",
    "msle_score_valid = msle(y_true=valid[\"PM2.5\"], y_pred=pred_val)\n",
    "r2_score_valid = r2(y_true=valid[\"PM2.5\"], y_pred=pred_val)\n",
    "\n",
    "mse_score_test = mse(y_true=test[\"PM2.5\"], y_pred=pred_test)\n",
    "mae_score_test = mae(y_true=test[\"PM2.5\"], y_pred=pred_test)\n",
    "msle_score_test = msle(y_true=test[\"PM2.5\"], y_pred=pred_test)\n",
    "r2_score_test = r2(y_true=test[\"PM2.5\"], y_pred=pred_test)\n",
    "print(\"\\n\")\n",
    "print(f\"SVR rmse valid: {sqrt(mse_score_valid)}\")\n",
    "print(f\"SVR mae valid: {mae_score_valid}\")\n",
    "print(f\"SVR rmsle valid: {sqrt(msle_score_valid)}\")\n",
    "print(f\"SVR r2 valid{r2_score_valid*100}\")\n",
    "print('\\n')\n",
    "\n",
    "print(f\"SVR rmse test: {sqrt(mse_score_test)}\")\n",
    "print(f\"SVR mae test:  {mae_score_test}\")\n",
    "print(f\"SVR rmsle test: {sqrt(msle_score_test)}\")\n",
    "print(f\"SVR r2 test: {r2_score_test*100}\")\n"
   ]
  },
  {
   "cell_type": "markdown",
   "id": "c97ced9b",
   "metadata": {
    "papermill": {
     "duration": 0.00858,
     "end_time": "2022-09-18T21:07:16.872474",
     "exception": false,
     "start_time": "2022-09-18T21:07:16.863894",
     "status": "completed"
    },
    "tags": []
   },
   "source": [
    "# Cross validation SVR"
   ]
  },
  {
   "cell_type": "code",
   "execution_count": 20,
   "id": "a7fac629",
   "metadata": {
    "execution": {
     "iopub.execute_input": "2022-09-18T21:07:16.891150Z",
     "iopub.status.busy": "2022-09-18T21:07:16.890876Z",
     "iopub.status.idle": "2022-09-18T21:09:24.061907Z",
     "shell.execute_reply": "2022-09-18T21:09:24.059398Z"
    },
    "papermill": {
     "duration": 127.182898,
     "end_time": "2022-09-18T21:09:24.063937",
     "exception": false,
     "start_time": "2022-09-18T21:07:16.881039",
     "status": "completed"
    },
    "tags": []
   },
   "outputs": [
    {
     "name": "stdout",
     "output_type": "stream",
     "text": [
      "CV 1/5\n",
      "\n",
      "\n",
      "[D] [21:07:17.150414] cuml/common/logger.cpp:3088 Expected column ('F') major order, but got the opposite. Converting data, this will result in additional memory utilization.\n",
      "[D] [21:07:17.174405] ../src/svm/workingset.cuh:122 Creating working set with 1024 elements\n",
      "[D] [21:07:17.176955] ../src_prims/cache/cache.cuh:162 Creating cache with size=1024.000000 MiB, to store 736 vectors, in 23 sets with associativity=32\n",
      "[D] [21:07:17.177003] ../src/svm/kernelcache.cuh:131 Allocating kernel tile, size: 1411 MiB\n",
      "[D] [21:07:17.178835] ../src/svm/kernelcache.cuh:136 Allocating x_ws, size: 55 KiB\n",
      "[D] [21:07:28.596867] ../src/svm/smosolver.cuh:191 SMO solver finished after 367 outer iterations, total inner iterations, and diff 0.000976\n",
      "\n",
      "\n",
      "Fold 1 ridge rmse: 55.78788090323465\n",
      "Fold 1 ridge r2: 0.10023787114898053\n",
      "\n",
      "\n",
      "CV 2/5\n",
      "\n",
      "\n",
      "[D] [21:07:30.416035] cuml/common/logger.cpp:3088 Expected column ('F') major order, but got the opposite. Converting data, this will result in additional memory utilization.\n",
      "[D] [21:07:30.450527] ../src/svm/workingset.cuh:122 Creating working set with 1024 elements\n",
      "[D] [21:07:30.452776] ../src_prims/cache/cache.cuh:162 Creating cache with size=1024.000000 MiB, to store 608 vectors, in 19 sets with associativity=32\n",
      "[D] [21:07:30.452821] ../src/svm/kernelcache.cuh:131 Allocating kernel tile, size: 1694 MiB\n",
      "[D] [21:07:30.454676] ../src/svm/kernelcache.cuh:136 Allocating x_ws, size: 55 KiB\n",
      "[D] [21:07:48.066088] ../src/svm/smosolver.cuh:191 SMO solver finished after 438 outer iterations, total inner iterations, and diff 0.000860\n",
      "\n",
      "\n",
      "Fold 2 ridge rmse: 55.27675855899471\n",
      "Fold 2 ridge r2: 0.0622657322349075\n",
      "\n",
      "\n",
      "CV 3/5\n",
      "\n",
      "\n",
      "[D] [21:07:50.212354] cuml/common/logger.cpp:3088 Expected column ('F') major order, but got the opposite. Converting data, this will result in additional memory utilization.\n",
      "[D] [21:07:50.250134] ../src/svm/workingset.cuh:122 Creating working set with 1024 elements\n",
      "[D] [21:07:50.252439] ../src_prims/cache/cache.cuh:162 Creating cache with size=1024.000000 MiB, to store 512 vectors, in 16 sets with associativity=32\n",
      "[D] [21:07:50.252509] ../src/svm/kernelcache.cuh:131 Allocating kernel tile, size: 1976 MiB\n",
      "[D] [21:07:50.254696] ../src/svm/kernelcache.cuh:136 Allocating x_ws, size: 55 KiB\n",
      "[D] [21:08:13.102067] ../src/svm/smosolver.cuh:188 SMO iteration 500, diff 2.865709\n",
      "[D] [21:08:13.393189] ../src/svm/smosolver.cuh:191 SMO solver finished after 508 outer iterations, total inner iterations, and diff 0.000926\n",
      "\n",
      "\n",
      "Fold 3 ridge rmse: 53.92175796873962\n",
      "Fold 3 ridge r2: 0.011782379989152991\n",
      "\n",
      "\n",
      "CV 4/5\n",
      "\n",
      "\n",
      "[D] [21:08:15.931774] cuml/common/logger.cpp:3088 Expected column ('F') major order, but got the opposite. Converting data, this will result in additional memory utilization.\n",
      "[D] [21:08:15.975096] ../src/svm/workingset.cuh:122 Creating working set with 1024 elements\n",
      "[D] [21:08:15.977360] ../src_prims/cache/cache.cuh:162 Creating cache with size=1024.000000 MiB, to store 448 vectors, in 14 sets with associativity=32\n",
      "[D] [21:08:15.977403] ../src/svm/kernelcache.cuh:131 Allocating kernel tile, size: 2259 MiB\n",
      "[D] [21:08:15.979865] ../src/svm/kernelcache.cuh:136 Allocating x_ws, size: 55 KiB\n",
      "[D] [21:08:41.427696] ../src/svm/smosolver.cuh:188 SMO iteration 500, diff 36.161605\n",
      "[D] [21:08:45.603506] ../src/svm/smosolver.cuh:191 SMO solver finished after 582 outer iterations, total inner iterations, and diff 0.000622\n",
      "\n",
      "\n",
      "Fold 4 ridge rmse: 65.08740319578115\n",
      "Fold 4 ridge r2: -0.2642818628856993\n",
      "\n",
      "\n",
      "CV 5/5\n",
      "\n",
      "\n",
      "[D] [21:08:48.311084] cuml/common/logger.cpp:3088 Expected column ('F') major order, but got the opposite. Converting data, this will result in additional memory utilization.\n",
      "[D] [21:08:48.360112] ../src/svm/workingset.cuh:122 Creating working set with 1024 elements\n",
      "[D] [21:08:48.362422] ../src_prims/cache/cache.cuh:162 Creating cache with size=1024.000000 MiB, to store 384 vectors, in 12 sets with associativity=32\n",
      "[D] [21:08:48.362463] ../src/svm/kernelcache.cuh:131 Allocating kernel tile, size: 2541 MiB\n",
      "[D] [21:08:48.365222] ../src/svm/kernelcache.cuh:136 Allocating x_ws, size: 55 KiB\n",
      "[D] [21:09:12.973483] ../src/svm/smosolver.cuh:188 SMO iteration 500, diff 54.824798\n",
      "[D] [21:09:21.132070] ../src/svm/smosolver.cuh:191 SMO solver finished after 659 outer iterations, total inner iterations, and diff 0.000965\n",
      "\n",
      "\n",
      "Fold 5 ridge rmse: 58.3332084786634\n",
      "Fold 5 ridge r2: -0.00862800486183768\n",
      "\n",
      "\n",
      "ridge rmse cv: 57.6814018210827\n",
      "ridge rmae cv: nan\n",
      "ridge rmsle cv: nan\n",
      "ridge r2 cv: -0.019724776874899198\n",
      "\n",
      "\n",
      "ridge rmse test: 56.702650461768975\n",
      "ridge rmae test: 43.2607967371205\n",
      "ridge rmsle test: 0.9969356487857649\n",
      "ridge r2 test: 0.05752390784348094\n"
     ]
    },
    {
     "name": "stderr",
     "output_type": "stream",
     "text": [
      "/opt/conda/lib/python3.7/site-packages/ipykernel_launcher.py:64: RuntimeWarning: Mean of empty slice.\n",
      "/opt/conda/lib/python3.7/site-packages/numpy/core/_methods.py:189: RuntimeWarning: invalid value encountered in double_scalars\n",
      "  ret = ret.dtype.type(ret / rcount)\n",
      "/opt/conda/lib/python3.7/site-packages/ipykernel_launcher.py:65: RuntimeWarning: Mean of empty slice.\n"
     ]
    }
   ],
   "source": [
    "# Place holders for predictions\n",
    "oof_svr = np.zeros((train_data.shape[0]))\n",
    "oof_target = np.zeros((train_data.shape[0]))\n",
    "\n",
    "predictions_svr = np.zeros((test.shape[0]))\n",
    "counter = 1\n",
    "\n",
    "# Placer holders for calculating scores\n",
    "mse_scores_svr = []\n",
    "mae_scores_svr= []\n",
    "msle_scores_svr = []\n",
    "r2_scores_svr = []\n",
    "\n",
    "\n",
    "# Iterate over the whole folds\n",
    "for trn_idx, vld_idx in tsp.split(train_data):\n",
    "    # train valid separation\n",
    "    print(f\"CV {counter}/{N_SPLITS}\")\n",
    "    print('\\n')\n",
    "    \n",
    "    x_train, y_train = train_data.iloc[trn_idx][features_columns], train_data.iloc[trn_idx][\"PM2.5\"]\n",
    "    x_val, y_val = train_data.iloc[vld_idx][features_columns], train_data.iloc[vld_idx][\"PM2.5\"]\n",
    "    x_test = test[features_columns].astype(\"float\")\n",
    "    \n",
    "    \n",
    "    SVR_PARAMS = {  \"kernel\" : \"rbf\",\n",
    "                \"C\": 0.5,\n",
    "                \"verbose\" : True,\n",
    "                \"max_iter\" : 5000\n",
    "             }\n",
    "    \n",
    "    # Fit and train ridge\n",
    "    model = SVR(**SVR_PARAMS)\n",
    "    model.fit(x_train, y_train) \n",
    "\n",
    "    # Predictions and score on validation data\n",
    "    pred_val = model.predict(x_val)\n",
    "    pred_test = model.predict(x_test)\n",
    "    \n",
    "    mse_score_valid = mse(y_true=train_data.iloc[vld_idx][\"PM2.5\"], y_pred=pred_val)\n",
    "    r2_score_valid = r2(y_true=train_data.iloc[vld_idx][\"PM2.5\"], y_pred=pred_val)\n",
    "    print('\\n')\n",
    "    print(f\"Fold {counter} ridge rmse: {sqrt(mse_score_valid)}\")\n",
    "    print(f\"Fold {counter} ridge r2: {r2_score_valid}\")\n",
    "    print('\\n')\n",
    "    mse_scores_svr.append(sqrt(mse_score_valid))\n",
    "    r2_scores_svr.append(r2_score_valid)\n",
    "    oof_svr[vld_idx] = pred_val\n",
    "    oof_target[vld_idx] = train_data.iloc[vld_idx][\"PM2.5\"]\n",
    "    predictions_svr += pred_test / N_SPLITS\n",
    "    counter += 1\n",
    "    \n",
    "    \n",
    "    \n",
    "    \n",
    "    \n",
    "# Inference score\n",
    "mse_score_test = mse(y_true=test[\"PM2.5\"], y_pred=predictions_svr)\n",
    "mae_score_test = mae(y_true=test[\"PM2.5\"], y_pred=predictions_svr)\n",
    "msle_score_test = msle(y_true=test[\"PM2.5\"], y_pred=predictions_svr)\n",
    "r2_score_test = r2(y_true=test[\"PM2.5\"], y_pred=predictions_svr)\n",
    "\n",
    "print(f\"ridge rmse cv: {np.array(mse_scores_svr).mean()}\")\n",
    "print(f\"ridge rmae cv: {np.array(mae_scores_svr).mean()}\")\n",
    "print(f\"ridge rmsle cv: {np.array(msle_scores_svr).mean()}\")\n",
    "print(f\"ridge r2 cv: {np.array(r2_scores_svr).mean()}\")\n",
    "\n",
    "print('\\n')\n",
    "\n",
    "print(f\"ridge rmse test: {sqrt(mse_score_test)}\")\n",
    "print(f\"ridge rmae test: {mae_score_test}\")\n",
    "print(f\"ridge rmsle test: {sqrt(msle_score_test)}\")\n",
    "print(f\"ridge r2 test: {r2_score_test}\")"
   ]
  }
 ],
 "metadata": {
  "kernelspec": {
   "display_name": "Python 3",
   "language": "python",
   "name": "python3"
  },
  "language_info": {
   "codemirror_mode": {
    "name": "ipython",
    "version": 3
   },
   "file_extension": ".py",
   "mimetype": "text/x-python",
   "name": "python",
   "nbconvert_exporter": "python",
   "pygments_lexer": "ipython3",
   "version": "3.7.12"
  },
  "papermill": {
   "default_parameters": {},
   "duration": 747.75635,
   "end_time": "2022-09-18T21:09:26.242758",
   "environment_variables": {},
   "exception": null,
   "input_path": "__notebook__.ipynb",
   "output_path": "__notebook__.ipynb",
   "parameters": {},
   "start_time": "2022-09-18T20:56:58.486408",
   "version": "2.3.4"
  }
 },
 "nbformat": 4,
 "nbformat_minor": 5
}
